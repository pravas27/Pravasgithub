{
    "metadata": {
        "kernelspec": {
            "name": "python3",
            "display_name": "Python 3",
            "language": "python"
        },
        "language_info": {
            "name": "python",
            "version": "3.8.10",
            "mimetype": "text/x-python",
            "codemirror_mode": {
                "name": "ipython",
                "version": 3
            },
            "pygments_lexer": "ipython3",
            "nbconvert_exporter": "python",
            "file_extension": ".py"
        },
        "colab": {
            "name": "PythonForDataScience_intro.ipynb",
            "provenance": [],
            "collapsed_sections": [
                "Zfms3DPGJbL-",
                "rhZuvfjORCEh",
                "rlcQJDLlFUuz",
                "kRjiRzYl9Xuy",
                "I3qwY_iVxkuX",
                "crVFfqHF_7Qj",
                "fRrO-BOOeUCE",
                "xEPReYdxm-E5"
            ]
        }
    },
    "nbformat_minor": 2,
    "nbformat": 4,
    "cells": [
        {
            "cell_type": "markdown",
            "source": [
                "These are called cells.  There are 2 types of cells: code and text. We can add more cells by clicking the + buttons above!\n",
                "\n",
                "In a code cell you can type some code and then you execute the code by pressing Shift + Enter\n",
                "\n",
                "In a text cell you can also format text!\n",
                "# Chapter 1!\n",
                "Sub text here!\n",
                "\n",
                "## Sub-Header\n",
                "\n",
                "### Sub-Sub-Header"
            ],
            "metadata": {
                "id": "SS1aONKU9FyM",
                "azdata_cell_guid": "95499f1c-6c7e-41a6-883f-0869fc09d73b"
            }
        },
        {
            "cell_type": "code",
            "source": [
                ""
            ],
            "metadata": {
                "id": "zeoHP5FokIWM",
                "azdata_cell_guid": "9d574b18-a5dc-469e-b30f-c49cc3ece5bd",
                "language": "python"
            },
            "outputs": [],
            "execution_count": 1
        },
        {
            "cell_type": "code",
            "source": [
                ""
            ],
            "metadata": {
                "id": "FfYdhQ-fkI76",
                "azdata_cell_guid": "b9418879-965b-4424-882c-7636de92f85b",
                "language": "python"
            },
            "outputs": [],
            "execution_count": 1
        },
        {
            "cell_type": "code",
            "source": [
                ""
            ],
            "metadata": {
                "id": "gw6grf6bkJPp",
                "azdata_cell_guid": "64fb0093-f6ef-41ac-8ff1-9bc618618b83",
                "language": "python"
            },
            "outputs": [],
            "execution_count": 1
        },
        {
            "cell_type": "markdown",
            "source": [
                ""
            ],
            "metadata": {
                "id": "bmIURVp3kLfB",
                "azdata_cell_guid": "8d6c775c-d23f-488b-844f-8151161dc146"
            }
        },
        {
            "cell_type": "code",
            "source": [
                "2+2"
            ],
            "metadata": {
                "id": "wiVCBtg89Dz1",
                "colab": {
                    "base_uri": "https://localhost:8080/"
                },
                "outputId": "d625d75d-51e9-471a-c4a4-3d111c1b2aa8",
                "azdata_cell_guid": "62267bf2-34d6-4ef4-9d46-7e104a0fdcf1",
                "language": "python"
            },
            "outputs": [
                {
                    "output_type": "execute_result",
                    "execution_count": 2,
                    "data": {
                        "text/plain": "4"
                    },
                    "metadata": {}
                }
            ],
            "execution_count": 2
        },
        {
            "cell_type": "code",
            "source": [
                "2+2\n",
                "4+4"
            ],
            "metadata": {
                "id": "SBBED0rE6rxn",
                "colab": {
                    "base_uri": "https://localhost:8080/"
                },
                "outputId": "59d3f317-0a0f-4dd7-c617-52f37b52abb3",
                "azdata_cell_guid": "7f2458b0-bb1b-41ac-adca-4a627a4b94d5",
                "language": "python"
            },
            "outputs": [
                {
                    "output_type": "execute_result",
                    "execution_count": 3,
                    "data": {
                        "text/plain": "8"
                    },
                    "metadata": {}
                }
            ],
            "execution_count": 3
        },
        {
            "cell_type": "code",
            "source": [
                "print(2+2)\n",
                "print(4+4)"
            ],
            "metadata": {
                "id": "hSZ2aNVh6r3u",
                "colab": {
                    "base_uri": "https://localhost:8080/"
                },
                "outputId": "59e22b79-2a12-4d63-f7d4-93c3e4814c13",
                "azdata_cell_guid": "19f0bbf0-e92f-4ff9-9187-75a836da3e56",
                "language": "python"
            },
            "outputs": [
                {
                    "output_type": "stream",
                    "name": "stdout",
                    "text": "4\n8\n"
                }
            ],
            "execution_count": 4
        },
        {
            "cell_type": "code",
            "source": [
                "print('hello world!')"
            ],
            "metadata": {
                "id": "9JkDnOvG6zsp",
                "colab": {
                    "base_uri": "https://localhost:8080/"
                },
                "outputId": "3f1a4557-3ecb-48d7-81cf-3969891917bb",
                "azdata_cell_guid": "877fccb2-bfce-4fbd-b9e0-a032d01f7c2c",
                "language": "python"
            },
            "outputs": [
                {
                    "output_type": "stream",
                    "name": "stdout",
                    "text": "hello world!\n"
                }
            ],
            "execution_count": 5
        },
        {
            "cell_type": "code",
            "source": [
                "print('hello world',2+2,'this is python')"
            ],
            "metadata": {
                "id": "isR8teAB6zu_",
                "colab": {
                    "base_uri": "https://localhost:8080/"
                },
                "outputId": "70668aee-bc05-4382-baf7-1d6a646b808d",
                "azdata_cell_guid": "cfd59fa1-2f4d-4c5a-95cc-06dda8d2c260",
                "language": "python"
            },
            "outputs": [
                {
                    "output_type": "stream",
                    "name": "stdout",
                    "text": "hello world 4 this is python\n"
                }
            ],
            "execution_count": 6
        },
        {
            "cell_type": "code",
            "source": [
                "print('hello world',2+2,'this is python',sep='')"
            ],
            "metadata": {
                "id": "qS7VIsa37RKx",
                "colab": {
                    "base_uri": "https://localhost:8080/"
                },
                "outputId": "8c8eef92-d487-4cda-853c-8632d2e8bdb2",
                "azdata_cell_guid": "8f7971b3-6a5f-4dcd-91b4-c506076f1f39",
                "language": "python"
            },
            "outputs": [
                {
                    "output_type": "stream",
                    "name": "stdout",
                    "text": "hello world4this is python\n"
                }
            ],
            "execution_count": 7
        },
        {
            "cell_type": "code",
            "source": [
                "# everything to the right of a # is not run as code, this is called a comment!\n",
                "2+2 # this is adding two plus two"
            ],
            "metadata": {
                "id": "xIoQO0ix6zxJ",
                "colab": {
                    "base_uri": "https://localhost:8080/"
                },
                "outputId": "73232415-f158-45ee-f62e-4515c3cebc7c",
                "azdata_cell_guid": "83dd9d79-3ebc-4a2d-b6fc-afe5d7cce3c4",
                "language": "python"
            },
            "outputs": [
                {
                    "output_type": "execute_result",
                    "execution_count": 8,
                    "data": {
                        "text/plain": "4"
                    },
                    "metadata": {}
                }
            ],
            "execution_count": 8
        },
        {
            "cell_type": "code",
            "source": [
                "# we can add strings together!\n",
                "print('hello'+'world')"
            ],
            "metadata": {
                "id": "TMuz1Mlc6zzv",
                "colab": {
                    "base_uri": "https://localhost:8080/"
                },
                "outputId": "ce9aef73-2ec3-4f36-d72f-12637f59f0a6",
                "azdata_cell_guid": "e04abe95-ff8c-494c-a309-3dd2b8bb2085",
                "language": "python"
            },
            "outputs": [
                {
                    "output_type": "stream",
                    "name": "stdout",
                    "text": "helloworld\n"
                }
            ],
            "execution_count": 9
        },
        {
            "cell_type": "code",
            "source": [
                "print('hello ' + ' world')"
            ],
            "metadata": {
                "id": "FfMWZGHRCtsz",
                "colab": {
                    "base_uri": "https://localhost:8080/"
                },
                "outputId": "49073001-1c35-4789-e280-06269cdb18c4",
                "azdata_cell_guid": "adc82d18-d8a2-4dee-be7a-ce2053498bbd",
                "language": "python"
            },
            "outputs": [
                {
                    "output_type": "stream",
                    "name": "stdout",
                    "text": "hello  world\n"
                }
            ],
            "execution_count": 10
        },
        {
            "cell_type": "code",
            "source": [
                "print('hello'+5)"
            ],
            "metadata": {
                "id": "i2VDUtLgCxPD",
                "colab": {
                    "base_uri": "https://localhost:8080/",
                    "height": 166
                },
                "outputId": "6945f455-ed96-4381-ebf9-a9ac520b7fd6",
                "azdata_cell_guid": "25b198a7-d42f-46cd-b723-1a56822e3a13",
                "language": "python"
            },
            "outputs": [
                {
                    "output_type": "error",
                    "ename": "TypeError",
                    "evalue": "ignored",
                    "traceback": [
                        "\u001b[0;31m---------------------------------------------------------------------------\u001b[0m",
                        "\u001b[0;31mTypeError\u001b[0m                                 Traceback (most recent call last)",
                        "\u001b[0;32m<ipython-input-11-1f1168554856>\u001b[0m in \u001b[0;36m<module>\u001b[0;34m()\u001b[0m\n\u001b[0;32m----> 1\u001b[0;31m \u001b[0mprint\u001b[0m\u001b[0;34m(\u001b[0m\u001b[0;34m'hello'\u001b[0m\u001b[0;34m+\u001b[0m\u001b[0;36m5\u001b[0m\u001b[0;34m)\u001b[0m\u001b[0;34m\u001b[0m\u001b[0;34m\u001b[0m\u001b[0m\n\u001b[0m",
                        "\u001b[0;31mTypeError\u001b[0m: can only concatenate str (not \"int\") to str"
                    ]
                }
            ],
            "execution_count": 11
        },
        {
            "cell_type": "markdown",
            "source": [
                "A mobile store MobiWorld sells different mobile phones to customers. For each order that is placed, the store keeps a record of various attributes related to the mobile, like Price, Brand, RAM (GB), and Internal Storage (GB).\n",
                "\n",
                "Let's learn Python using the context of the store's data.\n"
            ],
            "metadata": {
                "id": "qA3wyngS6oI3",
                "azdata_cell_guid": "14ff6f3c-fe6d-4b7f-badf-e77289a652cd"
            }
        },
        {
            "cell_type": "markdown",
            "source": [
                "## 1.1 Intro to Variables"
            ],
            "metadata": {
                "id": "Zfms3DPGJbL-",
                "azdata_cell_guid": "e95f3a1f-9cb1-48af-b73a-a2fb7a538973"
            }
        },
        {
            "cell_type": "markdown",
            "source": [
                "First, we have to store our data to a variable that can be used to extract the stored information later. Let's take an example of how we can do that in Python.\n",
                "\n",
                "Q. Suppose the store sold an Apple iPhone (4GB, 128GB) for $900. Store this information in the variables **price**, **brand**, **ram**, and **storage**.\n"
            ],
            "metadata": {
                "id": "lJcCrrGLmUQL",
                "azdata_cell_guid": "75f40718-c44e-41fa-aa63-9f8eae86f268"
            }
        },
        {
            "cell_type": "code",
            "source": [
                "# store the price (in dollars) of the mobile in variable 'price'\n",
                "price = 900\n",
                "# print the value saved in the variable 'price'\n",
                "print('The price of the mobile is $',price,sep='')"
            ],
            "metadata": {
                "id": "QFfVcPv3nuNp",
                "colab": {
                    "base_uri": "https://localhost:8080/"
                },
                "outputId": "b617ebe1-f784-4546-ba07-cfbe465715ac",
                "azdata_cell_guid": "4d07e4e9-cf0d-476f-b661-3377d5d27ede",
                "language": "python"
            },
            "outputs": [
                {
                    "output_type": "stream",
                    "name": "stdout",
                    "text": "The price of the mobile is $900\n"
                }
            ],
            "execution_count": 13
        },
        {
            "cell_type": "code",
            "source": [
                "# store the brand name of the mobile in variable 'brand'.\n",
                "brand = 'Apple'\n",
                "# print the value saved in the variable 'brand'\n",
                "print('The brand of the mobile is',brand)"
            ],
            "metadata": {
                "id": "PtM8OsxBpqjc",
                "colab": {
                    "base_uri": "https://localhost:8080/"
                },
                "outputId": "f3996ecc-9a95-42d5-e41e-e2e5dea438a7",
                "azdata_cell_guid": "e1cbac5e-af9e-49f6-a620-46c0ca00c285",
                "language": "python"
            },
            "outputs": [
                {
                    "output_type": "stream",
                    "name": "stdout",
                    "text": "The brand of the mobile is Apple\n"
                }
            ],
            "execution_count": 14
        },
        {
            "cell_type": "code",
            "source": [
                "# store the RAM (in GB) of the mobile in variable 'ram'.\n",
                "ram = 4\n",
                "# print the value saved in the variable 'ram'\n",
                "print('The RAM of the mobile is', ram,'GB')"
            ],
            "metadata": {
                "id": "YuF62kesqH4k",
                "colab": {
                    "base_uri": "https://localhost:8080/"
                },
                "outputId": "76fed9ae-2572-4eda-e084-394f2ad4ebe6",
                "azdata_cell_guid": "faefe0ed-6413-4e64-b6f5-0ec05d1767e1",
                "language": "python"
            },
            "outputs": [
                {
                    "output_type": "stream",
                    "name": "stdout",
                    "text": "The RAM of the mobile is 4 GB\n"
                }
            ],
            "execution_count": 15
        },
        {
            "cell_type": "code",
            "source": [
                "# store the internal storage (in GB) of the mobile in variable 'storage'.\n",
                "storage = 128\n",
                "# print the value saved in the variable 'Memory'\n",
                "print('The internal storage of the mobile is', storage, 'GB')"
            ],
            "metadata": {
                "id": "km7ePn3WqUVk",
                "colab": {
                    "base_uri": "https://localhost:8080/"
                },
                "outputId": "fba88284-37e7-4e3c-a7ff-ec30a9f5d05b",
                "azdata_cell_guid": "05e4203d-8550-4051-baee-97c9851dd6f8",
                "language": "python"
            },
            "outputs": [
                {
                    "output_type": "stream",
                    "name": "stdout",
                    "text": "The internal storage of the mobile is 128 GB\n"
                }
            ],
            "execution_count": 16
        },
        {
            "cell_type": "markdown",
            "source": [
                "Q. Let's say the store wants to save the information on the billing status of the above phone in a boolean variable. Write the code in Python to implement the same."
            ],
            "metadata": {
                "id": "6Hl1V6TfC3PN",
                "azdata_cell_guid": "cdb12dae-9a88-4435-84a4-e8a034cb991f"
            }
        },
        {
            "cell_type": "code",
            "source": [
                "# a special type of variable stores just True/False values.  This is called a boolean variable.\n",
                "# create a boolean variable 'is_billed' to save the billing information\n",
                "is_billed = True\n",
                "print(is_billed)"
            ],
            "metadata": {
                "id": "_jZ5ynflEGlJ",
                "colab": {
                    "base_uri": "https://localhost:8080/"
                },
                "outputId": "e14ebcc0-fd09-45ad-a5d6-6c1a23eebb3a",
                "azdata_cell_guid": "c337c0a9-283f-4c98-8579-3b83efffa023",
                "language": "python"
            },
            "outputs": [
                {
                    "output_type": "stream",
                    "name": "stdout",
                    "text": "True\n"
                }
            ],
            "execution_count": 17
        },
        {
            "cell_type": "markdown",
            "source": [
                "The value that we store in a variable can be a number or a set of characters or a boolean variable (True/False). For example, a price is a number while the brand name is a set of characters which is also known as a string in python. Whenever we store a value in a variable, Python automatically assigns a data type to that variable based on the value. It also allows us to check the data type of the variable.\n",
                "\n",
                "Q. Check the data type of the variables **price**, **brand**, **ram**, and **storage**"
            ],
            "metadata": {
                "id": "3V2CNbizt63k",
                "azdata_cell_guid": "485430d4-22c8-4840-a42f-c061ef54c4be"
            }
        },
        {
            "cell_type": "code",
            "source": [
                "# check the data-type using the type function\n",
                "type(price)"
            ],
            "metadata": {
                "id": "g4KOBpxyvbIR",
                "colab": {
                    "base_uri": "https://localhost:8080/"
                },
                "outputId": "97d5d8b1-dbf0-4af9-ea4d-c09bfb2591e5",
                "azdata_cell_guid": "1e6c4e3c-4be3-4380-a454-478c565138b1",
                "language": "python"
            },
            "outputs": [
                {
                    "output_type": "execute_result",
                    "execution_count": 18,
                    "data": {
                        "text/plain": "int"
                    },
                    "metadata": {}
                }
            ],
            "execution_count": 18
        },
        {
            "cell_type": "code",
            "source": [
                "# check the data-type using the type function\n",
                "type(brand)"
            ],
            "metadata": {
                "id": "M8vCNgGavtIw",
                "colab": {
                    "base_uri": "https://localhost:8080/"
                },
                "outputId": "74b15c50-043e-4936-fbf9-a1e0023f7cae",
                "azdata_cell_guid": "509af9dd-be52-4cae-bd85-905533a6dbf8",
                "language": "python"
            },
            "outputs": [
                {
                    "output_type": "execute_result",
                    "execution_count": 19,
                    "data": {
                        "text/plain": "str"
                    },
                    "metadata": {}
                }
            ],
            "execution_count": 19
        },
        {
            "cell_type": "code",
            "source": [
                "# check the data-type using the type function\n",
                "type(ram)"
            ],
            "metadata": {
                "id": "4Tur0cIAwTxr",
                "colab": {
                    "base_uri": "https://localhost:8080/"
                },
                "outputId": "d9f0f2c8-f6a6-4cc3-8a19-d894c44b840a",
                "azdata_cell_guid": "a7e3ad69-bb3a-4e3b-b9aa-5ba069ef7b22",
                "language": "python"
            },
            "outputs": [
                {
                    "output_type": "execute_result",
                    "execution_count": 20,
                    "data": {
                        "text/plain": "int"
                    },
                    "metadata": {}
                }
            ],
            "execution_count": 20
        },
        {
            "cell_type": "code",
            "source": [
                "# check the data-type using the type function\n",
                "type(storage)"
            ],
            "metadata": {
                "id": "r0kULhRIwVbP",
                "colab": {
                    "base_uri": "https://localhost:8080/"
                },
                "outputId": "94c9d25b-2c12-4474-949d-166692d7a6ce",
                "azdata_cell_guid": "1b8401e0-619c-481c-ae67-271f2743c944",
                "language": "python"
            },
            "outputs": [
                {
                    "output_type": "execute_result",
                    "execution_count": 21,
                    "data": {
                        "text/plain": "int"
                    },
                    "metadata": {}
                }
            ],
            "execution_count": 21
        },
        {
            "cell_type": "code",
            "source": [
                "# check the data-type using the type function\n",
                "type(is_billed)"
            ],
            "metadata": {
                "id": "Q_81HC3LFF8_",
                "colab": {
                    "base_uri": "https://localhost:8080/"
                },
                "outputId": "3f65f94d-2665-48e1-9eb5-504555baa225",
                "azdata_cell_guid": "8e9cb100-d100-4315-a6d1-7ee85949329c",
                "language": "python"
            },
            "outputs": [
                {
                    "output_type": "execute_result",
                    "execution_count": 22,
                    "data": {
                        "text/plain": "bool"
                    },
                    "metadata": {}
                }
            ],
            "execution_count": 22
        },
        {
            "cell_type": "markdown",
            "source": [
                "Q. Let's say a customer buys two Apple iPhones (4GB, 128GB) at a price of $900 each. What will be the total bill that the customer has to pay?"
            ],
            "metadata": {
                "id": "MP4Csswyq1mG",
                "azdata_cell_guid": "4c094944-97d8-4044-8209-c77e906df356"
            }
        },
        {
            "cell_type": "code",
            "source": [
                "# calcuate the total bill and store it in variable 'bill'\n",
                "bill = price + price\n",
                "# the same result can be achieved by multiplication.\n",
                "bill = price*2\n",
                "print('The bill amount is $',bill,sep='')"
            ],
            "metadata": {
                "id": "PUv9ztT6sG3i",
                "colab": {
                    "base_uri": "https://localhost:8080/"
                },
                "outputId": "ba06c164-32df-4a91-dc00-7fd53541e9e3",
                "azdata_cell_guid": "55b8d7cc-edfc-4092-b387-2cabf7b3f9de",
                "language": "python"
            },
            "outputs": [
                {
                    "output_type": "stream",
                    "name": "stdout",
                    "text": "The bill amount is $1800\n"
                }
            ],
            "execution_count": 23
        },
        {
            "cell_type": "markdown",
            "source": [
                "Q. Let's say the store provides a discount of \\$15 dollars on the Apple iPhone (4GB, 128GB) that costs $900. What will be the price of the iPhone after the discount?\n"
            ],
            "metadata": {
                "id": "t9Xp42rvP5lJ",
                "azdata_cell_guid": "849500d4-0511-48b1-85e3-fe117b111ddb"
            }
        },
        {
            "cell_type": "code",
            "source": [
                "# store the price (in dollars) of the mobile in variable 'price'\n",
                "price = 900\n",
                "# store the discount amount in variable 'discount'\n",
                "discount = 15\n",
                "# calculate the discounted price\n",
                "price_after_discount = price - discount\n",
                "print('The price of the iPhone after the discount is $',price_after_discount,sep='')"
            ],
            "metadata": {
                "id": "qjha3bvzQovj",
                "colab": {
                    "base_uri": "https://localhost:8080/"
                },
                "outputId": "e24b8c0c-b30e-4b16-a221-bf906075c8d1",
                "azdata_cell_guid": "1ab6fc82-88cf-40be-9a82-193514bd884e",
                "language": "python"
            },
            "outputs": [
                {
                    "output_type": "stream",
                    "name": "stdout",
                    "text": "The price of the iPhone after the discount is $885\n"
                }
            ],
            "execution_count": 24
        },
        {
            "cell_type": "markdown",
            "source": [
                "Q. Let's say a customer buys two Apple iPhones (4GB, 128GB) and pays a total bill of \\$1800. Write the Python code to find the price of an Apple iPhone."
            ],
            "metadata": {
                "id": "zZvOG69cVKYA",
                "azdata_cell_guid": "ffbe7d6b-f908-4ca0-a66d-1ae5a0b7becf"
            }
        },
        {
            "cell_type": "code",
            "source": [
                "# store the bill (in dollars) of the two mobiles in variable 'bill'\n",
                "bill = 1800\n",
                "# calculate the price of one mobile\n",
                "price = bill / 2\n",
                "print('The price of an Apple iPhone is $',price,sep='')"
            ],
            "metadata": {
                "id": "jd7Z5MDBWXkY",
                "colab": {
                    "base_uri": "https://localhost:8080/"
                },
                "outputId": "b19c4cbb-1ffa-4e13-bb34-d0ee08966d66",
                "azdata_cell_guid": "8c13bd6e-288a-4b24-b214-7a868a00b817",
                "language": "python"
            },
            "outputs": [
                {
                    "output_type": "stream",
                    "name": "stdout",
                    "text": "The price of an Apple iPhone is $900.0\n"
                }
            ],
            "execution_count": 25
        },
        {
            "cell_type": "markdown",
            "source": [
                "Q. Let's say a customer buys x numbers of Apple iPhones (4GB, 128GB) for $900 each. The total bill that the customer pays is \\$3600. Write the Python code to find the value of x."
            ],
            "metadata": {
                "id": "G1LuAO-rRjhK",
                "azdata_cell_guid": "11f9d7d0-3512-4852-9d6e-858f3056c61a"
            }
        },
        {
            "cell_type": "code",
            "source": [
                "# store the bill (in dollars) of the mobile in variable 'bill'\n",
                "bill = 3600\n",
                "# store the price (in dollars) of the mobile in variable 'price'\n",
                "price = 900\n",
                "# calculate the number of iPhones that the customer buys\n",
                "x = bill // price\n",
                "# double divided forces the answer to be an integer!\n",
                "print('The customer buys', x, 'Apple iPhones')"
            ],
            "metadata": {
                "id": "UaiRRd3WReW6",
                "colab": {
                    "base_uri": "https://localhost:8080/"
                },
                "outputId": "dee71494-69a9-43a6-97c1-3d79efc0d1f1",
                "azdata_cell_guid": "93734e33-ec7c-4768-a439-9a844c1edbd0",
                "language": "python"
            },
            "outputs": [
                {
                    "output_type": "stream",
                    "name": "stdout",
                    "text": "The customer buys 4 Apple iPhones\n"
                }
            ],
            "execution_count": 26
        },
        {
            "cell_type": "markdown",
            "source": [
                "Q. Suppose the store plans to provide a 4.5% discount on the Apple iPhone. What will be the discounted price of the mobile?"
            ],
            "metadata": {
                "id": "cG-aP2YlFNzB",
                "azdata_cell_guid": "b6014728-46ad-4c61-81d4-e807f0f51dce"
            }
        },
        {
            "cell_type": "markdown",
            "source": [
                "**Type Conversion**: The process of converting one data type to another data type is called type conversion. \n",
                "\n",
                "In Python, we can perform two types of type conversion.\n",
                "\n",
                "1. Implicit Type Conversion - Here, Python automatically converts one data type to another in order to avoid data loss.\n",
                "\n",
                "2. Explicit Type Conversion - Here, the user can convert the data type of a variable to the required data type by using the in-built functions int(), float(), str(), etc.\n"
            ],
            "metadata": {
                "id": "3fpYu_Z8Ndf0",
                "azdata_cell_guid": "ae388550-f753-4d36-8eb1-4f83f91e7d7c"
            }
        },
        {
            "cell_type": "code",
            "source": [
                "# store the price (in dollars) of the mobile in variable 'price'\n",
                "price = 900\n",
                "# calculate the discount amount\n",
                "discount = price * 0.045\n",
                "# calculate the discounted price\n",
                "discounted_price = price - discount\n",
                "print('The discounted price of the iPhone is ' + str(discounted_price))"
            ],
            "metadata": {
                "id": "RmmOkRrwG6ac",
                "colab": {
                    "base_uri": "https://localhost:8080/"
                },
                "outputId": "89184212-8eb2-4a24-9f87-ac48387be698",
                "azdata_cell_guid": "e1144fef-d756-4913-ac7d-89cb8ea7704a",
                "language": "python"
            },
            "outputs": [
                {
                    "output_type": "stream",
                    "name": "stdout",
                    "text": "The discounted price of the iPhone is 859.5\n"
                }
            ],
            "execution_count": 27
        },
        {
            "cell_type": "code",
            "source": [
                "type(discounted_price)"
            ],
            "metadata": {
                "id": "usYUYXiOCdVt",
                "colab": {
                    "base_uri": "https://localhost:8080/"
                },
                "outputId": "b999ecdf-ba6f-4fb0-dc30-3cbac0c5ac6a",
                "azdata_cell_guid": "36129ac7-2fe3-4f11-840b-befff802c225",
                "language": "python"
            },
            "outputs": [
                {
                    "output_type": "execute_result",
                    "execution_count": 28,
                    "data": {
                        "text/plain": "float"
                    },
                    "metadata": {}
                }
            ],
            "execution_count": 28
        },
        {
            "cell_type": "markdown",
            "source": [
                "Now, let's check the data type of the variables 'discount' and 'price'"
            ],
            "metadata": {
                "id": "2SrYvKgAZv2c",
                "azdata_cell_guid": "37db1083-4b5e-484e-b415-6754abc803e0"
            }
        },
        {
            "cell_type": "code",
            "source": [
                "print('The data type of variable price is',type(price))\n",
                "print('The data type of variable discount is',type(discount))"
            ],
            "metadata": {
                "id": "5vU-mAkiZ92S",
                "colab": {
                    "base_uri": "https://localhost:8080/"
                },
                "outputId": "90eedeaa-9184-4592-d7ec-db9fe7493a62",
                "azdata_cell_guid": "245ae550-d18a-46ee-b209-7d8ffa60e3c3",
                "language": "python"
            },
            "outputs": [
                {
                    "output_type": "stream",
                    "name": "stdout",
                    "text": "The data type of variable price is <class 'int'>\nThe data type of variable discount is <class 'float'>\n"
                }
            ],
            "execution_count": 29
        },
        {
            "cell_type": "markdown",
            "source": [
                "As we can see, the data type of 'discount' is float as Python is implicitly converting the lower data type to a higher data type to avoid data loss.\n",
                "\n",
                "Suppose we want to add the variables **brand**, **ram**, and **storage**. \n",
                "\n",
                "Will the implicit conversion work?\n",
                "\n",
                "Let's try it!"
            ],
            "metadata": {
                "id": "q05dBOmTwXuE",
                "azdata_cell_guid": "ab845c14-ba46-44f4-89d7-23c62a86a8da"
            }
        },
        {
            "cell_type": "code",
            "source": [
                "print(brand + ' ' + ram + 'GB')"
            ],
            "metadata": {
                "id": "F-JdovnFdDpu",
                "colab": {
                    "base_uri": "https://localhost:8080/",
                    "height": 166
                },
                "outputId": "856db8c1-437b-4ffd-d41a-15eaf6d255ab",
                "azdata_cell_guid": "fb250cdf-94ed-4a3f-b9cc-245de95e62d6",
                "language": "python"
            },
            "outputs": [
                {
                    "output_type": "error",
                    "ename": "TypeError",
                    "evalue": "ignored",
                    "traceback": [
                        "\u001b[0;31m---------------------------------------------------------------------------\u001b[0m",
                        "\u001b[0;31mTypeError\u001b[0m                                 Traceback (most recent call last)",
                        "\u001b[0;32m<ipython-input-30-f953f257e67c>\u001b[0m in \u001b[0;36m<module>\u001b[0;34m()\u001b[0m\n\u001b[0;32m----> 1\u001b[0;31m \u001b[0mprint\u001b[0m\u001b[0;34m(\u001b[0m\u001b[0mbrand\u001b[0m \u001b[0;34m+\u001b[0m \u001b[0;34m' '\u001b[0m \u001b[0;34m+\u001b[0m \u001b[0mram\u001b[0m \u001b[0;34m+\u001b[0m \u001b[0;34m'GB'\u001b[0m\u001b[0;34m)\u001b[0m\u001b[0;34m\u001b[0m\u001b[0;34m\u001b[0m\u001b[0m\n\u001b[0m",
                        "\u001b[0;31mTypeError\u001b[0m: can only concatenate str (not \"int\") to str"
                    ]
                }
            ],
            "execution_count": 30
        },
        {
            "cell_type": "markdown",
            "source": [
                "As we can see from the output, the TypeError is being raised which indicates that Python is not able to use Implicit Conversion in such conditions.\n",
                "\n",
                "But, we can do an explicit conversion for such cases."
            ],
            "metadata": {
                "id": "R6NNDgIKdR8T",
                "azdata_cell_guid": "b1eb7e25-2953-40f5-a8c5-a7cc61b1b778"
            }
        },
        {
            "cell_type": "code",
            "source": [
                "brand + ' ' + str(ram) + 'GB'"
            ],
            "metadata": {
                "id": "sSG3cdv0w630",
                "colab": {
                    "base_uri": "https://localhost:8080/",
                    "height": 35
                },
                "outputId": "4df36bfa-6f4c-4601-9123-bac029e87ce0",
                "azdata_cell_guid": "a5b27c06-d7bd-4dd7-893f-7d3f4fa7136b",
                "language": "python"
            },
            "outputs": [
                {
                    "output_type": "execute_result",
                    "execution_count": 31,
                    "data": {
                        "application/vnd.google.colaboratory.intrinsic+json": {
                            "type": "string"
                        },
                        "text/plain": "'Apple 4GB'"
                    },
                    "metadata": {}
                }
            ],
            "execution_count": 31
        },
        {
            "cell_type": "markdown",
            "source": [
                "## 1.2 Data Structures\n",
                "\n"
            ],
            "metadata": {
                "id": "rhZuvfjORCEh",
                "azdata_cell_guid": "01e0caf6-f625-4a29-9351-9d42dfbc4427"
            }
        },
        {
            "cell_type": "markdown",
            "source": [
                "**MobiWorld store has provided a snapshot of the details of mobile phones sold by them.**\n",
                "\n",
                "\n"
            ],
            "metadata": {
                "id": "3qxT-ewKRNhU",
                "azdata_cell_guid": "e7885909-b567-489b-ac0e-87ca8320aadb"
            }
        },
        {
            "cell_type": "markdown",
            "source": [
                "| Brand | RAM (in GB) | Memory (in GB) | Price (in dollars) |\n",
                "| --- | --- | --- | --- |\n",
                "| Apple | 4 | 128 | 900 |\n",
                "| Samsung | 12 | 128 | 899 |\n",
                "| LG | 8 | 64 | 600 |\n",
                "| Apple | 8 | 128 | 1000 |\n",
                "\n",
                "\n"
            ],
            "metadata": {
                "id": "jyuWMd1kT8oE",
                "azdata_cell_guid": "41531f22-67f3-4a77-89f7-04f37a765738"
            }
        },
        {
            "cell_type": "markdown",
            "source": [
                "We know how to create a variable to store the brand name."
            ],
            "metadata": {
                "id": "OUF9q0yGUdKP",
                "azdata_cell_guid": "54fd20ab-51cb-49e2-a351-3a1579a0e959"
            }
        },
        {
            "cell_type": "code",
            "source": [
                "Brand = 'Apple'\n",
                "print(Brand)"
            ],
            "metadata": {
                "id": "VCc3NBUoUbew",
                "colab": {
                    "base_uri": "https://localhost:8080/"
                },
                "outputId": "71e6a3ae-ce53-46f2-fa1b-8e3845db410d",
                "azdata_cell_guid": "ca8536d0-03ec-4117-9f20-cd27aec91b27",
                "language": "python"
            },
            "outputs": [
                {
                    "output_type": "stream",
                    "name": "stdout",
                    "text": "Apple\n"
                }
            ],
            "execution_count": 32
        },
        {
            "cell_type": "markdown",
            "source": [
                "#### List"
            ],
            "metadata": {
                "id": "X1G0u69v4YKD",
                "azdata_cell_guid": "8d61a787-68f7-49a7-8338-a984a065093c"
            }
        },
        {
            "cell_type": "markdown",
            "source": [
                "Let's create a variable that will store all the brand names given in the above table. This can be achieved using the 'list' data struture in Python. \n",
                "\n",
                "Lists are used to store the data items inside square brackets [] where each data item is separated by a comma (,)"
            ],
            "metadata": {
                "id": "N5KIeBCPUxlY",
                "azdata_cell_guid": "4193f7b4-675e-48b3-9a9c-8703742c5ec6"
            }
        },
        {
            "cell_type": "code",
            "source": [
                "# create a list \n",
                "brand_list = ['Apple', 'Samsung', 'LG', 'Apple']\n",
                "brand_list"
            ],
            "metadata": {
                "id": "NdRGH5VVULgp",
                "colab": {
                    "base_uri": "https://localhost:8080/"
                },
                "outputId": "37c65129-0eef-4b40-c244-8e4376d5ea6c",
                "azdata_cell_guid": "d0e622da-28f8-48c3-ac1f-e9dbf1f8a87d",
                "language": "python"
            },
            "outputs": [
                {
                    "output_type": "execute_result",
                    "execution_count": 33,
                    "data": {
                        "text/plain": "['Apple', 'Samsung', 'LG', 'Apple']"
                    },
                    "metadata": {}
                }
            ],
            "execution_count": 33
        },
        {
            "cell_type": "code",
            "source": [
                "# check the type of the variable 'brand_list'\n",
                "type(brand_list)"
            ],
            "metadata": {
                "id": "Gs5hLI-zVybq",
                "colab": {
                    "base_uri": "https://localhost:8080/"
                },
                "outputId": "5c827bb9-5d57-4dde-a8b0-c6a633e7aa33",
                "azdata_cell_guid": "a75cbedb-df01-42b8-ae00-7b421fced163",
                "language": "python"
            },
            "outputs": [
                {
                    "output_type": "execute_result",
                    "execution_count": 34,
                    "data": {
                        "text/plain": "list"
                    },
                    "metadata": {}
                }
            ],
            "execution_count": 34
        },
        {
            "cell_type": "markdown",
            "source": [
                "Let's create lists for other attributes as well."
            ],
            "metadata": {
                "id": "f8k9SsafaAh5",
                "azdata_cell_guid": "a156f990-a3b3-4953-9936-6259d0b91cef"
            }
        },
        {
            "cell_type": "code",
            "source": [
                "ram_list = [4, 12, 8, 8]\n",
                "storage_list = [128, 128, 64, 128]\n",
                "price_list = [900, 899, 600, 1000]"
            ],
            "metadata": {
                "id": "pz296Fu9aKkD",
                "azdata_cell_guid": "7874ea82-ea2b-4703-89e7-301d8b3b36e7",
                "language": "python"
            },
            "outputs": [],
            "execution_count": 35
        },
        {
            "cell_type": "code",
            "source": [
                "# let's print the lists we created\n",
                "print('RAM List:', ram_list)\n",
                "print('Storage List:', storage_list)\n",
                "print('Price List:', price_list)"
            ],
            "metadata": {
                "id": "uyvz9uRCa8Vw",
                "colab": {
                    "base_uri": "https://localhost:8080/"
                },
                "outputId": "7e5529e6-9261-433e-d101-80878bfb1047",
                "azdata_cell_guid": "88e58d86-05d2-49e5-b05d-5df7003ae44a",
                "language": "python"
            },
            "outputs": [
                {
                    "output_type": "stream",
                    "name": "stdout",
                    "text": "RAM List: [4, 12, 8, 8]\nStorage List: [128, 128, 64, 128]\nPrice List: [900, 899, 600, 1000]\n"
                }
            ],
            "execution_count": 36
        },
        {
            "cell_type": "markdown",
            "source": [
                "Now, we have created lists for all attributes with the provided data. There are various operations that can be performed on lists to extract information from the data. Let's understand a few important methods by answering some questions."
            ],
            "metadata": {
                "id": "gcUOproLbUrd",
                "azdata_cell_guid": "faacb4c8-e079-44a5-980e-9a6ebcf378e7"
            }
        },
        {
            "cell_type": "markdown",
            "source": [
                "Q. How many records are stored in the list brand_list?"
            ],
            "metadata": {
                "id": "XZ-I7h-mcTfQ",
                "azdata_cell_guid": "8f04fdb8-6b2e-41a9-90c3-5c0a45f62dbf"
            }
        },
        {
            "cell_type": "markdown",
            "source": [
                "\n",
                "\n",
                "* len() is an in-built function in Python that provides the count of elements inside a list. In-built functions are functions that are already defined in the Python framework to perform a task.\n",
                "\n"
            ],
            "metadata": {
                "id": "8bMPW9ltctr-",
                "azdata_cell_guid": "5b1bb885-1771-49e4-9a11-733351ccddf7"
            }
        },
        {
            "cell_type": "code",
            "source": [
                "len(brand_list)"
            ],
            "metadata": {
                "id": "C_aMKnD9cn29",
                "colab": {
                    "base_uri": "https://localhost:8080/"
                },
                "outputId": "9d05bbf7-bc7e-47d7-c4b0-628ab4593cdd",
                "azdata_cell_guid": "32de31f0-0a3f-42d7-ac1e-aa94421ab3b8",
                "language": "python"
            },
            "outputs": [
                {
                    "output_type": "execute_result",
                    "execution_count": 37,
                    "data": {
                        "text/plain": "4"
                    },
                    "metadata": {}
                }
            ],
            "execution_count": 37
        },
        {
            "cell_type": "markdown",
            "source": [
                "We have 4 records "
            ],
            "metadata": {
                "id": "ucTw2ifG-glr",
                "azdata_cell_guid": "5a290aa3-e0d2-46c9-b184-0ca931715980"
            }
        },
        {
            "cell_type": "markdown",
            "source": [
                "Q. Find the minimum and maximum price among the mobile phones sold by the store."
            ],
            "metadata": {
                "id": "6z_HEP48dBfH",
                "azdata_cell_guid": "a33dfea2-296d-46c5-867c-a72ed5d8b429"
            }
        },
        {
            "cell_type": "markdown",
            "source": [
                "* min() and max() are in-built functions in Python that calculates the minimum and maximum values among the items in a list (or some other data types)."
            ],
            "metadata": {
                "id": "UqCrWx7d_QD-",
                "azdata_cell_guid": "893333c8-12ee-4396-97d0-26b6be050d52"
            }
        },
        {
            "cell_type": "code",
            "source": [
                "# minimum price\n",
                "min_price = min(price_list)\n",
                "print('The minimum price is $' + str(min_price))\n",
                "# maximum price\n",
                "max_price = max(price_list)\n",
                "print('The maximum price is $' + str(max_price))"
            ],
            "metadata": {
                "id": "Jlj1uxuNd-hw",
                "colab": {
                    "base_uri": "https://localhost:8080/"
                },
                "outputId": "8fd0e9d9-1445-4d39-d5fd-77c58eb83d79",
                "azdata_cell_guid": "06d6d179-ced0-4c58-a253-0df1edc40acc",
                "language": "python"
            },
            "outputs": [
                {
                    "output_type": "stream",
                    "name": "stdout",
                    "text": "The minimum price is $600\nThe maximum price is $1000\n"
                }
            ],
            "execution_count": 38
        },
        {
            "cell_type": "markdown",
            "source": [
                "* The minimum and maximum prices are \\$600 and $1000 respectively. \n",
                "\n"
            ],
            "metadata": {
                "id": "aIihYl6veE6t",
                "azdata_cell_guid": "904741da-634f-482d-b25d-abf2cd3af16d"
            }
        },
        {
            "cell_type": "markdown",
            "source": [
                "As a list may contain a large number of items in it, there should be a way to access the item that we want. This is achieved by indexing the list to access the required item.\n",
                "\n",
                "Q. Print the third item in the list ram_list."
            ],
            "metadata": {
                "id": "XNuquyGf5CPM",
                "azdata_cell_guid": "d9fc0119-06e6-4520-bc4c-ba2687ef8538"
            }
        },
        {
            "cell_type": "markdown",
            "source": [
                "* Indexing in list is done by specifying the index inside square brackets. In python, indexing starts with 0. That is, the first item has the index 0, the second has the index 1 and so on."
            ],
            "metadata": {
                "id": "uqHY5ehU5HKQ",
                "azdata_cell_guid": "13fce57e-ca19-473d-889d-870af5af6b91"
            }
        },
        {
            "cell_type": "code",
            "source": [
                "# indexing to get the third item in ram_list\n",
                "print(ram_list[2])"
            ],
            "metadata": {
                "id": "_amZFVGQ5LzK",
                "colab": {
                    "base_uri": "https://localhost:8080/"
                },
                "outputId": "aef376d3-497b-4b4d-f9a8-3178c61cd997",
                "azdata_cell_guid": "f2df7ce8-d27d-4619-8e31-fe6e168eb45c",
                "language": "python"
            },
            "outputs": [
                {
                    "output_type": "stream",
                    "name": "stdout",
                    "text": "8\n"
                }
            ],
            "execution_count": 39
        },
        {
            "cell_type": "markdown",
            "source": [
                "Q. Print the first three items from the list price_list."
            ],
            "metadata": {
                "id": "010MLnYv5RF5",
                "azdata_cell_guid": "ed0b439c-092e-4816-859c-a6245e0352ac"
            }
        },
        {
            "cell_type": "markdown",
            "source": [
                "* We can also select a range of indices to access more than 1 item. This can be done by using a colon (:) between the start and stop index"
            ],
            "metadata": {
                "id": "a5WRJWAz5T3q",
                "azdata_cell_guid": "b631ee9f-908e-4075-ab9c-34a05996e7ee"
            }
        },
        {
            "cell_type": "code",
            "source": [
                "# first three items in price_list\n",
                "print(price_list[0:3])"
            ],
            "metadata": {
                "id": "31v2bdjK5fsV",
                "colab": {
                    "base_uri": "https://localhost:8080/"
                },
                "outputId": "61ef189c-e807-454f-fe90-12462daff060",
                "azdata_cell_guid": "c956c91a-e72a-4880-85b2-943158bad78a",
                "language": "python"
            },
            "outputs": [
                {
                    "output_type": "stream",
                    "name": "stdout",
                    "text": "[900, 899, 600]\n"
                }
            ],
            "execution_count": 40
        },
        {
            "cell_type": "markdown",
            "source": [
                "Notice that in such an indexing, the output includes the item at the start index (index 0) but excludes the item at the stop index (index 3). The index [0:3] has included the items at indices 0, 1 and 2"
            ],
            "metadata": {
                "id": "Y-UXUhxZ5jPL",
                "azdata_cell_guid": "b7d0f076-c27d-4751-87b0-606391429c25"
            }
        },
        {
            "cell_type": "markdown",
            "source": [
                "Q. Print the last item in the list brand_list."
            ],
            "metadata": {
                "id": "IQ7KaeJE5m7U",
                "azdata_cell_guid": "60738fc4-678e-4af1-a806-2acea65185a4"
            }
        },
        {
            "cell_type": "markdown",
            "source": [
                "* The last item can also be accessed using its index. But, if the list is too large, counting the index for the last item may not be the best way. Here's how the last item can be accessed for any list."
            ],
            "metadata": {
                "id": "KSsQP0g75p2K",
                "azdata_cell_guid": "8149be7b-8801-44f5-9cae-54664752b08b"
            }
        },
        {
            "cell_type": "code",
            "source": [
                "# last item in brand_list\n",
                "print(brand_list[-1])"
            ],
            "metadata": {
                "id": "NwovAGAn5rzu",
                "colab": {
                    "base_uri": "https://localhost:8080/"
                },
                "outputId": "3fa51aa1-662c-48a7-e1c5-5a618a5acef1",
                "azdata_cell_guid": "d7d8a150-01f0-45ee-b66b-0780b278655b",
                "language": "python"
            },
            "outputs": [
                {
                    "output_type": "stream",
                    "name": "stdout",
                    "text": "Apple\n"
                }
            ],
            "execution_count": 41
        },
        {
            "cell_type": "markdown",
            "source": [
                "The Store finds out that for the last record in the data, the brand name provided was not correct. \n",
                "\n",
                "Q. Remove the last element from the list brand_list."
            ],
            "metadata": {
                "id": "f1Omoi3ThWZS",
                "azdata_cell_guid": "d65bec39-01b8-4bcf-b0bb-ed9b4ff1c1f8"
            }
        },
        {
            "cell_type": "markdown",
            "source": [
                "* pop() is a list method that removes the item at the given index and returns the removed item . If the index is not specified, by default, it removes the last element. To confirm we can check the list again."
            ],
            "metadata": {
                "id": "3PLiR1eriB0r",
                "azdata_cell_guid": "26f767bf-1118-4faf-8685-4f8f64289a58"
            }
        },
        {
            "cell_type": "code",
            "source": [
                "brand_list.pop()"
            ],
            "metadata": {
                "id": "GLU8d4VLhgBo",
                "colab": {
                    "base_uri": "https://localhost:8080/",
                    "height": 35
                },
                "outputId": "d5bcf8cb-8ed1-4e68-c9ec-5def63f622d2",
                "azdata_cell_guid": "1089d721-752e-461c-9fb8-d1d49e0f37b7",
                "language": "python"
            },
            "outputs": [
                {
                    "output_type": "execute_result",
                    "execution_count": 42,
                    "data": {
                        "application/vnd.google.colaboratory.intrinsic+json": {
                            "type": "string"
                        },
                        "text/plain": "'Apple'"
                    },
                    "metadata": {}
                }
            ],
            "execution_count": 42
        },
        {
            "cell_type": "code",
            "source": [
                "brand_list"
            ],
            "metadata": {
                "id": "GKlrRebCkcSl",
                "colab": {
                    "base_uri": "https://localhost:8080/"
                },
                "outputId": "3897ee66-6568-4dc5-9ad8-5751c7309c35",
                "azdata_cell_guid": "c9622a8a-3b20-4bdd-bb49-d440a41c6cef",
                "language": "python"
            },
            "outputs": [
                {
                    "output_type": "execute_result",
                    "execution_count": 43,
                    "data": {
                        "text/plain": "['Apple', 'Samsung', 'LG']"
                    },
                    "metadata": {}
                }
            ],
            "execution_count": 43
        },
        {
            "cell_type": "markdown",
            "source": [
                "As we can see the last element got removed. Now, the Store informs that the correct brand name should be \"Motorola'.\n",
                "\n",
                "Q. Insert 'Motorola' to the list brand_list\n",
                "\n",
                "\n"
            ],
            "metadata": {
                "id": "wq_76ZPjkdpN",
                "azdata_cell_guid": "cf9dd5ba-8409-4964-b40c-7594a8919a88"
            }
        },
        {
            "cell_type": "markdown",
            "source": [
                "* The append() method adds a single item to an existing list."
            ],
            "metadata": {
                "id": "YkMJ6BX86fup",
                "azdata_cell_guid": "b2445e4f-def6-461d-92db-b62765899306"
            }
        },
        {
            "cell_type": "code",
            "source": [
                "brand_list.append('Motorola')\n",
                "brand_list"
            ],
            "metadata": {
                "id": "OWRzQJ5FmJMq",
                "colab": {
                    "base_uri": "https://localhost:8080/"
                },
                "outputId": "420ce930-77c6-44cb-e5f2-f17dcd188367",
                "azdata_cell_guid": "865f3263-a0e1-4097-9489-e40a5183eafc",
                "language": "python"
            },
            "outputs": [
                {
                    "output_type": "execute_result",
                    "execution_count": 44,
                    "data": {
                        "text/plain": "['Apple', 'Samsung', 'LG', 'Motorola']"
                    },
                    "metadata": {}
                }
            ],
            "execution_count": 44
        },
        {
            "cell_type": "code",
            "source": [
                "brand_list[3] = 'Apple'\n",
                "print(brand_list)\n"
            ],
            "metadata": {
                "id": "qxGjoIqOAm-l",
                "colab": {
                    "base_uri": "https://localhost:8080/"
                },
                "outputId": "494c820b-d60c-4880-b4db-f0db13ffe338",
                "azdata_cell_guid": "b2825d6f-fd77-466b-abac-3b05af5fa89e",
                "language": "python"
            },
            "outputs": [
                {
                    "output_type": "stream",
                    "name": "stdout",
                    "text": "['Apple', 'Samsung', 'LG', 'Apple']\n"
                }
            ],
            "execution_count": 45
        },
        {
            "cell_type": "code",
            "source": [
                "brand_list[3] = 'Motorola'\n",
                "brand_list"
            ],
            "metadata": {
                "id": "ogGGnKahAzr8",
                "colab": {
                    "base_uri": "https://localhost:8080/"
                },
                "outputId": "224569fb-d03f-4d0b-d21a-458b08a70440",
                "azdata_cell_guid": "d9c3bad3-23fb-4076-9ad0-0af386a84c99",
                "language": "python"
            },
            "outputs": [
                {
                    "output_type": "execute_result",
                    "execution_count": 46,
                    "data": {
                        "text/plain": "['Apple', 'Samsung', 'LG', 'Motorola']"
                    },
                    "metadata": {}
                }
            ],
            "execution_count": 46
        },
        {
            "cell_type": "markdown",
            "source": [
                "We have succesfully corrected the list now."
            ],
            "metadata": {
                "id": "EwtvxH6HmLvQ",
                "azdata_cell_guid": "d7fba444-191e-4bfa-b0cd-66e14d5afd07"
            }
        },
        {
            "cell_type": "markdown",
            "source": [
                "#### Tuple"
            ],
            "metadata": {
                "id": "rlcQJDLlFUuz",
                "azdata_cell_guid": "ea0b5486-5bee-4247-8a3f-36846a6d946f"
            }
        },
        {
            "cell_type": "markdown",
            "source": [
                "Now that you have learned about lists, you know that data can be modified and altered in a list, making it a mutable data structure. Sometimes, you might want to store data which should not be altered, for example storage. The storage in a mobile phone is in terms of powers of 2, that is, 32 GB, 64 GB, 128 GB, etc. You do not want to alter the number 32 and change it to 30.\n",
                "\n",
                "Q. Store the storage specifications 32/64/128/256 as an immutable variable."
            ],
            "metadata": {
                "id": "cCG1aiFWFXcY",
                "azdata_cell_guid": "1e4c5bd0-9deb-440c-a0f1-5beb555fee91"
            }
        },
        {
            "cell_type": "code",
            "source": [
                "storage = (32,64,128,256)\n",
                "print(storage)"
            ],
            "metadata": {
                "id": "asSlUBP6Iep3",
                "colab": {
                    "base_uri": "https://localhost:8080/"
                },
                "outputId": "43d33f87-2e62-434a-90b0-d94f8f68047f",
                "azdata_cell_guid": "94c3c7b9-5157-4a90-8bfc-1657b40513ee",
                "language": "python"
            },
            "outputs": [
                {
                    "output_type": "stream",
                    "name": "stdout",
                    "text": "(32, 64, 128, 256)\n"
                }
            ],
            "execution_count": 47
        },
        {
            "cell_type": "code",
            "source": [
                "type(storage)"
            ],
            "metadata": {
                "id": "5HOrggg8JBBx",
                "colab": {
                    "base_uri": "https://localhost:8080/"
                },
                "outputId": "b29fadd6-9955-46ce-93c8-ec45cb3bcd60",
                "azdata_cell_guid": "d629e6bf-2e5f-4bab-bef6-94aaff2bcf73",
                "language": "python"
            },
            "outputs": [
                {
                    "output_type": "execute_result",
                    "execution_count": 48,
                    "data": {
                        "text/plain": "tuple"
                    },
                    "metadata": {}
                }
            ],
            "execution_count": 48
        },
        {
            "cell_type": "markdown",
            "source": [
                "* The above data structure structure is called a tuple. A tuple in Python is similar to a list. The difference between the two is that unlike lists we cannot change the elements of a tuple once it is assigned. "
            ],
            "metadata": {
                "id": "RkusDTP8I4FJ",
                "azdata_cell_guid": "38211bfd-678b-432e-9449-7b00f3f0dd18"
            }
        },
        {
            "cell_type": "markdown",
            "source": [
                "Indexing in tuple is similar to indexing in lists. \n",
                "\n",
                "Q. Print the second item in the tuple **storage**"
            ],
            "metadata": {
                "id": "PXRJO7GCJqp3",
                "azdata_cell_guid": "58d6c1e0-471b-4692-babb-4d5f86b98141"
            }
        },
        {
            "cell_type": "code",
            "source": [
                "print(storage[1])"
            ],
            "metadata": {
                "id": "MPV67Nb7J1xC",
                "colab": {
                    "base_uri": "https://localhost:8080/"
                },
                "outputId": "25ed3947-a421-4754-86ef-ebda2a3462a6",
                "azdata_cell_guid": "1d4a9674-5b68-4645-85bb-e63e21f25690",
                "language": "python"
            },
            "outputs": [
                {
                    "output_type": "stream",
                    "name": "stdout",
                    "text": "64\n"
                }
            ],
            "execution_count": 49
        },
        {
            "cell_type": "markdown",
            "source": [
                "Let's try changing the second item to 60 and see if it works."
            ],
            "metadata": {
                "id": "4DYux3LMMib_",
                "azdata_cell_guid": "3bfc26be-d866-4c23-88cb-d56779ea3e17"
            }
        },
        {
            "cell_type": "code",
            "source": [
                "# try changing an item in a tuple\n",
                "storage[1]=60"
            ],
            "metadata": {
                "id": "dBOc6JBkMnjD",
                "colab": {
                    "base_uri": "https://localhost:8080/",
                    "height": 183
                },
                "outputId": "34a4dbea-4302-4698-bb06-284584ac5304",
                "azdata_cell_guid": "ebe6beb6-3623-401f-b60d-9762c6dc18ad",
                "language": "python"
            },
            "outputs": [
                {
                    "output_type": "error",
                    "ename": "TypeError",
                    "evalue": "ignored",
                    "traceback": [
                        "\u001b[0;31m---------------------------------------------------------------------------\u001b[0m",
                        "\u001b[0;31mTypeError\u001b[0m                                 Traceback (most recent call last)",
                        "\u001b[0;32m<ipython-input-50-7b98a1c9ad53>\u001b[0m in \u001b[0;36m<module>\u001b[0;34m()\u001b[0m\n\u001b[1;32m      1\u001b[0m \u001b[0;31m# try changing an item in a tuple\u001b[0m\u001b[0;34m\u001b[0m\u001b[0;34m\u001b[0m\u001b[0;34m\u001b[0m\u001b[0m\n\u001b[0;32m----> 2\u001b[0;31m \u001b[0mstorage\u001b[0m\u001b[0;34m[\u001b[0m\u001b[0;36m1\u001b[0m\u001b[0;34m]\u001b[0m\u001b[0;34m=\u001b[0m\u001b[0;36m60\u001b[0m\u001b[0;34m\u001b[0m\u001b[0;34m\u001b[0m\u001b[0m\n\u001b[0m",
                        "\u001b[0;31mTypeError\u001b[0m: 'tuple' object does not support item assignment"
                    ]
                }
            ],
            "execution_count": 50
        },
        {
            "cell_type": "code",
            "source": [
                ""
            ],
            "metadata": {
                "id": "EVpfK94zAjgu",
                "azdata_cell_guid": "4a45f35e-9b7c-4344-b8f4-c022d96d1322",
                "language": "python"
            },
            "outputs": [],
            "execution_count": null
        },
        {
            "cell_type": "markdown",
            "source": [
                "As can be seen from the TypeError, items cannot be altered in a tuple."
            ],
            "metadata": {
                "id": "U_JDEPZmMwbn",
                "azdata_cell_guid": "64c2be86-c255-4b78-a739-bd856e7b302d"
            }
        },
        {
            "cell_type": "markdown",
            "source": [
                "### Dictionary"
            ],
            "metadata": {
                "id": "kRjiRzYl9Xuy",
                "azdata_cell_guid": "c3d7c13c-9a0e-4b65-ae54-a0b3fb0bbfb0"
            }
        },
        {
            "cell_type": "markdown",
            "source": [
                "Lists are great for storing data for a single attribute. But, we might want to add more information about the items in a variable. Suppose the store wants to store the attributes **brand, ram, storage,** and **price** in a single variable.\n",
                "\n",
                "Q. Store the attributes of an Apple iPhone (4GB, 128GB) of price of $800 in a single variable."
            ],
            "metadata": {
                "id": "2sGaZr6V6xz-",
                "azdata_cell_guid": "a295c3ea-45ed-49ec-905d-a3e9f4eb9e92"
            }
        },
        {
            "cell_type": "code",
            "source": [
                "# creating a dictionary\n",
                "attributes = {\n",
                "    'Brand':'Apple', \n",
                "    'RAM (in GB)':4, \n",
                "    'Storage (in GB)':128, \n",
                "    'Price (in $)':800\n",
                "    }\n",
                "print(attributes)"
            ],
            "metadata": {
                "id": "4cwMCttF6yfe",
                "colab": {
                    "base_uri": "https://localhost:8080/"
                },
                "outputId": "b7f9db90-65df-4e57-ea10-a196400d7313",
                "azdata_cell_guid": "cf267236-0043-4069-ab49-3c2a21995aa4",
                "language": "python"
            },
            "outputs": [
                {
                    "output_type": "stream",
                    "name": "stdout",
                    "text": "{'Brand': 'Apple', 'RAM (in GB)': 4, 'Storage (in GB)': 128, 'Price (in $)': 800}\n"
                }
            ],
            "execution_count": 51
        },
        {
            "cell_type": "code",
            "source": [
                "type(attributes)"
            ],
            "metadata": {
                "id": "MRBEI4Cq6yon",
                "colab": {
                    "base_uri": "https://localhost:8080/"
                },
                "outputId": "d5f6a9fc-dce3-41af-b66c-45946ca238e6",
                "azdata_cell_guid": "ac92f41f-a04a-49a4-b046-3e12dda05010",
                "language": "python"
            },
            "outputs": [
                {
                    "output_type": "execute_result",
                    "execution_count": 52,
                    "data": {
                        "text/plain": "dict"
                    },
                    "metadata": {}
                }
            ],
            "execution_count": 52
        },
        {
            "cell_type": "markdown",
            "source": [
                "* The above data structure is called a dictionary. Dictionaries are used to store data values in key:value pairs. Dictionaries are written with curly brackets, and have keys and values"
            ],
            "metadata": {
                "id": "LZNjeZOl6yuX",
                "azdata_cell_guid": "587157ba-3b29-4032-a789-ec2a899c11ba"
            }
        },
        {
            "cell_type": "markdown",
            "source": [
                "Q. Extract the price from the dictionary attributes."
            ],
            "metadata": {
                "id": "tl9LAqoH6yzS",
                "azdata_cell_guid": "4c9b6178-2649-4d48-b787-e4042743ab59"
            }
        },
        {
            "cell_type": "code",
            "source": [
                "# extract information from dictionary\n",
                "print(attributes['Price (in $)'])"
            ],
            "metadata": {
                "id": "CzHdoQlB6y3v",
                "colab": {
                    "base_uri": "https://localhost:8080/"
                },
                "outputId": "04e32d3b-3611-4730-de9c-817c12edee58",
                "azdata_cell_guid": "abfaea61-c6f8-40b0-b212-7f378432be4f",
                "language": "python"
            },
            "outputs": [
                {
                    "output_type": "stream",
                    "name": "stdout",
                    "text": "800\n"
                }
            ],
            "execution_count": 53
        },
        {
            "cell_type": "markdown",
            "source": [
                "* For the above pair, 'Price (in $)' is the key and 800 is the value. \n",
                "\n"
            ],
            "metadata": {
                "id": "6NIP3jxK6y74",
                "azdata_cell_guid": "f45ef92b-13ab-4f30-94ac-02e4cb321eef"
            }
        },
        {
            "cell_type": "markdown",
            "source": [
                "Dictionary items are ordered, changeable, and does not allow duplicates.\n",
                "\n",
                "Q. Change the price in attributes to 900"
            ],
            "metadata": {
                "id": "PCVO_dye6y_7",
                "azdata_cell_guid": "1d85a1da-dd33-4f3f-8699-ef7e5e0eaeb7"
            }
        },
        {
            "cell_type": "code",
            "source": [
                "attributes['Price (in $)'] = 900\n",
                "print(attributes)"
            ],
            "metadata": {
                "id": "TKkiBcId6zEe",
                "colab": {
                    "base_uri": "https://localhost:8080/"
                },
                "outputId": "d1147b12-0774-4bff-feac-c0d7adceb2a2",
                "azdata_cell_guid": "328a9170-5866-4ac4-ad50-ec4a5ae33566",
                "language": "python"
            },
            "outputs": [
                {
                    "output_type": "stream",
                    "name": "stdout",
                    "text": "{'Brand': 'Apple', 'RAM (in GB)': 4, 'Storage (in GB)': 128, 'Price (in $)': 900}\n"
                }
            ],
            "execution_count": 54
        },
        {
            "cell_type": "markdown",
            "source": [
                "Now, that you have learned how to create a dictionary, let's store data for multiple mobile phones in it. The values in a dictionary can also be a list to store information for more than one product.\n",
                "\n",
                "Q. Create a dictionary **products** for storing the attributes of 4 different mobile phones."
            ],
            "metadata": {
                "id": "45krqXL96zIl",
                "azdata_cell_guid": "40dd3b4c-7591-424e-8ab9-b4acb661f07e"
            }
        },
        {
            "cell_type": "code",
            "source": [
                "# creating a dictionary for storing data.\n",
                "products = {\n",
                "    'Brand':brand_list, \n",
                "    'RAM (in GB)':ram_list, \n",
                "    'Storage (in GB)':storage_list, \n",
                "    'Price (in $)':price_list\n",
                "    }\n",
                "print(products)"
            ],
            "metadata": {
                "id": "NsoJ2cyA6zMw",
                "colab": {
                    "base_uri": "https://localhost:8080/"
                },
                "outputId": "5e302147-529f-4080-c010-88f1df3ed4d8",
                "azdata_cell_guid": "e43c97ee-f1dd-40e7-95e1-1112b17bdeda",
                "language": "python"
            },
            "outputs": [
                {
                    "output_type": "stream",
                    "name": "stdout",
                    "text": "{'Brand': ['Apple', 'Samsung', 'LG', 'Motorola'], 'RAM (in GB)': [4, 12, 8, 8], 'Storage (in GB)': [128, 128, 64, 128], 'Price (in $)': [900, 899, 600, 1000]}\n"
                }
            ],
            "execution_count": 55
        },
        {
            "cell_type": "markdown",
            "source": [
                "Using a dictionary, we have stored a lot of information in a single variable."
            ],
            "metadata": {
                "id": "kKJpHALM7PXY",
                "azdata_cell_guid": "06950335-ae37-4c82-b892-c57728decda2"
            }
        },
        {
            "cell_type": "markdown",
            "source": [
                "Q. Extract the keys and values from the dictionary **products**"
            ],
            "metadata": {
                "id": "hoJ8bnAC7O1L",
                "azdata_cell_guid": "0cb75ce2-13b9-461b-9115-499894ca38d9"
            }
        },
        {
            "cell_type": "markdown",
            "source": [
                "* keys() and values() are methods of a dictionary to extract the lists of dictionary keys and dictionary values respectively."
            ],
            "metadata": {
                "id": "H49Xs3EL7V4T",
                "azdata_cell_guid": "b30352a2-968c-42a1-9efc-62dea2657c70"
            }
        },
        {
            "cell_type": "code",
            "source": [
                "# keys of a dictionary\n",
                "keys = products.keys()\n",
                "print('The keys of the dictionary are :\\n',keys)\n",
                "# values of a dictionary\n",
                "values = products.values()\n",
                "print('The values of the dictionary are :\\n', values)"
            ],
            "metadata": {
                "id": "n6neMTb47YGT",
                "colab": {
                    "base_uri": "https://localhost:8080/"
                },
                "outputId": "5367aa69-c105-4d98-da86-011bdefb3ba4",
                "azdata_cell_guid": "fe7d3828-378f-4de7-a724-dea74b8fdb54",
                "language": "python"
            },
            "outputs": [
                {
                    "output_type": "stream",
                    "name": "stdout",
                    "text": "The keys of the dictionary are :\n dict_keys(['Brand', 'RAM (in GB)', 'Storage (in GB)', 'Price (in $)'])\nThe values of the dictionary are :\n dict_values([['Apple', 'Samsung', 'LG', 'Motorola'], [4, 12, 8, 8], [128, 128, 64, 128], [900, 899, 600, 1000]])\n"
                }
            ],
            "execution_count": 56
        },
        {
            "cell_type": "code",
            "source": [
                "products['RAM (in GB)'][1]"
            ],
            "metadata": {
                "id": "lTsHd_OBGhIQ",
                "colab": {
                    "base_uri": "https://localhost:8080/"
                },
                "outputId": "23d034b0-6792-45c1-ed0c-8541ef2f9e25",
                "azdata_cell_guid": "38bd1bc7-b4f9-4186-8aea-7b98655f78ba",
                "language": "python"
            },
            "outputs": [
                {
                    "output_type": "execute_result",
                    "execution_count": 57,
                    "data": {
                        "text/plain": "12"
                    },
                    "metadata": {}
                }
            ],
            "execution_count": 57
        },
        {
            "cell_type": "markdown",
            "source": [
                "## 1.3 Conditional Statements"
            ],
            "metadata": {
                "id": "I3qwY_iVxkuX",
                "azdata_cell_guid": "ab829597-15a7-4a52-91ef-59242fd48553"
            }
        },
        {
            "cell_type": "markdown",
            "source": [
                "Suppose a customer is planning to buy a mobile phone but has a limited budget. Thus, his decision to buy is based on the condition that the price comes under his budget. Let's say his budget is $600.\n",
                "\n",
                "Q. Write a code in Python that prints whether the customer can buy the iPhone or not based on his budget."
            ],
            "metadata": {
                "id": "cQo-OvN_ygtR",
                "azdata_cell_guid": "6a4feb25-58a8-4d43-a408-0f03bd95add2"
            }
        },
        {
            "cell_type": "markdown",
            "source": [
                "Sometimes we want to execute a block of code based on a particular condition.\n",
                "In these types of situations, we write conditional statements. \n",
                "\n",
                "The if-else statement in Python can be used for decision-making. The general syntax of an if-else statement is:\n",
                "\n",
                "```\n",
                "if (test expression):\n",
                "    Body of if\n",
                "else:\n",
                "    Body of else\n",
                "```\n",
                "\n",
                "Python is a tabbed based language, so we need to be VERY careful about tabs!!!\n"
            ],
            "metadata": {
                "id": "qg2mxm6C2VEe",
                "azdata_cell_guid": "c43c2e1b-4daf-427f-9f73-7d09fb90a579"
            }
        },
        {
            "cell_type": "code",
            "source": [
                "# define the budget price\n",
                "budget = int(input('Enter your budget(in dollars): '))\n",
                "\n",
                "# if-else statement\n",
                "if price <= budget:\n",
                "  print('Congrats! You can buy the Iphone')\n",
                "else:\n",
                "  print('Sorry! The mobile price is more than your budget')"
            ],
            "metadata": {
                "id": "V8z790Jc0pNQ",
                "colab": {
                    "base_uri": "https://localhost:8080/"
                },
                "outputId": "256aed9f-dbb9-4de1-8588-6a6dba4ae083",
                "azdata_cell_guid": "b12fd81d-0b49-432b-a711-c0ef1c921ca9",
                "language": "python"
            },
            "outputs": [
                {
                    "output_type": "stream",
                    "name": "stdout",
                    "text": "Enter your budget(in dollars): 100\nSorry! The mobile price is more than your budget\n"
                }
            ],
            "execution_count": 58
        },
        {
            "cell_type": "markdown",
            "source": [
                "If there are multiple conditions, we may use another conditional statement called if-elif-else statement. The general syntax of the if-elif-else statement is:\n",
                "\n",
                "```\n",
                "if (test expression):\n",
                "    Body of if\n",
                "elif (test expression):\n",
                "    Body of elif\n",
                "else: \n",
                "    Body of else\n",
                "```\n",
                "\n"
            ],
            "metadata": {
                "id": "dUm645mL3xfe",
                "azdata_cell_guid": "62394904-43d6-443f-b119-305f2c7fb9ac"
            }
        },
        {
            "cell_type": "markdown",
            "source": [
                "Q. Suppose the price of the 32 GB, 64 GB, and 128 GB iPhones are \\$600, \\$700, and \\$900 respectively. Write a conditional statement to print the price based on the internal storage of the phone."
            ],
            "metadata": {
                "id": "mBwaTNNJ97yi",
                "azdata_cell_guid": "d5e1271d-8ba6-4c0c-a395-9198d309e210"
            }
        },
        {
            "cell_type": "code",
            "source": [
                "Memory = int(input('Enter the memory: '))\n",
                "\n",
                "if Memory == 32:\n",
                "  print('The price of the phone is $600')\n",
                "elif Memory == 64:\n",
                "  print('The price of the phone is $700')\n",
                "elif Memory ==128:\n",
                "  print('The price of the phone is $900')\n",
                "else:\n",
                "  print('Please enter a valid memory requirement')"
            ],
            "metadata": {
                "id": "QdJzMWMn_QTD",
                "colab": {
                    "base_uri": "https://localhost:8080/"
                },
                "outputId": "3e12980f-e011-4cbe-b6e3-66d7252651ee",
                "azdata_cell_guid": "ce6deb18-ffa2-45c4-917a-ede76ca8a64d",
                "language": "python"
            },
            "outputs": [
                {
                    "output_type": "stream",
                    "name": "stdout",
                    "text": "Enter the memory: 64\nThe price of the phone is $700\n"
                }
            ],
            "execution_count": 59
        },
        {
            "cell_type": "code",
            "source": [
                ""
            ],
            "metadata": {
                "id": "5FdEMXl_vs69",
                "azdata_cell_guid": "ca410978-dbd9-4495-a702-4aa972702c51",
                "language": "python"
            },
            "outputs": [],
            "execution_count": 59
        },
        {
            "cell_type": "markdown",
            "source": [
                "## 1.4 Looping Statements\n"
            ],
            "metadata": {
                "id": "crVFfqHF_7Qj",
                "azdata_cell_guid": "0240f206-11af-4adb-86ff-7fdc08d9977c"
            }
        },
        {
            "cell_type": "markdown",
            "source": [
                "\n",
                "\n",
                "\n",
                "Suppose the store wants to check the price of the Apple iPhone (4GB, 128GB) after providing 5%, 10%, 15%, and 20% discounts respectively. Instead of calculating the discounted prices multiple times, looping statements can be used to achieve this.\n",
                "\n",
                "Q. Write a code in Python that prints the discounted price for each of the above-mentioned discounts.\n"
            ],
            "metadata": {
                "id": "02kfQy3pKSLz",
                "azdata_cell_guid": "db978ced-92a7-4a0a-9611-8f8c07108418"
            }
        },
        {
            "cell_type": "markdown",
            "source": [
                "Before jumping into the concept of looping, let's have a look at the range() function in Python.\n",
                "\n",
                "The range() method returns an immutable sequence of numbers between the given start integer to the stop integer."
            ],
            "metadata": {
                "id": "XimtS0PyirT9",
                "azdata_cell_guid": "c83bbe94-baec-4c85-bd19-4adac7ebe69c"
            }
        },
        {
            "cell_type": "code",
            "source": [
                "print(range(6))"
            ],
            "metadata": {
                "id": "lFAxNkQeJ6Wi",
                "colab": {
                    "base_uri": "https://localhost:8080/"
                },
                "outputId": "fc08fad2-4092-428f-915d-ddc0d52c1aab",
                "azdata_cell_guid": "86159c89-90bf-4a6e-8e5c-05395de513a2",
                "language": "python"
            },
            "outputs": [
                {
                    "output_type": "stream",
                    "name": "stdout",
                    "text": "range(0, 6)\n"
                }
            ],
            "execution_count": 60
        },
        {
            "cell_type": "code",
            "source": [
                "print(list(range(6)))"
            ],
            "metadata": {
                "id": "wdUJOuOSL7YZ",
                "colab": {
                    "base_uri": "https://localhost:8080/"
                },
                "outputId": "d3d66e58-d381-4942-e197-bcd613efe41d",
                "azdata_cell_guid": "f6514145-aca1-4965-95f0-8146f0c69875",
                "language": "python"
            },
            "outputs": [
                {
                    "output_type": "stream",
                    "name": "stdout",
                    "text": "[0, 1, 2, 3, 4, 5]\n"
                }
            ],
            "execution_count": 61
        },
        {
            "cell_type": "code",
            "source": [
                "print(list(range(2,6)))"
            ],
            "metadata": {
                "id": "vtLslStgL-cY",
                "colab": {
                    "base_uri": "https://localhost:8080/"
                },
                "outputId": "5f78c19a-e08a-4431-d7ce-c6268b06b38f",
                "azdata_cell_guid": "abd5addd-91be-4c1d-8741-82713030f726",
                "language": "python"
            },
            "outputs": [
                {
                    "output_type": "stream",
                    "name": "stdout",
                    "text": "[2, 3, 4, 5]\n"
                }
            ],
            "execution_count": 62
        },
        {
            "cell_type": "code",
            "source": [
                "print(list(range(6, 14, 2)))"
            ],
            "metadata": {
                "id": "btIlmzGVmgmV",
                "colab": {
                    "base_uri": "https://localhost:8080/"
                },
                "outputId": "38e046d1-2bc4-47ef-dd69-84c96fa5515e",
                "azdata_cell_guid": "ca492568-4165-4f6c-8eb6-87651c8624ec",
                "language": "python"
            },
            "outputs": [
                {
                    "output_type": "stream",
                    "name": "stdout",
                    "text": "[6, 8, 10, 12]\n"
                }
            ],
            "execution_count": 63
        },
        {
            "cell_type": "markdown",
            "source": [
                "Loops are used in Python to iterate over a sequence.\n",
                "\n",
                "The syntax of the 'for loop' is:\n",
                "\n",
                "```\n",
                "for iterator_var in sequence:\n",
                "    statements(s)\n",
                "```\n",
                "\n"
            ],
            "metadata": {
                "id": "wColSzouLhq7",
                "azdata_cell_guid": "56077dee-9988-4b23-9a5b-b3c1fc697334"
            }
        },
        {
            "cell_type": "code",
            "source": [
                "# store the price (in dollars) of the mobile in variable 'Price'.\n",
                "price = 900\n",
                "# start the for loop\n",
                "for i in range(5, 21, 5):\n",
                "  # calculate the discount amount\n",
                "  discount = price * (i / 100)\n",
                "  # calculate the discounted price\n",
                "  discounted_price = price - discount\n",
                "  # print the discounted price\n",
                "  print('The price after providing ', i, ' percent discount is $', discounted_price,sep='')"
            ],
            "metadata": {
                "id": "_1yuJc2JAhqD",
                "colab": {
                    "base_uri": "https://localhost:8080/"
                },
                "outputId": "6c190a85-9c1a-4286-aeb9-acb60e5dfd08",
                "azdata_cell_guid": "b42226b5-b95f-439e-aba2-9991c27ca54d",
                "language": "python"
            },
            "outputs": [
                {
                    "output_type": "stream",
                    "name": "stdout",
                    "text": "The price after providing 5 percent discount is $855.0\nThe price after providing 10 percent discount is $810.0\nThe price after providing 15 percent discount is $765.0\nThe price after providing 20 percent discount is $720.0\n"
                }
            ],
            "execution_count": 64
        },
        {
            "cell_type": "markdown",
            "source": [
                "We can also use the while loop to iterate over a sequence. The syntax of the 'while loop' is:\n",
                "\n",
                "```\n",
                "while condition:\n",
                "    statements(s)\n",
                "```\n",
                "\n",
                "Let's try to solve the above question using 'while' loops."
            ],
            "metadata": {
                "id": "VtgR0jG1vuO7",
                "azdata_cell_guid": "a2740465-87ff-4d4b-aeb4-11a98424000b"
            }
        },
        {
            "cell_type": "code",
            "source": [
                "# store the price (in dollars) of the mobile in variable 'Price'.\n",
                "Price = 900\n",
                "# set the value of i to 5\n",
                "i = 5\n",
                "# start the while loop\n",
                "while i <= 20:\n",
                "  # calculate the discount amount\n",
                "  discount = Price * (i / 100)\n",
                "  # calculate the discounted price\n",
                "  discounted_price = Price - discount\n",
                "  # print the discounted price\n",
                "  print('The price after providing ',i, ' percent discount is $', discounted_price,sep='')\n",
                "  # increase the value of i by 5\n",
                "  i += 5"
            ],
            "metadata": {
                "id": "9PYkcD-XQKfu",
                "colab": {
                    "base_uri": "https://localhost:8080/"
                },
                "outputId": "42103cbf-15a4-4c8d-d092-1af3040f7fb4",
                "azdata_cell_guid": "50a34fe6-a04a-4694-a967-298e610a5593",
                "language": "python"
            },
            "outputs": [
                {
                    "output_type": "stream",
                    "name": "stdout",
                    "text": "The price after providing 5 percent discount is $855.0\nThe price after providing 10 percent discount is $810.0\nThe price after providing 15 percent discount is $765.0\nThe price after providing 20 percent discount is $720.0\n"
                }
            ],
            "execution_count": 65
        },
        {
            "cell_type": "code",
            "source": [
                "i"
            ],
            "metadata": {
                "id": "sAWSbODZWds_",
                "colab": {
                    "base_uri": "https://localhost:8080/"
                },
                "outputId": "67a35ab6-8867-4c11-830f-b7aef3d5bba6",
                "azdata_cell_guid": "ce926238-e9b9-496f-8c73-76735cb7aa41",
                "language": "python"
            },
            "outputs": [
                {
                    "output_type": "execute_result",
                    "execution_count": 66,
                    "data": {
                        "text/plain": "25"
                    },
                    "metadata": {}
                }
            ],
            "execution_count": 66
        },
        {
            "cell_type": "markdown",
            "source": [
                "## 1.5 List Comprehensions"
            ],
            "metadata": {
                "id": "fRrO-BOOeUCE",
                "azdata_cell_guid": "43749583-77a9-4458-ab8f-ff2e6eccdbcb"
            }
        },
        {
            "cell_type": "markdown",
            "source": [
                "MobiWorld has decided to provide an instant discount of 5% on all their products during the upcoming sale. We want to check the discounted prices of the products.\n",
                "\n",
                "We already have the `price_list` with us. Let's use it to get the discounted prices."
            ],
            "metadata": {
                "id": "sBIOrOMSzXl9",
                "azdata_cell_guid": "497fa513-0f34-40ba-9d0c-45bca96d616e"
            }
        },
        {
            "cell_type": "markdown",
            "source": [
                "One way of creating a discounted price list is by looping over the elements of `price_list`, subtracting the discount from the price, and adding it one at a time to a new list `discounted_price_list`."
            ],
            "metadata": {
                "id": "4q_35zrET3LJ",
                "azdata_cell_guid": "008b3f2e-77d5-4c99-b22b-737ecd699135"
            }
        },
        {
            "cell_type": "code",
            "source": [
                "discounted_price_list=[]\n",
                "\n",
                "for x in price_list:\n",
                "  discounted_price = x - (x*(5/100))\n",
                "  discounted_price_list.append(discounted_price)\n",
                "\n",
                "print(discounted_price_list)"
            ],
            "metadata": {
                "id": "DahV8ZZcebRV",
                "colab": {
                    "base_uri": "https://localhost:8080/"
                },
                "outputId": "0ffbb97b-daf3-4d9c-dcce-61b57de2cacb",
                "azdata_cell_guid": "97b08f0f-f450-4d08-be00-837f25a67c1b",
                "language": "python"
            },
            "outputs": [
                {
                    "output_type": "stream",
                    "name": "stdout",
                    "text": "[855.0, 854.05, 570.0, 950.0]\n"
                }
            ],
            "execution_count": 67
        },
        {
            "cell_type": "markdown",
            "source": [
                "An equivalent way of obtaining the same result is by using **list comprehensions**.\n",
                "\n",
                "* List comprehension is a type of control structure for creating a list from an existing iterable (like tuples, strings, arrays, lists, etc).\n",
                "* They offer a shorter and more appealing syntax and are often faster than explicit for loops in creating a list from an existing iterable."
            ],
            "metadata": {
                "id": "F0iCJHIV1cx_",
                "azdata_cell_guid": "ae5f2c1d-6905-4694-a309-6dc8f449ee79"
            }
        },
        {
            "cell_type": "code",
            "source": [
                "discounted_price_list = [x - (x*(5/100)) for x in price_list]\n",
                "print(discounted_price_list)"
            ],
            "metadata": {
                "id": "2rIb7zzcxTVI",
                "colab": {
                    "base_uri": "https://localhost:8080/"
                },
                "outputId": "4ba54a65-0ccc-437d-db82-125fe5df63e3",
                "azdata_cell_guid": "5bc3dc9d-2ea4-4f9c-b801-425a8dd721f3",
                "language": "python"
            },
            "outputs": [
                {
                    "output_type": "stream",
                    "name": "stdout",
                    "text": "[855.0, 854.05, 570.0, 950.0]\n"
                }
            ],
            "execution_count": 68
        },
        {
            "cell_type": "markdown",
            "source": [
                "Let's breakdown the syntax of the above list comprehension. There are three parts:\n",
                "1. `[ ]`: The outer square brackets tells that we are creating a list\n",
                "2. `x-(x*(5/100)`: The expression to evaluate or the computation to perform\n",
                "3. `for x in price_list`: The iterable from which elements (x) will be fetched"
            ],
            "metadata": {
                "id": "0g10KPzb2hH1",
                "azdata_cell_guid": "58be5ce8-c0ce-4f8e-a018-12a9e47c72d1"
            }
        },
        {
            "cell_type": "markdown",
            "source": [
                "Customers often want to check whether any of the discounted prices during the sale are within their budget.\n",
                "\n",
                "Let's help the store display the same based on the budget mentioned by the customer by comparing the discounted price with the budget for each of the four mobile phone prices."
            ],
            "metadata": {
                "id": "ePfWC4q44WBj",
                "azdata_cell_guid": "f30a5466-ec11-4366-81f1-57b84513de2d"
            }
        },
        {
            "cell_type": "code",
            "source": [
                "# asking for customer's budget\n",
                "budget = int(input('Enter your budget(in dollars): '))\n",
                "\n",
                "# creating a list of Yes/No based on budget and discounted prices\n",
                "within_budget = ['Yes' if x <= budget else 'No' for x in discounted_price_list]\n",
                "print(within_budget)"
            ],
            "metadata": {
                "id": "Pg0Ws8qz36Ce",
                "colab": {
                    "base_uri": "https://localhost:8080/"
                },
                "outputId": "ce7becf2-2ee2-4022-b627-523c1eb61569",
                "azdata_cell_guid": "b6ea1202-e691-492e-aad2-3b0002f34bca",
                "language": "python"
            },
            "outputs": [
                {
                    "output_type": "stream",
                    "name": "stdout",
                    "text": "Enter your budget(in dollars): 500\n['No', 'No', 'No', 'No']\n"
                }
            ],
            "execution_count": 69
        },
        {
            "cell_type": "markdown",
            "source": [
                "To get more clarity on the way the list comprehension syntax is formulated, we can expand the list comprehension to the usual for and if statements and think of this in a reversed way."
            ],
            "metadata": {
                "id": "lU5qWotf5EjH",
                "azdata_cell_guid": "75225386-62bf-4cfd-aef4-e73f0f9a08ab"
            }
        },
        {
            "cell_type": "code",
            "source": [
                "within_budget = []\n",
                "\n",
                "for x in discounted_price_list:\n",
                "  if x <= budget:\n",
                "    within_budget.append('Yes')\n",
                "  else:\n",
                "    within_budget.append('No')\n",
                "\n",
                "print(within_budget)"
            ],
            "metadata": {
                "id": "Q-bj32zx5h3z",
                "colab": {
                    "base_uri": "https://localhost:8080/"
                },
                "outputId": "a008b3ec-7264-41c7-dc41-c88875ce12e2",
                "azdata_cell_guid": "1011590f-6ef3-4ea1-ba8e-dc8a14d73e09",
                "language": "python"
            },
            "outputs": [
                {
                    "output_type": "stream",
                    "name": "stdout",
                    "text": "['No', 'No', 'No', 'No']\n"
                }
            ],
            "execution_count": 70
        },
        {
            "cell_type": "markdown",
            "source": [
                "## 1.6 Functions in Python"
            ],
            "metadata": {
                "id": "xEPReYdxm-E5",
                "azdata_cell_guid": "b4936d08-722b-4e16-bfec-943b69baac8d"
            }
        },
        {
            "cell_type": "markdown",
            "source": [
                "**What is a Function in Python?**\n",
                "\n",
                "In Python, a function is a block of instructions that performs a specific task.\n",
                "\n",
                "We have already seen a few functions in python.  min and max were functions that found the minimum and maximum numbers in a list!\n",
                "\n",
                "In Python, we can also define our own functions! We don't have to rely on the ones that are already there.\n",
                "\n",
                "Functions break the program into modular chunks which can be reused later. Functions are used to make the program more organized and manageable.\n",
                "\n",
                "\n",
                "**Syntax of a function**\n",
                "\n",
                "Functions that users define themselves to a particular task are referred to as user-defined functions.\n",
                "\n",
                "```\n",
                "def function_name(parameters):\n",
                "\t'''explain what a function does'''\n",
                "\tstatement(s)\n",
                "```\n",
                "\n"
            ],
            "metadata": {
                "id": "XsVOy7oaoSXM",
                "azdata_cell_guid": "4012c0ad-7e7c-4c2a-a463-99e80d141bb9"
            }
        },
        {
            "cell_type": "markdown",
            "source": [
                "Let's say the store wants to market the Apple iPhone by displaying its attributes to each customer.\n",
                "\n",
                "Q. Write a function in Python that displays the attributes of the Apple iPhone."
            ],
            "metadata": {
                "id": "kMUsQDMVpgHh",
                "azdata_cell_guid": "4b8d81cb-a6e2-4c94-b8b4-578f0d71a541"
            }
        },
        {
            "cell_type": "code",
            "source": [
                "# write the function\n",
                "def display_iphone_attributes():\n",
                "    \"\"\"\n",
                "    This function displays\n",
                "    the stored attributes of\n",
                "    the Apple iPhone\n",
                "    \"\"\"\n",
                "    # store the price (in dollars) of the mobile in variable 'price'\n",
                "    price = 900\n",
                "    # store the RAM (in GB) of the mobile in variable 'ram'.\n",
                "    ram = 4\n",
                "    # store the internal storage (in GB) of the mobile in variable 'storage'.\n",
                "    storage = 128\n",
                "    # display the details\n",
                "    print('The Apple iPhone has ', ram, ' GB RAM and ', storage, ' GB internal storage and it costs $', price, sep='')"
            ],
            "metadata": {
                "id": "2qdL41zapfT5",
                "azdata_cell_guid": "4ed67ca5-b1fb-4b91-86e4-8e82412bd7f1",
                "language": "python"
            },
            "outputs": [],
            "execution_count": null
        },
        {
            "cell_type": "markdown",
            "source": [
                "**How to call a function in python?**\n",
                "\n",
                "Once the function is defined, we can simply call the function by writing the function name with appropriate parameters. The function definition must always be written before the function call. Else, we will get an error."
            ],
            "metadata": {
                "id": "8SQoJ4wWr-1g",
                "azdata_cell_guid": "fe09d5dd-ac81-4c71-96d2-91f02638c1cd"
            }
        },
        {
            "cell_type": "code",
            "source": [
                "# call the function\n",
                "display_iphone_attributes()"
            ],
            "metadata": {
                "id": "qmSi4POvsYTM",
                "azdata_cell_guid": "d1ba9078-6da4-4ce4-9d30-47d8173bd456",
                "language": "python"
            },
            "outputs": [],
            "execution_count": null
        },
        {
            "cell_type": "markdown",
            "source": [
                "**How to write a Python function with arguments?**\n",
                "\n",
                "In Python, you can also define a function that takes a variable number of arguments. Let's try an example!\n",
                "\n",
                "Q. Write a function in Python that displays the attributes of a phone.\n",
                "\n"
            ],
            "metadata": {
                "id": "8bKo7D3JtjlK",
                "azdata_cell_guid": "2c646c45-20b7-4098-a217-76d51f3967eb"
            }
        },
        {
            "cell_type": "code",
            "source": [
                "# write the function\n",
                "def display_phone_attributes(brand, price, ram, storage):\n",
                "    \"\"\"\n",
                "    This function displays\n",
                "    the stored attributes of\n",
                "    any phone\n",
                "    \"\"\"\n",
                "    # display the details\n",
                "    print('The ', brand, ' phone has ', ram, ' GB RAM and ', storage,' GB internal storage and it costs $',price,sep='')"
            ],
            "metadata": {
                "id": "do-AAwmitijp",
                "azdata_cell_guid": "bbc587cc-43b7-48d1-9d5a-c0bd1bcc8d1c",
                "language": "python"
            },
            "outputs": [],
            "execution_count": null
        },
        {
            "cell_type": "code",
            "source": [
                "# call the function\n",
                "display_phone_attributes('samsung', 899, 12, 128)"
            ],
            "metadata": {
                "id": "YHqgx5GWwZGT",
                "azdata_cell_guid": "c0da4929-9449-42ed-bdc9-8d8e2602018a",
                "language": "python"
            },
            "outputs": [],
            "execution_count": null
        },
        {
            "cell_type": "markdown",
            "source": [
                "Since we have called the function with the appropriate number of arguments, it runs smoothly without any error. The interpreter will show an error message in case we call it with a different number of arguments.\n",
                "\n",
                "Let's try calling the function with 3 arguments."
            ],
            "metadata": {
                "id": "Dpqah3c3xcuO",
                "azdata_cell_guid": "a8bc2d55-5ba1-42a8-afc6-1fc1a60e2f74"
            }
        },
        {
            "cell_type": "code",
            "source": [
                "# call the function with 3 arguments\n",
                "display_phone_attributes('samsung', 899, 12)"
            ],
            "metadata": {
                "id": "sLwV4-39xzDA",
                "azdata_cell_guid": "fc0df988-826b-407b-b8d5-8e480a6b7629",
                "language": "python"
            },
            "outputs": [],
            "execution_count": null
        },
        {
            "cell_type": "markdown",
            "source": [
                "**What is a return statement?**\n",
                "\n",
                "The return statement is used to exit a function and also returns the output.\n",
                "\n",
                "Q. Write a function in Python that takes the discount percentage as input and returns the discounted price of an Apple iPhone."
            ],
            "metadata": {
                "id": "es8xsN4dx8wG",
                "azdata_cell_guid": "60f9682f-7ae1-4840-9d47-c78753d27351"
            }
        },
        {
            "cell_type": "code",
            "source": [
                "# write the function\n",
                "def dis_price(discount):\n",
                "    \"\"\"\n",
                "    This function takes the discount \n",
                "    percentage as input and \n",
                "    returns the discounted price of Apple iPhone\n",
                "    \"\"\"\n",
                "    # store the price (in dollars) of the mobile in variable 'price'\n",
                "    price = 900\n",
                "    # calculate the price after discount\n",
                "    discounted_price = price - price * (discount / 100)\n",
                "    # return the discounted price\n",
                "    return discounted_price"
            ],
            "metadata": {
                "id": "gHOoGYQzyjYw",
                "azdata_cell_guid": "e24a2c1c-ed52-4936-9550-7681b2dece27",
                "language": "python"
            },
            "outputs": [],
            "execution_count": null
        },
        {
            "cell_type": "code",
            "source": [
                "# call the function with discount = 10%\n",
                "dp = dis_price(10)\n",
                "dp"
            ],
            "metadata": {
                "id": "kfxk0YnjzIdu",
                "azdata_cell_guid": "1e3da7a0-eeb6-4e2f-95a4-3b40cf3599df",
                "language": "python"
            },
            "outputs": [],
            "execution_count": null
        },
        {
            "cell_type": "markdown",
            "source": [
                "In Python, lambda function are functions a different way to define a function \n",
                "\n",
                "* User-defined functions are defined using the def keyword, whereas lambda functions are defined using the lambda keyword.\n",
                "* We generally use them when we require an anonymous function for a small task\n",
                "* We cannot use a return statement with lambda functions.\n",
                "\n",
                "Let's try to get the discounted price using lambda function."
            ],
            "metadata": {
                "id": "_IPo7Bjiz7T0",
                "azdata_cell_guid": "0a5938f0-eb50-4fa6-9311-8582cd0b4350"
            }
        },
        {
            "cell_type": "code",
            "source": [
                "# lambda functions\n",
                "dis_price_lambda = lambda discount : 900 - ( 900 * (discount / 100) ) "
            ],
            "metadata": {
                "id": "DggmBW-X0xxa",
                "azdata_cell_guid": "4f04cfc6-f7b7-46a3-8b1d-c3436f7a74e8",
                "language": "python"
            },
            "outputs": [],
            "execution_count": null
        },
        {
            "cell_type": "code",
            "source": [
                "# call the function with discount = 10%\n",
                "dis_price_lambda(10)"
            ],
            "metadata": {
                "id": "0ptZLkjR1ER6",
                "azdata_cell_guid": "24c8d1aa-9669-4982-8918-e23035c9a69b",
                "language": "python"
            },
            "outputs": [],
            "execution_count": null
        },
        {
            "cell_type": "markdown",
            "source": [
                "## 1.7 \\*args and \\**kwargs"
            ],
            "metadata": {
                "id": "JE2FLBCIejeA",
                "azdata_cell_guid": "90620291-9f0f-42ce-9026-712e868a65e2"
            }
        },
        {
            "cell_type": "markdown",
            "source": [
                "A customer has placed an order for 5 mobile phones with MobiWorld. The store wants to generate the total amount for the order.\n",
                "\n",
                "We can define a function with 5 arguments (one each for the price of the mobile phone ordered) to compute the total amount."
            ],
            "metadata": {
                "id": "DssVB5yJiDpe",
                "azdata_cell_guid": "639387af-5d14-4d50-a288-d7c064d9fd36"
            }
        },
        {
            "cell_type": "code",
            "source": [
                "def total_amount(price1, price2, price3, price4, price5):\n",
                "    \"\"\"\n",
                "    This function takes the price of five phones ordered\n",
                "    and returns the total order amount.\n",
                "    \"\"\"\n",
                "    # computing the total order amount\n",
                "    total = price1 + price2 + price3 + price4 + price5\n",
                "\n",
                "    # return the total amount\n",
                "    return total"
            ],
            "metadata": {
                "id": "QWd7asLjivuh",
                "azdata_cell_guid": "8d65c432-278e-46ae-a1e2-4ab3c2a984cd",
                "language": "python"
            },
            "outputs": [],
            "execution_count": 71
        },
        {
            "cell_type": "code",
            "source": [
                "print('Total order amount:', total_amount(700, 599, 650, 900, 820))"
            ],
            "metadata": {
                "id": "RujDjojrkGBk",
                "colab": {
                    "base_uri": "https://localhost:8080/"
                },
                "outputId": "b1706933-2c3e-4de9-d9c6-e5c6eb0f4a1d",
                "azdata_cell_guid": "ec86bea8-2233-4b78-a59e-8264ce86a70f",
                "language": "python"
            },
            "outputs": [
                {
                    "output_type": "stream",
                    "name": "stdout",
                    "text": "Total order amount: 3669\n"
                }
            ],
            "execution_count": 72
        },
        {
            "cell_type": "markdown",
            "source": [
                "This works as we have a small number of items in the order placed. What if the customer decides to add 5 more phones to his order? It will become tedious to keep adding an argument to the function for each new addition.\n",
                "\n",
                "* In some cases, we might not even want any constraints on the number of arguments for the function."
            ],
            "metadata": {
                "id": "nswSW0-9k7gz",
                "azdata_cell_guid": "d3b17839-b176-450b-85fd-c4438c615295"
            }
        },
        {
            "cell_type": "markdown",
            "source": [
                "**Python allows us flexibility in terms of the number of arguments passed to a function by using \\*args.**"
            ],
            "metadata": {
                "id": "yCj_GaLAgpLn",
                "azdata_cell_guid": "01f49394-3e39-46c9-b470-982eef61f38c"
            }
        },
        {
            "cell_type": "code",
            "source": [
                "def total_amount(*args):\n",
                "    \"\"\"\n",
                "    This function takes the prices of phones ordered\n",
                "    and returns the total order amount.\n",
                "    \"\"\"\n",
                "    total = 0\n",
                "    # computing the total order amount\n",
                "    for arg in args:\n",
                "        total += arg\n",
                "\n",
                "    # return the total amount\n",
                "    return total"
            ],
            "metadata": {
                "id": "Kp20hXTbel28",
                "azdata_cell_guid": "1e616fad-409c-42a2-9cd9-7762c07a8a7d",
                "language": "python"
            },
            "outputs": [],
            "execution_count": 73
        },
        {
            "cell_type": "markdown",
            "source": [
                "Let's compute the total amount for 5 phones."
            ],
            "metadata": {
                "id": "iotLTjjAnehn",
                "azdata_cell_guid": "3ec99d4e-aa9b-470e-840b-981b52424f53"
            }
        },
        {
            "cell_type": "code",
            "source": [
                "print('Total order amount:', total_amount(700, 599, 650, 900, 820))"
            ],
            "metadata": {
                "id": "QTkUyHYJnc0I",
                "colab": {
                    "base_uri": "https://localhost:8080/"
                },
                "outputId": "407ac174-7ed6-4d34-d72e-f1d63fbb4f4f",
                "azdata_cell_guid": "427b4f89-e39a-43c9-b580-0a5e521a6985",
                "language": "python"
            },
            "outputs": [
                {
                    "output_type": "stream",
                    "name": "stdout",
                    "text": "Total order amount: 3669\n"
                }
            ],
            "execution_count": 74
        },
        {
            "cell_type": "markdown",
            "source": [
                "Now, let's compute the total amount for 10 phones."
            ],
            "metadata": {
                "id": "FWyaI_WqnriO",
                "azdata_cell_guid": "c80acecc-5d9b-44f6-8b81-4a490c828477"
            }
        },
        {
            "cell_type": "code",
            "source": [
                "print('Total order amount:', total_amount(700, 599, 650, 900, 820, 630, 520, 799, 999, 840))"
            ],
            "metadata": {
                "id": "2ZsZt-FLnxcp",
                "colab": {
                    "base_uri": "https://localhost:8080/"
                },
                "outputId": "0837e21a-84fd-47c8-c3a5-273e26f6a1c1",
                "azdata_cell_guid": "22f879fb-b54e-47e4-acb5-0cdeb52b79f0",
                "language": "python"
            },
            "outputs": [
                {
                    "output_type": "stream",
                    "name": "stdout",
                    "text": "Total order amount: 7457\n"
                }
            ],
            "execution_count": 75
        },
        {
            "cell_type": "markdown",
            "source": [
                "We can also use any other text in place of *args*."
            ],
            "metadata": {
                "id": "DMovmVM2nHVR",
                "azdata_cell_guid": "a05ea8a5-7bb4-4b5a-a8c9-22bd0ca72858"
            }
        },
        {
            "cell_type": "code",
            "source": [
                "def total_amount(*prices):\n",
                "    \"\"\"\n",
                "    This function takes the prices of phones ordered\n",
                "    and returns the total order amount.\n",
                "    \"\"\"\n",
                "    total = 0\n",
                "    # computing the total order amount\n",
                "    for price in prices:\n",
                "        total += price\n",
                "\n",
                "    # return the total amount\n",
                "    return total"
            ],
            "metadata": {
                "id": "ylVGHrXfnHKR",
                "azdata_cell_guid": "65c2eb1c-b698-41c4-b526-0306de85872d",
                "language": "python"
            },
            "outputs": [],
            "execution_count": 76
        },
        {
            "cell_type": "code",
            "source": [
                "print('Total order amount:', total_amount(700, 599, 650, 900, 820, 630, 520, 799, 999, 840))"
            ],
            "metadata": {
                "id": "RKzMj2jrnHIC",
                "colab": {
                    "base_uri": "https://localhost:8080/"
                },
                "outputId": "fd480e47-fafa-4451-af18-95548b2a8435",
                "azdata_cell_guid": "762980e8-279d-44cc-a60d-3bfe4c5f9971",
                "language": "python"
            },
            "outputs": [
                {
                    "output_type": "stream",
                    "name": "stdout",
                    "text": "Total order amount: 7457\n"
                }
            ],
            "execution_count": 77
        },
        {
            "cell_type": "markdown",
            "source": [
                "Till now, the arguments we have passed to our functions have been declared by names only, like brand, ram, price1. These types of arguments are called **positional arguments**.\n",
                "\n",
                "Another type of argument in Python is **called keyword argument**, which is declared using both a name and a default value."
            ],
            "metadata": {
                "id": "V3o5ByDooLFN",
                "azdata_cell_guid": "d00fe42c-dc7a-47d3-810a-f8e4f384a95b"
            }
        },
        {
            "cell_type": "markdown",
            "source": [
                "Let us consider the festive season sale, where the store is offering a discount of 5% on all its products. Outside the sale period, there will be no discount for the products.\n",
                "\n",
                "Let's create a new function to compute the total discounted price for an order of one or more phones placed by a customer."
            ],
            "metadata": {
                "id": "tIDDR7GqpRzj",
                "azdata_cell_guid": "604107e6-2ed1-454f-a82e-1fefa515e83f"
            }
        },
        {
            "cell_type": "code",
            "source": [
                "def total_discounted_amount(*prices, discount=0.0):\n",
                "    \"\"\"\n",
                "    This function takes the prices of phones ordered\n",
                "    and the discount percentage\n",
                "    and returns the total discounted order amount.\n",
                "    \"\"\"\n",
                "    total = 0\n",
                "    # computing the total order amount\n",
                "    for price in prices:\n",
                "        total += price\n",
                "\n",
                "    total_discounted_price = total - discount*total\n",
                "    \n",
                "    # return the total amount\n",
                "    return total_discounted_price"
            ],
            "metadata": {
                "id": "KwFVie38nHFl",
                "azdata_cell_guid": "457d68bc-a088-456e-bb99-9a22ae6c8c6f",
                "language": "python"
            },
            "outputs": [],
            "execution_count": 78
        },
        {
            "cell_type": "code",
            "source": [
                "print('Total discounted order amount:', total_discounted_amount(700, 599, 650, 900, 820, 630, 520, 799, 999, 840))"
            ],
            "metadata": {
                "id": "eAoxq0-arNT-",
                "colab": {
                    "base_uri": "https://localhost:8080/"
                },
                "outputId": "ac9cd419-6d38-41af-bb12-5c30d47da1ab",
                "azdata_cell_guid": "d2e444ff-f815-41fd-b9f1-a784723427ab",
                "language": "python"
            },
            "outputs": [
                {
                    "output_type": "stream",
                    "name": "stdout",
                    "text": "Total discounted order amount: 7457.0\n"
                }
            ],
            "execution_count": 79
        },
        {
            "cell_type": "markdown",
            "source": [
                "The discount percentage during the festive season sale will be 5%, which we can specify by setting the keyword argument *discount* to 0.05."
            ],
            "metadata": {
                "id": "e3fU3p0trmSz",
                "azdata_cell_guid": "24b39fbf-4ae4-4785-9b1e-b47cde95b9ee"
            }
        },
        {
            "cell_type": "code",
            "source": [
                "print('Total discounted order amount (during festive season):', total_discounted_amount(700, 599, 650, 900, 820, 630, 520, 799, 999, 840, discount=0.05))"
            ],
            "metadata": {
                "id": "NY1oWOAWrNR2",
                "colab": {
                    "base_uri": "https://localhost:8080/"
                },
                "outputId": "af230853-2e86-4bab-bbf0-7b97d80c7bf6",
                "azdata_cell_guid": "2fa3918e-8ee4-437d-9a9f-95032ad461c9",
                "language": "python"
            },
            "outputs": [
                {
                    "output_type": "stream",
                    "name": "stdout",
                    "text": "Total discounted order amount (during festive season): 7084.15\n"
                }
            ],
            "execution_count": 80
        },
        {
            "cell_type": "markdown",
            "source": [
                "**Note**: In Python, keyword arguments should be declared after the positional arguments."
            ],
            "metadata": {
                "id": "cMvR2qXc-3ZH",
                "azdata_cell_guid": "7c04bba8-90f4-4332-96ad-ccceeb8fc8aa"
            }
        },
        {
            "cell_type": "code",
            "source": [
                "def total_discounted_amount(discount=0.0, *prices):\n",
                "    \"\"\"\n",
                "    This function takes the prices of phones ordered\n",
                "    and the discount percentage\n",
                "    and returns the total discounted order amount.\n",
                "    \"\"\"\n",
                "    total = 0\n",
                "    # computing the total order amount\n",
                "    for price in prices:\n",
                "        total += price\n",
                "\n",
                "    total_discounted_price = total - discount*total\n",
                "    \n",
                "    # return the total amount\n",
                "    return total_discounted_price"
            ],
            "metadata": {
                "id": "P8jWyqxT-21L",
                "azdata_cell_guid": "057622aa-a2f4-4920-a424-ddb12316810b",
                "language": "python"
            },
            "outputs": [],
            "execution_count": 81
        },
        {
            "cell_type": "code",
            "source": [
                "print('Total discounted order amount (during festive season):', total_discounted_amount(discount=0.05, 700, 599, 650, 900, 820, 630, 520, 799, 999, 840))"
            ],
            "metadata": {
                "id": "cOGENuPH_Byi",
                "colab": {
                    "base_uri": "https://localhost:8080/",
                    "height": 149
                },
                "outputId": "1b14cf76-ea01-4d6c-e2cf-4e37d5043932",
                "azdata_cell_guid": "fb0c9678-359b-4896-a8d0-d9e184896d05",
                "language": "python"
            },
            "outputs": [
                {
                    "output_type": "error",
                    "ename": "SyntaxError",
                    "evalue": "ignored",
                    "traceback": [
                        "\u001b[0;36m  File \u001b[0;32m\"<ipython-input-82-b566d9ac1e5b>\"\u001b[0;36m, line \u001b[0;32m1\u001b[0m\n\u001b[0;31m    print('Total discounted order amount (during festive season):', total_discounted_amount(discount=0.05, 700, 599, 650, 900, 820, 630, 520, 799, 999, 840))\u001b[0m\n\u001b[0m                                                                                                          ^\u001b[0m\n\u001b[0;31mSyntaxError\u001b[0m\u001b[0;31m:\u001b[0m positional argument follows keyword argument\n"
                    ]
                }
            ],
            "execution_count": 82
        },
        {
            "cell_type": "markdown",
            "source": [
                "If we assign a value to a positional argument, it becomes a keyword argument. Since it is followed by positional arguments, we get a SyntaxError."
            ],
            "metadata": {
                "id": "9bfBORmP_B9Z",
                "azdata_cell_guid": "a40a7965-0a6b-43e8-8de8-ef1663378a73"
            }
        },
        {
            "cell_type": "markdown",
            "source": [
                "Just like \\*args helped us remove the constraint on the number of positional arguments, \\**kwargs helps us remove the constraint on the number of keyword arguments.\n",
                "\n",
                "The \\**kwargs argument passed while calling the function must be a mapping, such as a dictionary."
            ],
            "metadata": {
                "id": "zy1c9pLdsC4I",
                "azdata_cell_guid": "0f99f6f7-5332-44ae-9cba-a40e4c9cf075"
            }
        },
        {
            "cell_type": "markdown",
            "source": [
                "MobiWorld has decided to offer a \\$5 cashback on all the products on top of the 5% discount for the last day of the festive season sale. Let's create a function to compute the customer's net spend."
            ],
            "metadata": {
                "id": "V1GvvsqZszot",
                "azdata_cell_guid": "30faa0bd-1b71-461c-a18d-693dffb96088"
            }
        },
        {
            "cell_type": "code",
            "source": [
                "def customer_net_spend(*prices, discount=0.0, **kwargs):\n",
                "    \"\"\"\n",
                "    This function takes the prices of phones ordered,\n",
                "    the discount percentage, and any other cost additions/subtractions,\n",
                "    and returns the customer's net spend on the order.\n",
                "    \"\"\"\n",
                "    total = 0\n",
                "    # computing the total order amount\n",
                "    for price in prices:\n",
                "        total += price\n",
                "\n",
                "    total_discounted_price = total - discount*total\n",
                "\n",
                "    net_spend = total_discounted_price - kwargs['cashback']\n",
                "    \n",
                "    # return the total amount\n",
                "    return net_spend"
            ],
            "metadata": {
                "id": "FXpSsvqErNM-",
                "azdata_cell_guid": "25bbb8a7-f100-4a38-91bc-3905ef09fb66",
                "language": "python"
            },
            "outputs": [],
            "execution_count": 83
        },
        {
            "cell_type": "code",
            "source": [
                "additionals = {'cashback': 5}\n",
                "print('Customer net spend (during last day of festive season):', customer_net_spend(700, 599, 650, discount=0.05, **additionals))"
            ],
            "metadata": {
                "id": "EIsAtDpxvu6K",
                "colab": {
                    "base_uri": "https://localhost:8080/"
                },
                "outputId": "ab4b1c23-6ab5-45f7-e5fd-85cc0b445e6f",
                "azdata_cell_guid": "a1924666-996f-40f5-9d78-fd21b73d9f93",
                "language": "python"
            },
            "outputs": [
                {
                    "output_type": "stream",
                    "name": "stdout",
                    "text": "Customer net spend (during last day of festive season): 1846.55\n"
                }
            ],
            "execution_count": 84
        },
        {
            "cell_type": "markdown",
            "source": [
                "MobiWorld plans to introduce a reward-point system based on the total order amount. Reward points will be given as per the following scheme:\n",
                "\n",
                "* Total Amount >= 2000: 100 Reward Points\n",
                "* Total Amount >= 5000: 200 Reward Points\n",
                "* Total Amount >= 10000: 300 Reward Points\n",
                "\n",
                "Let's define a function that will return the total amount, net spend, and rewards points earned for the order."
            ],
            "metadata": {
                "id": "N1JbP5cP_jCR",
                "azdata_cell_guid": "4fd9e7ac-c11d-4cb0-a34b-9d5463dcc777"
            }
        },
        {
            "cell_type": "code",
            "source": [
                "def order_summary(*prices, **additionals):\n",
                "    \"\"\"\n",
                "    This function takes the prices of phones ordered\n",
                "    and any other cost additions/subtractions,\n",
                "    and returns the total amount, net spend,\n",
                "    and rewards points earned for the order.\n",
                "    \"\"\"\n",
                "    total = 0\n",
                "    # computing the total order amount\n",
                "    for price in prices:\n",
                "        total += price\n",
                "\n",
                "    net_spend = total - additionals['discount']*total - additionals['cashback']\n",
                "\n",
                "    if total >= 10000:\n",
                "        reward_points = 300\n",
                "    elif total >= 5000:\n",
                "        reward_points = 200\n",
                "    elif total >= 2000:\n",
                "        reward_points = 100\n",
                "    else:\n",
                "        reward_points = 0\n",
                "    \n",
                "    # return the total amount\n",
                "    return total, net_spend, reward_points"
            ],
            "metadata": {
                "id": "1ANWNzPLDMpW",
                "azdata_cell_guid": "6c27c120-e8d5-483f-814c-23bfe8a1cb30",
                "language": "python"
            },
            "outputs": [],
            "execution_count": 85
        },
        {
            "cell_type": "code",
            "source": [
                "additionals = {'discount':0.05, 'cashback': 5}\n",
                "ta, ns, rp = order_summary(700, 599, 750, **additionals)\n",
                "print('Customer Order Summary:\\n', '\\nTotal Amount:', ta, '\\nTotal Discounted Amount:', ns, '\\nReward Points Earned:', rp)"
            ],
            "metadata": {
                "id": "CttK_RKoDMlA",
                "colab": {
                    "base_uri": "https://localhost:8080/"
                },
                "outputId": "f65b27e5-e0b2-4ce6-ac4a-0e195399da5c",
                "azdata_cell_guid": "79296e48-ba43-454d-804b-ed00f57cfccf",
                "language": "python"
            },
            "outputs": [
                {
                    "output_type": "stream",
                    "name": "stdout",
                    "text": "Customer Order Summary:\n \nTotal Amount: 2049 \nTotal Discounted Amount: 1941.55 \nReward Points Earned: 100\n"
                }
            ],
            "execution_count": 86
        },
        {
            "cell_type": "markdown",
            "source": [
                "***"
            ],
            "metadata": {
                "id": "_NZ2bn_vy6vJ",
                "azdata_cell_guid": "0e27943b-985c-43c0-b6e8-ec1a5a5b38a6"
            }
        }
    ]
}