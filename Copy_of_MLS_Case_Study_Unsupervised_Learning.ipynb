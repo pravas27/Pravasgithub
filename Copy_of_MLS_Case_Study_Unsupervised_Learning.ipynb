{
  "cells": [
    {
      "cell_type": "markdown",
      "metadata": {
        "id": "view-in-github",
        "colab_type": "text"
      },
      "source": [
        "<a href=\"https://colab.research.google.com/github/pravas27/Pravasgithub/blob/main/Copy_of_MLS_Case_Study_Unsupervised_Learning.ipynb\" target=\"_parent\"><img src=\"https://colab.research.google.com/assets/colab-badge.svg\" alt=\"Open In Colab\"/></a>"
      ]
    },
    {
      "cell_type": "markdown",
      "metadata": {
        "id": "tIOusyeT4_RJ"
      },
      "source": [
        "## MLS Case study: Unsupervised Learning\n",
        "----------------------------------------\n",
        "\n",
        "Welcome to the case study on Unsupervised Learning. We will be using the Credit Card Customer Data for this case study.\n",
        "\n",
        "----------------------------\n",
        "## Problem Statement:\n",
        "-----------------------------\n",
        "AllLife Bank wants to focus on its credit card customer base in the next financial year. They have been advised by their marketing research team, that the penetration in the market can be improved. Based on this input, the Marketing team proposes to run personalized campaigns to target new customers as well as upsell to existing customers. Another insight from the market research was that the customers perceive the support services of the bank poorly. Based on this, the Operations team wants to upgrade the service delivery model, to ensure that customers queries are resolved faster. The Head of Marketing and Head of Delivery both decide to reach out to the Data Science team for help.\n",
        "\n",
        "\n",
        "----------------------------\n",
        "## Objective:\n",
        "-----------------------------\n",
        "\n",
        "Identify different segments in the existing customer based on their spending patterns as well as past interaction with the bank.\n",
        "\n",
        "--------------------------\n",
        "## About the data:\n",
        "--------------------------\n",
        "Data is of various customers of a bank with their credit limit, the total number of credit cards the customer has, and different channels through which customer has contacted the bank for any queries, different channels include visiting the bank, online and through a call centre.\n",
        "\n",
        "- Sl_no - Customer Serial Number\n",
        "- Customer Key - Customer identification\n",
        "- Avg_Credit_Limit\t- Average credit limit (currency is not specified, you can make an assumption around this)\n",
        "- Total_Credit_Cards\t- Total number of credit cards\n",
        "- Total_visits_bank\t- Total bank visits\n",
        "- Total_visits_online -\t Total online visits\n",
        "- Total_calls_made - Total calls made"
      ]
    },
    {
      "cell_type": "markdown",
      "metadata": {
        "id": "0ReVFSgtvvO6"
      },
      "source": [
        "## Importing libraries and overview of the dataset"
      ]
    },
    {
      "cell_type": "code",
      "execution_count": null,
      "metadata": {
        "colab": {
          "base_uri": "https://localhost:8080/"
        },
        "id": "KJKn2dkPKnkU",
        "outputId": "7b99ead8-cd40-46cf-e2a0-927a6a2e01d2"
      },
      "outputs": [
        {
          "output_type": "stream",
          "name": "stdout",
          "text": [
            "Looking in indexes: https://pypi.org/simple, https://us-python.pkg.dev/colab-wheels/public/simple/\n",
            "Collecting scikit-learn-extra\n",
            "  Downloading scikit_learn_extra-0.2.0-cp37-cp37m-manylinux2010_x86_64.whl (1.7 MB)\n",
            "\u001b[K     |████████████████████████████████| 1.7 MB 6.5 MB/s \n",
            "\u001b[?25hRequirement already satisfied: scipy>=0.19.1 in /usr/local/lib/python3.7/dist-packages (from scikit-learn-extra) (1.7.3)\n",
            "Requirement already satisfied: scikit-learn>=0.23.0 in /usr/local/lib/python3.7/dist-packages (from scikit-learn-extra) (1.0.2)\n",
            "Requirement already satisfied: numpy>=1.13.3 in /usr/local/lib/python3.7/dist-packages (from scikit-learn-extra) (1.21.6)\n",
            "Requirement already satisfied: joblib>=0.11 in /usr/local/lib/python3.7/dist-packages (from scikit-learn>=0.23.0->scikit-learn-extra) (1.2.0)\n",
            "Requirement already satisfied: threadpoolctl>=2.0.0 in /usr/local/lib/python3.7/dist-packages (from scikit-learn>=0.23.0->scikit-learn-extra) (3.1.0)\n",
            "Installing collected packages: scikit-learn-extra\n",
            "Successfully installed scikit-learn-extra-0.2.0\n"
          ]
        }
      ],
      "source": [
        "#Import all the necessary packages\n",
        "\n",
        "import pandas as pd\n",
        "import numpy as np\n",
        "\n",
        "import matplotlib.pylab as plt\n",
        "import seaborn as sns\n",
        "\n",
        "#to scale the data using z-score\n",
        "from sklearn.preprocessing import StandardScaler\n",
        "\n",
        "#importing clustering algorithms\n",
        "from sklearn.cluster import KMeans\n",
        "from sklearn.mixture import GaussianMixture\n",
        "!pip install scikit-learn-extra\n",
        "from sklearn_extra.cluster import KMedoids\n",
        "\n",
        "from sklearn.metrics import silhouette_score\n",
        "\n",
        "import warnings\n",
        "warnings.filterwarnings(\"ignore\")"
      ]
    },
    {
      "cell_type": "markdown",
      "metadata": {
        "id": "9qEgcn2XvvO8"
      },
      "source": [
        "#### Loading data"
      ]
    },
    {
      "cell_type": "code",
      "execution_count": null,
      "metadata": {
        "colab": {
          "base_uri": "https://localhost:8080/",
          "height": 206
        },
        "id": "p4QVUUO3VHHH",
        "outputId": "0b113dcb-2a82-4d65-a7d9-892c66a75df1"
      },
      "outputs": [
        {
          "output_type": "execute_result",
          "data": {
            "text/plain": [
              "   Sl_No  Customer Key  Avg_Credit_Limit  Total_Credit_Cards  \\\n",
              "0      1         87073            100000                   2   \n",
              "1      2         38414             50000                   3   \n",
              "2      3         17341             50000                   7   \n",
              "3      4         40496             30000                   5   \n",
              "4      5         47437            100000                   6   \n",
              "\n",
              "   Total_visits_bank  Total_visits_online  Total_calls_made  \n",
              "0                  1                    1                 0  \n",
              "1                  0                   10                 9  \n",
              "2                  1                    3                 4  \n",
              "3                  1                    1                 4  \n",
              "4                  0                   12                 3  "
            ],
            "text/html": [
              "\n",
              "  <div id=\"df-a6b48f6a-adca-470d-9c89-a6d663e8a414\">\n",
              "    <div class=\"colab-df-container\">\n",
              "      <div>\n",
              "<style scoped>\n",
              "    .dataframe tbody tr th:only-of-type {\n",
              "        vertical-align: middle;\n",
              "    }\n",
              "\n",
              "    .dataframe tbody tr th {\n",
              "        vertical-align: top;\n",
              "    }\n",
              "\n",
              "    .dataframe thead th {\n",
              "        text-align: right;\n",
              "    }\n",
              "</style>\n",
              "<table border=\"1\" class=\"dataframe\">\n",
              "  <thead>\n",
              "    <tr style=\"text-align: right;\">\n",
              "      <th></th>\n",
              "      <th>Sl_No</th>\n",
              "      <th>Customer Key</th>\n",
              "      <th>Avg_Credit_Limit</th>\n",
              "      <th>Total_Credit_Cards</th>\n",
              "      <th>Total_visits_bank</th>\n",
              "      <th>Total_visits_online</th>\n",
              "      <th>Total_calls_made</th>\n",
              "    </tr>\n",
              "  </thead>\n",
              "  <tbody>\n",
              "    <tr>\n",
              "      <th>0</th>\n",
              "      <td>1</td>\n",
              "      <td>87073</td>\n",
              "      <td>100000</td>\n",
              "      <td>2</td>\n",
              "      <td>1</td>\n",
              "      <td>1</td>\n",
              "      <td>0</td>\n",
              "    </tr>\n",
              "    <tr>\n",
              "      <th>1</th>\n",
              "      <td>2</td>\n",
              "      <td>38414</td>\n",
              "      <td>50000</td>\n",
              "      <td>3</td>\n",
              "      <td>0</td>\n",
              "      <td>10</td>\n",
              "      <td>9</td>\n",
              "    </tr>\n",
              "    <tr>\n",
              "      <th>2</th>\n",
              "      <td>3</td>\n",
              "      <td>17341</td>\n",
              "      <td>50000</td>\n",
              "      <td>7</td>\n",
              "      <td>1</td>\n",
              "      <td>3</td>\n",
              "      <td>4</td>\n",
              "    </tr>\n",
              "    <tr>\n",
              "      <th>3</th>\n",
              "      <td>4</td>\n",
              "      <td>40496</td>\n",
              "      <td>30000</td>\n",
              "      <td>5</td>\n",
              "      <td>1</td>\n",
              "      <td>1</td>\n",
              "      <td>4</td>\n",
              "    </tr>\n",
              "    <tr>\n",
              "      <th>4</th>\n",
              "      <td>5</td>\n",
              "      <td>47437</td>\n",
              "      <td>100000</td>\n",
              "      <td>6</td>\n",
              "      <td>0</td>\n",
              "      <td>12</td>\n",
              "      <td>3</td>\n",
              "    </tr>\n",
              "  </tbody>\n",
              "</table>\n",
              "</div>\n",
              "      <button class=\"colab-df-convert\" onclick=\"convertToInteractive('df-a6b48f6a-adca-470d-9c89-a6d663e8a414')\"\n",
              "              title=\"Convert this dataframe to an interactive table.\"\n",
              "              style=\"display:none;\">\n",
              "        \n",
              "  <svg xmlns=\"http://www.w3.org/2000/svg\" height=\"24px\"viewBox=\"0 0 24 24\"\n",
              "       width=\"24px\">\n",
              "    <path d=\"M0 0h24v24H0V0z\" fill=\"none\"/>\n",
              "    <path d=\"M18.56 5.44l.94 2.06.94-2.06 2.06-.94-2.06-.94-.94-2.06-.94 2.06-2.06.94zm-11 1L8.5 8.5l.94-2.06 2.06-.94-2.06-.94L8.5 2.5l-.94 2.06-2.06.94zm10 10l.94 2.06.94-2.06 2.06-.94-2.06-.94-.94-2.06-.94 2.06-2.06.94z\"/><path d=\"M17.41 7.96l-1.37-1.37c-.4-.4-.92-.59-1.43-.59-.52 0-1.04.2-1.43.59L10.3 9.45l-7.72 7.72c-.78.78-.78 2.05 0 2.83L4 21.41c.39.39.9.59 1.41.59.51 0 1.02-.2 1.41-.59l7.78-7.78 2.81-2.81c.8-.78.8-2.07 0-2.86zM5.41 20L4 18.59l7.72-7.72 1.47 1.35L5.41 20z\"/>\n",
              "  </svg>\n",
              "      </button>\n",
              "      \n",
              "  <style>\n",
              "    .colab-df-container {\n",
              "      display:flex;\n",
              "      flex-wrap:wrap;\n",
              "      gap: 12px;\n",
              "    }\n",
              "\n",
              "    .colab-df-convert {\n",
              "      background-color: #E8F0FE;\n",
              "      border: none;\n",
              "      border-radius: 50%;\n",
              "      cursor: pointer;\n",
              "      display: none;\n",
              "      fill: #1967D2;\n",
              "      height: 32px;\n",
              "      padding: 0 0 0 0;\n",
              "      width: 32px;\n",
              "    }\n",
              "\n",
              "    .colab-df-convert:hover {\n",
              "      background-color: #E2EBFA;\n",
              "      box-shadow: 0px 1px 2px rgba(60, 64, 67, 0.3), 0px 1px 3px 1px rgba(60, 64, 67, 0.15);\n",
              "      fill: #174EA6;\n",
              "    }\n",
              "\n",
              "    [theme=dark] .colab-df-convert {\n",
              "      background-color: #3B4455;\n",
              "      fill: #D2E3FC;\n",
              "    }\n",
              "\n",
              "    [theme=dark] .colab-df-convert:hover {\n",
              "      background-color: #434B5C;\n",
              "      box-shadow: 0px 1px 3px 1px rgba(0, 0, 0, 0.15);\n",
              "      filter: drop-shadow(0px 1px 2px rgba(0, 0, 0, 0.3));\n",
              "      fill: #FFFFFF;\n",
              "    }\n",
              "  </style>\n",
              "\n",
              "      <script>\n",
              "        const buttonEl =\n",
              "          document.querySelector('#df-a6b48f6a-adca-470d-9c89-a6d663e8a414 button.colab-df-convert');\n",
              "        buttonEl.style.display =\n",
              "          google.colab.kernel.accessAllowed ? 'block' : 'none';\n",
              "\n",
              "        async function convertToInteractive(key) {\n",
              "          const element = document.querySelector('#df-a6b48f6a-adca-470d-9c89-a6d663e8a414');\n",
              "          const dataTable =\n",
              "            await google.colab.kernel.invokeFunction('convertToInteractive',\n",
              "                                                     [key], {});\n",
              "          if (!dataTable) return;\n",
              "\n",
              "          const docLinkHtml = 'Like what you see? Visit the ' +\n",
              "            '<a target=\"_blank\" href=https://colab.research.google.com/notebooks/data_table.ipynb>data table notebook</a>'\n",
              "            + ' to learn more about interactive tables.';\n",
              "          element.innerHTML = '';\n",
              "          dataTable['output_type'] = 'display_data';\n",
              "          await google.colab.output.renderOutput(dataTable, element);\n",
              "          const docLink = document.createElement('div');\n",
              "          docLink.innerHTML = docLinkHtml;\n",
              "          element.appendChild(docLink);\n",
              "        }\n",
              "      </script>\n",
              "    </div>\n",
              "  </div>\n",
              "  "
            ]
          },
          "metadata": {},
          "execution_count": 2
        }
      ],
      "source": [
        "data = pd.read_excel('Credit Card Customer Data.xlsx')\n",
        "data.head()"
      ]
    },
    {
      "cell_type": "markdown",
      "metadata": {
        "id": "ZmxlhPKovvO-"
      },
      "source": [
        "#### Check the info of the data"
      ]
    },
    {
      "cell_type": "code",
      "execution_count": null,
      "metadata": {
        "colab": {
          "base_uri": "https://localhost:8080/"
        },
        "id": "dtroAFl9vvO-",
        "outputId": "eda46513-1fc4-4483-8020-bd962f0fd498"
      },
      "outputs": [
        {
          "output_type": "stream",
          "name": "stdout",
          "text": [
            "<class 'pandas.core.frame.DataFrame'>\n",
            "RangeIndex: 655 entries, 0 to 654\n",
            "Data columns (total 7 columns):\n",
            " #   Column               Non-Null Count  Dtype\n",
            "---  ------               --------------  -----\n",
            " 0   Sl_No                655 non-null    int64\n",
            " 1   Customer Key         655 non-null    int64\n",
            " 2   Avg_Credit_Limit     655 non-null    int64\n",
            " 3   Total_Credit_Cards   655 non-null    int64\n",
            " 4   Total_visits_bank    655 non-null    int64\n",
            " 5   Total_visits_online  655 non-null    int64\n",
            " 6   Total_calls_made     655 non-null    int64\n",
            "dtypes: int64(7)\n",
            "memory usage: 35.9 KB\n"
          ]
        }
      ],
      "source": [
        "data.info()"
      ]
    },
    {
      "cell_type": "markdown",
      "metadata": {
        "id": "EPP73jY5vvPA"
      },
      "source": [
        "**Observations:**\n",
        "\n",
        "- There are 655 observations and 7 columns in the dataset.\n",
        "- All columns have 655 non-null values i.e. there are no missing values.\n",
        "- All columns are of int64 data type."
      ]
    },
    {
      "cell_type": "markdown",
      "metadata": {
        "id": "DOP-MnWovvPA"
      },
      "source": [
        "**There are no missing values. Let us now figure out the uniques in each column.**"
      ]
    },
    {
      "cell_type": "code",
      "execution_count": null,
      "metadata": {
        "colab": {
          "base_uri": "https://localhost:8080/"
        },
        "id": "OCRC8zfDvvPB",
        "outputId": "a6eb30d6-37b4-400e-c6d4-deca54af697c"
      },
      "outputs": [
        {
          "data": {
            "text/plain": [
              "Sl_No                  655\n",
              "Customer Key           655\n",
              "Avg_Credit_Limit       109\n",
              "Total_Credit_Cards      10\n",
              "Total_visits_bank        6\n",
              "Total_visits_online     16\n",
              "Total_calls_made        11\n",
              "dtype: int64"
            ]
          },
          "execution_count": 4,
          "metadata": {},
          "output_type": "execute_result"
        }
      ],
      "source": [
        "data.nunique()"
      ]
    },
    {
      "cell_type": "markdown",
      "metadata": {
        "id": "JjjUYpvovvPC"
      },
      "source": [
        "- Customer key, which is an identifier, has no repeated values. We should treat the same accordingly before applying any algorithm."
      ]
    },
    {
      "cell_type": "markdown",
      "metadata": {
        "id": "fpZolGOdvvPC"
      },
      "source": [
        "## Data Preprocessing and Exploratory Data Analysis"
      ]
    },
    {
      "cell_type": "markdown",
      "metadata": {
        "id": "IDaRoTAQvvPF"
      },
      "source": [
        "First we need to drop the variables that are not required for our analysis."
      ]
    },
    {
      "cell_type": "code",
      "execution_count": null,
      "metadata": {
        "id": "albq4GJ2vvPF"
      },
      "outputs": [],
      "source": [
        "data.drop(columns = ['Sl_No', 'Customer Key'], inplace = True)"
      ]
    },
    {
      "cell_type": "markdown",
      "metadata": {
        "id": "fRqvXDr4vvPG"
      },
      "source": [
        "Now that we have dropped unnecessary column. We can again check for duplicates. Duplicates would mean customers with identical features."
      ]
    },
    {
      "cell_type": "code",
      "execution_count": null,
      "metadata": {
        "colab": {
          "base_uri": "https://localhost:8080/",
          "height": 394
        },
        "id": "J2EV_kXUvvPG",
        "outputId": "0798c1be-b2ed-4d34-f53a-e303b9e728ae"
      },
      "outputs": [
        {
          "output_type": "execute_result",
          "data": {
            "text/plain": [
              "     Avg_Credit_Limit  Total_Credit_Cards  Total_visits_bank  \\\n",
              "162              8000                   2                  0   \n",
              "175              6000                   1                  0   \n",
              "215              8000                   4                  0   \n",
              "295             10000                   6                  4   \n",
              "324              9000                   4                  5   \n",
              "360             18000                   6                  3   \n",
              "377             12000                   6                  5   \n",
              "384              8000                   7                  4   \n",
              "394              5000                   4                  5   \n",
              "452             47000                   6                  2   \n",
              "494             52000                   4                  2   \n",
              "\n",
              "     Total_visits_online  Total_calls_made  \n",
              "162                    3                 4  \n",
              "175                    2                 5  \n",
              "215                    4                 7  \n",
              "295                    2                 3  \n",
              "324                    0                 4  \n",
              "360                    1                 4  \n",
              "377                    2                 1  \n",
              "384                    2                 0  \n",
              "394                    0                 1  \n",
              "452                    0                 4  \n",
              "494                    1                 2  "
            ],
            "text/html": [
              "\n",
              "  <div id=\"df-6de2f99e-2121-4f11-9579-dcdbff215ea1\">\n",
              "    <div class=\"colab-df-container\">\n",
              "      <div>\n",
              "<style scoped>\n",
              "    .dataframe tbody tr th:only-of-type {\n",
              "        vertical-align: middle;\n",
              "    }\n",
              "\n",
              "    .dataframe tbody tr th {\n",
              "        vertical-align: top;\n",
              "    }\n",
              "\n",
              "    .dataframe thead th {\n",
              "        text-align: right;\n",
              "    }\n",
              "</style>\n",
              "<table border=\"1\" class=\"dataframe\">\n",
              "  <thead>\n",
              "    <tr style=\"text-align: right;\">\n",
              "      <th></th>\n",
              "      <th>Avg_Credit_Limit</th>\n",
              "      <th>Total_Credit_Cards</th>\n",
              "      <th>Total_visits_bank</th>\n",
              "      <th>Total_visits_online</th>\n",
              "      <th>Total_calls_made</th>\n",
              "    </tr>\n",
              "  </thead>\n",
              "  <tbody>\n",
              "    <tr>\n",
              "      <th>162</th>\n",
              "      <td>8000</td>\n",
              "      <td>2</td>\n",
              "      <td>0</td>\n",
              "      <td>3</td>\n",
              "      <td>4</td>\n",
              "    </tr>\n",
              "    <tr>\n",
              "      <th>175</th>\n",
              "      <td>6000</td>\n",
              "      <td>1</td>\n",
              "      <td>0</td>\n",
              "      <td>2</td>\n",
              "      <td>5</td>\n",
              "    </tr>\n",
              "    <tr>\n",
              "      <th>215</th>\n",
              "      <td>8000</td>\n",
              "      <td>4</td>\n",
              "      <td>0</td>\n",
              "      <td>4</td>\n",
              "      <td>7</td>\n",
              "    </tr>\n",
              "    <tr>\n",
              "      <th>295</th>\n",
              "      <td>10000</td>\n",
              "      <td>6</td>\n",
              "      <td>4</td>\n",
              "      <td>2</td>\n",
              "      <td>3</td>\n",
              "    </tr>\n",
              "    <tr>\n",
              "      <th>324</th>\n",
              "      <td>9000</td>\n",
              "      <td>4</td>\n",
              "      <td>5</td>\n",
              "      <td>0</td>\n",
              "      <td>4</td>\n",
              "    </tr>\n",
              "    <tr>\n",
              "      <th>360</th>\n",
              "      <td>18000</td>\n",
              "      <td>6</td>\n",
              "      <td>3</td>\n",
              "      <td>1</td>\n",
              "      <td>4</td>\n",
              "    </tr>\n",
              "    <tr>\n",
              "      <th>377</th>\n",
              "      <td>12000</td>\n",
              "      <td>6</td>\n",
              "      <td>5</td>\n",
              "      <td>2</td>\n",
              "      <td>1</td>\n",
              "    </tr>\n",
              "    <tr>\n",
              "      <th>384</th>\n",
              "      <td>8000</td>\n",
              "      <td>7</td>\n",
              "      <td>4</td>\n",
              "      <td>2</td>\n",
              "      <td>0</td>\n",
              "    </tr>\n",
              "    <tr>\n",
              "      <th>394</th>\n",
              "      <td>5000</td>\n",
              "      <td>4</td>\n",
              "      <td>5</td>\n",
              "      <td>0</td>\n",
              "      <td>1</td>\n",
              "    </tr>\n",
              "    <tr>\n",
              "      <th>452</th>\n",
              "      <td>47000</td>\n",
              "      <td>6</td>\n",
              "      <td>2</td>\n",
              "      <td>0</td>\n",
              "      <td>4</td>\n",
              "    </tr>\n",
              "    <tr>\n",
              "      <th>494</th>\n",
              "      <td>52000</td>\n",
              "      <td>4</td>\n",
              "      <td>2</td>\n",
              "      <td>1</td>\n",
              "      <td>2</td>\n",
              "    </tr>\n",
              "  </tbody>\n",
              "</table>\n",
              "</div>\n",
              "      <button class=\"colab-df-convert\" onclick=\"convertToInteractive('df-6de2f99e-2121-4f11-9579-dcdbff215ea1')\"\n",
              "              title=\"Convert this dataframe to an interactive table.\"\n",
              "              style=\"display:none;\">\n",
              "        \n",
              "  <svg xmlns=\"http://www.w3.org/2000/svg\" height=\"24px\"viewBox=\"0 0 24 24\"\n",
              "       width=\"24px\">\n",
              "    <path d=\"M0 0h24v24H0V0z\" fill=\"none\"/>\n",
              "    <path d=\"M18.56 5.44l.94 2.06.94-2.06 2.06-.94-2.06-.94-.94-2.06-.94 2.06-2.06.94zm-11 1L8.5 8.5l.94-2.06 2.06-.94-2.06-.94L8.5 2.5l-.94 2.06-2.06.94zm10 10l.94 2.06.94-2.06 2.06-.94-2.06-.94-.94-2.06-.94 2.06-2.06.94z\"/><path d=\"M17.41 7.96l-1.37-1.37c-.4-.4-.92-.59-1.43-.59-.52 0-1.04.2-1.43.59L10.3 9.45l-7.72 7.72c-.78.78-.78 2.05 0 2.83L4 21.41c.39.39.9.59 1.41.59.51 0 1.02-.2 1.41-.59l7.78-7.78 2.81-2.81c.8-.78.8-2.07 0-2.86zM5.41 20L4 18.59l7.72-7.72 1.47 1.35L5.41 20z\"/>\n",
              "  </svg>\n",
              "      </button>\n",
              "      \n",
              "  <style>\n",
              "    .colab-df-container {\n",
              "      display:flex;\n",
              "      flex-wrap:wrap;\n",
              "      gap: 12px;\n",
              "    }\n",
              "\n",
              "    .colab-df-convert {\n",
              "      background-color: #E8F0FE;\n",
              "      border: none;\n",
              "      border-radius: 50%;\n",
              "      cursor: pointer;\n",
              "      display: none;\n",
              "      fill: #1967D2;\n",
              "      height: 32px;\n",
              "      padding: 0 0 0 0;\n",
              "      width: 32px;\n",
              "    }\n",
              "\n",
              "    .colab-df-convert:hover {\n",
              "      background-color: #E2EBFA;\n",
              "      box-shadow: 0px 1px 2px rgba(60, 64, 67, 0.3), 0px 1px 3px 1px rgba(60, 64, 67, 0.15);\n",
              "      fill: #174EA6;\n",
              "    }\n",
              "\n",
              "    [theme=dark] .colab-df-convert {\n",
              "      background-color: #3B4455;\n",
              "      fill: #D2E3FC;\n",
              "    }\n",
              "\n",
              "    [theme=dark] .colab-df-convert:hover {\n",
              "      background-color: #434B5C;\n",
              "      box-shadow: 0px 1px 3px 1px rgba(0, 0, 0, 0.15);\n",
              "      filter: drop-shadow(0px 1px 2px rgba(0, 0, 0, 0.3));\n",
              "      fill: #FFFFFF;\n",
              "    }\n",
              "  </style>\n",
              "\n",
              "      <script>\n",
              "        const buttonEl =\n",
              "          document.querySelector('#df-6de2f99e-2121-4f11-9579-dcdbff215ea1 button.colab-df-convert');\n",
              "        buttonEl.style.display =\n",
              "          google.colab.kernel.accessAllowed ? 'block' : 'none';\n",
              "\n",
              "        async function convertToInteractive(key) {\n",
              "          const element = document.querySelector('#df-6de2f99e-2121-4f11-9579-dcdbff215ea1');\n",
              "          const dataTable =\n",
              "            await google.colab.kernel.invokeFunction('convertToInteractive',\n",
              "                                                     [key], {});\n",
              "          if (!dataTable) return;\n",
              "\n",
              "          const docLinkHtml = 'Like what you see? Visit the ' +\n",
              "            '<a target=\"_blank\" href=https://colab.research.google.com/notebooks/data_table.ipynb>data table notebook</a>'\n",
              "            + ' to learn more about interactive tables.';\n",
              "          element.innerHTML = '';\n",
              "          dataTable['output_type'] = 'display_data';\n",
              "          await google.colab.output.renderOutput(dataTable, element);\n",
              "          const docLink = document.createElement('div');\n",
              "          docLink.innerHTML = docLinkHtml;\n",
              "          element.appendChild(docLink);\n",
              "        }\n",
              "      </script>\n",
              "    </div>\n",
              "  </div>\n",
              "  "
            ]
          },
          "metadata": {},
          "execution_count": 6
        }
      ],
      "source": [
        "data[data.duplicated()]"
      ]
    },
    {
      "cell_type": "markdown",
      "metadata": {
        "id": "V7Xt_Ss3vvPG"
      },
      "source": [
        "We can drop these duplicated rows from the data"
      ]
    },
    {
      "cell_type": "code",
      "execution_count": null,
      "metadata": {
        "id": "aBnoG0IivvPH"
      },
      "outputs": [],
      "source": [
        "data=data[~data.duplicated()]"
      ]
    },
    {
      "cell_type": "code",
      "execution_count": null,
      "metadata": {
        "colab": {
          "base_uri": "https://localhost:8080/"
        },
        "id": "Bgj7fBervvPH",
        "outputId": "6961a147-49ba-4841-8b19-3678b95fda93"
      },
      "outputs": [
        {
          "output_type": "execute_result",
          "data": {
            "text/plain": [
              "(644, 5)"
            ]
          },
          "metadata": {},
          "execution_count": 8
        }
      ],
      "source": [
        "data.shape"
      ]
    },
    {
      "cell_type": "markdown",
      "metadata": {
        "id": "JtAIAYr9vvPH"
      },
      "source": [
        "- After removing duplicated keys and rows and unnecessary columns, there are 644 unique observations and 5 columns in our data."
      ]
    },
    {
      "cell_type": "markdown",
      "metadata": {
        "id": "LmykagZ0vvPI"
      },
      "source": [
        "#### Summary Statistics"
      ]
    },
    {
      "cell_type": "code",
      "execution_count": null,
      "metadata": {
        "colab": {
          "base_uri": "https://localhost:8080/",
          "height": 206
        },
        "id": "yg-YXbPNvvPI",
        "outputId": "d4a54fbf-d278-4ba4-f34e-85b1a2c41933"
      },
      "outputs": [
        {
          "data": {
            "text/html": [
              "\n",
              "  <div id=\"df-a89e5e7b-14bc-48c8-ada1-5b02562542cf\">\n",
              "    <div class=\"colab-df-container\">\n",
              "      <div>\n",
              "<style scoped>\n",
              "    .dataframe tbody tr th:only-of-type {\n",
              "        vertical-align: middle;\n",
              "    }\n",
              "\n",
              "    .dataframe tbody tr th {\n",
              "        vertical-align: top;\n",
              "    }\n",
              "\n",
              "    .dataframe thead th {\n",
              "        text-align: right;\n",
              "    }\n",
              "</style>\n",
              "<table border=\"1\" class=\"dataframe\">\n",
              "  <thead>\n",
              "    <tr style=\"text-align: right;\">\n",
              "      <th></th>\n",
              "      <th>count</th>\n",
              "      <th>mean</th>\n",
              "      <th>std</th>\n",
              "      <th>min</th>\n",
              "      <th>25%</th>\n",
              "      <th>50%</th>\n",
              "      <th>75%</th>\n",
              "      <th>max</th>\n",
              "    </tr>\n",
              "  </thead>\n",
              "  <tbody>\n",
              "    <tr>\n",
              "      <th>Avg_Credit_Limit</th>\n",
              "      <td>644.0</td>\n",
              "      <td>34543.478261</td>\n",
              "      <td>37428.704286</td>\n",
              "      <td>3000.0</td>\n",
              "      <td>11000.0</td>\n",
              "      <td>18000.0</td>\n",
              "      <td>48000.00</td>\n",
              "      <td>200000.0</td>\n",
              "    </tr>\n",
              "    <tr>\n",
              "      <th>Total_Credit_Cards</th>\n",
              "      <td>644.0</td>\n",
              "      <td>4.694099</td>\n",
              "      <td>2.175338</td>\n",
              "      <td>1.0</td>\n",
              "      <td>3.0</td>\n",
              "      <td>5.0</td>\n",
              "      <td>6.00</td>\n",
              "      <td>10.0</td>\n",
              "    </tr>\n",
              "    <tr>\n",
              "      <th>Total_visits_bank</th>\n",
              "      <td>644.0</td>\n",
              "      <td>2.395963</td>\n",
              "      <td>1.626964</td>\n",
              "      <td>0.0</td>\n",
              "      <td>1.0</td>\n",
              "      <td>2.0</td>\n",
              "      <td>4.00</td>\n",
              "      <td>5.0</td>\n",
              "    </tr>\n",
              "    <tr>\n",
              "      <th>Total_visits_online</th>\n",
              "      <td>644.0</td>\n",
              "      <td>2.624224</td>\n",
              "      <td>2.957728</td>\n",
              "      <td>0.0</td>\n",
              "      <td>1.0</td>\n",
              "      <td>2.0</td>\n",
              "      <td>4.00</td>\n",
              "      <td>15.0</td>\n",
              "    </tr>\n",
              "    <tr>\n",
              "      <th>Total_calls_made</th>\n",
              "      <td>644.0</td>\n",
              "      <td>3.608696</td>\n",
              "      <td>2.880025</td>\n",
              "      <td>0.0</td>\n",
              "      <td>1.0</td>\n",
              "      <td>3.0</td>\n",
              "      <td>5.25</td>\n",
              "      <td>10.0</td>\n",
              "    </tr>\n",
              "  </tbody>\n",
              "</table>\n",
              "</div>\n",
              "      <button class=\"colab-df-convert\" onclick=\"convertToInteractive('df-a89e5e7b-14bc-48c8-ada1-5b02562542cf')\"\n",
              "              title=\"Convert this dataframe to an interactive table.\"\n",
              "              style=\"display:none;\">\n",
              "        \n",
              "  <svg xmlns=\"http://www.w3.org/2000/svg\" height=\"24px\"viewBox=\"0 0 24 24\"\n",
              "       width=\"24px\">\n",
              "    <path d=\"M0 0h24v24H0V0z\" fill=\"none\"/>\n",
              "    <path d=\"M18.56 5.44l.94 2.06.94-2.06 2.06-.94-2.06-.94-.94-2.06-.94 2.06-2.06.94zm-11 1L8.5 8.5l.94-2.06 2.06-.94-2.06-.94L8.5 2.5l-.94 2.06-2.06.94zm10 10l.94 2.06.94-2.06 2.06-.94-2.06-.94-.94-2.06-.94 2.06-2.06.94z\"/><path d=\"M17.41 7.96l-1.37-1.37c-.4-.4-.92-.59-1.43-.59-.52 0-1.04.2-1.43.59L10.3 9.45l-7.72 7.72c-.78.78-.78 2.05 0 2.83L4 21.41c.39.39.9.59 1.41.59.51 0 1.02-.2 1.41-.59l7.78-7.78 2.81-2.81c.8-.78.8-2.07 0-2.86zM5.41 20L4 18.59l7.72-7.72 1.47 1.35L5.41 20z\"/>\n",
              "  </svg>\n",
              "      </button>\n",
              "      \n",
              "  <style>\n",
              "    .colab-df-container {\n",
              "      display:flex;\n",
              "      flex-wrap:wrap;\n",
              "      gap: 12px;\n",
              "    }\n",
              "\n",
              "    .colab-df-convert {\n",
              "      background-color: #E8F0FE;\n",
              "      border: none;\n",
              "      border-radius: 50%;\n",
              "      cursor: pointer;\n",
              "      display: none;\n",
              "      fill: #1967D2;\n",
              "      height: 32px;\n",
              "      padding: 0 0 0 0;\n",
              "      width: 32px;\n",
              "    }\n",
              "\n",
              "    .colab-df-convert:hover {\n",
              "      background-color: #E2EBFA;\n",
              "      box-shadow: 0px 1px 2px rgba(60, 64, 67, 0.3), 0px 1px 3px 1px rgba(60, 64, 67, 0.15);\n",
              "      fill: #174EA6;\n",
              "    }\n",
              "\n",
              "    [theme=dark] .colab-df-convert {\n",
              "      background-color: #3B4455;\n",
              "      fill: #D2E3FC;\n",
              "    }\n",
              "\n",
              "    [theme=dark] .colab-df-convert:hover {\n",
              "      background-color: #434B5C;\n",
              "      box-shadow: 0px 1px 3px 1px rgba(0, 0, 0, 0.15);\n",
              "      filter: drop-shadow(0px 1px 2px rgba(0, 0, 0, 0.3));\n",
              "      fill: #FFFFFF;\n",
              "    }\n",
              "  </style>\n",
              "\n",
              "      <script>\n",
              "        const buttonEl =\n",
              "          document.querySelector('#df-a89e5e7b-14bc-48c8-ada1-5b02562542cf button.colab-df-convert');\n",
              "        buttonEl.style.display =\n",
              "          google.colab.kernel.accessAllowed ? 'block' : 'none';\n",
              "\n",
              "        async function convertToInteractive(key) {\n",
              "          const element = document.querySelector('#df-a89e5e7b-14bc-48c8-ada1-5b02562542cf');\n",
              "          const dataTable =\n",
              "            await google.colab.kernel.invokeFunction('convertToInteractive',\n",
              "                                                     [key], {});\n",
              "          if (!dataTable) return;\n",
              "\n",
              "          const docLinkHtml = 'Like what you see? Visit the ' +\n",
              "            '<a target=\"_blank\" href=https://colab.research.google.com/notebooks/data_table.ipynb>data table notebook</a>'\n",
              "            + ' to learn more about interactive tables.';\n",
              "          element.innerHTML = '';\n",
              "          dataTable['output_type'] = 'display_data';\n",
              "          await google.colab.output.renderOutput(dataTable, element);\n",
              "          const docLink = document.createElement('div');\n",
              "          docLink.innerHTML = docLinkHtml;\n",
              "          element.appendChild(docLink);\n",
              "        }\n",
              "      </script>\n",
              "    </div>\n",
              "  </div>\n",
              "  "
            ],
            "text/plain": [
              "                     count          mean           std     min      25%  \\\n",
              "Avg_Credit_Limit     644.0  34543.478261  37428.704286  3000.0  11000.0   \n",
              "Total_Credit_Cards   644.0      4.694099      2.175338     1.0      3.0   \n",
              "Total_visits_bank    644.0      2.395963      1.626964     0.0      1.0   \n",
              "Total_visits_online  644.0      2.624224      2.957728     0.0      1.0   \n",
              "Total_calls_made     644.0      3.608696      2.880025     0.0      1.0   \n",
              "\n",
              "                         50%       75%       max  \n",
              "Avg_Credit_Limit     18000.0  48000.00  200000.0  \n",
              "Total_Credit_Cards       5.0      6.00      10.0  \n",
              "Total_visits_bank        2.0      4.00       5.0  \n",
              "Total_visits_online      2.0      4.00      15.0  \n",
              "Total_calls_made         3.0      5.25      10.0  "
            ]
          },
          "execution_count": 9,
          "metadata": {},
          "output_type": "execute_result"
        }
      ],
      "source": [
        "data.describe().T"
      ]
    },
    {
      "cell_type": "markdown",
      "metadata": {
        "id": "kAEzS8-GvvPI"
      },
      "source": [
        "**Observations:**\n",
        "\n",
        "- The average credit limit has a high range as it has a minimum value of 3K and a maximum value of 200K.\n",
        "- The mean of the average credit limit is approx 34.5K with a large standard deviation of 37.4K.\n",
        "- The average number of cards per customer is approx 5 (rounding off to nearest integer).\n",
        "- On average, a customer has 2 bank visits, 3 online visits, and made 4 calls."
      ]
    },
    {
      "cell_type": "markdown",
      "metadata": {
        "id": "xUxHbmglvvPJ"
      },
      "source": [
        "#### Now let's go ahead with the exploring each variable at hand. We will check the distribution and outliers for each variable in the data."
      ]
    },
    {
      "cell_type": "code",
      "execution_count": null,
      "metadata": {
        "colab": {
          "base_uri": "https://localhost:8080/",
          "height": 1000
        },
        "id": "TmKqRM1JvvPJ",
        "outputId": "20e574c3-e797-4e1c-c476-142d027bc2a3"
      },
      "outputs": [
        {
          "name": "stdout",
          "output_type": "stream",
          "text": [
            "Avg_Credit_Limit\n",
            "Skew : 2.19\n"
          ]
        },
        {
          "data": {
            "image/png": "[encoded data removed]",
            "text/plain": [
              "<Figure size 1080x288 with 2 Axes>"
            ]
          },
          "metadata": {
            "needs_background": "light"
          },
          "output_type": "display_data"
        },
        {
          "name": "stdout",
          "output_type": "stream",
          "text": [
            "Total_Credit_Cards\n",
            "Skew : 0.17\n"
          ]
        },
        {
          "data": {
            "image/png": "[encoded data removed]",
            "text/plain": [
              "<Figure size 1080x288 with 2 Axes>"
            ]
          },
          "metadata": {
            "needs_background": "light"
          },
          "output_type": "display_data"
        },
        {
          "name": "stdout",
          "output_type": "stream",
          "text": [
            "Total_visits_bank\n",
            "Skew : 0.15\n"
          ]
        },
        {
          "data": {
            "image/png": "[encoded data removed]",
            "text/plain": [
              "<Figure size 1080x288 with 2 Axes>"
            ]
          },
          "metadata": {
            "needs_background": "light"
          },
          "output_type": "display_data"
        },
        {
          "name": "stdout",
          "output_type": "stream",
          "text": [
            "Total_visits_online\n",
            "Skew : 2.21\n"
          ]
        },
        {
          "data": {
            "image/png": "[encoded data removed]",
            "text/plain": [
              "<Figure size 1080x288 with 2 Axes>"
            ]
          },
          "metadata": {
            "needs_background": "light"
          },
          "output_type": "display_data"
        },
        {
          "name": "stdout",
          "output_type": "stream",
          "text": [
            "Total_calls_made\n",
            "Skew : 0.65\n"
          ]
        },
        {
          "data": {
            "image/png": "[encoded data removed]",
            "text/plain": [
              "<Figure size 1080x288 with 2 Axes>"
            ]
          },
          "metadata": {
            "needs_background": "light"
          },
          "output_type": "display_data"
        }
      ],
      "source": [
        "for col in data.columns:\n",
        "    print(col)\n",
        "    print('Skew :',round(data[col].skew(),2))\n",
        "    plt.figure(figsize=(15,4))\n",
        "    plt.subplot(1,2,1)\n",
        "    data[col].hist(bins=10, grid=False)\n",
        "    plt.ylabel('count')\n",
        "    plt.subplot(1,2,2)\n",
        "    sns.boxplot(x=data[col])\n",
        "    plt.show()"
      ]
    },
    {
      "cell_type": "markdown",
      "metadata": {
        "id": "yuraaJ3wvvPK"
      },
      "source": [
        "**Observation:**\n",
        "\n",
        "- The average credit limit and total visits online has a right skewed distribution with some outliers.\n",
        "- The majority of customers have 4 credits cards, 2 bank visits, and 4 calls."
      ]
    },
    {
      "cell_type": "markdown",
      "metadata": {
        "id": "KGeGbF8ovvPK"
      },
      "source": [
        "**Now, let's check the correlation among different variables.**"
      ]
    },
    {
      "cell_type": "code",
      "execution_count": null,
      "metadata": {
        "colab": {
          "base_uri": "https://localhost:8080/",
          "height": 460
        },
        "id": "-INtorZDvvPK",
        "outputId": "fea10452-59af-451e-f0ee-99da4f297222"
      },
      "outputs": [
        {
          "output_type": "display_data",
          "data": {
            "text/plain": [
              "<Figure size 576x432 with 2 Axes>"
            ],
            "image/png": "[encoded data removed]"
          },
          "metadata": {
            "needs_background": "light"
          }
        }
      ],
      "source": [
        "plt.figure(figsize=(8,6))\n",
        "sns.heatmap(data.corr(), annot=True, fmt='0.2f')\n",
        "plt.show()"
      ]
    },
    {
      "cell_type": "markdown",
      "metadata": {
        "id": "m_rQynXTvvPL"
      },
      "source": [
        "**Observation:**\n",
        "\n",
        "- Avg_Credit_Limit is positively correlated with Total_Credit_Cards and Total_visits_online which can makes sense.\n",
        "- Avg_Credit_Limit is negatively correlated with Total_calls_made and Total_visits_bank.\n",
        "- Total_visits_bank, Total_visits_online, Total_calls_made are negatively correlated which implies that majority of customers use only one of these channels to contact the bank."
      ]
    },
    {
      "cell_type": "markdown",
      "metadata": {
        "id": "XFimA8PUvvPL"
      },
      "source": [
        "#### Scaling the data"
      ]
    },
    {
      "cell_type": "code",
      "source": [
        "data.describe()"
      ],
      "metadata": {
        "colab": {
          "base_uri": "https://localhost:8080/",
          "height": 300
        },
        "id": "8E9ZF6u6qe4d",
        "outputId": "c05cd1fc-5d22-4f0f-8ce6-eaf634342613"
      },
      "execution_count": null,
      "outputs": [
        {
          "output_type": "execute_result",
          "data": {
            "text/plain": [
              "       Avg_Credit_Limit  Total_Credit_Cards  Total_visits_bank  \\\n",
              "count        644.000000          644.000000         644.000000   \n",
              "mean       34543.478261            4.694099           2.395963   \n",
              "std        37428.704286            2.175338           1.626964   \n",
              "min         3000.000000            1.000000           0.000000   \n",
              "25%        11000.000000            3.000000           1.000000   \n",
              "50%        18000.000000            5.000000           2.000000   \n",
              "75%        48000.000000            6.000000           4.000000   \n",
              "max       200000.000000           10.000000           5.000000   \n",
              "\n",
              "       Total_visits_online  Total_calls_made  \n",
              "count           644.000000        644.000000  \n",
              "mean              2.624224          3.608696  \n",
              "std               2.957728          2.880025  \n",
              "min               0.000000          0.000000  \n",
              "25%               1.000000          1.000000  \n",
              "50%               2.000000          3.000000  \n",
              "75%               4.000000          5.250000  \n",
              "max              15.000000         10.000000  "
            ],
            "text/html": [
              "\n",
              "  <div id=\"df-70b2f9ee-a0d9-4d17-a741-83d874ec4cf3\">\n",
              "    <div class=\"colab-df-container\">\n",
              "      <div>\n",
              "<style scoped>\n",
              "    .dataframe tbody tr th:only-of-type {\n",
              "        vertical-align: middle;\n",
              "    }\n",
              "\n",
              "    .dataframe tbody tr th {\n",
              "        vertical-align: top;\n",
              "    }\n",
              "\n",
              "    .dataframe thead th {\n",
              "        text-align: right;\n",
              "    }\n",
              "</style>\n",
              "<table border=\"1\" class=\"dataframe\">\n",
              "  <thead>\n",
              "    <tr style=\"text-align: right;\">\n",
              "      <th></th>\n",
              "      <th>Avg_Credit_Limit</th>\n",
              "      <th>Total_Credit_Cards</th>\n",
              "      <th>Total_visits_bank</th>\n",
              "      <th>Total_visits_online</th>\n",
              "      <th>Total_calls_made</th>\n",
              "    </tr>\n",
              "  </thead>\n",
              "  <tbody>\n",
              "    <tr>\n",
              "      <th>count</th>\n",
              "      <td>644.000000</td>\n",
              "      <td>644.000000</td>\n",
              "      <td>644.000000</td>\n",
              "      <td>644.000000</td>\n",
              "      <td>644.000000</td>\n",
              "    </tr>\n",
              "    <tr>\n",
              "      <th>mean</th>\n",
              "      <td>34543.478261</td>\n",
              "      <td>4.694099</td>\n",
              "      <td>2.395963</td>\n",
              "      <td>2.624224</td>\n",
              "      <td>3.608696</td>\n",
              "    </tr>\n",
              "    <tr>\n",
              "      <th>std</th>\n",
              "      <td>37428.704286</td>\n",
              "      <td>2.175338</td>\n",
              "      <td>1.626964</td>\n",
              "      <td>2.957728</td>\n",
              "      <td>2.880025</td>\n",
              "    </tr>\n",
              "    <tr>\n",
              "      <th>min</th>\n",
              "      <td>3000.000000</td>\n",
              "      <td>1.000000</td>\n",
              "      <td>0.000000</td>\n",
              "      <td>0.000000</td>\n",
              "      <td>0.000000</td>\n",
              "    </tr>\n",
              "    <tr>\n",
              "      <th>25%</th>\n",
              "      <td>11000.000000</td>\n",
              "      <td>3.000000</td>\n",
              "      <td>1.000000</td>\n",
              "      <td>1.000000</td>\n",
              "      <td>1.000000</td>\n",
              "    </tr>\n",
              "    <tr>\n",
              "      <th>50%</th>\n",
              "      <td>18000.000000</td>\n",
              "      <td>5.000000</td>\n",
              "      <td>2.000000</td>\n",
              "      <td>2.000000</td>\n",
              "      <td>3.000000</td>\n",
              "    </tr>\n",
              "    <tr>\n",
              "      <th>75%</th>\n",
              "      <td>48000.000000</td>\n",
              "      <td>6.000000</td>\n",
              "      <td>4.000000</td>\n",
              "      <td>4.000000</td>\n",
              "      <td>5.250000</td>\n",
              "    </tr>\n",
              "    <tr>\n",
              "      <th>max</th>\n",
              "      <td>200000.000000</td>\n",
              "      <td>10.000000</td>\n",
              "      <td>5.000000</td>\n",
              "      <td>15.000000</td>\n",
              "      <td>10.000000</td>\n",
              "    </tr>\n",
              "  </tbody>\n",
              "</table>\n",
              "</div>\n",
              "      <button class=\"colab-df-convert\" onclick=\"convertToInteractive('df-70b2f9ee-a0d9-4d17-a741-83d874ec4cf3')\"\n",
              "              title=\"Convert this dataframe to an interactive table.\"\n",
              "              style=\"display:none;\">\n",
              "        \n",
              "  <svg xmlns=\"http://www.w3.org/2000/svg\" height=\"24px\"viewBox=\"0 0 24 24\"\n",
              "       width=\"24px\">\n",
              "    <path d=\"M0 0h24v24H0V0z\" fill=\"none\"/>\n",
              "    <path d=\"M18.56 5.44l.94 2.06.94-2.06 2.06-.94-2.06-.94-.94-2.06-.94 2.06-2.06.94zm-11 1L8.5 8.5l.94-2.06 2.06-.94-2.06-.94L8.5 2.5l-.94 2.06-2.06.94zm10 10l.94 2.06.94-2.06 2.06-.94-2.06-.94-.94-2.06-.94 2.06-2.06.94z\"/><path d=\"M17.41 7.96l-1.37-1.37c-.4-.4-.92-.59-1.43-.59-.52 0-1.04.2-1.43.59L10.3 9.45l-7.72 7.72c-.78.78-.78 2.05 0 2.83L4 21.41c.39.39.9.59 1.41.59.51 0 1.02-.2 1.41-.59l7.78-7.78 2.81-2.81c.8-.78.8-2.07 0-2.86zM5.41 20L4 18.59l7.72-7.72 1.47 1.35L5.41 20z\"/>\n",
              "  </svg>\n",
              "      </button>\n",
              "      \n",
              "  <style>\n",
              "    .colab-df-container {\n",
              "      display:flex;\n",
              "      flex-wrap:wrap;\n",
              "      gap: 12px;\n",
              "    }\n",
              "\n",
              "    .colab-df-convert {\n",
              "      background-color: #E8F0FE;\n",
              "      border: none;\n",
              "      border-radius: 50%;\n",
              "      cursor: pointer;\n",
              "      display: none;\n",
              "      fill: #1967D2;\n",
              "      height: 32px;\n",
              "      padding: 0 0 0 0;\n",
              "      width: 32px;\n",
              "    }\n",
              "\n",
              "    .colab-df-convert:hover {\n",
              "      background-color: #E2EBFA;\n",
              "      box-shadow: 0px 1px 2px rgba(60, 64, 67, 0.3), 0px 1px 3px 1px rgba(60, 64, 67, 0.15);\n",
              "      fill: #174EA6;\n",
              "    }\n",
              "\n",
              "    [theme=dark] .colab-df-convert {\n",
              "      background-color: #3B4455;\n",
              "      fill: #D2E3FC;\n",
              "    }\n",
              "\n",
              "    [theme=dark] .colab-df-convert:hover {\n",
              "      background-color: #434B5C;\n",
              "      box-shadow: 0px 1px 3px 1px rgba(0, 0, 0, 0.15);\n",
              "      filter: drop-shadow(0px 1px 2px rgba(0, 0, 0, 0.3));\n",
              "      fill: #FFFFFF;\n",
              "    }\n",
              "  </style>\n",
              "\n",
              "      <script>\n",
              "        const buttonEl =\n",
              "          document.querySelector('#df-70b2f9ee-a0d9-4d17-a741-83d874ec4cf3 button.colab-df-convert');\n",
              "        buttonEl.style.display =\n",
              "          google.colab.kernel.accessAllowed ? 'block' : 'none';\n",
              "\n",
              "        async function convertToInteractive(key) {\n",
              "          const element = document.querySelector('#df-70b2f9ee-a0d9-4d17-a741-83d874ec4cf3');\n",
              "          const dataTable =\n",
              "            await google.colab.kernel.invokeFunction('convertToInteractive',\n",
              "                                                     [key], {});\n",
              "          if (!dataTable) return;\n",
              "\n",
              "          const docLinkHtml = 'Like what you see? Visit the ' +\n",
              "            '<a target=\"_blank\" href=https://colab.research.google.com/notebooks/data_table.ipynb>data table notebook</a>'\n",
              "            + ' to learn more about interactive tables.';\n",
              "          element.innerHTML = '';\n",
              "          dataTable['output_type'] = 'display_data';\n",
              "          await google.colab.output.renderOutput(dataTable, element);\n",
              "          const docLink = document.createElement('div');\n",
              "          docLink.innerHTML = docLinkHtml;\n",
              "          element.appendChild(docLink);\n",
              "        }\n",
              "      </script>\n",
              "    </div>\n",
              "  </div>\n",
              "  "
            ]
          },
          "metadata": {},
          "execution_count": 12
        }
      ]
    },
    {
      "cell_type": "code",
      "source": [
        "[10,20,30,40,50]\n",
        "\n",
        "#MinMax Scaling\n",
        "\n",
        "[0,         ]"
      ],
      "metadata": {
        "id": "L21BGq8dqxf6"
      },
      "execution_count": null,
      "outputs": []
    },
    {
      "cell_type": "code",
      "source": [
        "temp=pd.DataFrame([10,20,30,40,50],columns=['vals'])\n",
        "temp"
      ],
      "metadata": {
        "colab": {
          "base_uri": "https://localhost:8080/",
          "height": 206
        },
        "id": "CfWZfVktrVPq",
        "outputId": "9d07e825-a2f4-4355-c82c-fedad3caff7b"
      },
      "execution_count": null,
      "outputs": [
        {
          "output_type": "execute_result",
          "data": {
            "text/plain": [
              "   vals\n",
              "0    10\n",
              "1    20\n",
              "2    30\n",
              "3    40\n",
              "4    50"
            ],
            "text/html": [
              "\n",
              "  <div id=\"df-e367fca9-28e7-46c2-beec-bab67b870810\">\n",
              "    <div class=\"colab-df-container\">\n",
              "      <div>\n",
              "<style scoped>\n",
              "    .dataframe tbody tr th:only-of-type {\n",
              "        vertical-align: middle;\n",
              "    }\n",
              "\n",
              "    .dataframe tbody tr th {\n",
              "        vertical-align: top;\n",
              "    }\n",
              "\n",
              "    .dataframe thead th {\n",
              "        text-align: right;\n",
              "    }\n",
              "</style>\n",
              "<table border=\"1\" class=\"dataframe\">\n",
              "  <thead>\n",
              "    <tr style=\"text-align: right;\">\n",
              "      <th></th>\n",
              "      <th>vals</th>\n",
              "    </tr>\n",
              "  </thead>\n",
              "  <tbody>\n",
              "    <tr>\n",
              "      <th>0</th>\n",
              "      <td>10</td>\n",
              "    </tr>\n",
              "    <tr>\n",
              "      <th>1</th>\n",
              "      <td>20</td>\n",
              "    </tr>\n",
              "    <tr>\n",
              "      <th>2</th>\n",
              "      <td>30</td>\n",
              "    </tr>\n",
              "    <tr>\n",
              "      <th>3</th>\n",
              "      <td>40</td>\n",
              "    </tr>\n",
              "    <tr>\n",
              "      <th>4</th>\n",
              "      <td>50</td>\n",
              "    </tr>\n",
              "  </tbody>\n",
              "</table>\n",
              "</div>\n",
              "      <button class=\"colab-df-convert\" onclick=\"convertToInteractive('df-e367fca9-28e7-46c2-beec-bab67b870810')\"\n",
              "              title=\"Convert this dataframe to an interactive table.\"\n",
              "              style=\"display:none;\">\n",
              "        \n",
              "  <svg xmlns=\"http://www.w3.org/2000/svg\" height=\"24px\"viewBox=\"0 0 24 24\"\n",
              "       width=\"24px\">\n",
              "    <path d=\"M0 0h24v24H0V0z\" fill=\"none\"/>\n",
              "    <path d=\"M18.56 5.44l.94 2.06.94-2.06 2.06-.94-2.06-.94-.94-2.06-.94 2.06-2.06.94zm-11 1L8.5 8.5l.94-2.06 2.06-.94-2.06-.94L8.5 2.5l-.94 2.06-2.06.94zm10 10l.94 2.06.94-2.06 2.06-.94-2.06-.94-.94-2.06-.94 2.06-2.06.94z\"/><path d=\"M17.41 7.96l-1.37-1.37c-.4-.4-.92-.59-1.43-.59-.52 0-1.04.2-1.43.59L10.3 9.45l-7.72 7.72c-.78.78-.78 2.05 0 2.83L4 21.41c.39.39.9.59 1.41.59.51 0 1.02-.2 1.41-.59l7.78-7.78 2.81-2.81c.8-.78.8-2.07 0-2.86zM5.41 20L4 18.59l7.72-7.72 1.47 1.35L5.41 20z\"/>\n",
              "  </svg>\n",
              "      </button>\n",
              "      \n",
              "  <style>\n",
              "    .colab-df-container {\n",
              "      display:flex;\n",
              "      flex-wrap:wrap;\n",
              "      gap: 12px;\n",
              "    }\n",
              "\n",
              "    .colab-df-convert {\n",
              "      background-color: #E8F0FE;\n",
              "      border: none;\n",
              "      border-radius: 50%;\n",
              "      cursor: pointer;\n",
              "      display: none;\n",
              "      fill: #1967D2;\n",
              "      height: 32px;\n",
              "      padding: 0 0 0 0;\n",
              "      width: 32px;\n",
              "    }\n",
              "\n",
              "    .colab-df-convert:hover {\n",
              "      background-color: #E2EBFA;\n",
              "      box-shadow: 0px 1px 2px rgba(60, 64, 67, 0.3), 0px 1px 3px 1px rgba(60, 64, 67, 0.15);\n",
              "      fill: #174EA6;\n",
              "    }\n",
              "\n",
              "    [theme=dark] .colab-df-convert {\n",
              "      background-color: #3B4455;\n",
              "      fill: #D2E3FC;\n",
              "    }\n",
              "\n",
              "    [theme=dark] .colab-df-convert:hover {\n",
              "      background-color: #434B5C;\n",
              "      box-shadow: 0px 1px 3px 1px rgba(0, 0, 0, 0.15);\n",
              "      filter: drop-shadow(0px 1px 2px rgba(0, 0, 0, 0.3));\n",
              "      fill: #FFFFFF;\n",
              "    }\n",
              "  </style>\n",
              "\n",
              "      <script>\n",
              "        const buttonEl =\n",
              "          document.querySelector('#df-e367fca9-28e7-46c2-beec-bab67b870810 button.colab-df-convert');\n",
              "        buttonEl.style.display =\n",
              "          google.colab.kernel.accessAllowed ? 'block' : 'none';\n",
              "\n",
              "        async function convertToInteractive(key) {\n",
              "          const element = document.querySelector('#df-e367fca9-28e7-46c2-beec-bab67b870810');\n",
              "          const dataTable =\n",
              "            await google.colab.kernel.invokeFunction('convertToInteractive',\n",
              "                                                     [key], {});\n",
              "          if (!dataTable) return;\n",
              "\n",
              "          const docLinkHtml = 'Like what you see? Visit the ' +\n",
              "            '<a target=\"_blank\" href=https://colab.research.google.com/notebooks/data_table.ipynb>data table notebook</a>'\n",
              "            + ' to learn more about interactive tables.';\n",
              "          element.innerHTML = '';\n",
              "          dataTable['output_type'] = 'display_data';\n",
              "          await google.colab.output.renderOutput(dataTable, element);\n",
              "          const docLink = document.createElement('div');\n",
              "          docLink.innerHTML = docLinkHtml;\n",
              "          element.appendChild(docLink);\n",
              "        }\n",
              "      </script>\n",
              "    </div>\n",
              "  </div>\n",
              "  "
            ]
          },
          "metadata": {},
          "execution_count": 21
        }
      ]
    },
    {
      "cell_type": "code",
      "source": [
        "from sklearn.preprocessing import MinMaxScaler\n",
        "min_max_scaler=MinMaxScaler()\n",
        "\n",
        "min_max_scaler.fit_transform(temp)"
      ],
      "metadata": {
        "colab": {
          "base_uri": "https://localhost:8080/"
        },
        "id": "JhWSTr-dqxcv",
        "outputId": "e7584c2c-81b2-48af-b6fa-a9f87d747c17"
      },
      "execution_count": null,
      "outputs": [
        {
          "output_type": "execute_result",
          "data": {
            "text/plain": [
              "array([[0.  ],\n",
              "       [0.25],\n",
              "       [0.5 ],\n",
              "       [0.75],\n",
              "       [1.  ]])"
            ]
          },
          "metadata": {},
          "execution_count": 22
        }
      ]
    },
    {
      "cell_type": "code",
      "source": [
        "from sklearn.preprocessing import StandardScaler\n",
        "standard_scaler=StandardScaler()\n",
        "\n",
        "standard_scaler.fit_transform(temp)"
      ],
      "metadata": {
        "colab": {
          "base_uri": "https://localhost:8080/"
        },
        "id": "A7E1_afergDY",
        "outputId": "328b0b39-45c9-4e5c-8042-6d520962ac98"
      },
      "execution_count": null,
      "outputs": [
        {
          "output_type": "execute_result",
          "data": {
            "text/plain": [
              "array([[-1.41421356],\n",
              "       [-0.70710678],\n",
              "       [ 0.        ],\n",
              "       [ 0.70710678],\n",
              "       [ 1.41421356]])"
            ]
          },
          "metadata": {},
          "execution_count": 23
        }
      ]
    },
    {
      "cell_type": "code",
      "execution_count": null,
      "metadata": {
        "id": "TjqSX-50vvPL"
      },
      "outputs": [],
      "source": [
        "scaler=StandardScaler()\n",
        "data_scaled=pd.DataFrame(scaler.fit_transform(data), columns=data.columns)\n"
      ]
    },
    {
      "cell_type": "code",
      "execution_count": null,
      "metadata": {
        "colab": {
          "base_uri": "https://localhost:8080/"
        },
        "id": "L2cyzdZNvvPM",
        "outputId": "e4e6f89a-f774-46a9-fde4-77ab813b6cee"
      },
      "outputs": [
        {
          "output_type": "execute_result",
          "data": {
            "text/plain": [
              "(644, 5)"
            ]
          },
          "metadata": {},
          "execution_count": 60
        }
      ],
      "source": [
        "data_scaled.shape"
      ]
    },
    {
      "cell_type": "code",
      "execution_count": null,
      "metadata": {
        "id": "3ESvHP6SvvPM"
      },
      "outputs": [],
      "source": [
        "#Creating copy of the data to store labels from each algorithm\n",
        "data_scaled_copy = data_scaled.copy(deep=True)"
      ]
    },
    {
      "cell_type": "code",
      "source": [
        "#PCA\n",
        "\n",
        "PC1=\n",
        "\n",
        "PC2=\n",
        "\n",
        "PC3=\n",
        "\n",
        "PC4=\n",
        "\n",
        "PC5=\n"
      ],
      "metadata": {
        "id": "VLD7PfPDsK6U"
      },
      "execution_count": null,
      "outputs": []
    },
    {
      "cell_type": "code",
      "source": [
        "from sklearn.decomposition import PCA\n",
        "\n",
        "pca=PCA(n_components=5)\n",
        "pca.fit(data_scaled_copy)"
      ],
      "metadata": {
        "colab": {
          "base_uri": "https://localhost:8080/"
        },
        "id": "ulhVrn9ysK3s",
        "outputId": "e29519e1-7dd1-4ee3-9ee3-115208365e4f"
      },
      "execution_count": null,
      "outputs": [
        {
          "output_type": "execute_result",
          "data": {
            "text/plain": [
              "PCA(n_components=5)"
            ]
          },
          "metadata": {},
          "execution_count": 27
        }
      ]
    },
    {
      "cell_type": "code",
      "source": [
        "pca_df=pd.DataFrame(pca.transform(data_scaled_copy),columns=['PC1','PC2','PC3','PC4','PC5'])\n",
        "pca_df"
      ],
      "metadata": {
        "colab": {
          "base_uri": "https://localhost:8080/",
          "height": 424
        },
        "id": "J0G-jOeGsK1H",
        "outputId": "c107d316-51fd-4587-bad5-b4955b795ad0"
      },
      "execution_count": null,
      "outputs": [
        {
          "output_type": "execute_result",
          "data": {
            "text/plain": [
              "          PC1       PC2       PC3       PC4       PC5\n",
              "0    0.520075  0.513577  1.818726  1.227488 -1.364728\n",
              "1   -1.420238  3.098904 -0.881905  0.395162  0.366338\n",
              "2    0.539699  0.815314  0.114006 -1.030473 -0.193124\n",
              "3   -0.352709  0.127433  0.568003 -0.720864 -0.330915\n",
              "4    1.303723  3.640665 -0.068361  0.513522  0.694618\n",
              "..        ...       ...       ...       ...       ...\n",
              "639  3.061027  2.630383 -0.032852 -0.556047  0.931632\n",
              "640  2.594729  3.305185 -0.786227 -0.529152  1.589777\n",
              "641  2.885002  2.947501  0.036779  0.305691 -0.378197\n",
              "642  4.221316  4.529952 -0.579751  0.573339  0.553715\n",
              "643  3.205240  4.310738 -0.248276  0.111365 -0.293350\n",
              "\n",
              "[644 rows x 5 columns]"
            ],
            "text/html": [
              "\n",
              "  <div id=\"df-f9592bea-bc94-4629-8d92-84b2da46fd39\">\n",
              "    <div class=\"colab-df-container\">\n",
              "      <div>\n",
              "<style scoped>\n",
              "    .dataframe tbody tr th:only-of-type {\n",
              "        vertical-align: middle;\n",
              "    }\n",
              "\n",
              "    .dataframe tbody tr th {\n",
              "        vertical-align: top;\n",
              "    }\n",
              "\n",
              "    .dataframe thead th {\n",
              "        text-align: right;\n",
              "    }\n",
              "</style>\n",
              "<table border=\"1\" class=\"dataframe\">\n",
              "  <thead>\n",
              "    <tr style=\"text-align: right;\">\n",
              "      <th></th>\n",
              "      <th>PC1</th>\n",
              "      <th>PC2</th>\n",
              "      <th>PC3</th>\n",
              "      <th>PC4</th>\n",
              "      <th>PC5</th>\n",
              "    </tr>\n",
              "  </thead>\n",
              "  <tbody>\n",
              "    <tr>\n",
              "      <th>0</th>\n",
              "      <td>0.520075</td>\n",
              "      <td>0.513577</td>\n",
              "      <td>1.818726</td>\n",
              "      <td>1.227488</td>\n",
              "      <td>-1.364728</td>\n",
              "    </tr>\n",
              "    <tr>\n",
              "      <th>1</th>\n",
              "      <td>-1.420238</td>\n",
              "      <td>3.098904</td>\n",
              "      <td>-0.881905</td>\n",
              "      <td>0.395162</td>\n",
              "      <td>0.366338</td>\n",
              "    </tr>\n",
              "    <tr>\n",
              "      <th>2</th>\n",
              "      <td>0.539699</td>\n",
              "      <td>0.815314</td>\n",
              "      <td>0.114006</td>\n",
              "      <td>-1.030473</td>\n",
              "      <td>-0.193124</td>\n",
              "    </tr>\n",
              "    <tr>\n",
              "      <th>3</th>\n",
              "      <td>-0.352709</td>\n",
              "      <td>0.127433</td>\n",
              "      <td>0.568003</td>\n",
              "      <td>-0.720864</td>\n",
              "      <td>-0.330915</td>\n",
              "    </tr>\n",
              "    <tr>\n",
              "      <th>4</th>\n",
              "      <td>1.303723</td>\n",
              "      <td>3.640665</td>\n",
              "      <td>-0.068361</td>\n",
              "      <td>0.513522</td>\n",
              "      <td>0.694618</td>\n",
              "    </tr>\n",
              "    <tr>\n",
              "      <th>...</th>\n",
              "      <td>...</td>\n",
              "      <td>...</td>\n",
              "      <td>...</td>\n",
              "      <td>...</td>\n",
              "      <td>...</td>\n",
              "    </tr>\n",
              "    <tr>\n",
              "      <th>639</th>\n",
              "      <td>3.061027</td>\n",
              "      <td>2.630383</td>\n",
              "      <td>-0.032852</td>\n",
              "      <td>-0.556047</td>\n",
              "      <td>0.931632</td>\n",
              "    </tr>\n",
              "    <tr>\n",
              "      <th>640</th>\n",
              "      <td>2.594729</td>\n",
              "      <td>3.305185</td>\n",
              "      <td>-0.786227</td>\n",
              "      <td>-0.529152</td>\n",
              "      <td>1.589777</td>\n",
              "    </tr>\n",
              "    <tr>\n",
              "      <th>641</th>\n",
              "      <td>2.885002</td>\n",
              "      <td>2.947501</td>\n",
              "      <td>0.036779</td>\n",
              "      <td>0.305691</td>\n",
              "      <td>-0.378197</td>\n",
              "    </tr>\n",
              "    <tr>\n",
              "      <th>642</th>\n",
              "      <td>4.221316</td>\n",
              "      <td>4.529952</td>\n",
              "      <td>-0.579751</td>\n",
              "      <td>0.573339</td>\n",
              "      <td>0.553715</td>\n",
              "    </tr>\n",
              "    <tr>\n",
              "      <th>643</th>\n",
              "      <td>3.205240</td>\n",
              "      <td>4.310738</td>\n",
              "      <td>-0.248276</td>\n",
              "      <td>0.111365</td>\n",
              "      <td>-0.293350</td>\n",
              "    </tr>\n",
              "  </tbody>\n",
              "</table>\n",
              "<p>644 rows × 5 columns</p>\n",
              "</div>\n",
              "      <button class=\"colab-df-convert\" onclick=\"convertToInteractive('df-f9592bea-bc94-4629-8d92-84b2da46fd39')\"\n",
              "              title=\"Convert this dataframe to an interactive table.\"\n",
              "              style=\"display:none;\">\n",
              "        \n",
              "  <svg xmlns=\"http://www.w3.org/2000/svg\" height=\"24px\"viewBox=\"0 0 24 24\"\n",
              "       width=\"24px\">\n",
              "    <path d=\"M0 0h24v24H0V0z\" fill=\"none\"/>\n",
              "    <path d=\"M18.56 5.44l.94 2.06.94-2.06 2.06-.94-2.06-.94-.94-2.06-.94 2.06-2.06.94zm-11 1L8.5 8.5l.94-2.06 2.06-.94-2.06-.94L8.5 2.5l-.94 2.06-2.06.94zm10 10l.94 2.06.94-2.06 2.06-.94-2.06-.94-.94-2.06-.94 2.06-2.06.94z\"/><path d=\"M17.41 7.96l-1.37-1.37c-.4-.4-.92-.59-1.43-.59-.52 0-1.04.2-1.43.59L10.3 9.45l-7.72 7.72c-.78.78-.78 2.05 0 2.83L4 21.41c.39.39.9.59 1.41.59.51 0 1.02-.2 1.41-.59l7.78-7.78 2.81-2.81c.8-.78.8-2.07 0-2.86zM5.41 20L4 18.59l7.72-7.72 1.47 1.35L5.41 20z\"/>\n",
              "  </svg>\n",
              "      </button>\n",
              "      \n",
              "  <style>\n",
              "    .colab-df-container {\n",
              "      display:flex;\n",
              "      flex-wrap:wrap;\n",
              "      gap: 12px;\n",
              "    }\n",
              "\n",
              "    .colab-df-convert {\n",
              "      background-color: #E8F0FE;\n",
              "      border: none;\n",
              "      border-radius: 50%;\n",
              "      cursor: pointer;\n",
              "      display: none;\n",
              "      fill: #1967D2;\n",
              "      height: 32px;\n",
              "      padding: 0 0 0 0;\n",
              "      width: 32px;\n",
              "    }\n",
              "\n",
              "    .colab-df-convert:hover {\n",
              "      background-color: #E2EBFA;\n",
              "      box-shadow: 0px 1px 2px rgba(60, 64, 67, 0.3), 0px 1px 3px 1px rgba(60, 64, 67, 0.15);\n",
              "      fill: #174EA6;\n",
              "    }\n",
              "\n",
              "    [theme=dark] .colab-df-convert {\n",
              "      background-color: #3B4455;\n",
              "      fill: #D2E3FC;\n",
              "    }\n",
              "\n",
              "    [theme=dark] .colab-df-convert:hover {\n",
              "      background-color: #434B5C;\n",
              "      box-shadow: 0px 1px 3px 1px rgba(0, 0, 0, 0.15);\n",
              "      filter: drop-shadow(0px 1px 2px rgba(0, 0, 0, 0.3));\n",
              "      fill: #FFFFFF;\n",
              "    }\n",
              "  </style>\n",
              "\n",
              "      <script>\n",
              "        const buttonEl =\n",
              "          document.querySelector('#df-f9592bea-bc94-4629-8d92-84b2da46fd39 button.colab-df-convert');\n",
              "        buttonEl.style.display =\n",
              "          google.colab.kernel.accessAllowed ? 'block' : 'none';\n",
              "\n",
              "        async function convertToInteractive(key) {\n",
              "          const element = document.querySelector('#df-f9592bea-bc94-4629-8d92-84b2da46fd39');\n",
              "          const dataTable =\n",
              "            await google.colab.kernel.invokeFunction('convertToInteractive',\n",
              "                                                     [key], {});\n",
              "          if (!dataTable) return;\n",
              "\n",
              "          const docLinkHtml = 'Like what you see? Visit the ' +\n",
              "            '<a target=\"_blank\" href=https://colab.research.google.com/notebooks/data_table.ipynb>data table notebook</a>'\n",
              "            + ' to learn more about interactive tables.';\n",
              "          element.innerHTML = '';\n",
              "          dataTable['output_type'] = 'display_data';\n",
              "          await google.colab.output.renderOutput(dataTable, element);\n",
              "          const docLink = document.createElement('div');\n",
              "          docLink.innerHTML = docLinkHtml;\n",
              "          element.appendChild(docLink);\n",
              "        }\n",
              "      </script>\n",
              "    </div>\n",
              "  </div>\n",
              "  "
            ]
          },
          "metadata": {},
          "execution_count": 32
        }
      ]
    },
    {
      "cell_type": "code",
      "source": [
        "pca.explained_variance_ratio_"
      ],
      "metadata": {
        "colab": {
          "base_uri": "https://localhost:8080/"
        },
        "id": "FVDvbkDts-xG",
        "outputId": "02afaf6b-1e8a-48b2-e2df-86730377efeb"
      },
      "execution_count": null,
      "outputs": [
        {
          "output_type": "execute_result",
          "data": {
            "text/plain": [
              "array([0.45848615, 0.37451655, 0.06345114, 0.05554216, 0.04800401])"
            ]
          },
          "metadata": {},
          "execution_count": 31
        }
      ]
    },
    {
      "cell_type": "code",
      "source": [
        "np.cumsum(pca.explained_variance_ratio_)"
      ],
      "metadata": {
        "colab": {
          "base_uri": "https://localhost:8080/"
        },
        "id": "MPMcd8pUs-uM",
        "outputId": "f2d21dee-d700-4555-d5b4-13b2f0b13a23"
      },
      "execution_count": null,
      "outputs": [
        {
          "output_type": "execute_result",
          "data": {
            "text/plain": [
              "array([0.45848615, 0.8330027 , 0.89645383, 0.95199599, 1.        ])"
            ]
          },
          "metadata": {},
          "execution_count": 33
        }
      ]
    },
    {
      "cell_type": "code",
      "source": [
        "import plotly.express as px\n",
        "fig = px.scatter_3d(pca_df, x='PC1', y='PC2', z='PC3')\n",
        "fig.show()"
      ],
      "metadata": {
        "colab": {
          "base_uri": "https://localhost:8080/",
          "height": 542
        },
        "id": "c0hCp8oOs-r7",
        "outputId": "2d38de0d-4c2b-4299-cd8d-3be7fb6ed4d7"
      },
      "execution_count": null,
      "outputs": [
        {
          "output_type": "display_data",
          "data": {
            "text/html": [
              "<html>\n",
              "<head><meta charset=\"utf-8\" /></head>\n",
              "<body>\n",
              "    <div>            <script src=\"https://cdnjs.cloudflare.com/ajax/libs/mathjax/2.7.5/MathJax.js?config=TeX-AMS-MML_SVG\"></script><script type=\"text/javascript\">if (window.MathJax) {MathJax.Hub.Config({SVG: {font: \"STIX-Web\"}});}</script>                <script type=\"text/javascript\">window.PlotlyConfig = {MathJaxConfig: 'local'};</script>\n",
              "        <script src=\"https://cdn.plot.ly/plotly-2.8.3.min.js\"></script>                <div id=\"fd2d2aa6-adb7-4716-a1f0-55274a756345\" class=\"plotly-graph-div\" style=\"height:525px; width:100%;\"></div>            <script type=\"text/javascript\">                                    window.PLOTLYENV=window.PLOTLYENV || {};                                    if (document.getElementById(\"fd2d2aa6-adb7-4716-a1f0-55274a756345\")) {                    Plotly.newPlot(                        \"fd2d2aa6-adb7-4716-a1f0-55274a756345\",                        [{\"hovertemplate\":\"PC1=%{x}<br>PC2=%{y}<br>PC3=%{z}<extra></extra>\",\"legendgroup\":\"\",\"marker\":{\"color\":\"#636efa\",\"symbol\":\"circle\"},\"mode\":\"markers\",\"name\":\"\",\"scene\":\"scene\",\"showlegend\":false,\"x\":[0.5200750399959375,-1.4202384039296148,0.5396987821192188,-0.35270890442995473,1.3037227126690574,-1.9780151065844456,1.1829144072302382,-0.6893183389996909,-1.250004303745236,-1.733876485823159,-1.0964502562188783,-1.8372906464308547,-2.342297029876063,-1.9578493143708098,-1.5923869215162705,-2.0594820564289473,-1.3354317346751385,-1.5579613918906186,-1.799005209961641,-1.388584585312674,-1.0977276996402894,-2.0330181934500082,-1.2125037634693738,-1.649847921366166,-2.7585955961240924,-2.6132377608336763,-2.066210584513511,-2.405938277823113,-1.94504423981725,-1.5493826275780282,-0.9288793810096996,-1.381856057228111,-2.9412241262315604,-2.0352707737947378,-1.999724171375061,-1.373378923926965,-2.221826971654631,-1.7867927202547516,-1.93378603822402,-2.120194229596493,-1.4123690110109735,-2.2567366843683763,-0.5633726832958988,-1.3601912972967567,-0.7833115129492619,-1.6875605650287635,-1.7659014286166614,-1.8802949403690972,-1.8483143024348563,-1.29111405659619,-2.655391468286418,-1.529083920786608,-1.9645778424553728,-2.158523970924968,-2.4069134147464313,-1.5591945304527681,-2.0921834936572243,-2.784970849384509,-2.360622006771244,-1.6216224318777224,-1.221396262180144,-2.368539368558695,-1.9118518487537477,-1.551546598204235,-2.668579094916626,-1.5180159599233451,-1.7999360420256985,-1.0822431878060899,-2.628085382961944,-1.915606997199545,-1.955214181949431,-1.5901343411715412,-1.5004117823222005,-1.3553921942491716,-2.266188954592841,-1.355436499108433,-1.7221320305251213,-1.0079608359316874,-2.705933699321782,-2.1907985512173354,-1.7947986917607257,-1.2410872922152587,-1.8301352614103814,-1.3949993789990576,-1.0844957681508196,-1.7906609912382796,-1.4455416100344223,-1.1112092686286235,-2.3975940590997515,-1.4166198340711502,-1.6698083809401987,-2.797731619078807,-2.050118395923006,-1.9948213666993173,-1.0207216056259854,-2.034384246589942,-1.198844975043994,-1.3866108554164345,-2.5251751974823953,-1.7753093939818645,-2.1012089069457787,-2.5120318757114486,-1.8943117680519181,-2.347390075281774,-2.470172110616833,-2.2635538221714624,-1.3444571479636929,-1.6846116982092052,-1.3702398163774394,-1.3110745161702229,-0.7700795814597923,-2.4332886680068477,-1.8678479050729788,-0.891314743834522,-1.263505664773624,-1.8122371414511107,-2.3209705171620962,-1.4306939879061542,-1.1882924808351643,-2.1980425459563313,-0.9900184111131553,-2.2992927359378204,-1.2316350219907939,-2.2789054194278773,-1.8386123947115272,-1.4235829077449422,-1.6084348052475141,-1.9376543092075482,-0.7595713921102241,-1.4477498855198905,-1.2895426708166533,-1.5030026098843174,-1.3821499995862365,-1.9756014984593746,-1.2741910735602382,-1.2384078549346187,-1.978059411443707,-2.160687941551175,-2.4592813691906157,-2.84882213010158,-2.0176222913343316,-1.6064610753512747,-1.5599794266461195,-1.2960017693622983,-1.3770569541805255,-1.177695681767073,-2.2898847705726175,-1.5660559731151156,-2.7071225330246707,-1.929177175906402,-1.9112347510878702,-1.4784530800327205,-1.2779264299659818,-1.3690509826745512,-1.8299893255396753,-1.6719723515664056,-1.392452856296202,-2.0696519985611284,-1.8058666526239888,-1.5328192771923517,-3.0070736496640786,-1.0581648197496647,-2.259729856047196,-1.6769637659606722,-2.6817224166875726,-1.4834444944269871,-0.9635988529934774,-2.577925704003228,-1.5753310239025347,-2.215009833851545,-1.825424768081319,-1.7077112653327637,-2.0700788554970386,-1.3399962921334951,-1.4119666668942707,-1.938585141271605,-2.230450040826483,-1.0734278072875567,-1.9999144121050285,-2.41784846103191,-1.824147324659908,-2.082839625191337,-0.96873620325845,-1.1117575486160318,-1.9066701936295136,-1.8870677733129217,-1.6327920237524298,-1.1635772230728076,-2.246497924557726,-1.7488898358621867,-1.3184201419206638,-1.9399068895522775,-1.4656923103384223,-2.12278505715861,-2.292431293275473,-2.23036143110796,-2.0590108946337757,-1.6101391056048353,-2.290267322649266,-2.5672846000758756,-2.646410359857125,-2.1253315798614656,-1.2142851820189318,-1.8285638756308444,-1.309056481414722,-0.484291228373911,-2.4859948696684193,-2.8266976999013402,-1.0806274971672916,-1.008005140790949,-1.0870422908536754,-3.0334045980652338,-1.6743729383985553,-0.9948175141607407,-1.2018183546827597,-1.4698743157201302,-2.0173283489762057,-2.9938860230338706,-1.5396807198546991,-1.8414726518125624,-2.181837234828096,-1.6744172432578168,-0.9661453756963331,-2.2278592132643658,-1.9925687863545876,0.8374499237869265,0.07651615942313279,0.22750229881374698,0.349543742814716,0.7986964529088607,0.9165313787089144,0.37689413299845104,1.2164824953483226,0.8187585434943383,0.10165827412139956,0.4855577096392443,0.3669576796858931,0.03041706279462614,-0.018811784100032442,-0.5386574255335422,0.8140037453060144,0.24620670039925713,0.0525414929948657,0.2891453040453499,0.7783534412581792,1.1245516610135138,1.1376949827844605,0.10331826961945938,0.3206219668514439,-0.26503725729528904,-0.06641657621592635,0.30140209861150075,0.25595291298184747,0.31218913840955964,0.4005899489782277,0.6442688994706287,-0.43481640798993626,0.627684163652064,-0.21100930735304516,0.5655699966252895,0.06577342448433536,0.09728602800972448,1.0492498673565311,1.4785307275951658,0.7745294751339126,1.1641588457633998,0.5286422491560433,0.40774533399870105,0.023809957761561328,-0.04008562781477132,1.0628643509226494,0.25599721784110885,0.10072744205734233,0.6672027386834273,-0.15953624425362328,0.48187967938568393,0.9046128313601508,0.5150277655899248,0.8902004303077594,0.5256245646580161,0.18271345893962682,0.5163052090113359,0.11518414796899519,0.4958522022092432,0.7626192919251154,-0.4467708960579948,0.7242811864566739,0.8773953557541998,0.6332452434666274,-0.49900593592439474,0.27459998841517413,0.5307619149229887,-0.02135830680288807,1.1373567355670733,0.7111821695449885,0.5571371681834052,1.1377835925029833,0.1806954241841261,-0.2026650886296837,0.2537889423556406,-0.26342156665649075,0.4559755879204391,0.8510644073530449,0.31670939100865453,-0.05833035913139569,0.6230753013344463,0.26277005078493343,0.7323757676811709,0.20668812536789383,-0.7215798979991362,0.6860400548467217,-0.23959283609892992,0.620573083490852,-0.04297876187498063,0.37430330543633406,-0.0442921460156867,0.9837385911414002,1.3334668346628753,0.3584805463847474,-0.3477289815619742,-0.09627754838322201,-0.20177856142488784,0.6562233875386874,0.29076099468414823,0.41594154623464286,0.5035444393170379,1.2563836224563345,0.38523835172181264,1.229581512260008,1.2695712490865427,0.2643857414237318,0.010622331131353099,0.5009979166141822,0.578375071178849,0.5388121912882243,0.3672959269032805,0.38740232234801947,-0.29022367685281736,0.25247555821493456,1.1151880005075723,0.6575451358193598,-0.08385502590631137,-0.04352704186238917,0.5188517317141916,-0.0860189965325182,0.6703059055136579,0.35377005305568493,0.07307474537551492,0.7766934457601194,0.062477946307423725,0.9969705226308697,0.004928336739005515,0.3536814433371621,-0.4003908783642842,0.5916070026683187,0.8144306022419247,0.04156214185012581,0.4401528288688524,0.999178798116338,0.8584100331034858,0.041900389067513207,-0.2659237845000849,0.47976001361873843,-0.030766272168091097,0.12059929191285235,1.010158149261078,0.27595767741514166,0.4032693862588676,0.2704622878927281,0.31934452343003294,-0.3675565265582227,0.20414160266503822,0.10293571754281068,-0.061807713898308574,0.17810459662200906,0.022028539212003217,0.3261173563738574,0.08533153994166585,0.4002517017608404,0.539194743364873,-0.045142732501187464,-0.7478665415410298,0.5617903353602843,0.29974210311344096,-0.04862008726810035,1.0229632238146376,1.811968241282401,1.0509213543808769,1.4862344562292464,1.1693405645138328,0.27306460698113105,0.23261519988571058,0.8859084934008395,0.8546304354646793,0.7738003753261089,1.0064228564815327,0.9612874052500592,0.7783649327844652,1.3075185019645679,0.37545932580624675,0.583568217829369,1.2343034971153564,1.5092011087750208,0.3275194138592852,1.0067939170318958,0.261065814053811,0.7350469044480431,1.13184002423797,1.3415974202328662,0.5320065450114243,0.8142169690885538,1.3785251677021124,0.43088926960771956,1.0096541741329308,0.2765060210287488,1.2548566051622578,1.5661581334967691,0.37856562002279687,0.800827610202092,1.7065558379592582,1.3879576458865233,0.9429869411740861,0.1270698819847833,0.7856777452019306,0.6898426991642986,0.9255927963429624,0.3798315719179219,1.334868892148303,0.40451401634730316,0.24579133498963274,0.14289264103637006,1.2956442594750657,1.9025773273365376,1.0077690539552147,1.0315206663205385,0.8459187565743047,0.514950647397688,0.02411539164597316,1.626914611523576,0.38736950901504397,0.6532860122454154,0.6159428993665449,-0.006466379815358678,0.9791412203500683,0.13357328538968985,1.048105402139103,1.3258877837190102,0.6115919750615592,0.2202254907417753,1.0161690690641234,0.1569224900121127,0.2193832683962409,0.9111277262913432,0.7733407050572232,0.5808887805487292,0.36583766366147424,1.1471473166351238,0.4185438653230457,0.9255041866244396,0.32750792233299914,0.5958578257284954,-0.18254720165865876,0.950601996463445,1.0890259710296952,1.192307217059607,0.9343966853352096,1.1871255619353729,1.0505831071634892,1.3104558772578399,0.08295393616208831,0.7370534476772579,0.7106781944168414,1.5257087264013485,0.41715336299010286,1.6146135120981637,0.9634513758762658,1.7596774050304542,0.7383423826249548,1.2211716668706956,1.508652828787612,0.15777307649761343,0.2398033982391593,1.0332577800108351,0.4703635397798215,0.6689513439000098,1.3589915650639899,0.26204095097712965,1.1411478883583643,0.4478565575029329,1.5236333654936642,1.4278670735083028,0.6656757213893505,0.7813268208969449,1.2334169699105604,0.903085814066074,0.5017630207674798,0.5579549413359305,0.6899198173565355,0.7073582670469206,0.11863705354289901,0.05006378797047941,0.4005571356452522,0.8864895867212235,0.19725883819600126,1.1327593647757415,1.4572683754067128,0.5104746996578544,0.666013968606738,1.6895327536784974,1.1234071957960858,0.9583385384305012,1.47126541104948,-0.23793284060087014,0.10285859935057373,0.3057415313902005,0.3538388707341542,0.5520113094447184,0.16488415665882536,0.37588618274215696,0.49469624546552926,0.9281836239050795,0.21856549524371552,0.8931409966135496,1.037508603071012,1.479888480221332,1.1832687824781305,0.718459041243159,0.9374586746924982,0.9867318264464182,0.9651113713743257,0.809954654502091,0.8677737572356261,0.03818954548097719,0.01531150265372607,1.2275749690307933,1.4913275016349576,1.0395151463002266,1.618022112812806,1.0446968014244606,0.6701844824621594,0.30203068780366454,0.40753170084533036,1.128117689125148,1.119954290222182,1.2539502222912098,1.2466489014000302,1.2101808241996697,1.4202963230782053,1.4448901577890636,1.5197979078431116,1.6563961590005425,1.2475797334640875,1.1037489790939465,1.7443701126333002,1.7592620396208296,0.5711540594924247,0.4062511300375998,1.5943262968330294,1.074436350540258,1.053052511674108,0.514310157308407,0.8421276037830134,0.13186898503236869,1.1485378189680668,0.9080772284603406,0.9616256524674465,0.5482889743318965,1.8762463789353825,1.1165212403145304,0.6775744130718617,0.7852837015989959,0.8970863857893147,0.19993827547664117,0.8157195371896215,0.3857538183762456,0.4039985496928701,0.3181557533533435,1.0930750618336185,1.1067338502589983,-0.06215426162946356,1.277734647989509,1.4031518157459462,1.6014258854679555,0.9919134815706523,1.261496523528298,2.1115368058451605,0.5435784810028341,1.3394662629396348,0.8902364346532532,0.8443358792684817,0.12918954775172875,0.6154717375713733,1.0883973818375314,0.8799533699833414,0.6310484595074449,1.259409671094328,1.1106349345755018,3.515654975379832,2.7597980441163097,3.043341708000398,3.0147023828689656,2.6739437562504977,2.948171664871255,2.0885097204096197,2.963490448794694,3.0140540016367487,3.361787193455295,3.887028186792609,3.6563070174716046,3.1482058313361323,2.0543140155940427,3.150873777090486,3.396628088490571,2.7859960779396804,2.5745865775896615,4.3417977730868635,3.8052787861162667,2.8870884311533462,2.161430719274507,2.753246735468793,3.338055373130025,3.8016205479027594,2.911465441698316,3.1681021940108507,2.6384659715092895,3.0976964136337433,2.608094232817979,2.137219436640297,3.4343537534460906,4.038393750873552,2.941631847750023,3.297686275239359,2.551104394763255,2.9599093287734246,4.0190373676724755,2.9134078880282153,3.184066168153989,2.8426148554440416,3.7906855016172813,3.061026604177129,2.5947293867507253,2.8850015787193763,4.221316223339146,3.205239974250117],\"y\":[0.5135765769987236,3.098903948492157,0.8153144718165123,0.1274334611253333,3.6406648767406455,0.676306697871367,3.323296236758509,0.06631204360224534,0.25185203513878734,0.4291671970839471,1.2441766591041727,0.7474120822257134,0.8095767157791907,0.9121238551742293,0.30571485612335203,1.3563767590086342,0.154650155458847,0.6677739363698639,-0.011576800881254689,1.2159226394783746,0.45334786752467304,0.9913638475982395,0.6938677100055264,0.3030821954137784,0.9201812466378742,1.3258882321051015,1.613253317460602,0.2058800821053491,1.020016020655877,1.1571127122105511,0.8529902693906539,0.9590460810264068,1.5609858318933263,1.3488742086218206,0.8083793001652524,1.0094799344377188,1.031104459889424,1.1473756545460032,0.8614458142861382,0.586851556055019,0.9330265686783428,0.3274193198710077,0.05346151181040211,1.020093237261896,0.30491582756974167,1.0174576212339022,-0.24722675368486818,-0.1039857738614857,0.7655279354367042,-0.04645024518513104,1.5557177887842473,0.81357059392529,1.169000413626197,1.5389601976913616,1.35421923470843,-0.3161746137390104,0.48830101649601126,0.8989546409895197,1.1291825847289936,1.070524135354788,0.9220151124223263,0.2089908345427128,0.39812655079351456,1.1283835561753832,1.5451044859600702,0.6023349821849248,0.9436425931924516,-0.08666894920410532,0.6217250003588952,0.2960547814363344,0.4573346314931773,-0.05179550490022906,0.28416708002068863,0.5940331696160122,1.4253246190627762,0.7871529281453866,0.4096133770873895,0.5961906939162164,1.3488739749933318,0.3804858339918937,0.6134234214184714,0.8370317068513786,0.20013690258690045,0.7553130196728551,0.27084141181947574,0.6182163281181811,0.5484692058819398,0.1537739102992177,0.8356732111047849,0.5011461049079912,0.7424652095709435,0.5979427169784974,0.6447109768756145,0.6186144815500203,0.2951787699051937,0.5867745730774887,0.22096263311348374,1.1919863901429162,0.9683008881039902,0.657558786977526,1.2958076945009347,1.172033949457542,1.2795252398174188,0.9466761290237964,0.6532437383771177,0.9705353953817246,0.9621568334637705,-0.15481778070463725,-0.11013006213019409,0.3929327689720341,0.12240937186454436,1.3329926290600755,0.9145123284070241,0.09543935306925266,0.9587249105720976,0.1709296548239426,0.7747829761427762,1.2526324376281457,0.6863651596187129,1.3140005306894555,0.3738636876238839,1.6609745718663897,-0.26087359234039015,0.9311929365223796,0.14970304917558822,0.8984770165187074,1.0811374381789651,0.3322864878583158,0.7809316568991481,0.7128598083761464,1.033339200795647,0.5458365451723658,0.6700854266251285,1.187116266837188,1.0726816596549922,0.1891227246409522,0.8694264564007417,1.5102310416561937,1.2144871607542507,1.2490394346038176,0.83758654792821,1.0572011888435067,0.8848299442346969,0.7658493395195021,0.5329860133805228,0.9586479275945673,0.7561890312039958,0.5200612203010809,0.17180566635508318,0.38272034126962806,0.1603933349772957,0.6341748906574562,-0.03583694236095385,1.0669382465080546,0.44592206648690114,0.7137360535357756,0.6867633130505522,0.7936953698459344,0.8246590331588366,-0.294948008090656,1.1216798007136914,0.48518777599720464,1.6928144803389213,1.2897403892097565,1.3413714246065185,1.210179226331437,0.20197053474286375,0.9258476768072815,0.8454874853753517,0.38798838437870714,0.16031635199976543,1.4041752300204409,1.0840939910327796,0.4402558699459827,-0.1706991266378935,1.287505881932022,0.7348854425781111,0.059605800079110524,0.755713894794626,0.9860955708606716,0.9511451435792652,0.7830820670217572,0.532189706516844,1.011714441715453,-0.12521237950984004,0.34601054311985663,0.8428548246657779,0.01404183634503816,1.510308024633724,0.4856656340965059,0.887542543240221,0.689796848881897,0.9351868146684785,0.8485210212066965,0.8247387378262985,0.3486459255193621,0.8728583792924144,0.5807072677863107,0.8534678938614664,1.0050106862537613,0.9413308693086984,0.9170707278289992,0.5678596913128877,1.2799263485676784,0.17587676110720132,0.31026108728483964,1.0974196592339924,0.8383855764818204,0.8000007382472981,0.7893104524455908,0.33939111844177866,0.9073334365359625,1.0280709240580792,0.799923755269768,0.5799109609226317,1.1235136664981435,1.1265472023294885,1.1322931035378687,0.5412878259494353,0.9357389340553784,0.7725457471751102,1.221190682587454,0.27052024136516667,0.47321597742643373,0.2611041205264392,-0.964798527347922,-0.44282081448109273,-1.857298213162831,-0.55598102307182,-1.3843159196647696,-0.7079989518734845,-1.6830935700265464,-1.657873086232093,-1.3847940113925596,-1.4055427589416127,-0.44505508813033845,-0.9268143306066821,-0.36772843252975346,-1.627070503051846,-0.6188618114632725,-1.15185370227605,-0.6121582896300694,-0.7783822906517507,-2.0429924042829226,-0.8476540428501338,-1.829445068658804,-1.6257120073052522,-0.7119928300195837,-0.5086579220978713,-1.7830823099996098,-0.34953559634123255,-1.0771597073850387,-1.42110293442056,-0.752211534038558,-1.0139579821677656,-0.789396468597699,-1.227505317791884,-1.8126874775659183,-0.9498003071234012,-1.1434749067296073,-0.960888746356948,-1.2698813124825739,-1.17084580064667,-1.9460372001412038,-1.5699331278073307,-1.990724918715647,-1.6301040388831907,-1.5612331618065787,-0.6783937843071759,-0.13518923216350362,-1.4506311190093382,-1.6142226929499344,-0.4503233648679063,-1.5877278105640122,-1.6981758874061923,-0.9215490091875346,-1.5779907528994643,-1.3503187205205225,-0.9223453160512133,-1.078035952544668,-1.1726794328026333,-0.5594899289410228,-1.2990885602455318,-2.1119402643370644,-0.789717639052008,-0.254170070507187,-1.4878162871969676,-1.0302374815328614,-0.7712806153867082,-0.97326142004949,-0.8079876918465478,-1.4082551243186483,-1.558520796429543,-1.721552903177156,-1.8846691070798938,-1.387028518670294,-2.0119515243640014,-0.9556234249378005,-0.32000717812396556,-1.4498320904557276,-0.8964126225482062,-1.4262939945521087,-1.2445838457105902,-0.8446974899963192,-1.852030170053752,-1.333962004549408,-2.0642190099312767,-1.340103571128185,-0.8371179566319754,-0.26701788060909853,-0.921947162619374,-0.8066363102775491,-1.4585320564564797,-1.8126877111944069,-1.421424104874869,-0.7601894544632298,-1.5143109359544011,-2.0627835312071525,-0.9772481840179943,-0.4367535091899145,-0.99720039107488,-1.0821068136682974,-1.762731715882396,-1.1563227168315189,-0.9746155233084206,-0.8605018529520454,-1.5301922818876577,-1.0533004410271105,-1.2610202663491665,-1.5195789790634804,-1.1775493224798732,-0.6890070871313531,-0.7919521463297424,-1.0355827412479595,-1.067422649720491,-0.8309734347347784,-1.0245712849919428,-0.6272406070097153,-0.3973338337245506,-1.117779286525784,-1.165022682832271,-0.7920293629357613,-0.9547471797781713,-0.6280396355633258,-0.8207585189709292,-0.8640107588212482,-0.9374276334308592,-1.2623787620957605,-1.5412039717721626,-1.5346615300716149,-1.6968173916595986,-1.1510546737224396,-0.5511881163721103,-0.8654462375453722,-1.2180891969531566,-1.4422523234628954,-0.9533861959701344,-0.9821180736952341,-1.8612079941538051,-1.7391936199787772,-0.8575453000982307,-1.020982674455278,-1.143397923752077,-0.6537352557671489,-0.5034668619663224,-1.6862040888354215,-2.0536057071070997,-1.661866964378192,-0.8127805985462575,-1.299486713677371,-0.5767297706208729,-0.7685682500096725,-0.6147139673621128,-0.8282610693577427,-0.6939539597861232,-0.8044018029998147,-1.7494830306587135,-0.2965460651978768,-1.1097988780396695,-1.1647015123779616,-1.841416867229575,-0.674484003316202,-2.0588737502161787,-1.7707096363070678,-0.8176477665335655,-1.5783119233537735,-0.5840033928795616,-0.48911323708337423,-0.7064161541149176,0.13077290806233316,-1.086267429056668,-0.35600770198486764,-0.17829391935089126,-0.009755706384013524,-0.5738656937217312,-0.14988593377003256,-1.211315339063041,-0.8594714082088669,0.27042799903898246,-0.06305340306597888,-1.5707390369100473,-1.312658182295035,-1.6860498892518723,-0.5433840473673048,-0.23534743106877007,0.08018757675740361,-0.9933830860385788,-0.3112427668044057,-1.113561106367712,-0.43612393956850726,-1.1228230276228903,-0.6269319742141285,-0.6685091739796967,-1.0213833159485601,-0.26670948144200035,-0.15826472931647517,-1.0185964556554374,-1.0013610064632505,-1.1742843704589605,-1.055149332531728,-0.7183904407471317,-0.07838239598384675,-0.24779436604891059,-1.1727787893064126,-0.030183049850269053,-0.7139959211077501,-0.1987148495250176,-0.8566845479157441,-0.689735779628051,-0.3335770338019573,-0.6919702869057853,-0.7926835605163719,-1.0101404435029757,-1.383686583671851,-0.9194881197011778,0.0802647933634225,-0.9758965688205067,-0.4012504952646309,-0.44219101123119675,-0.8432688918213015,-0.60227367930259,-0.8103215556280614,-1.0474773232127115,-1.0474028282966241,-0.1734242633021401,0.1038028892670415,-0.24229762844019512,-0.8441451369809307,-0.7424811232946277,-0.958830578560523,-1.2503368610965655,-0.17350124627967037,-1.515438015511427,-0.10216467936424455,-0.9228300546996209,-1.4836753236449145,-0.07878054941568614,-1.2481023538188312,-0.3277564040490011,-0.5315666820085716,-0.786208733182805,-0.5254223937398632,-1.0973585899801463,-1.1099752175209787,-0.8488608270746214,-0.555903806465801,-0.3255218967712667,-0.584954132955278,-0.8900300375408235,-0.005845925393039581,-1.1986217285446785,-1.2198483341930328,-0.2883367285836371,0.17881805461236192,-1.2149039495997058,-1.182586183027873,-1.098157618533757,-0.41961030232391183,-1.52820860900732,-0.8281093578356366,-0.16910944833022046,-1.084585274794322,-0.6003603424791647,-0.25042974844841603,-1.2804173987007321,-0.4779475812438086,-1.0681515758456772,-0.8179714250493176,0.257502972331052,-0.703305401677554,-1.585339103702729,-0.21580025799282987,-1.2066023706592819,-0.5505585467507029,-0.206063200328282,-0.986509871644684,-0.12449871273330756,-0.4046052015502848,0.03788856504424398,-0.49134797798959734,-0.08962526842943126,-0.8326555889971242,-1.2175368439377683,0.23715261184232694,-1.254644795519379,-0.4659732946115946,-1.0765303713921202,-0.11995936212092617,-1.776224354954369,-0.5547963787450924,-0.03903993712450166,-0.8430374756317334,-0.11308638135552002,-0.24029181566209706,-1.0315187606734362,-0.31722031783084276,-1.0686267122550468,-0.5232648694396591,-0.3534520242528242,-0.82547420906462,-0.9756653862594274,-1.4360310522166568,-1.0999912506897203,-0.1684798787088131,-0.5468184583204206,-0.8664985885578221,-0.3546494398667625,-1.301091651333698,-0.23486933934098017,-0.489036254105844,-1.5428861260345088,0.19397735496953808,-1.1527368279847856,-0.55934260990658,-1.055781623843067,-0.8435155673595234,-0.3737185212149128,-0.2140436088143968,-0.8970574515182675,-0.29646884859185796,-1.326710288559991,-1.2418038659665736,-0.5946169293322272,-1.3625369610010267,-1.0345550181947127,-0.7330650024559002,-1.6913951489669703,-0.7594826682358035,-0.8642640812800878,-1.413767121276018,-1.3592720089801142,-1.6882843965296068,-0.8210821774866813,-1.3306198359224766,-0.8195763627056447,-0.12570277526786355,-0.37060800240603775,-0.8831791966731776,0.3181492534447704,-0.279081687877565,-0.3660686517936565,-0.8233166847644158,-0.6738544336947946,-1.5057009578468792,-0.782067536002263,-1.1154744431911372,-1.3520008747828685,-1.2244868076807047,-0.5318876188343921,-0.9841983813894194,-1.0636825612902086,-0.9452540759619137,-0.4107563703680995,-0.6632408972421288,-1.729938579272705,-0.013097641382456619,0.16828173476571498,-0.71894279376252,-1.1918478706545628,0.07052750207038591,-0.7516589473946809,-0.9130157804290541,-1.225517252423883,-0.7582082696443349,-0.028901770709694095,-1.4365986645806992,-1.3121803241957335,-1.3235926555735211,-0.12083560728055552,-0.9877072872586223,-0.025945451484368196,-0.32680317591184155,-0.8604246363460264,-1.1106045535138973,-0.6187073782512348,-0.4320530784448778,-0.8439909373973816,4.212506342593302,2.789428100786102,2.688620680423111,3.036721801157071,2.982624842293007,4.034715576981795,4.021790550273865,4.255360429011782,4.292719214990789,3.9376678968854044,4.731527736234805,3.0290522798994974,4.017707151491514,1.699503210080448,3.3816155346398205,4.021145721303803,3.583133740551954,3.0457326543863643,4.739662577932958,5.110819777612061,3.3506518713269178,2.6710793201252687,2.2738256251205717,2.467022600255965,3.6278790238960994,2.582487652181339,4.777890728522488,4.143327066349592,3.6295609445299566,2.543318811113372,2.6785818705120823,4.1319147349718035,4.881796130035632,3.5072957359575314,3.805672277569049,2.057167770687578,2.3979975235958038,4.258301488888454,3.57681560086338,2.7597260647774573,4.154746278276485,3.2597553600483407,2.6303827580069936,3.305184542406693,2.947500563591734,4.529952199181458,4.310738433387932],\"z\":[1.8187260335885094,-0.8819047463465356,0.11400557140029809,0.5680033391541187,-0.06836100793399211,0.25955444004620987,0.386230323792377,1.9105932752991575,1.706060559053186,0.38681803895301037,0.4595969782400461,0.4021588771822665,-0.8843863934457972,0.20582925920657438,-0.1976526546910983,0.23285779657367836,0.8449811329251197,1.1350120791439404,-0.24060318370271291,-0.6360218997742872,-0.18084941463266374,0.42290294077348445,-0.05725452649081016,0.8726722005531462,-0.17874583874860517,-0.7423631097249948,-0.36510986162617043,-0.9449934286989372,0.5685949352592335,0.08862820391710759,0.4287089941858264,-0.03805424157443834,-0.3503625873694629,0.5831638841510666,-0.9019335406108216,1.02841116698269,-0.8796456983447573,0.5593322632101559,-0.9057929872979373,-0.9066742357118617,-1.254071091304432,0.2640764169942481,0.12102154172548006,1.027639277645267,-0.20854048226069016,-0.7693636648612662,0.3558206958222896,0.11587801857406059,0.05108090026745493,-0.1287773715443752,-0.1204544715077346,0.3222864073894507,-0.3921383989932745,-0.3597066362642086,-0.14428609244864546,0.5903601477085567,1.1205245070977754,-0.17720206007375894,0.451365897738934,-0.7732231115483819,-0.30337231843842444,-0.5954592304589722,1.3566077376588888,0.4404780701693422,-0.11968258217031148,0.7691588457415885,0.6558986139849051,-0.24608778591034278,-1.018500047870199,-0.22449045613603355,-0.31796924956109046,-0.3579135980686804,0.2562761467743487,0.15199090262536788,-0.0016816553125887932,0.056196441188041714,-0.08497357634966964,0.5291347916476916,-0.3734223189729504,0.2602169703071323,-0.6790817878624028,0.20034465699894446,0.732383431429359,0.05851210920031117,-0.08582684253276064,0.5384788405424372,-0.19445573826490478,0.3750489629694944,-0.16591140445378727,-0.9113869485820684,0.1796819702533943,-0.44417327468909207,0.3070269460058626,-0.4114480429861473,0.2621635770323582,-0.40913237497387783,-0.22997505834366347,0.933388594882787,-0.4050821923645932,0.18585708495277944,0.5870233308381824,-0.5016485431393426,-1.0996975781848592,0.5463884698388372,-0.5684306930918679,-0.5254801640802533,0.31147995666552675,-0.0006605064544838642,-0.1241460355198364,-0.8217676018441272,-0.11351791016078704,-0.14274231377379923,-0.909652433985053,0.6088165255183384,0.4143307812161621,-0.335625755802616,0.6406391526013172,0.08168119988029933,0.29305156108657815,-0.261596506814613,-0.44307993414695723,-0.5981055348375912,0.4661027293057809,-0.17285840849059553,-0.33408197712776977,0.31611129269006555,-0.773995000885805,-0.9266464099656566,0.31371424783212837,0.06159966655000363,-0.04345746693640037,0.8758691169793394,0.5170722466902967,-0.743216375908086,-0.39607922252605804,-0.22765939033139407,0.1637599786088838,-0.007856770011973936,-0.5047361004890353,-0.16417688985677237,0.16607564662115315,0.7954154937712693,-0.53019287695046,0.5552820806008716,-0.9137026165943377,0.9118726419541457,-0.4281419239680808,-0.2949908948032708,-0.8222797889710078,0.1398189985914721,-0.8323957272031766,0.7668431777293191,-0.12954926088179838,0.324711434478221,-1.2846713909172762,0.5315318365056289,-0.6568753224420063,-0.6537063882466458,-1.1259542262145406,0.5888163690337104,-0.15491421780769477,-0.1831650826449332,-0.6004212028498606,-0.15054258399369824,-0.023116231395562313,0.08476875722999201,-0.34882925138447723,-0.4019946350149006,-0.1775711213608023,-0.09008911727025615,-0.3348538664651929,0.4589064657482908,-0.3859632842938894,-0.10483639152696365,0.23001949874466757,-0.03014461227803833,0.07094371544474921,0.361045595819377,1.019326820298487,-0.3037751464888041,0.3055925264075169,-0.6529344989092227,0.986151150462831,0.90801319526703,0.11742179724890682,-0.5778841010631145,0.8927537338834418,0.01459895492910442,-0.5053986307499575,0.2801077677152593,0.7692682048180891,-0.7663854665880745,1.0338143923446521,-0.2870812655068705,0.2872455076742363,0.26253263831940166,0.06090915405824839,-1.1466982898057585,-0.06460435857799819,0.31262090728999314,0.31725224331453183,0.4283061661354465,-0.06894222562865825,0.8177033360373337,0.8434373542502734,0.02059574426361498,-0.04386029498678048,0.17696347419074496,-0.06497341986504158,0.4333403302103652,0.6295605891095566,-0.05757597769552203,-0.7701355541986893,0.4325684408729421,0.7531554772514101,-0.27954069749751376,-0.38905084164358195,-0.15568610714511788,-0.296534673478117,-0.9111962126598994,-1.1497044703097832,-0.8659300156360155,0.3665581802578399,-0.548649254760242,-0.5717089863637295,0.9977190478343171,-0.04009266783519326,-0.263010827735139,-0.1729502280261244,0.3687540465037476,0.897293250372452,-0.9752013429512628,0.2299276792091388,-1.051105006980462,-0.5862883779454232,1.036891507004484,1.2354274339159448,0.9219781374964539,-0.5910290730464629,-0.15743106443199364,-0.07966217052323638,-0.5186249795789739,1.2631185015439712,-0.0199805931372174,0.039301381594078234,-0.1282066608189817,-0.2247730115937311,-0.3093795504627958,0.5439809822910391,-0.7274583954831344,0.07335829984365862,0.8757493152129778,-0.8079933955368725,-0.4266899648287634,-0.5487410742957706,0.30307567978321814,-0.44051500661400617,0.11104550393749213,-0.09009955996011697,0.03996391185500053,1.3581410736438742,0.02161689312171986,-0.19851636356405017,-0.15821339645927768,0.11424242036368565,-0.03472786739392498,-0.48151892890039477,-0.2185165200486781,0.05878935095182557,-0.023979940268513893,-0.46703135685422953,-0.7121989340995462,0.3102134197421952,0.012935374487896386,-0.7336335101825195,-0.9052222765725442,-0.4577686848051519,-0.21300393561021522,0.9946314904846245,0.4058171452573526,0.8826963192497861,0.42744245726249475,-1.0463922941102552,0.21455885874904967,0.7554607025738186,0.10490881415880073,-0.6938519153662653,0.6318658144319651,-0.048002297131593395,0.03184219043038941,1.1450361978405805,-0.9291632565899556,0.12435835859585434,0.23455901523367761,-0.5014911031541899,-0.9307070352648018,-0.03318408871907875,-0.7825086368446146,0.6889824642850331,-0.4561435292846378,-0.5463440294378331,-1.0756271404131277,0.7292040545441376,0.42733309818599385,-0.4929189435968672,-0.9345664819519176,-0.018436814462371057,0.7361510585809459,-0.4205148501293783,0.226078675211884,0.04470460695604026,0.16749962352963774,-0.12338458887227408,-0.845540699186525,-0.3556083727462717,0.41449866389117596,-0.46240002082969084,-0.1497226137476232,0.16896202535881605,0.6974732469966877,-0.30948890953929664,-0.3033137948399115,-0.24234814098958873,0.16113377290808384,-0.9013628298854284,0.1604712426471615,-0.23172001563053934,-0.19611931870611285,0.037566866997063124,-0.23249190496796246,0.16267755158293018,0.05956124028924868,0.8758586742894787,0.40272958790766,0.40504525591992946,0.7760954070885359,-0.5479691849583475,-0.27705714681023064,0.8038958337930632,-0.20237581025116586,0.49389271332044743,0.4168143319034454,-0.3125764668889891,-0.28794497437982247,0.76866419815568,0.7608639279357806,1.236199323253368,-0.32868919445566847,-0.23760744588854907,-0.9475102753232364,-0.36737744872978767,-0.0687743429536444,1.0446104003787153,0.8921497272210326,0.49775216000756317,-0.34740527447599273,1.007834986066486,-0.55105674230804,-0.6234328535446961,-0.861831752118079,0.5485029592390771,0.2648378636418102,-0.45757794888298303,-0.045605252273656076,0.8116147271672947,-0.3681493380672108,-0.019208703799794172,-0.976745121626109,-0.07252443056425928,-0.09646541058167082,0.29186640100891437,0.29487258151293894,0.05415801492728671,1.1189702857330683,-0.16291566663962356,0.04710165181397762,0.5972967090555042,0.5670407138945267,-0.08940904746836179,0.041507690529846875,-0.49369083293429034,0.41921137676138265,0.210699412061934,0.5988404877303505,1.1181983963956452,-0.005383662014551374,0.10856392111764235,0.6309969765753353,0.34030350009559235,-0.5726572331985936,-0.13951288811249205,0.855099039024722,0.49910204164399613,0.01016032269416778,-0.35791163020124706,0.5996371981823622,0.20839615460695898,0.5919058942508364,0.28533463557978006,0.5500591484712176,-0.2838518398455638,-0.47706591824073047,-0.40664685641916126,0.23010284345776896,-0.3165048798644786,0.3101164712229885,-0.9868766315318166,1.1906578523454026,0.08105117885449059,0.16809318750218627,-0.8957135061190292,0.6025340196098858,0.11896754379118654,0.2606093556676511,0.14908363850798326,0.4800111158041251,-0.8482130179285435,-0.1456880028118772,0.4737142314709449,0.30632795869167995,-0.9793360635224596,-0.20768524821016568,0.7654796922867808,-0.5423198611919482,0.9791781320626232,0.2315652452869473,-0.05784612259592545,-0.5169164793453583,0.12051132246603283,0.30172263703054064,0.24090929418169293,-0.9739328381604976,-0.2695425931642733,-1.1172122161147708,-0.042352973365194134,0.7691608136090219,0.14801165417189055,0.05626737534384869,0.3871134757943226,-0.0911591337389154,-0.45844678673961287,-0.1595820108854937,0.4962897581783848,-0.9554074940623424,0.26253460618683505,0.1496772024805318,-0.9546231941676251,-0.5610913036945409,-0.32801425363745196,0.3102687822244637,-0.847953315718001,0.7600764669248189,-0.4081092582483395,0.36664152497094127,0.14415220748477486,-0.8694692686466424,0.7422416353184187,-0.9683512874336612,0.03997632241229485,-0.3225016691989892,0.15506801728519953,-0.08247761510509219,-0.6020138491352616,-1.0168833671721123,-1.3196075897133472,0.28609411435990906,-0.08042164930336529,1.0903290034027442,0.5014332813298041,0.3705823485037249,0.12572381190582604,0.12726759058067227,0.14639890920867038,0.6527036654261456,-0.6044108939931988,-0.14345371164527573,-0.6129016767048533,1.3187747174352942,0.17210494519077701,0.12631737587837455,0.060236181107465245,0.7285135420523825,-0.12645973566467247,-0.0749370470957354,0.48143312484517636,-0.3581993146426224,-0.49059086502730354,0.6164280276835024,-0.05253984575317008,0.6898376983355575,-0.145960115579714,0.724666505922561,-0.9438291540009952,0.515230340884214,0.25396244662951256,0.14878354350931366,0.4342925127800964,0.6181625422805175,0.2747065102207307,-0.20519125483302167,0.3224667006217588,-0.09193102307633863,-0.4906722418729715,0.4189361028773016,-0.2584484579989738,0.9614402489754296,-0.6102169474055406,0.2653344790951522,-0.17056362585804796,0.2199869052256002,-0.5603070037998235,0.32938769029516757,0.44440845101226517,0.41517360470939246,0.7246540953652668,-0.4198399093111617,0.9568778792392644,0.2946662739172315,0.28231604451846126,0.010147912136873584,-0.38802772491804366,-0.6049230811200794,0.46831100610898296,-0.46914387838703614,-0.6212017234943391,0.4513294406856739,0.2647688973534365,-0.5054474983605121,1.103354173619731,0.13345511583735165,-1.1056338760534237,-0.08640602808058159,-0.9368007731185192,0.001738506270886955,-1.0750335764405792,-1.090471363189042,0.6434565650506064,0.14099568384670846,-0.5957293753593754,1.0260850562805601,-0.7606496369923293,-0.7668247516917145,-0.8472503926689516,-0.6212141340516334,-1.0765773551154254,0.6102529129841172,-0.6357830829434664,0.34416294678270803,0.3309314689700138,0.2121742244484066,-0.31017745416361847,-0.286248884703501,0.2668938294435371,-0.16448545967786943,0.2074459399046612,0.9861251360994314,0.036404560166554537,-0.28546458480878373,0.05233896236835928,0.7359571615425327,-0.13255347351838964,0.38729180115919726,-0.11016868273311858,-0.878813317541388,0.9360368671288396,-0.25093587222044994,-1.0810303657750897,-0.1722043530521008,1.0864695567156284,-0.4691562889443302,-0.7313868084586238,0.1281488389945962,-0.00906794445303699,0.8456456310534753,-0.2722734997842166,0.1966655035441367,0.15593369402558488,0.00908833835807504,-0.16363219349477826,0.2832786697780532,-0.45852816358528087,0.1324924905777597,-0.6036390046557757,-0.13583176679025097,0.8863898511293214,-0.1952640846555883,-0.013793067880537989,-0.023909006112706802,-0.2045976908604731,0.13123639634428877,0.31783536459721995,0.012366631629936349,0.6195155850331949,0.4690828954464061,0.7606576203400731,0.8772241275994505,-0.5995888220464912,-0.5842037100846259,-0.0059329522544909795,0.21910572109108817,-0.17169406951324157,-0.599269274429801,0.2693351480340834,-0.06853933329886677,0.37352344366385754,-0.3829232727471166,-0.6302417964459331,-1.0534609392220347,0.5924995225027967,0.554305915814586,0.37279188283514986,-0.42630264417251035,-0.11792467922040889,-0.3906545766786421,0.3727073448732373,-0.022405491667163994,0.027573418226926934,0.045945193795384254,0.5477311341810658,-0.22072276470503469,0.1425271162436723,-0.06691220991091906,0.22682461446531954,-0.69612647076217,-0.7702110822324418,-0.15547198287006167,-0.40382090486803274,0.19742504660367743,-0.7803270204646106,-0.19624095978108425,0.6071498482402978,0.03370432347311484,0.4945553078607816,-0.08197777425609393,-0.7737964482842875,-0.6039975589735463,0.36171015822714464,-0.3728887113606158,-0.226401263951078,-0.03285213054509429,-0.7862268612799145,0.03677947026551337,-0.5797506994249616,-0.24827583547690177],\"type\":\"scatter3d\"}],                        {\"template\":{\"data\":{\"bar\":[{\"error_x\":{\"color\":\"#2a3f5f\"},\"error_y\":{\"color\":\"#2a3f5f\"},\"marker\":{\"line\":{\"color\":\"#E5ECF6\",\"width\":0.5},\"pattern\":{\"fillmode\":\"overlay\",\"size\":10,\"solidity\":0.2}},\"type\":\"bar\"}],\"barpolar\":[{\"marker\":{\"line\":{\"color\":\"#E5ECF6\",\"width\":0.5},\"pattern\":{\"fillmode\":\"overlay\",\"size\":10,\"solidity\":0.2}},\"type\":\"barpolar\"}],\"carpet\":[{\"aaxis\":{\"endlinecolor\":\"#2a3f5f\",\"gridcolor\":\"white\",\"linecolor\":\"white\",\"minorgridcolor\":\"white\",\"startlinecolor\":\"#2a3f5f\"},\"baxis\":{\"endlinecolor\":\"#2a3f5f\",\"gridcolor\":\"white\",\"linecolor\":\"white\",\"minorgridcolor\":\"white\",\"startlinecolor\":\"#2a3f5f\"},\"type\":\"carpet\"}],\"choropleth\":[{\"colorbar\":{\"outlinewidth\":0,\"ticks\":\"\"},\"type\":\"choropleth\"}],\"contour\":[{\"colorbar\":{\"outlinewidth\":0,\"ticks\":\"\"},\"colorscale\":[[0.0,\"#0d0887\"],[0.1111111111111111,\"#46039f\"],[0.2222222222222222,\"#7201a8\"],[0.3333333333333333,\"#9c179e\"],[0.4444444444444444,\"#bd3786\"],[0.5555555555555556,\"#d8576b\"],[0.6666666666666666,\"#ed7953\"],[0.7777777777777778,\"#fb9f3a\"],[0.8888888888888888,\"#fdca26\"],[1.0,\"#f0f921\"]],\"type\":\"contour\"}],\"contourcarpet\":[{\"colorbar\":{\"outlinewidth\":0,\"ticks\":\"\"},\"type\":\"contourcarpet\"}],\"heatmap\":[{\"colorbar\":{\"outlinewidth\":0,\"ticks\":\"\"},\"colorscale\":[[0.0,\"#0d0887\"],[0.1111111111111111,\"#46039f\"],[0.2222222222222222,\"#7201a8\"],[0.3333333333333333,\"#9c179e\"],[0.4444444444444444,\"#bd3786\"],[0.5555555555555556,\"#d8576b\"],[0.6666666666666666,\"#ed7953\"],[0.7777777777777778,\"#fb9f3a\"],[0.8888888888888888,\"#fdca26\"],[1.0,\"#f0f921\"]],\"type\":\"heatmap\"}],\"heatmapgl\":[{\"colorbar\":{\"outlinewidth\":0,\"ticks\":\"\"},\"colorscale\":[[0.0,\"#0d0887\"],[0.1111111111111111,\"#46039f\"],[0.2222222222222222,\"#7201a8\"],[0.3333333333333333,\"#9c179e\"],[0.4444444444444444,\"#bd3786\"],[0.5555555555555556,\"#d8576b\"],[0.6666666666666666,\"#ed7953\"],[0.7777777777777778,\"#fb9f3a\"],[0.8888888888888888,\"#fdca26\"],[1.0,\"#f0f921\"]],\"type\":\"heatmapgl\"}],\"histogram\":[{\"marker\":{\"pattern\":{\"fillmode\":\"overlay\",\"size\":10,\"solidity\":0.2}},\"type\":\"histogram\"}],\"histogram2d\":[{\"colorbar\":{\"outlinewidth\":0,\"ticks\":\"\"},\"colorscale\":[[0.0,\"#0d0887\"],[0.1111111111111111,\"#46039f\"],[0.2222222222222222,\"#7201a8\"],[0.3333333333333333,\"#9c179e\"],[0.4444444444444444,\"#bd3786\"],[0.5555555555555556,\"#d8576b\"],[0.6666666666666666,\"#ed7953\"],[0.7777777777777778,\"#fb9f3a\"],[0.8888888888888888,\"#fdca26\"],[1.0,\"#f0f921\"]],\"type\":\"histogram2d\"}],\"histogram2dcontour\":[{\"colorbar\":{\"outlinewidth\":0,\"ticks\":\"\"},\"colorscale\":[[0.0,\"#0d0887\"],[0.1111111111111111,\"#46039f\"],[0.2222222222222222,\"#7201a8\"],[0.3333333333333333,\"#9c179e\"],[0.4444444444444444,\"#bd3786\"],[0.5555555555555556,\"#d8576b\"],[0.6666666666666666,\"#ed7953\"],[0.7777777777777778,\"#fb9f3a\"],[0.8888888888888888,\"#fdca26\"],[1.0,\"#f0f921\"]],\"type\":\"histogram2dcontour\"}],\"mesh3d\":[{\"colorbar\":{\"outlinewidth\":0,\"ticks\":\"\"},\"type\":\"mesh3d\"}],\"parcoords\":[{\"line\":{\"colorbar\":{\"outlinewidth\":0,\"ticks\":\"\"}},\"type\":\"parcoords\"}],\"pie\":[{\"automargin\":true,\"type\":\"pie\"}],\"scatter\":[{\"marker\":{\"colorbar\":{\"outlinewidth\":0,\"ticks\":\"\"}},\"type\":\"scatter\"}],\"scatter3d\":[{\"line\":{\"colorbar\":{\"outlinewidth\":0,\"ticks\":\"\"}},\"marker\":{\"colorbar\":{\"outlinewidth\":0,\"ticks\":\"\"}},\"type\":\"scatter3d\"}],\"scattercarpet\":[{\"marker\":{\"colorbar\":{\"outlinewidth\":0,\"ticks\":\"\"}},\"type\":\"scattercarpet\"}],\"scattergeo\":[{\"marker\":{\"colorbar\":{\"outlinewidth\":0,\"ticks\":\"\"}},\"type\":\"scattergeo\"}],\"scattergl\":[{\"marker\":{\"colorbar\":{\"outlinewidth\":0,\"ticks\":\"\"}},\"type\":\"scattergl\"}],\"scattermapbox\":[{\"marker\":{\"colorbar\":{\"outlinewidth\":0,\"ticks\":\"\"}},\"type\":\"scattermapbox\"}],\"scatterpolar\":[{\"marker\":{\"colorbar\":{\"outlinewidth\":0,\"ticks\":\"\"}},\"type\":\"scatterpolar\"}],\"scatterpolargl\":[{\"marker\":{\"colorbar\":{\"outlinewidth\":0,\"ticks\":\"\"}},\"type\":\"scatterpolargl\"}],\"scatterternary\":[{\"marker\":{\"colorbar\":{\"outlinewidth\":0,\"ticks\":\"\"}},\"type\":\"scatterternary\"}],\"surface\":[{\"colorbar\":{\"outlinewidth\":0,\"ticks\":\"\"},\"colorscale\":[[0.0,\"#0d0887\"],[0.1111111111111111,\"#46039f\"],[0.2222222222222222,\"#7201a8\"],[0.3333333333333333,\"#9c179e\"],[0.4444444444444444,\"#bd3786\"],[0.5555555555555556,\"#d8576b\"],[0.6666666666666666,\"#ed7953\"],[0.7777777777777778,\"#fb9f3a\"],[0.8888888888888888,\"#fdca26\"],[1.0,\"#f0f921\"]],\"type\":\"surface\"}],\"table\":[{\"cells\":{\"fill\":{\"color\":\"#EBF0F8\"},\"line\":{\"color\":\"white\"}},\"header\":{\"fill\":{\"color\":\"#C8D4E3\"},\"line\":{\"color\":\"white\"}},\"type\":\"table\"}]},\"layout\":{\"annotationdefaults\":{\"arrowcolor\":\"#2a3f5f\",\"arrowhead\":0,\"arrowwidth\":1},\"autotypenumbers\":\"strict\",\"coloraxis\":{\"colorbar\":{\"outlinewidth\":0,\"ticks\":\"\"}},\"colorscale\":{\"diverging\":[[0,\"#8e0152\"],[0.1,\"#c51b7d\"],[0.2,\"#de77ae\"],[0.3,\"#f1b6da\"],[0.4,\"#fde0ef\"],[0.5,\"#f7f7f7\"],[0.6,\"#e6f5d0\"],[0.7,\"#b8e186\"],[0.8,\"#7fbc41\"],[0.9,\"#4d9221\"],[1,\"#276419\"]],\"sequential\":[[0.0,\"#0d0887\"],[0.1111111111111111,\"#46039f\"],[0.2222222222222222,\"#7201a8\"],[0.3333333333333333,\"#9c179e\"],[0.4444444444444444,\"#bd3786\"],[0.5555555555555556,\"#d8576b\"],[0.6666666666666666,\"#ed7953\"],[0.7777777777777778,\"#fb9f3a\"],[0.8888888888888888,\"#fdca26\"],[1.0,\"#f0f921\"]],\"sequentialminus\":[[0.0,\"#0d0887\"],[0.1111111111111111,\"#46039f\"],[0.2222222222222222,\"#7201a8\"],[0.3333333333333333,\"#9c179e\"],[0.4444444444444444,\"#bd3786\"],[0.5555555555555556,\"#d8576b\"],[0.6666666666666666,\"#ed7953\"],[0.7777777777777778,\"#fb9f3a\"],[0.8888888888888888,\"#fdca26\"],[1.0,\"#f0f921\"]]},\"colorway\":[\"#636efa\",\"#EF553B\",\"#00cc96\",\"#ab63fa\",\"#FFA15A\",\"#19d3f3\",\"#FF6692\",\"#B6E880\",\"#FF97FF\",\"#FECB52\"],\"font\":{\"color\":\"#2a3f5f\"},\"geo\":{\"bgcolor\":\"white\",\"lakecolor\":\"white\",\"landcolor\":\"#E5ECF6\",\"showlakes\":true,\"showland\":true,\"subunitcolor\":\"white\"},\"hoverlabel\":{\"align\":\"left\"},\"hovermode\":\"closest\",\"mapbox\":{\"style\":\"light\"},\"paper_bgcolor\":\"white\",\"plot_bgcolor\":\"#E5ECF6\",\"polar\":{\"angularaxis\":{\"gridcolor\":\"white\",\"linecolor\":\"white\",\"ticks\":\"\"},\"bgcolor\":\"#E5ECF6\",\"radialaxis\":{\"gridcolor\":\"white\",\"linecolor\":\"white\",\"ticks\":\"\"}},\"scene\":{\"xaxis\":{\"backgroundcolor\":\"#E5ECF6\",\"gridcolor\":\"white\",\"gridwidth\":2,\"linecolor\":\"white\",\"showbackground\":true,\"ticks\":\"\",\"zerolinecolor\":\"white\"},\"yaxis\":{\"backgroundcolor\":\"#E5ECF6\",\"gridcolor\":\"white\",\"gridwidth\":2,\"linecolor\":\"white\",\"showbackground\":true,\"ticks\":\"\",\"zerolinecolor\":\"white\"},\"zaxis\":{\"backgroundcolor\":\"#E5ECF6\",\"gridcolor\":\"white\",\"gridwidth\":2,\"linecolor\":\"white\",\"showbackground\":true,\"ticks\":\"\",\"zerolinecolor\":\"white\"}},\"shapedefaults\":{\"line\":{\"color\":\"#2a3f5f\"}},\"ternary\":{\"aaxis\":{\"gridcolor\":\"white\",\"linecolor\":\"white\",\"ticks\":\"\"},\"baxis\":{\"gridcolor\":\"white\",\"linecolor\":\"white\",\"ticks\":\"\"},\"bgcolor\":\"#E5ECF6\",\"caxis\":{\"gridcolor\":\"white\",\"linecolor\":\"white\",\"ticks\":\"\"}},\"title\":{\"x\":0.05},\"xaxis\":{\"automargin\":true,\"gridcolor\":\"white\",\"linecolor\":\"white\",\"ticks\":\"\",\"title\":{\"standoff\":15},\"zerolinecolor\":\"white\",\"zerolinewidth\":2},\"yaxis\":{\"automargin\":true,\"gridcolor\":\"white\",\"linecolor\":\"white\",\"ticks\":\"\",\"title\":{\"standoff\":15},\"zerolinecolor\":\"white\",\"zerolinewidth\":2}}},\"scene\":{\"domain\":{\"x\":[0.0,1.0],\"y\":[0.0,1.0]},\"xaxis\":{\"title\":{\"text\":\"PC1\"}},\"yaxis\":{\"title\":{\"text\":\"PC2\"}},\"zaxis\":{\"title\":{\"text\":\"PC3\"}}},\"legend\":{\"tracegroupgap\":0},\"margin\":{\"t\":60}},                        {\"responsive\": true}                    ).then(function(){\n",
              "                            \n",
              "var gd = document.getElementById('fd2d2aa6-adb7-4716-a1f0-55274a756345');\n",
              "var x = new MutationObserver(function (mutations, observer) {{\n",
              "        var display = window.getComputedStyle(gd).display;\n",
              "        if (!display || display === 'none') {{\n",
              "            console.log([gd, 'removed!']);\n",
              "            Plotly.purge(gd);\n",
              "            observer.disconnect();\n",
              "        }}\n",
              "}});\n",
              "\n",
              "// Listen for the removal of the full notebook cells\n",
              "var notebookContainer = gd.closest('#notebook-container');\n",
              "if (notebookContainer) {{\n",
              "    x.observe(notebookContainer, {childList: true});\n",
              "}}\n",
              "\n",
              "// Listen for the clearing of the current output cell\n",
              "var outputEl = gd.closest('.output');\n",
              "if (outputEl) {{\n",
              "    x.observe(outputEl, {childList: true});\n",
              "}}\n",
              "\n",
              "                        })                };                            </script>        </div>\n",
              "</body>\n",
              "</html>"
            ]
          },
          "metadata": {}
        }
      ]
    },
    {
      "cell_type": "markdown",
      "metadata": {
        "id": "1lVGJ-HRvvPN"
      },
      "source": [
        "## K-Means"
      ]
    },
    {
      "cell_type": "markdown",
      "metadata": {
        "id": "JCT1SB7_vvPN"
      },
      "source": [
        "Let us now fit k-means algorithm on our scaled data and find out the optimum number of clusters to use.\n",
        "\n",
        "We will do this in 3 steps:\n",
        "1. Initialize a dictionary to store the SSE for each k\n",
        "2. Run for a range of Ks and store SSE for each run\n",
        "3. Plot the SSE vs K and find the elbow"
      ]
    },
    {
      "cell_type": "code",
      "execution_count": null,
      "metadata": {
        "colab": {
          "base_uri": "https://localhost:8080/",
          "height": 278
        },
        "id": "HkQWkpSovvPN",
        "outputId": "b0d9fc09-30b9-4909-e464-86da53872d04"
      },
      "outputs": [
        {
          "data": {
            "image/png": "[encoded data removed]",
            "text/plain": [
              "<Figure size 432x288 with 1 Axes>"
            ]
          },
          "metadata": {
            "needs_background": "light"
          },
          "output_type": "display_data"
        }
      ],
      "source": [
        "# step 1\n",
        "WCSS = {}\n",
        "\n",
        "# step 2 - iterate for a range of Ks and fit the scaled data to the algorithm. Use inertia attribute from the clustering object and\n",
        "# store the inertia value for that k\n",
        "for k in range(1, 10):\n",
        "    kmeans = KMeans(n_clusters=k, max_iter=1000).fit(data_scaled)\n",
        "    WCSS[k] = kmeans.inertia_\n",
        "\n",
        "# step 3\n",
        "plt.figure()\n",
        "plt.plot(list(WCSS.keys()), list(WCSS.values()), 'bx-')\n",
        "plt.xlabel(\"Number of cluster\")\n",
        "plt.ylabel(\"WCSS\")\n",
        "plt.show()"
      ]
    },
    {
      "cell_type": "markdown",
      "metadata": {
        "id": "wYIbRxO2vvPO"
      },
      "source": [
        "**Observations:**\n",
        "- Looking at the plot, we can say that elbow point is achieved for k=3.\n",
        "- We will fit the k-means again with k=3 to get the labels."
      ]
    },
    {
      "cell_type": "code",
      "execution_count": null,
      "metadata": {
        "colab": {
          "base_uri": "https://localhost:8080/",
          "height": 278
        },
        "id": "eL3SjPC3tqSG",
        "outputId": "366d13de-4ff8-438f-d3b7-4c515845a369"
      },
      "outputs": [
        {
          "data": {
            "image/png": "[encoded data removed]",
            "text/plain": [
              "<Figure size 432x288 with 1 Axes>"
            ]
          },
          "metadata": {
            "needs_background": "light"
          },
          "output_type": "display_data"
        }
      ],
      "source": [
        "#Empty dictionary to store the Silhouette score for each value of k\n",
        "sc = {}\n",
        "\n",
        "# iterate for a range of Ks and fit the scaled data to the algorithm. Store the Silhouette score for that k\n",
        "for k in range(2, 10):\n",
        "    kmeans = KMeans(n_clusters=k).fit(data_scaled)\n",
        "    labels = kmeans.predict(data_scaled)\n",
        "    sc[k] = silhouette_score(data_scaled, labels)\n",
        "\n",
        "#Elbow plot\n",
        "plt.figure()\n",
        "plt.plot(list(sc.keys()), list(sc.values()), 'bx-')\n",
        "plt.xlabel(\"Number of cluster\")\n",
        "plt.ylabel(\"Silhouette Score\")\n",
        "plt.show()"
      ]
    },
    {
      "cell_type": "markdown",
      "metadata": {
        "id": "mYdAYWNNvvPO"
      },
      "source": [
        "\n",
        "**Fitting the K-means algorithms on the scaled data with number of cluster equal to 3 and Storing the predictions as 'Labels' to the 'data_scaled_copy' and 'data' dataframes**"
      ]
    },
    {
      "cell_type": "code",
      "source": [
        "kmeans = KMeans(n_clusters=3, max_iter= 1000, random_state=1)\n",
        "kmeans.fit(data_scaled)\n"
      ],
      "metadata": {
        "colab": {
          "base_uri": "https://localhost:8080/"
        },
        "id": "02XsFHajvcwz",
        "outputId": "d1321df8-7b0f-4e8b-b0c2-bbf55cf12e36"
      },
      "execution_count": null,
      "outputs": [
        {
          "output_type": "execute_result",
          "data": {
            "text/plain": [
              "KMeans(max_iter=1000, n_clusters=3, random_state=1)"
            ]
          },
          "metadata": {},
          "execution_count": 35
        }
      ]
    },
    {
      "cell_type": "code",
      "execution_count": null,
      "metadata": {
        "id": "bkeg6XsBvvPO"
      },
      "outputs": [],
      "source": [
        "\n",
        "#Adding predicted labels to the original data and scaled data\n",
        "data_scaled_copy['Labels'] = kmeans.predict(data_scaled)\n",
        "data['Labels'] = kmeans.predict(data_scaled)"
      ]
    },
    {
      "cell_type": "markdown",
      "metadata": {
        "id": "9SPMPRF1vvPP"
      },
      "source": [
        "We have generated the labels with k-means. Let us look at the various features based on the labels."
      ]
    },
    {
      "cell_type": "code",
      "source": [
        "data"
      ],
      "metadata": {
        "colab": {
          "base_uri": "https://localhost:8080/",
          "height": 424
        },
        "id": "JAT6yiiWvfiY",
        "outputId": "472c6e45-51b1-4ecb-f682-8171768b25ac"
      },
      "execution_count": null,
      "outputs": [
        {
          "output_type": "execute_result",
          "data": {
            "text/plain": [
              "     Avg_Credit_Limit  Total_Credit_Cards  Total_visits_bank  \\\n",
              "0              100000                   2                  1   \n",
              "1               50000                   3                  0   \n",
              "2               50000                   7                  1   \n",
              "3               30000                   5                  1   \n",
              "4              100000                   6                  0   \n",
              "..                ...                 ...                ...   \n",
              "650             99000                  10                  1   \n",
              "651             84000                  10                  1   \n",
              "652            145000                   8                  1   \n",
              "653            172000                  10                  1   \n",
              "654            167000                   9                  0   \n",
              "\n",
              "     Total_visits_online  Total_calls_made  Labels  \n",
              "0                      1                 0       1  \n",
              "1                     10                 9       0  \n",
              "2                      3                 4       1  \n",
              "3                      1                 4       1  \n",
              "4                     12                 3       2  \n",
              "..                   ...               ...     ...  \n",
              "650                   10                 0       2  \n",
              "651                   13                 2       2  \n",
              "652                    9                 1       2  \n",
              "653                   15                 0       2  \n",
              "654                   12                 2       2  \n",
              "\n",
              "[644 rows x 6 columns]"
            ],
            "text/html": [
              "\n",
              "  <div id=\"df-1385133a-13f1-4472-abdc-7f4331dc8706\">\n",
              "    <div class=\"colab-df-container\">\n",
              "      <div>\n",
              "<style scoped>\n",
              "    .dataframe tbody tr th:only-of-type {\n",
              "        vertical-align: middle;\n",
              "    }\n",
              "\n",
              "    .dataframe tbody tr th {\n",
              "        vertical-align: top;\n",
              "    }\n",
              "\n",
              "    .dataframe thead th {\n",
              "        text-align: right;\n",
              "    }\n",
              "</style>\n",
              "<table border=\"1\" class=\"dataframe\">\n",
              "  <thead>\n",
              "    <tr style=\"text-align: right;\">\n",
              "      <th></th>\n",
              "      <th>Avg_Credit_Limit</th>\n",
              "      <th>Total_Credit_Cards</th>\n",
              "      <th>Total_visits_bank</th>\n",
              "      <th>Total_visits_online</th>\n",
              "      <th>Total_calls_made</th>\n",
              "      <th>Labels</th>\n",
              "    </tr>\n",
              "  </thead>\n",
              "  <tbody>\n",
              "    <tr>\n",
              "      <th>0</th>\n",
              "      <td>100000</td>\n",
              "      <td>2</td>\n",
              "      <td>1</td>\n",
              "      <td>1</td>\n",
              "      <td>0</td>\n",
              "      <td>1</td>\n",
              "    </tr>\n",
              "    <tr>\n",
              "      <th>1</th>\n",
              "      <td>50000</td>\n",
              "      <td>3</td>\n",
              "      <td>0</td>\n",
              "      <td>10</td>\n",
              "      <td>9</td>\n",
              "      <td>0</td>\n",
              "    </tr>\n",
              "    <tr>\n",
              "      <th>2</th>\n",
              "      <td>50000</td>\n",
              "      <td>7</td>\n",
              "      <td>1</td>\n",
              "      <td>3</td>\n",
              "      <td>4</td>\n",
              "      <td>1</td>\n",
              "    </tr>\n",
              "    <tr>\n",
              "      <th>3</th>\n",
              "      <td>30000</td>\n",
              "      <td>5</td>\n",
              "      <td>1</td>\n",
              "      <td>1</td>\n",
              "      <td>4</td>\n",
              "      <td>1</td>\n",
              "    </tr>\n",
              "    <tr>\n",
              "      <th>4</th>\n",
              "      <td>100000</td>\n",
              "      <td>6</td>\n",
              "      <td>0</td>\n",
              "      <td>12</td>\n",
              "      <td>3</td>\n",
              "      <td>2</td>\n",
              "    </tr>\n",
              "    <tr>\n",
              "      <th>...</th>\n",
              "      <td>...</td>\n",
              "      <td>...</td>\n",
              "      <td>...</td>\n",
              "      <td>...</td>\n",
              "      <td>...</td>\n",
              "      <td>...</td>\n",
              "    </tr>\n",
              "    <tr>\n",
              "      <th>650</th>\n",
              "      <td>99000</td>\n",
              "      <td>10</td>\n",
              "      <td>1</td>\n",
              "      <td>10</td>\n",
              "      <td>0</td>\n",
              "      <td>2</td>\n",
              "    </tr>\n",
              "    <tr>\n",
              "      <th>651</th>\n",
              "      <td>84000</td>\n",
              "      <td>10</td>\n",
              "      <td>1</td>\n",
              "      <td>13</td>\n",
              "      <td>2</td>\n",
              "      <td>2</td>\n",
              "    </tr>\n",
              "    <tr>\n",
              "      <th>652</th>\n",
              "      <td>145000</td>\n",
              "      <td>8</td>\n",
              "      <td>1</td>\n",
              "      <td>9</td>\n",
              "      <td>1</td>\n",
              "      <td>2</td>\n",
              "    </tr>\n",
              "    <tr>\n",
              "      <th>653</th>\n",
              "      <td>172000</td>\n",
              "      <td>10</td>\n",
              "      <td>1</td>\n",
              "      <td>15</td>\n",
              "      <td>0</td>\n",
              "      <td>2</td>\n",
              "    </tr>\n",
              "    <tr>\n",
              "      <th>654</th>\n",
              "      <td>167000</td>\n",
              "      <td>9</td>\n",
              "      <td>0</td>\n",
              "      <td>12</td>\n",
              "      <td>2</td>\n",
              "      <td>2</td>\n",
              "    </tr>\n",
              "  </tbody>\n",
              "</table>\n",
              "<p>644 rows × 6 columns</p>\n",
              "</div>\n",
              "      <button class=\"colab-df-convert\" onclick=\"convertToInteractive('df-1385133a-13f1-4472-abdc-7f4331dc8706')\"\n",
              "              title=\"Convert this dataframe to an interactive table.\"\n",
              "              style=\"display:none;\">\n",
              "        \n",
              "  <svg xmlns=\"http://www.w3.org/2000/svg\" height=\"24px\"viewBox=\"0 0 24 24\"\n",
              "       width=\"24px\">\n",
              "    <path d=\"M0 0h24v24H0V0z\" fill=\"none\"/>\n",
              "    <path d=\"M18.56 5.44l.94 2.06.94-2.06 2.06-.94-2.06-.94-.94-2.06-.94 2.06-2.06.94zm-11 1L8.5 8.5l.94-2.06 2.06-.94-2.06-.94L8.5 2.5l-.94 2.06-2.06.94zm10 10l.94 2.06.94-2.06 2.06-.94-2.06-.94-.94-2.06-.94 2.06-2.06.94z\"/><path d=\"M17.41 7.96l-1.37-1.37c-.4-.4-.92-.59-1.43-.59-.52 0-1.04.2-1.43.59L10.3 9.45l-7.72 7.72c-.78.78-.78 2.05 0 2.83L4 21.41c.39.39.9.59 1.41.59.51 0 1.02-.2 1.41-.59l7.78-7.78 2.81-2.81c.8-.78.8-2.07 0-2.86zM5.41 20L4 18.59l7.72-7.72 1.47 1.35L5.41 20z\"/>\n",
              "  </svg>\n",
              "      </button>\n",
              "      \n",
              "  <style>\n",
              "    .colab-df-container {\n",
              "      display:flex;\n",
              "      flex-wrap:wrap;\n",
              "      gap: 12px;\n",
              "    }\n",
              "\n",
              "    .colab-df-convert {\n",
              "      background-color: #E8F0FE;\n",
              "      border: none;\n",
              "      border-radius: 50%;\n",
              "      cursor: pointer;\n",
              "      display: none;\n",
              "      fill: #1967D2;\n",
              "      height: 32px;\n",
              "      padding: 0 0 0 0;\n",
              "      width: 32px;\n",
              "    }\n",
              "\n",
              "    .colab-df-convert:hover {\n",
              "      background-color: #E2EBFA;\n",
              "      box-shadow: 0px 1px 2px rgba(60, 64, 67, 0.3), 0px 1px 3px 1px rgba(60, 64, 67, 0.15);\n",
              "      fill: #174EA6;\n",
              "    }\n",
              "\n",
              "    [theme=dark] .colab-df-convert {\n",
              "      background-color: #3B4455;\n",
              "      fill: #D2E3FC;\n",
              "    }\n",
              "\n",
              "    [theme=dark] .colab-df-convert:hover {\n",
              "      background-color: #434B5C;\n",
              "      box-shadow: 0px 1px 3px 1px rgba(0, 0, 0, 0.15);\n",
              "      filter: drop-shadow(0px 1px 2px rgba(0, 0, 0, 0.3));\n",
              "      fill: #FFFFFF;\n",
              "    }\n",
              "  </style>\n",
              "\n",
              "      <script>\n",
              "        const buttonEl =\n",
              "          document.querySelector('#df-1385133a-13f1-4472-abdc-7f4331dc8706 button.colab-df-convert');\n",
              "        buttonEl.style.display =\n",
              "          google.colab.kernel.accessAllowed ? 'block' : 'none';\n",
              "\n",
              "        async function convertToInteractive(key) {\n",
              "          const element = document.querySelector('#df-1385133a-13f1-4472-abdc-7f4331dc8706');\n",
              "          const dataTable =\n",
              "            await google.colab.kernel.invokeFunction('convertToInteractive',\n",
              "                                                     [key], {});\n",
              "          if (!dataTable) return;\n",
              "\n",
              "          const docLinkHtml = 'Like what you see? Visit the ' +\n",
              "            '<a target=\"_blank\" href=https://colab.research.google.com/notebooks/data_table.ipynb>data table notebook</a>'\n",
              "            + ' to learn more about interactive tables.';\n",
              "          element.innerHTML = '';\n",
              "          dataTable['output_type'] = 'display_data';\n",
              "          await google.colab.output.renderOutput(dataTable, element);\n",
              "          const docLink = document.createElement('div');\n",
              "          docLink.innerHTML = docLinkHtml;\n",
              "          element.appendChild(docLink);\n",
              "        }\n",
              "      </script>\n",
              "    </div>\n",
              "  </div>\n",
              "  "
            ]
          },
          "metadata": {},
          "execution_count": 37
        }
      ]
    },
    {
      "cell_type": "code",
      "source": [
        "import plotly.express as px\n",
        "fig = px.scatter_3d(pca_df, x='PC1', y='PC2', z='PC3',color=data['Labels'])\n",
        "fig.show()"
      ],
      "metadata": {
        "colab": {
          "base_uri": "https://localhost:8080/",
          "height": 542
        },
        "id": "6rdl87kGvkZE",
        "outputId": "41deb3dd-80b5-4563-f548-d605260e1499"
      },
      "execution_count": null,
      "outputs": [
        {
          "output_type": "display_data",
          "data": {
            "text/html": [
              "<html>\n",
              "<head><meta charset=\"utf-8\" /></head>\n",
              "<body>\n",
              "    <div>            <script src=\"https://cdnjs.cloudflare.com/ajax/libs/mathjax/2.7.5/MathJax.js?config=TeX-AMS-MML_SVG\"></script><script type=\"text/javascript\">if (window.MathJax) {MathJax.Hub.Config({SVG: {font: \"STIX-Web\"}});}</script>                <script type=\"text/javascript\">window.PlotlyConfig = {MathJaxConfig: 'local'};</script>\n",
              "        <script src=\"https://cdn.plot.ly/plotly-2.8.3.min.js\"></script>                <div id=\"a9731ff9-fe6f-4168-9577-c2d6ad033e6d\" class=\"plotly-graph-div\" style=\"height:525px; width:100%;\"></div>            <script type=\"text/javascript\">                                    window.PLOTLYENV=window.PLOTLYENV || {};                                    if (document.getElementById(\"a9731ff9-fe6f-4168-9577-c2d6ad033e6d\")) {                    Plotly.newPlot(                        \"a9731ff9-fe6f-4168-9577-c2d6ad033e6d\",                        [{\"hovertemplate\":\"PC1=%{x}<br>PC2=%{y}<br>PC3=%{z}<br>color=%{marker.color}<extra></extra>\",\"legendgroup\":\"\",\"marker\":{\"color\":[1,0,1,1,2,0,2,0,0,0,0,0,0,0,0,0,0,0,0,0,0,0,0,0,0,0,0,0,0,0,0,0,0,0,0,0,0,0,0,0,0,0,0,0,0,0,0,0,0,0,0,0,0,0,0,0,0,0,0,0,0,0,0,0,0,0,0,0,0,0,0,0,0,0,0,0,0,0,0,0,0,0,0,0,0,0,0,0,0,0,0,0,0,0,0,0,0,0,0,0,0,0,0,0,0,0,0,0,0,0,0,0,0,0,0,0,0,0,0,0,0,0,0,0,0,0,0,0,0,0,0,0,0,0,0,0,0,0,0,0,0,0,0,0,0,0,0,0,0,0,0,0,0,0,0,0,0,0,0,0,0,0,0,0,0,0,0,0,0,0,0,0,0,0,0,0,0,0,0,0,0,0,0,0,0,0,0,0,0,0,0,0,0,0,0,0,0,0,0,0,0,0,0,0,0,0,0,0,0,0,0,0,0,0,0,0,0,0,0,0,0,0,0,0,0,1,1,1,1,1,1,1,1,1,1,1,1,1,1,1,1,1,1,1,1,1,1,1,1,1,1,1,1,1,1,1,1,1,1,1,1,1,1,1,1,1,1,1,1,1,1,1,1,1,1,1,1,1,1,1,1,1,1,1,1,1,1,1,1,1,1,1,1,1,1,1,1,1,1,1,1,1,1,1,1,1,1,1,1,0,1,1,1,1,1,1,1,1,1,1,1,1,1,1,1,1,1,1,1,1,1,1,1,1,1,1,1,1,1,1,1,1,1,1,1,1,1,1,1,1,1,1,1,1,1,1,1,1,1,1,1,1,1,1,1,1,1,1,1,1,1,1,1,1,1,1,1,1,1,1,1,1,1,1,1,1,1,1,1,1,1,1,1,1,1,1,1,1,1,1,1,1,1,1,1,1,1,1,1,1,1,1,1,1,1,1,1,1,1,1,1,1,1,1,1,1,1,1,1,1,1,1,1,1,1,1,1,1,1,1,1,1,1,1,1,1,1,1,1,1,1,1,1,1,1,1,1,1,1,1,1,1,1,1,1,1,1,1,1,1,1,1,1,1,1,1,1,1,1,1,1,1,1,1,1,1,1,1,1,1,1,1,1,1,1,1,1,1,1,1,1,1,1,1,1,1,1,1,1,1,1,1,1,1,1,1,1,1,1,1,1,1,1,1,1,1,1,1,1,1,1,1,1,1,1,1,1,1,1,1,1,1,1,1,1,1,1,1,1,1,1,1,1,1,1,1,1,1,1,1,1,1,1,1,1,1,1,1,1,1,1,1,1,1,1,1,1,1,1,1,1,1,1,1,1,1,1,1,1,1,1,1,1,1,1,1,1,2,2,2,2,2,2,2,2,2,2,2,2,2,2,2,2,2,2,2,2,2,2,2,2,2,2,2,2,2,2,2,2,2,2,2,2,2,2,2,2,2,2,2,2,2,2,2],\"coloraxis\":\"coloraxis\",\"symbol\":\"circle\"},\"mode\":\"markers\",\"name\":\"\",\"scene\":\"scene\",\"showlegend\":false,\"x\":[0.5200750399959375,-1.4202384039296148,0.5396987821192188,-0.35270890442995473,1.3037227126690574,-1.9780151065844456,1.1829144072302382,-0.6893183389996909,-1.250004303745236,-1.733876485823159,-1.0964502562188783,-1.8372906464308547,-2.342297029876063,-1.9578493143708098,-1.5923869215162705,-2.0594820564289473,-1.3354317346751385,-1.5579613918906186,-1.799005209961641,-1.388584585312674,-1.0977276996402894,-2.0330181934500082,-1.2125037634693738,-1.649847921366166,-2.7585955961240924,-2.6132377608336763,-2.066210584513511,-2.405938277823113,-1.94504423981725,-1.5493826275780282,-0.9288793810096996,-1.381856057228111,-2.9412241262315604,-2.0352707737947378,-1.999724171375061,-1.373378923926965,-2.221826971654631,-1.7867927202547516,-1.93378603822402,-2.120194229596493,-1.4123690110109735,-2.2567366843683763,-0.5633726832958988,-1.3601912972967567,-0.7833115129492619,-1.6875605650287635,-1.7659014286166614,-1.8802949403690972,-1.8483143024348563,-1.29111405659619,-2.655391468286418,-1.529083920786608,-1.9645778424553728,-2.158523970924968,-2.4069134147464313,-1.5591945304527681,-2.0921834936572243,-2.784970849384509,-2.360622006771244,-1.6216224318777224,-1.221396262180144,-2.368539368558695,-1.9118518487537477,-1.551546598204235,-2.668579094916626,-1.5180159599233451,-1.7999360420256985,-1.0822431878060899,-2.628085382961944,-1.915606997199545,-1.955214181949431,-1.5901343411715412,-1.5004117823222005,-1.3553921942491716,-2.266188954592841,-1.355436499108433,-1.7221320305251213,-1.0079608359316874,-2.705933699321782,-2.1907985512173354,-1.7947986917607257,-1.2410872922152587,-1.8301352614103814,-1.3949993789990576,-1.0844957681508196,-1.7906609912382796,-1.4455416100344223,-1.1112092686286235,-2.3975940590997515,-1.4166198340711502,-1.6698083809401987,-2.797731619078807,-2.050118395923006,-1.9948213666993173,-1.0207216056259854,-2.034384246589942,-1.198844975043994,-1.3866108554164345,-2.5251751974823953,-1.7753093939818645,-2.1012089069457787,-2.5120318757114486,-1.8943117680519181,-2.347390075281774,-2.470172110616833,-2.2635538221714624,-1.3444571479636929,-1.6846116982092052,-1.3702398163774394,-1.3110745161702229,-0.7700795814597923,-2.4332886680068477,-1.8678479050729788,-0.891314743834522,-1.263505664773624,-1.8122371414511107,-2.3209705171620962,-1.4306939879061542,-1.1882924808351643,-2.1980425459563313,-0.9900184111131553,-2.2992927359378204,-1.2316350219907939,-2.2789054194278773,-1.8386123947115272,-1.4235829077449422,-1.6084348052475141,-1.9376543092075482,-0.7595713921102241,-1.4477498855198905,-1.2895426708166533,-1.5030026098843174,-1.3821499995862365,-1.9756014984593746,-1.2741910735602382,-1.2384078549346187,-1.978059411443707,-2.160687941551175,-2.4592813691906157,-2.84882213010158,-2.0176222913343316,-1.6064610753512747,-1.5599794266461195,-1.2960017693622983,-1.3770569541805255,-1.177695681767073,-2.2898847705726175,-1.5660559731151156,-2.7071225330246707,-1.929177175906402,-1.9112347510878702,-1.4784530800327205,-1.2779264299659818,-1.3690509826745512,-1.8299893255396753,-1.6719723515664056,-1.392452856296202,-2.0696519985611284,-1.8058666526239888,-1.5328192771923517,-3.0070736496640786,-1.0581648197496647,-2.259729856047196,-1.6769637659606722,-2.6817224166875726,-1.4834444944269871,-0.9635988529934774,-2.577925704003228,-1.5753310239025347,-2.215009833851545,-1.825424768081319,-1.7077112653327637,-2.0700788554970386,-1.3399962921334951,-1.4119666668942707,-1.938585141271605,-2.230450040826483,-1.0734278072875567,-1.9999144121050285,-2.41784846103191,-1.824147324659908,-2.082839625191337,-0.96873620325845,-1.1117575486160318,-1.9066701936295136,-1.8870677733129217,-1.6327920237524298,-1.1635772230728076,-2.246497924557726,-1.7488898358621867,-1.3184201419206638,-1.9399068895522775,-1.4656923103384223,-2.12278505715861,-2.292431293275473,-2.23036143110796,-2.0590108946337757,-1.6101391056048353,-2.290267322649266,-2.5672846000758756,-2.646410359857125,-2.1253315798614656,-1.2142851820189318,-1.8285638756308444,-1.309056481414722,-0.484291228373911,-2.4859948696684193,-2.8266976999013402,-1.0806274971672916,-1.008005140790949,-1.0870422908536754,-3.0334045980652338,-1.6743729383985553,-0.9948175141607407,-1.2018183546827597,-1.4698743157201302,-2.0173283489762057,-2.9938860230338706,-1.5396807198546991,-1.8414726518125624,-2.181837234828096,-1.6744172432578168,-0.9661453756963331,-2.2278592132643658,-1.9925687863545876,0.8374499237869265,0.07651615942313279,0.22750229881374698,0.349543742814716,0.7986964529088607,0.9165313787089144,0.37689413299845104,1.2164824953483226,0.8187585434943383,0.10165827412139956,0.4855577096392443,0.3669576796858931,0.03041706279462614,-0.018811784100032442,-0.5386574255335422,0.8140037453060144,0.24620670039925713,0.0525414929948657,0.2891453040453499,0.7783534412581792,1.1245516610135138,1.1376949827844605,0.10331826961945938,0.3206219668514439,-0.26503725729528904,-0.06641657621592635,0.30140209861150075,0.25595291298184747,0.31218913840955964,0.4005899489782277,0.6442688994706287,-0.43481640798993626,0.627684163652064,-0.21100930735304516,0.5655699966252895,0.06577342448433536,0.09728602800972448,1.0492498673565311,1.4785307275951658,0.7745294751339126,1.1641588457633998,0.5286422491560433,0.40774533399870105,0.023809957761561328,-0.04008562781477132,1.0628643509226494,0.25599721784110885,0.10072744205734233,0.6672027386834273,-0.15953624425362328,0.48187967938568393,0.9046128313601508,0.5150277655899248,0.8902004303077594,0.5256245646580161,0.18271345893962682,0.5163052090113359,0.11518414796899519,0.4958522022092432,0.7626192919251154,-0.4467708960579948,0.7242811864566739,0.8773953557541998,0.6332452434666274,-0.49900593592439474,0.27459998841517413,0.5307619149229887,-0.02135830680288807,1.1373567355670733,0.7111821695449885,0.5571371681834052,1.1377835925029833,0.1806954241841261,-0.2026650886296837,0.2537889423556406,-0.26342156665649075,0.4559755879204391,0.8510644073530449,0.31670939100865453,-0.05833035913139569,0.6230753013344463,0.26277005078493343,0.7323757676811709,0.20668812536789383,-0.7215798979991362,0.6860400548467217,-0.23959283609892992,0.620573083490852,-0.04297876187498063,0.37430330543633406,-0.0442921460156867,0.9837385911414002,1.3334668346628753,0.3584805463847474,-0.3477289815619742,-0.09627754838322201,-0.20177856142488784,0.6562233875386874,0.29076099468414823,0.41594154623464286,0.5035444393170379,1.2563836224563345,0.38523835172181264,1.229581512260008,1.2695712490865427,0.2643857414237318,0.010622331131353099,0.5009979166141822,0.578375071178849,0.5388121912882243,0.3672959269032805,0.38740232234801947,-0.29022367685281736,0.25247555821493456,1.1151880005075723,0.6575451358193598,-0.08385502590631137,-0.04352704186238917,0.5188517317141916,-0.0860189965325182,0.6703059055136579,0.35377005305568493,0.07307474537551492,0.7766934457601194,0.062477946307423725,0.9969705226308697,0.004928336739005515,0.3536814433371621,-0.4003908783642842,0.5916070026683187,0.8144306022419247,0.04156214185012581,0.4401528288688524,0.999178798116338,0.8584100331034858,0.041900389067513207,-0.2659237845000849,0.47976001361873843,-0.030766272168091097,0.12059929191285235,1.010158149261078,0.27595767741514166,0.4032693862588676,0.2704622878927281,0.31934452343003294,-0.3675565265582227,0.20414160266503822,0.10293571754281068,-0.061807713898308574,0.17810459662200906,0.022028539212003217,0.3261173563738574,0.08533153994166585,0.4002517017608404,0.539194743364873,-0.045142732501187464,-0.7478665415410298,0.5617903353602843,0.29974210311344096,-0.04862008726810035,1.0229632238146376,1.811968241282401,1.0509213543808769,1.4862344562292464,1.1693405645138328,0.27306460698113105,0.23261519988571058,0.8859084934008395,0.8546304354646793,0.7738003753261089,1.0064228564815327,0.9612874052500592,0.7783649327844652,1.3075185019645679,0.37545932580624675,0.583568217829369,1.2343034971153564,1.5092011087750208,0.3275194138592852,1.0067939170318958,0.261065814053811,0.7350469044480431,1.13184002423797,1.3415974202328662,0.5320065450114243,0.8142169690885538,1.3785251677021124,0.43088926960771956,1.0096541741329308,0.2765060210287488,1.2548566051622578,1.5661581334967691,0.37856562002279687,0.800827610202092,1.7065558379592582,1.3879576458865233,0.9429869411740861,0.1270698819847833,0.7856777452019306,0.6898426991642986,0.9255927963429624,0.3798315719179219,1.334868892148303,0.40451401634730316,0.24579133498963274,0.14289264103637006,1.2956442594750657,1.9025773273365376,1.0077690539552147,1.0315206663205385,0.8459187565743047,0.514950647397688,0.02411539164597316,1.626914611523576,0.38736950901504397,0.6532860122454154,0.6159428993665449,-0.006466379815358678,0.9791412203500683,0.13357328538968985,1.048105402139103,1.3258877837190102,0.6115919750615592,0.2202254907417753,1.0161690690641234,0.1569224900121127,0.2193832683962409,0.9111277262913432,0.7733407050572232,0.5808887805487292,0.36583766366147424,1.1471473166351238,0.4185438653230457,0.9255041866244396,0.32750792233299914,0.5958578257284954,-0.18254720165865876,0.950601996463445,1.0890259710296952,1.192307217059607,0.9343966853352096,1.1871255619353729,1.0505831071634892,1.3104558772578399,0.08295393616208831,0.7370534476772579,0.7106781944168414,1.5257087264013485,0.41715336299010286,1.6146135120981637,0.9634513758762658,1.7596774050304542,0.7383423826249548,1.2211716668706956,1.508652828787612,0.15777307649761343,0.2398033982391593,1.0332577800108351,0.4703635397798215,0.6689513439000098,1.3589915650639899,0.26204095097712965,1.1411478883583643,0.4478565575029329,1.5236333654936642,1.4278670735083028,0.6656757213893505,0.7813268208969449,1.2334169699105604,0.903085814066074,0.5017630207674798,0.5579549413359305,0.6899198173565355,0.7073582670469206,0.11863705354289901,0.05006378797047941,0.4005571356452522,0.8864895867212235,0.19725883819600126,1.1327593647757415,1.4572683754067128,0.5104746996578544,0.666013968606738,1.6895327536784974,1.1234071957960858,0.9583385384305012,1.47126541104948,-0.23793284060087014,0.10285859935057373,0.3057415313902005,0.3538388707341542,0.5520113094447184,0.16488415665882536,0.37588618274215696,0.49469624546552926,0.9281836239050795,0.21856549524371552,0.8931409966135496,1.037508603071012,1.479888480221332,1.1832687824781305,0.718459041243159,0.9374586746924982,0.9867318264464182,0.9651113713743257,0.809954654502091,0.8677737572356261,0.03818954548097719,0.01531150265372607,1.2275749690307933,1.4913275016349576,1.0395151463002266,1.618022112812806,1.0446968014244606,0.6701844824621594,0.30203068780366454,0.40753170084533036,1.128117689125148,1.119954290222182,1.2539502222912098,1.2466489014000302,1.2101808241996697,1.4202963230782053,1.4448901577890636,1.5197979078431116,1.6563961590005425,1.2475797334640875,1.1037489790939465,1.7443701126333002,1.7592620396208296,0.5711540594924247,0.4062511300375998,1.5943262968330294,1.074436350540258,1.053052511674108,0.514310157308407,0.8421276037830134,0.13186898503236869,1.1485378189680668,0.9080772284603406,0.9616256524674465,0.5482889743318965,1.8762463789353825,1.1165212403145304,0.6775744130718617,0.7852837015989959,0.8970863857893147,0.19993827547664117,0.8157195371896215,0.3857538183762456,0.4039985496928701,0.3181557533533435,1.0930750618336185,1.1067338502589983,-0.06215426162946356,1.277734647989509,1.4031518157459462,1.6014258854679555,0.9919134815706523,1.261496523528298,2.1115368058451605,0.5435784810028341,1.3394662629396348,0.8902364346532532,0.8443358792684817,0.12918954775172875,0.6154717375713733,1.0883973818375314,0.8799533699833414,0.6310484595074449,1.259409671094328,1.1106349345755018,3.515654975379832,2.7597980441163097,3.043341708000398,3.0147023828689656,2.6739437562504977,2.948171664871255,2.0885097204096197,2.963490448794694,3.0140540016367487,3.361787193455295,3.887028186792609,3.6563070174716046,3.1482058313361323,2.0543140155940427,3.150873777090486,3.396628088490571,2.7859960779396804,2.5745865775896615,4.3417977730868635,3.8052787861162667,2.8870884311533462,2.161430719274507,2.753246735468793,3.338055373130025,3.8016205479027594,2.911465441698316,3.1681021940108507,2.6384659715092895,3.0976964136337433,2.608094232817979,2.137219436640297,3.4343537534460906,4.038393750873552,2.941631847750023,3.297686275239359,2.551104394763255,2.9599093287734246,4.0190373676724755,2.9134078880282153,3.184066168153989,2.8426148554440416,3.7906855016172813,3.061026604177129,2.5947293867507253,2.8850015787193763,4.221316223339146,3.205239974250117],\"y\":[0.5135765769987236,3.098903948492157,0.8153144718165123,0.1274334611253333,3.6406648767406455,0.676306697871367,3.323296236758509,0.06631204360224534,0.25185203513878734,0.4291671970839471,1.2441766591041727,0.7474120822257134,0.8095767157791907,0.9121238551742293,0.30571485612335203,1.3563767590086342,0.154650155458847,0.6677739363698639,-0.011576800881254689,1.2159226394783746,0.45334786752467304,0.9913638475982395,0.6938677100055264,0.3030821954137784,0.9201812466378742,1.3258882321051015,1.613253317460602,0.2058800821053491,1.020016020655877,1.1571127122105511,0.8529902693906539,0.9590460810264068,1.5609858318933263,1.3488742086218206,0.8083793001652524,1.0094799344377188,1.031104459889424,1.1473756545460032,0.8614458142861382,0.586851556055019,0.9330265686783428,0.3274193198710077,0.05346151181040211,1.020093237261896,0.30491582756974167,1.0174576212339022,-0.24722675368486818,-0.1039857738614857,0.7655279354367042,-0.04645024518513104,1.5557177887842473,0.81357059392529,1.169000413626197,1.5389601976913616,1.35421923470843,-0.3161746137390104,0.48830101649601126,0.8989546409895197,1.1291825847289936,1.070524135354788,0.9220151124223263,0.2089908345427128,0.39812655079351456,1.1283835561753832,1.5451044859600702,0.6023349821849248,0.9436425931924516,-0.08666894920410532,0.6217250003588952,0.2960547814363344,0.4573346314931773,-0.05179550490022906,0.28416708002068863,0.5940331696160122,1.4253246190627762,0.7871529281453866,0.4096133770873895,0.5961906939162164,1.3488739749933318,0.3804858339918937,0.6134234214184714,0.8370317068513786,0.20013690258690045,0.7553130196728551,0.27084141181947574,0.6182163281181811,0.5484692058819398,0.1537739102992177,0.8356732111047849,0.5011461049079912,0.7424652095709435,0.5979427169784974,0.6447109768756145,0.6186144815500203,0.2951787699051937,0.5867745730774887,0.22096263311348374,1.1919863901429162,0.9683008881039902,0.657558786977526,1.2958076945009347,1.172033949457542,1.2795252398174188,0.9466761290237964,0.6532437383771177,0.9705353953817246,0.9621568334637705,-0.15481778070463725,-0.11013006213019409,0.3929327689720341,0.12240937186454436,1.3329926290600755,0.9145123284070241,0.09543935306925266,0.9587249105720976,0.1709296548239426,0.7747829761427762,1.2526324376281457,0.6863651596187129,1.3140005306894555,0.3738636876238839,1.6609745718663897,-0.26087359234039015,0.9311929365223796,0.14970304917558822,0.8984770165187074,1.0811374381789651,0.3322864878583158,0.7809316568991481,0.7128598083761464,1.033339200795647,0.5458365451723658,0.6700854266251285,1.187116266837188,1.0726816596549922,0.1891227246409522,0.8694264564007417,1.5102310416561937,1.2144871607542507,1.2490394346038176,0.83758654792821,1.0572011888435067,0.8848299442346969,0.7658493395195021,0.5329860133805228,0.9586479275945673,0.7561890312039958,0.5200612203010809,0.17180566635508318,0.38272034126962806,0.1603933349772957,0.6341748906574562,-0.03583694236095385,1.0669382465080546,0.44592206648690114,0.7137360535357756,0.6867633130505522,0.7936953698459344,0.8246590331588366,-0.294948008090656,1.1216798007136914,0.48518777599720464,1.6928144803389213,1.2897403892097565,1.3413714246065185,1.210179226331437,0.20197053474286375,0.9258476768072815,0.8454874853753517,0.38798838437870714,0.16031635199976543,1.4041752300204409,1.0840939910327796,0.4402558699459827,-0.1706991266378935,1.287505881932022,0.7348854425781111,0.059605800079110524,0.755713894794626,0.9860955708606716,0.9511451435792652,0.7830820670217572,0.532189706516844,1.011714441715453,-0.12521237950984004,0.34601054311985663,0.8428548246657779,0.01404183634503816,1.510308024633724,0.4856656340965059,0.887542543240221,0.689796848881897,0.9351868146684785,0.8485210212066965,0.8247387378262985,0.3486459255193621,0.8728583792924144,0.5807072677863107,0.8534678938614664,1.0050106862537613,0.9413308693086984,0.9170707278289992,0.5678596913128877,1.2799263485676784,0.17587676110720132,0.31026108728483964,1.0974196592339924,0.8383855764818204,0.8000007382472981,0.7893104524455908,0.33939111844177866,0.9073334365359625,1.0280709240580792,0.799923755269768,0.5799109609226317,1.1235136664981435,1.1265472023294885,1.1322931035378687,0.5412878259494353,0.9357389340553784,0.7725457471751102,1.221190682587454,0.27052024136516667,0.47321597742643373,0.2611041205264392,-0.964798527347922,-0.44282081448109273,-1.857298213162831,-0.55598102307182,-1.3843159196647696,-0.7079989518734845,-1.6830935700265464,-1.657873086232093,-1.3847940113925596,-1.4055427589416127,-0.44505508813033845,-0.9268143306066821,-0.36772843252975346,-1.627070503051846,-0.6188618114632725,-1.15185370227605,-0.6121582896300694,-0.7783822906517507,-2.0429924042829226,-0.8476540428501338,-1.829445068658804,-1.6257120073052522,-0.7119928300195837,-0.5086579220978713,-1.7830823099996098,-0.34953559634123255,-1.0771597073850387,-1.42110293442056,-0.752211534038558,-1.0139579821677656,-0.789396468597699,-1.227505317791884,-1.8126874775659183,-0.9498003071234012,-1.1434749067296073,-0.960888746356948,-1.2698813124825739,-1.17084580064667,-1.9460372001412038,-1.5699331278073307,-1.990724918715647,-1.6301040388831907,-1.5612331618065787,-0.6783937843071759,-0.13518923216350362,-1.4506311190093382,-1.6142226929499344,-0.4503233648679063,-1.5877278105640122,-1.6981758874061923,-0.9215490091875346,-1.5779907528994643,-1.3503187205205225,-0.9223453160512133,-1.078035952544668,-1.1726794328026333,-0.5594899289410228,-1.2990885602455318,-2.1119402643370644,-0.789717639052008,-0.254170070507187,-1.4878162871969676,-1.0302374815328614,-0.7712806153867082,-0.97326142004949,-0.8079876918465478,-1.4082551243186483,-1.558520796429543,-1.721552903177156,-1.8846691070798938,-1.387028518670294,-2.0119515243640014,-0.9556234249378005,-0.32000717812396556,-1.4498320904557276,-0.8964126225482062,-1.4262939945521087,-1.2445838457105902,-0.8446974899963192,-1.852030170053752,-1.333962004549408,-2.0642190099312767,-1.340103571128185,-0.8371179566319754,-0.26701788060909853,-0.921947162619374,-0.8066363102775491,-1.4585320564564797,-1.8126877111944069,-1.421424104874869,-0.7601894544632298,-1.5143109359544011,-2.0627835312071525,-0.9772481840179943,-0.4367535091899145,-0.99720039107488,-1.0821068136682974,-1.762731715882396,-1.1563227168315189,-0.9746155233084206,-0.8605018529520454,-1.5301922818876577,-1.0533004410271105,-1.2610202663491665,-1.5195789790634804,-1.1775493224798732,-0.6890070871313531,-0.7919521463297424,-1.0355827412479595,-1.067422649720491,-0.8309734347347784,-1.0245712849919428,-0.6272406070097153,-0.3973338337245506,-1.117779286525784,-1.165022682832271,-0.7920293629357613,-0.9547471797781713,-0.6280396355633258,-0.8207585189709292,-0.8640107588212482,-0.9374276334308592,-1.2623787620957605,-1.5412039717721626,-1.5346615300716149,-1.6968173916595986,-1.1510546737224396,-0.5511881163721103,-0.8654462375453722,-1.2180891969531566,-1.4422523234628954,-0.9533861959701344,-0.9821180736952341,-1.8612079941538051,-1.7391936199787772,-0.8575453000982307,-1.020982674455278,-1.143397923752077,-0.6537352557671489,-0.5034668619663224,-1.6862040888354215,-2.0536057071070997,-1.661866964378192,-0.8127805985462575,-1.299486713677371,-0.5767297706208729,-0.7685682500096725,-0.6147139673621128,-0.8282610693577427,-0.6939539597861232,-0.8044018029998147,-1.7494830306587135,-0.2965460651978768,-1.1097988780396695,-1.1647015123779616,-1.841416867229575,-0.674484003316202,-2.0588737502161787,-1.7707096363070678,-0.8176477665335655,-1.5783119233537735,-0.5840033928795616,-0.48911323708337423,-0.7064161541149176,0.13077290806233316,-1.086267429056668,-0.35600770198486764,-0.17829391935089126,-0.009755706384013524,-0.5738656937217312,-0.14988593377003256,-1.211315339063041,-0.8594714082088669,0.27042799903898246,-0.06305340306597888,-1.5707390369100473,-1.312658182295035,-1.6860498892518723,-0.5433840473673048,-0.23534743106877007,0.08018757675740361,-0.9933830860385788,-0.3112427668044057,-1.113561106367712,-0.43612393956850726,-1.1228230276228903,-0.6269319742141285,-0.6685091739796967,-1.0213833159485601,-0.26670948144200035,-0.15826472931647517,-1.0185964556554374,-1.0013610064632505,-1.1742843704589605,-1.055149332531728,-0.7183904407471317,-0.07838239598384675,-0.24779436604891059,-1.1727787893064126,-0.030183049850269053,-0.7139959211077501,-0.1987148495250176,-0.8566845479157441,-0.689735779628051,-0.3335770338019573,-0.6919702869057853,-0.7926835605163719,-1.0101404435029757,-1.383686583671851,-0.9194881197011778,0.0802647933634225,-0.9758965688205067,-0.4012504952646309,-0.44219101123119675,-0.8432688918213015,-0.60227367930259,-0.8103215556280614,-1.0474773232127115,-1.0474028282966241,-0.1734242633021401,0.1038028892670415,-0.24229762844019512,-0.8441451369809307,-0.7424811232946277,-0.958830578560523,-1.2503368610965655,-0.17350124627967037,-1.515438015511427,-0.10216467936424455,-0.9228300546996209,-1.4836753236449145,-0.07878054941568614,-1.2481023538188312,-0.3277564040490011,-0.5315666820085716,-0.786208733182805,-0.5254223937398632,-1.0973585899801463,-1.1099752175209787,-0.8488608270746214,-0.555903806465801,-0.3255218967712667,-0.584954132955278,-0.8900300375408235,-0.005845925393039581,-1.1986217285446785,-1.2198483341930328,-0.2883367285836371,0.17881805461236192,-1.2149039495997058,-1.182586183027873,-1.098157618533757,-0.41961030232391183,-1.52820860900732,-0.8281093578356366,-0.16910944833022046,-1.084585274794322,-0.6003603424791647,-0.25042974844841603,-1.2804173987007321,-0.4779475812438086,-1.0681515758456772,-0.8179714250493176,0.257502972331052,-0.703305401677554,-1.585339103702729,-0.21580025799282987,-1.2066023706592819,-0.5505585467507029,-0.206063200328282,-0.986509871644684,-0.12449871273330756,-0.4046052015502848,0.03788856504424398,-0.49134797798959734,-0.08962526842943126,-0.8326555889971242,-1.2175368439377683,0.23715261184232694,-1.254644795519379,-0.4659732946115946,-1.0765303713921202,-0.11995936212092617,-1.776224354954369,-0.5547963787450924,-0.03903993712450166,-0.8430374756317334,-0.11308638135552002,-0.24029181566209706,-1.0315187606734362,-0.31722031783084276,-1.0686267122550468,-0.5232648694396591,-0.3534520242528242,-0.82547420906462,-0.9756653862594274,-1.4360310522166568,-1.0999912506897203,-0.1684798787088131,-0.5468184583204206,-0.8664985885578221,-0.3546494398667625,-1.301091651333698,-0.23486933934098017,-0.489036254105844,-1.5428861260345088,0.19397735496953808,-1.1527368279847856,-0.55934260990658,-1.055781623843067,-0.8435155673595234,-0.3737185212149128,-0.2140436088143968,-0.8970574515182675,-0.29646884859185796,-1.326710288559991,-1.2418038659665736,-0.5946169293322272,-1.3625369610010267,-1.0345550181947127,-0.7330650024559002,-1.6913951489669703,-0.7594826682358035,-0.8642640812800878,-1.413767121276018,-1.3592720089801142,-1.6882843965296068,-0.8210821774866813,-1.3306198359224766,-0.8195763627056447,-0.12570277526786355,-0.37060800240603775,-0.8831791966731776,0.3181492534447704,-0.279081687877565,-0.3660686517936565,-0.8233166847644158,-0.6738544336947946,-1.5057009578468792,-0.782067536002263,-1.1154744431911372,-1.3520008747828685,-1.2244868076807047,-0.5318876188343921,-0.9841983813894194,-1.0636825612902086,-0.9452540759619137,-0.4107563703680995,-0.6632408972421288,-1.729938579272705,-0.013097641382456619,0.16828173476571498,-0.71894279376252,-1.1918478706545628,0.07052750207038591,-0.7516589473946809,-0.9130157804290541,-1.225517252423883,-0.7582082696443349,-0.028901770709694095,-1.4365986645806992,-1.3121803241957335,-1.3235926555735211,-0.12083560728055552,-0.9877072872586223,-0.025945451484368196,-0.32680317591184155,-0.8604246363460264,-1.1106045535138973,-0.6187073782512348,-0.4320530784448778,-0.8439909373973816,4.212506342593302,2.789428100786102,2.688620680423111,3.036721801157071,2.982624842293007,4.034715576981795,4.021790550273865,4.255360429011782,4.292719214990789,3.9376678968854044,4.731527736234805,3.0290522798994974,4.017707151491514,1.699503210080448,3.3816155346398205,4.021145721303803,3.583133740551954,3.0457326543863643,4.739662577932958,5.110819777612061,3.3506518713269178,2.6710793201252687,2.2738256251205717,2.467022600255965,3.6278790238960994,2.582487652181339,4.777890728522488,4.143327066349592,3.6295609445299566,2.543318811113372,2.6785818705120823,4.1319147349718035,4.881796130035632,3.5072957359575314,3.805672277569049,2.057167770687578,2.3979975235958038,4.258301488888454,3.57681560086338,2.7597260647774573,4.154746278276485,3.2597553600483407,2.6303827580069936,3.305184542406693,2.947500563591734,4.529952199181458,4.310738433387932],\"z\":[1.8187260335885094,-0.8819047463465356,0.11400557140029809,0.5680033391541187,-0.06836100793399211,0.25955444004620987,0.386230323792377,1.9105932752991575,1.706060559053186,0.38681803895301037,0.4595969782400461,0.4021588771822665,-0.8843863934457972,0.20582925920657438,-0.1976526546910983,0.23285779657367836,0.8449811329251197,1.1350120791439404,-0.24060318370271291,-0.6360218997742872,-0.18084941463266374,0.42290294077348445,-0.05725452649081016,0.8726722005531462,-0.17874583874860517,-0.7423631097249948,-0.36510986162617043,-0.9449934286989372,0.5685949352592335,0.08862820391710759,0.4287089941858264,-0.03805424157443834,-0.3503625873694629,0.5831638841510666,-0.9019335406108216,1.02841116698269,-0.8796456983447573,0.5593322632101559,-0.9057929872979373,-0.9066742357118617,-1.254071091304432,0.2640764169942481,0.12102154172548006,1.027639277645267,-0.20854048226069016,-0.7693636648612662,0.3558206958222896,0.11587801857406059,0.05108090026745493,-0.1287773715443752,-0.1204544715077346,0.3222864073894507,-0.3921383989932745,-0.3597066362642086,-0.14428609244864546,0.5903601477085567,1.1205245070977754,-0.17720206007375894,0.451365897738934,-0.7732231115483819,-0.30337231843842444,-0.5954592304589722,1.3566077376588888,0.4404780701693422,-0.11968258217031148,0.7691588457415885,0.6558986139849051,-0.24608778591034278,-1.018500047870199,-0.22449045613603355,-0.31796924956109046,-0.3579135980686804,0.2562761467743487,0.15199090262536788,-0.0016816553125887932,0.056196441188041714,-0.08497357634966964,0.5291347916476916,-0.3734223189729504,0.2602169703071323,-0.6790817878624028,0.20034465699894446,0.732383431429359,0.05851210920031117,-0.08582684253276064,0.5384788405424372,-0.19445573826490478,0.3750489629694944,-0.16591140445378727,-0.9113869485820684,0.1796819702533943,-0.44417327468909207,0.3070269460058626,-0.4114480429861473,0.2621635770323582,-0.40913237497387783,-0.22997505834366347,0.933388594882787,-0.4050821923645932,0.18585708495277944,0.5870233308381824,-0.5016485431393426,-1.0996975781848592,0.5463884698388372,-0.5684306930918679,-0.5254801640802533,0.31147995666552675,-0.0006605064544838642,-0.1241460355198364,-0.8217676018441272,-0.11351791016078704,-0.14274231377379923,-0.909652433985053,0.6088165255183384,0.4143307812161621,-0.335625755802616,0.6406391526013172,0.08168119988029933,0.29305156108657815,-0.261596506814613,-0.44307993414695723,-0.5981055348375912,0.4661027293057809,-0.17285840849059553,-0.33408197712776977,0.31611129269006555,-0.773995000885805,-0.9266464099656566,0.31371424783212837,0.06159966655000363,-0.04345746693640037,0.8758691169793394,0.5170722466902967,-0.743216375908086,-0.39607922252605804,-0.22765939033139407,0.1637599786088838,-0.007856770011973936,-0.5047361004890353,-0.16417688985677237,0.16607564662115315,0.7954154937712693,-0.53019287695046,0.5552820806008716,-0.9137026165943377,0.9118726419541457,-0.4281419239680808,-0.2949908948032708,-0.8222797889710078,0.1398189985914721,-0.8323957272031766,0.7668431777293191,-0.12954926088179838,0.324711434478221,-1.2846713909172762,0.5315318365056289,-0.6568753224420063,-0.6537063882466458,-1.1259542262145406,0.5888163690337104,-0.15491421780769477,-0.1831650826449332,-0.6004212028498606,-0.15054258399369824,-0.023116231395562313,0.08476875722999201,-0.34882925138447723,-0.4019946350149006,-0.1775711213608023,-0.09008911727025615,-0.3348538664651929,0.4589064657482908,-0.3859632842938894,-0.10483639152696365,0.23001949874466757,-0.03014461227803833,0.07094371544474921,0.361045595819377,1.019326820298487,-0.3037751464888041,0.3055925264075169,-0.6529344989092227,0.986151150462831,0.90801319526703,0.11742179724890682,-0.5778841010631145,0.8927537338834418,0.01459895492910442,-0.5053986307499575,0.2801077677152593,0.7692682048180891,-0.7663854665880745,1.0338143923446521,-0.2870812655068705,0.2872455076742363,0.26253263831940166,0.06090915405824839,-1.1466982898057585,-0.06460435857799819,0.31262090728999314,0.31725224331453183,0.4283061661354465,-0.06894222562865825,0.8177033360373337,0.8434373542502734,0.02059574426361498,-0.04386029498678048,0.17696347419074496,-0.06497341986504158,0.4333403302103652,0.6295605891095566,-0.05757597769552203,-0.7701355541986893,0.4325684408729421,0.7531554772514101,-0.27954069749751376,-0.38905084164358195,-0.15568610714511788,-0.296534673478117,-0.9111962126598994,-1.1497044703097832,-0.8659300156360155,0.3665581802578399,-0.548649254760242,-0.5717089863637295,0.9977190478343171,-0.04009266783519326,-0.263010827735139,-0.1729502280261244,0.3687540465037476,0.897293250372452,-0.9752013429512628,0.2299276792091388,-1.051105006980462,-0.5862883779454232,1.036891507004484,1.2354274339159448,0.9219781374964539,-0.5910290730464629,-0.15743106443199364,-0.07966217052323638,-0.5186249795789739,1.2631185015439712,-0.0199805931372174,0.039301381594078234,-0.1282066608189817,-0.2247730115937311,-0.3093795504627958,0.5439809822910391,-0.7274583954831344,0.07335829984365862,0.8757493152129778,-0.8079933955368725,-0.4266899648287634,-0.5487410742957706,0.30307567978321814,-0.44051500661400617,0.11104550393749213,-0.09009955996011697,0.03996391185500053,1.3581410736438742,0.02161689312171986,-0.19851636356405017,-0.15821339645927768,0.11424242036368565,-0.03472786739392498,-0.48151892890039477,-0.2185165200486781,0.05878935095182557,-0.023979940268513893,-0.46703135685422953,-0.7121989340995462,0.3102134197421952,0.012935374487896386,-0.7336335101825195,-0.9052222765725442,-0.4577686848051519,-0.21300393561021522,0.9946314904846245,0.4058171452573526,0.8826963192497861,0.42744245726249475,-1.0463922941102552,0.21455885874904967,0.7554607025738186,0.10490881415880073,-0.6938519153662653,0.6318658144319651,-0.048002297131593395,0.03184219043038941,1.1450361978405805,-0.9291632565899556,0.12435835859585434,0.23455901523367761,-0.5014911031541899,-0.9307070352648018,-0.03318408871907875,-0.7825086368446146,0.6889824642850331,-0.4561435292846378,-0.5463440294378331,-1.0756271404131277,0.7292040545441376,0.42733309818599385,-0.4929189435968672,-0.9345664819519176,-0.018436814462371057,0.7361510585809459,-0.4205148501293783,0.226078675211884,0.04470460695604026,0.16749962352963774,-0.12338458887227408,-0.845540699186525,-0.3556083727462717,0.41449866389117596,-0.46240002082969084,-0.1497226137476232,0.16896202535881605,0.6974732469966877,-0.30948890953929664,-0.3033137948399115,-0.24234814098958873,0.16113377290808384,-0.9013628298854284,0.1604712426471615,-0.23172001563053934,-0.19611931870611285,0.037566866997063124,-0.23249190496796246,0.16267755158293018,0.05956124028924868,0.8758586742894787,0.40272958790766,0.40504525591992946,0.7760954070885359,-0.5479691849583475,-0.27705714681023064,0.8038958337930632,-0.20237581025116586,0.49389271332044743,0.4168143319034454,-0.3125764668889891,-0.28794497437982247,0.76866419815568,0.7608639279357806,1.236199323253368,-0.32868919445566847,-0.23760744588854907,-0.9475102753232364,-0.36737744872978767,-0.0687743429536444,1.0446104003787153,0.8921497272210326,0.49775216000756317,-0.34740527447599273,1.007834986066486,-0.55105674230804,-0.6234328535446961,-0.861831752118079,0.5485029592390771,0.2648378636418102,-0.45757794888298303,-0.045605252273656076,0.8116147271672947,-0.3681493380672108,-0.019208703799794172,-0.976745121626109,-0.07252443056425928,-0.09646541058167082,0.29186640100891437,0.29487258151293894,0.05415801492728671,1.1189702857330683,-0.16291566663962356,0.04710165181397762,0.5972967090555042,0.5670407138945267,-0.08940904746836179,0.041507690529846875,-0.49369083293429034,0.41921137676138265,0.210699412061934,0.5988404877303505,1.1181983963956452,-0.005383662014551374,0.10856392111764235,0.6309969765753353,0.34030350009559235,-0.5726572331985936,-0.13951288811249205,0.855099039024722,0.49910204164399613,0.01016032269416778,-0.35791163020124706,0.5996371981823622,0.20839615460695898,0.5919058942508364,0.28533463557978006,0.5500591484712176,-0.2838518398455638,-0.47706591824073047,-0.40664685641916126,0.23010284345776896,-0.3165048798644786,0.3101164712229885,-0.9868766315318166,1.1906578523454026,0.08105117885449059,0.16809318750218627,-0.8957135061190292,0.6025340196098858,0.11896754379118654,0.2606093556676511,0.14908363850798326,0.4800111158041251,-0.8482130179285435,-0.1456880028118772,0.4737142314709449,0.30632795869167995,-0.9793360635224596,-0.20768524821016568,0.7654796922867808,-0.5423198611919482,0.9791781320626232,0.2315652452869473,-0.05784612259592545,-0.5169164793453583,0.12051132246603283,0.30172263703054064,0.24090929418169293,-0.9739328381604976,-0.2695425931642733,-1.1172122161147708,-0.042352973365194134,0.7691608136090219,0.14801165417189055,0.05626737534384869,0.3871134757943226,-0.0911591337389154,-0.45844678673961287,-0.1595820108854937,0.4962897581783848,-0.9554074940623424,0.26253460618683505,0.1496772024805318,-0.9546231941676251,-0.5610913036945409,-0.32801425363745196,0.3102687822244637,-0.847953315718001,0.7600764669248189,-0.4081092582483395,0.36664152497094127,0.14415220748477486,-0.8694692686466424,0.7422416353184187,-0.9683512874336612,0.03997632241229485,-0.3225016691989892,0.15506801728519953,-0.08247761510509219,-0.6020138491352616,-1.0168833671721123,-1.3196075897133472,0.28609411435990906,-0.08042164930336529,1.0903290034027442,0.5014332813298041,0.3705823485037249,0.12572381190582604,0.12726759058067227,0.14639890920867038,0.6527036654261456,-0.6044108939931988,-0.14345371164527573,-0.6129016767048533,1.3187747174352942,0.17210494519077701,0.12631737587837455,0.060236181107465245,0.7285135420523825,-0.12645973566467247,-0.0749370470957354,0.48143312484517636,-0.3581993146426224,-0.49059086502730354,0.6164280276835024,-0.05253984575317008,0.6898376983355575,-0.145960115579714,0.724666505922561,-0.9438291540009952,0.515230340884214,0.25396244662951256,0.14878354350931366,0.4342925127800964,0.6181625422805175,0.2747065102207307,-0.20519125483302167,0.3224667006217588,-0.09193102307633863,-0.4906722418729715,0.4189361028773016,-0.2584484579989738,0.9614402489754296,-0.6102169474055406,0.2653344790951522,-0.17056362585804796,0.2199869052256002,-0.5603070037998235,0.32938769029516757,0.44440845101226517,0.41517360470939246,0.7246540953652668,-0.4198399093111617,0.9568778792392644,0.2946662739172315,0.28231604451846126,0.010147912136873584,-0.38802772491804366,-0.6049230811200794,0.46831100610898296,-0.46914387838703614,-0.6212017234943391,0.4513294406856739,0.2647688973534365,-0.5054474983605121,1.103354173619731,0.13345511583735165,-1.1056338760534237,-0.08640602808058159,-0.9368007731185192,0.001738506270886955,-1.0750335764405792,-1.090471363189042,0.6434565650506064,0.14099568384670846,-0.5957293753593754,1.0260850562805601,-0.7606496369923293,-0.7668247516917145,-0.8472503926689516,-0.6212141340516334,-1.0765773551154254,0.6102529129841172,-0.6357830829434664,0.34416294678270803,0.3309314689700138,0.2121742244484066,-0.31017745416361847,-0.286248884703501,0.2668938294435371,-0.16448545967786943,0.2074459399046612,0.9861251360994314,0.036404560166554537,-0.28546458480878373,0.05233896236835928,0.7359571615425327,-0.13255347351838964,0.38729180115919726,-0.11016868273311858,-0.878813317541388,0.9360368671288396,-0.25093587222044994,-1.0810303657750897,-0.1722043530521008,1.0864695567156284,-0.4691562889443302,-0.7313868084586238,0.1281488389945962,-0.00906794445303699,0.8456456310534753,-0.2722734997842166,0.1966655035441367,0.15593369402558488,0.00908833835807504,-0.16363219349477826,0.2832786697780532,-0.45852816358528087,0.1324924905777597,-0.6036390046557757,-0.13583176679025097,0.8863898511293214,-0.1952640846555883,-0.013793067880537989,-0.023909006112706802,-0.2045976908604731,0.13123639634428877,0.31783536459721995,0.012366631629936349,0.6195155850331949,0.4690828954464061,0.7606576203400731,0.8772241275994505,-0.5995888220464912,-0.5842037100846259,-0.0059329522544909795,0.21910572109108817,-0.17169406951324157,-0.599269274429801,0.2693351480340834,-0.06853933329886677,0.37352344366385754,-0.3829232727471166,-0.6302417964459331,-1.0534609392220347,0.5924995225027967,0.554305915814586,0.37279188283514986,-0.42630264417251035,-0.11792467922040889,-0.3906545766786421,0.3727073448732373,-0.022405491667163994,0.027573418226926934,0.045945193795384254,0.5477311341810658,-0.22072276470503469,0.1425271162436723,-0.06691220991091906,0.22682461446531954,-0.69612647076217,-0.7702110822324418,-0.15547198287006167,-0.40382090486803274,0.19742504660367743,-0.7803270204646106,-0.19624095978108425,0.6071498482402978,0.03370432347311484,0.4945553078607816,-0.08197777425609393,-0.7737964482842875,-0.6039975589735463,0.36171015822714464,-0.3728887113606158,-0.226401263951078,-0.03285213054509429,-0.7862268612799145,0.03677947026551337,-0.5797506994249616,-0.24827583547690177],\"type\":\"scatter3d\"}],                        {\"template\":{\"data\":{\"bar\":[{\"error_x\":{\"color\":\"#2a3f5f\"},\"error_y\":{\"color\":\"#2a3f5f\"},\"marker\":{\"line\":{\"color\":\"#E5ECF6\",\"width\":0.5},\"pattern\":{\"fillmode\":\"overlay\",\"size\":10,\"solidity\":0.2}},\"type\":\"bar\"}],\"barpolar\":[{\"marker\":{\"line\":{\"color\":\"#E5ECF6\",\"width\":0.5},\"pattern\":{\"fillmode\":\"overlay\",\"size\":10,\"solidity\":0.2}},\"type\":\"barpolar\"}],\"carpet\":[{\"aaxis\":{\"endlinecolor\":\"#2a3f5f\",\"gridcolor\":\"white\",\"linecolor\":\"white\",\"minorgridcolor\":\"white\",\"startlinecolor\":\"#2a3f5f\"},\"baxis\":{\"endlinecolor\":\"#2a3f5f\",\"gridcolor\":\"white\",\"linecolor\":\"white\",\"minorgridcolor\":\"white\",\"startlinecolor\":\"#2a3f5f\"},\"type\":\"carpet\"}],\"choropleth\":[{\"colorbar\":{\"outlinewidth\":0,\"ticks\":\"\"},\"type\":\"choropleth\"}],\"contour\":[{\"colorbar\":{\"outlinewidth\":0,\"ticks\":\"\"},\"colorscale\":[[0.0,\"#0d0887\"],[0.1111111111111111,\"#46039f\"],[0.2222222222222222,\"#7201a8\"],[0.3333333333333333,\"#9c179e\"],[0.4444444444444444,\"#bd3786\"],[0.5555555555555556,\"#d8576b\"],[0.6666666666666666,\"#ed7953\"],[0.7777777777777778,\"#fb9f3a\"],[0.8888888888888888,\"#fdca26\"],[1.0,\"#f0f921\"]],\"type\":\"contour\"}],\"contourcarpet\":[{\"colorbar\":{\"outlinewidth\":0,\"ticks\":\"\"},\"type\":\"contourcarpet\"}],\"heatmap\":[{\"colorbar\":{\"outlinewidth\":0,\"ticks\":\"\"},\"colorscale\":[[0.0,\"#0d0887\"],[0.1111111111111111,\"#46039f\"],[0.2222222222222222,\"#7201a8\"],[0.3333333333333333,\"#9c179e\"],[0.4444444444444444,\"#bd3786\"],[0.5555555555555556,\"#d8576b\"],[0.6666666666666666,\"#ed7953\"],[0.7777777777777778,\"#fb9f3a\"],[0.8888888888888888,\"#fdca26\"],[1.0,\"#f0f921\"]],\"type\":\"heatmap\"}],\"heatmapgl\":[{\"colorbar\":{\"outlinewidth\":0,\"ticks\":\"\"},\"colorscale\":[[0.0,\"#0d0887\"],[0.1111111111111111,\"#46039f\"],[0.2222222222222222,\"#7201a8\"],[0.3333333333333333,\"#9c179e\"],[0.4444444444444444,\"#bd3786\"],[0.5555555555555556,\"#d8576b\"],[0.6666666666666666,\"#ed7953\"],[0.7777777777777778,\"#fb9f3a\"],[0.8888888888888888,\"#fdca26\"],[1.0,\"#f0f921\"]],\"type\":\"heatmapgl\"}],\"histogram\":[{\"marker\":{\"pattern\":{\"fillmode\":\"overlay\",\"size\":10,\"solidity\":0.2}},\"type\":\"histogram\"}],\"histogram2d\":[{\"colorbar\":{\"outlinewidth\":0,\"ticks\":\"\"},\"colorscale\":[[0.0,\"#0d0887\"],[0.1111111111111111,\"#46039f\"],[0.2222222222222222,\"#7201a8\"],[0.3333333333333333,\"#9c179e\"],[0.4444444444444444,\"#bd3786\"],[0.5555555555555556,\"#d8576b\"],[0.6666666666666666,\"#ed7953\"],[0.7777777777777778,\"#fb9f3a\"],[0.8888888888888888,\"#fdca26\"],[1.0,\"#f0f921\"]],\"type\":\"histogram2d\"}],\"histogram2dcontour\":[{\"colorbar\":{\"outlinewidth\":0,\"ticks\":\"\"},\"colorscale\":[[0.0,\"#0d0887\"],[0.1111111111111111,\"#46039f\"],[0.2222222222222222,\"#7201a8\"],[0.3333333333333333,\"#9c179e\"],[0.4444444444444444,\"#bd3786\"],[0.5555555555555556,\"#d8576b\"],[0.6666666666666666,\"#ed7953\"],[0.7777777777777778,\"#fb9f3a\"],[0.8888888888888888,\"#fdca26\"],[1.0,\"#f0f921\"]],\"type\":\"histogram2dcontour\"}],\"mesh3d\":[{\"colorbar\":{\"outlinewidth\":0,\"ticks\":\"\"},\"type\":\"mesh3d\"}],\"parcoords\":[{\"line\":{\"colorbar\":{\"outlinewidth\":0,\"ticks\":\"\"}},\"type\":\"parcoords\"}],\"pie\":[{\"automargin\":true,\"type\":\"pie\"}],\"scatter\":[{\"marker\":{\"colorbar\":{\"outlinewidth\":0,\"ticks\":\"\"}},\"type\":\"scatter\"}],\"scatter3d\":[{\"line\":{\"colorbar\":{\"outlinewidth\":0,\"ticks\":\"\"}},\"marker\":{\"colorbar\":{\"outlinewidth\":0,\"ticks\":\"\"}},\"type\":\"scatter3d\"}],\"scattercarpet\":[{\"marker\":{\"colorbar\":{\"outlinewidth\":0,\"ticks\":\"\"}},\"type\":\"scattercarpet\"}],\"scattergeo\":[{\"marker\":{\"colorbar\":{\"outlinewidth\":0,\"ticks\":\"\"}},\"type\":\"scattergeo\"}],\"scattergl\":[{\"marker\":{\"colorbar\":{\"outlinewidth\":0,\"ticks\":\"\"}},\"type\":\"scattergl\"}],\"scattermapbox\":[{\"marker\":{\"colorbar\":{\"outlinewidth\":0,\"ticks\":\"\"}},\"type\":\"scattermapbox\"}],\"scatterpolar\":[{\"marker\":{\"colorbar\":{\"outlinewidth\":0,\"ticks\":\"\"}},\"type\":\"scatterpolar\"}],\"scatterpolargl\":[{\"marker\":{\"colorbar\":{\"outlinewidth\":0,\"ticks\":\"\"}},\"type\":\"scatterpolargl\"}],\"scatterternary\":[{\"marker\":{\"colorbar\":{\"outlinewidth\":0,\"ticks\":\"\"}},\"type\":\"scatterternary\"}],\"surface\":[{\"colorbar\":{\"outlinewidth\":0,\"ticks\":\"\"},\"colorscale\":[[0.0,\"#0d0887\"],[0.1111111111111111,\"#46039f\"],[0.2222222222222222,\"#7201a8\"],[0.3333333333333333,\"#9c179e\"],[0.4444444444444444,\"#bd3786\"],[0.5555555555555556,\"#d8576b\"],[0.6666666666666666,\"#ed7953\"],[0.7777777777777778,\"#fb9f3a\"],[0.8888888888888888,\"#fdca26\"],[1.0,\"#f0f921\"]],\"type\":\"surface\"}],\"table\":[{\"cells\":{\"fill\":{\"color\":\"#EBF0F8\"},\"line\":{\"color\":\"white\"}},\"header\":{\"fill\":{\"color\":\"#C8D4E3\"},\"line\":{\"color\":\"white\"}},\"type\":\"table\"}]},\"layout\":{\"annotationdefaults\":{\"arrowcolor\":\"#2a3f5f\",\"arrowhead\":0,\"arrowwidth\":1},\"autotypenumbers\":\"strict\",\"coloraxis\":{\"colorbar\":{\"outlinewidth\":0,\"ticks\":\"\"}},\"colorscale\":{\"diverging\":[[0,\"#8e0152\"],[0.1,\"#c51b7d\"],[0.2,\"#de77ae\"],[0.3,\"#f1b6da\"],[0.4,\"#fde0ef\"],[0.5,\"#f7f7f7\"],[0.6,\"#e6f5d0\"],[0.7,\"#b8e186\"],[0.8,\"#7fbc41\"],[0.9,\"#4d9221\"],[1,\"#276419\"]],\"sequential\":[[0.0,\"#0d0887\"],[0.1111111111111111,\"#46039f\"],[0.2222222222222222,\"#7201a8\"],[0.3333333333333333,\"#9c179e\"],[0.4444444444444444,\"#bd3786\"],[0.5555555555555556,\"#d8576b\"],[0.6666666666666666,\"#ed7953\"],[0.7777777777777778,\"#fb9f3a\"],[0.8888888888888888,\"#fdca26\"],[1.0,\"#f0f921\"]],\"sequentialminus\":[[0.0,\"#0d0887\"],[0.1111111111111111,\"#46039f\"],[0.2222222222222222,\"#7201a8\"],[0.3333333333333333,\"#9c179e\"],[0.4444444444444444,\"#bd3786\"],[0.5555555555555556,\"#d8576b\"],[0.6666666666666666,\"#ed7953\"],[0.7777777777777778,\"#fb9f3a\"],[0.8888888888888888,\"#fdca26\"],[1.0,\"#f0f921\"]]},\"colorway\":[\"#636efa\",\"#EF553B\",\"#00cc96\",\"#ab63fa\",\"#FFA15A\",\"#19d3f3\",\"#FF6692\",\"#B6E880\",\"#FF97FF\",\"#FECB52\"],\"font\":{\"color\":\"#2a3f5f\"},\"geo\":{\"bgcolor\":\"white\",\"lakecolor\":\"white\",\"landcolor\":\"#E5ECF6\",\"showlakes\":true,\"showland\":true,\"subunitcolor\":\"white\"},\"hoverlabel\":{\"align\":\"left\"},\"hovermode\":\"closest\",\"mapbox\":{\"style\":\"light\"},\"paper_bgcolor\":\"white\",\"plot_bgcolor\":\"#E5ECF6\",\"polar\":{\"angularaxis\":{\"gridcolor\":\"white\",\"linecolor\":\"white\",\"ticks\":\"\"},\"bgcolor\":\"#E5ECF6\",\"radialaxis\":{\"gridcolor\":\"white\",\"linecolor\":\"white\",\"ticks\":\"\"}},\"scene\":{\"xaxis\":{\"backgroundcolor\":\"#E5ECF6\",\"gridcolor\":\"white\",\"gridwidth\":2,\"linecolor\":\"white\",\"showbackground\":true,\"ticks\":\"\",\"zerolinecolor\":\"white\"},\"yaxis\":{\"backgroundcolor\":\"#E5ECF6\",\"gridcolor\":\"white\",\"gridwidth\":2,\"linecolor\":\"white\",\"showbackground\":true,\"ticks\":\"\",\"zerolinecolor\":\"white\"},\"zaxis\":{\"backgroundcolor\":\"#E5ECF6\",\"gridcolor\":\"white\",\"gridwidth\":2,\"linecolor\":\"white\",\"showbackground\":true,\"ticks\":\"\",\"zerolinecolor\":\"white\"}},\"shapedefaults\":{\"line\":{\"color\":\"#2a3f5f\"}},\"ternary\":{\"aaxis\":{\"gridcolor\":\"white\",\"linecolor\":\"white\",\"ticks\":\"\"},\"baxis\":{\"gridcolor\":\"white\",\"linecolor\":\"white\",\"ticks\":\"\"},\"bgcolor\":\"#E5ECF6\",\"caxis\":{\"gridcolor\":\"white\",\"linecolor\":\"white\",\"ticks\":\"\"}},\"title\":{\"x\":0.05},\"xaxis\":{\"automargin\":true,\"gridcolor\":\"white\",\"linecolor\":\"white\",\"ticks\":\"\",\"title\":{\"standoff\":15},\"zerolinecolor\":\"white\",\"zerolinewidth\":2},\"yaxis\":{\"automargin\":true,\"gridcolor\":\"white\",\"linecolor\":\"white\",\"ticks\":\"\",\"title\":{\"standoff\":15},\"zerolinecolor\":\"white\",\"zerolinewidth\":2}}},\"scene\":{\"domain\":{\"x\":[0.0,1.0],\"y\":[0.0,1.0]},\"xaxis\":{\"title\":{\"text\":\"PC1\"}},\"yaxis\":{\"title\":{\"text\":\"PC2\"}},\"zaxis\":{\"title\":{\"text\":\"PC3\"}}},\"coloraxis\":{\"colorbar\":{\"title\":{\"text\":\"color\"}},\"colorscale\":[[0.0,\"#0d0887\"],[0.1111111111111111,\"#46039f\"],[0.2222222222222222,\"#7201a8\"],[0.3333333333333333,\"#9c179e\"],[0.4444444444444444,\"#bd3786\"],[0.5555555555555556,\"#d8576b\"],[0.6666666666666666,\"#ed7953\"],[0.7777777777777778,\"#fb9f3a\"],[0.8888888888888888,\"#fdca26\"],[1.0,\"#f0f921\"]]},\"legend\":{\"tracegroupgap\":0},\"margin\":{\"t\":60}},                        {\"responsive\": true}                    ).then(function(){\n",
              "                            \n",
              "var gd = document.getElementById('a9731ff9-fe6f-4168-9577-c2d6ad033e6d');\n",
              "var x = new MutationObserver(function (mutations, observer) {{\n",
              "        var display = window.getComputedStyle(gd).display;\n",
              "        if (!display || display === 'none') {{\n",
              "            console.log([gd, 'removed!']);\n",
              "            Plotly.purge(gd);\n",
              "            observer.disconnect();\n",
              "        }}\n",
              "}});\n",
              "\n",
              "// Listen for the removal of the full notebook cells\n",
              "var notebookContainer = gd.closest('#notebook-container');\n",
              "if (notebookContainer) {{\n",
              "    x.observe(notebookContainer, {childList: true});\n",
              "}}\n",
              "\n",
              "// Listen for the clearing of the current output cell\n",
              "var outputEl = gd.closest('.output');\n",
              "if (outputEl) {{\n",
              "    x.observe(outputEl, {childList: true});\n",
              "}}\n",
              "\n",
              "                        })                };                            </script>        </div>\n",
              "</body>\n",
              "</html>"
            ]
          },
          "metadata": {}
        }
      ]
    },
    {
      "cell_type": "markdown",
      "metadata": {
        "id": "tuLEkmr1vvPQ"
      },
      "source": [
        "#### **Creating cluster profiles using the below summary statistics and box plots for each label**"
      ]
    },
    {
      "cell_type": "code",
      "execution_count": null,
      "metadata": {
        "colab": {
          "base_uri": "https://localhost:8080/"
        },
        "id": "a5IB-oXEyeqC",
        "outputId": "aba03de0-02dd-4e30-ef54-df64ea19b075"
      },
      "outputs": [
        {
          "output_type": "execute_result",
          "data": {
            "text/plain": [
              "1    374\n",
              "0    221\n",
              "2     49\n",
              "Name: Labels, dtype: int64"
            ]
          },
          "metadata": {},
          "execution_count": 40
        }
      ],
      "source": [
        "#Number of observations in each cluster\n",
        "data.Labels.value_counts()"
      ]
    },
    {
      "cell_type": "code",
      "execution_count": null,
      "metadata": {
        "colab": {
          "base_uri": "https://localhost:8080/",
          "height": 206
        },
        "id": "VVLMMBjwyeqD",
        "outputId": "154d7104-883a-4d4c-89f3-6bdaaf8299c6"
      },
      "outputs": [
        {
          "output_type": "execute_result",
          "data": {
            "text/plain": [
              "                     group_0 Mean  group_1 Mean   group_2 Mean  \\\n",
              "Avg_Credit_Limit     12239.819005  33893.048128  140102.040816   \n",
              "Total_Credit_Cards       2.411765      5.508021       8.775510   \n",
              "Total_visits_bank        0.945701      3.489305       0.591837   \n",
              "Total_visits_online      3.561086      0.975936      10.979592   \n",
              "Total_calls_made         6.891403      1.997326       1.102041   \n",
              "\n",
              "                     group_0 Median  group_1 Median  group_2 Median  \n",
              "Avg_Credit_Limit            12000.0         31500.0        145000.0  \n",
              "Total_Credit_Cards              2.0             6.0             9.0  \n",
              "Total_visits_bank               1.0             3.0             1.0  \n",
              "Total_visits_online             4.0             1.0            11.0  \n",
              "Total_calls_made                7.0             2.0             1.0  "
            ],
            "text/html": [
              "\n",
              "  <div id=\"df-ba41c0d2-e317-4018-bff8-13389ff1a45e\">\n",
              "    <div class=\"colab-df-container\">\n",
              "      <div>\n",
              "<style scoped>\n",
              "    .dataframe tbody tr th:only-of-type {\n",
              "        vertical-align: middle;\n",
              "    }\n",
              "\n",
              "    .dataframe tbody tr th {\n",
              "        vertical-align: top;\n",
              "    }\n",
              "\n",
              "    .dataframe thead th {\n",
              "        text-align: right;\n",
              "    }\n",
              "</style>\n",
              "<table border=\"1\" class=\"dataframe\">\n",
              "  <thead>\n",
              "    <tr style=\"text-align: right;\">\n",
              "      <th></th>\n",
              "      <th>group_0 Mean</th>\n",
              "      <th>group_1 Mean</th>\n",
              "      <th>group_2 Mean</th>\n",
              "      <th>group_0 Median</th>\n",
              "      <th>group_1 Median</th>\n",
              "      <th>group_2 Median</th>\n",
              "    </tr>\n",
              "  </thead>\n",
              "  <tbody>\n",
              "    <tr>\n",
              "      <th>Avg_Credit_Limit</th>\n",
              "      <td>12239.819005</td>\n",
              "      <td>33893.048128</td>\n",
              "      <td>140102.040816</td>\n",
              "      <td>12000.0</td>\n",
              "      <td>31500.0</td>\n",
              "      <td>145000.0</td>\n",
              "    </tr>\n",
              "    <tr>\n",
              "      <th>Total_Credit_Cards</th>\n",
              "      <td>2.411765</td>\n",
              "      <td>5.508021</td>\n",
              "      <td>8.775510</td>\n",
              "      <td>2.0</td>\n",
              "      <td>6.0</td>\n",
              "      <td>9.0</td>\n",
              "    </tr>\n",
              "    <tr>\n",
              "      <th>Total_visits_bank</th>\n",
              "      <td>0.945701</td>\n",
              "      <td>3.489305</td>\n",
              "      <td>0.591837</td>\n",
              "      <td>1.0</td>\n",
              "      <td>3.0</td>\n",
              "      <td>1.0</td>\n",
              "    </tr>\n",
              "    <tr>\n",
              "      <th>Total_visits_online</th>\n",
              "      <td>3.561086</td>\n",
              "      <td>0.975936</td>\n",
              "      <td>10.979592</td>\n",
              "      <td>4.0</td>\n",
              "      <td>1.0</td>\n",
              "      <td>11.0</td>\n",
              "    </tr>\n",
              "    <tr>\n",
              "      <th>Total_calls_made</th>\n",
              "      <td>6.891403</td>\n",
              "      <td>1.997326</td>\n",
              "      <td>1.102041</td>\n",
              "      <td>7.0</td>\n",
              "      <td>2.0</td>\n",
              "      <td>1.0</td>\n",
              "    </tr>\n",
              "  </tbody>\n",
              "</table>\n",
              "</div>\n",
              "      <button class=\"colab-df-convert\" onclick=\"convertToInteractive('df-ba41c0d2-e317-4018-bff8-13389ff1a45e')\"\n",
              "              title=\"Convert this dataframe to an interactive table.\"\n",
              "              style=\"display:none;\">\n",
              "        \n",
              "  <svg xmlns=\"http://www.w3.org/2000/svg\" height=\"24px\"viewBox=\"0 0 24 24\"\n",
              "       width=\"24px\">\n",
              "    <path d=\"M0 0h24v24H0V0z\" fill=\"none\"/>\n",
              "    <path d=\"M18.56 5.44l.94 2.06.94-2.06 2.06-.94-2.06-.94-.94-2.06-.94 2.06-2.06.94zm-11 1L8.5 8.5l.94-2.06 2.06-.94-2.06-.94L8.5 2.5l-.94 2.06-2.06.94zm10 10l.94 2.06.94-2.06 2.06-.94-2.06-.94-.94-2.06-.94 2.06-2.06.94z\"/><path d=\"M17.41 7.96l-1.37-1.37c-.4-.4-.92-.59-1.43-.59-.52 0-1.04.2-1.43.59L10.3 9.45l-7.72 7.72c-.78.78-.78 2.05 0 2.83L4 21.41c.39.39.9.59 1.41.59.51 0 1.02-.2 1.41-.59l7.78-7.78 2.81-2.81c.8-.78.8-2.07 0-2.86zM5.41 20L4 18.59l7.72-7.72 1.47 1.35L5.41 20z\"/>\n",
              "  </svg>\n",
              "      </button>\n",
              "      \n",
              "  <style>\n",
              "    .colab-df-container {\n",
              "      display:flex;\n",
              "      flex-wrap:wrap;\n",
              "      gap: 12px;\n",
              "    }\n",
              "\n",
              "    .colab-df-convert {\n",
              "      background-color: #E8F0FE;\n",
              "      border: none;\n",
              "      border-radius: 50%;\n",
              "      cursor: pointer;\n",
              "      display: none;\n",
              "      fill: #1967D2;\n",
              "      height: 32px;\n",
              "      padding: 0 0 0 0;\n",
              "      width: 32px;\n",
              "    }\n",
              "\n",
              "    .colab-df-convert:hover {\n",
              "      background-color: #E2EBFA;\n",
              "      box-shadow: 0px 1px 2px rgba(60, 64, 67, 0.3), 0px 1px 3px 1px rgba(60, 64, 67, 0.15);\n",
              "      fill: #174EA6;\n",
              "    }\n",
              "\n",
              "    [theme=dark] .colab-df-convert {\n",
              "      background-color: #3B4455;\n",
              "      fill: #D2E3FC;\n",
              "    }\n",
              "\n",
              "    [theme=dark] .colab-df-convert:hover {\n",
              "      background-color: #434B5C;\n",
              "      box-shadow: 0px 1px 3px 1px rgba(0, 0, 0, 0.15);\n",
              "      filter: drop-shadow(0px 1px 2px rgba(0, 0, 0, 0.3));\n",
              "      fill: #FFFFFF;\n",
              "    }\n",
              "  </style>\n",
              "\n",
              "      <script>\n",
              "        const buttonEl =\n",
              "          document.querySelector('#df-ba41c0d2-e317-4018-bff8-13389ff1a45e button.colab-df-convert');\n",
              "        buttonEl.style.display =\n",
              "          google.colab.kernel.accessAllowed ? 'block' : 'none';\n",
              "\n",
              "        async function convertToInteractive(key) {\n",
              "          const element = document.querySelector('#df-ba41c0d2-e317-4018-bff8-13389ff1a45e');\n",
              "          const dataTable =\n",
              "            await google.colab.kernel.invokeFunction('convertToInteractive',\n",
              "                                                     [key], {});\n",
              "          if (!dataTable) return;\n",
              "\n",
              "          const docLinkHtml = 'Like what you see? Visit the ' +\n",
              "            '<a target=\"_blank\" href=https://colab.research.google.com/notebooks/data_table.ipynb>data table notebook</a>'\n",
              "            + ' to learn more about interactive tables.';\n",
              "          element.innerHTML = '';\n",
              "          dataTable['output_type'] = 'display_data';\n",
              "          await google.colab.output.renderOutput(dataTable, element);\n",
              "          const docLink = document.createElement('div');\n",
              "          docLink.innerHTML = docLinkHtml;\n",
              "          element.appendChild(docLink);\n",
              "        }\n",
              "      </script>\n",
              "    </div>\n",
              "  </div>\n",
              "  "
            ]
          },
          "metadata": {},
          "execution_count": 41
        }
      ],
      "source": [
        "#Calculating summary statistics of the original data for each label\n",
        "mean = data.groupby('Labels').mean()\n",
        "median = data.groupby('Labels').median()\n",
        "df_kmeans = pd.concat([mean, median], axis=0)\n",
        "df_kmeans.index = ['group_0 Mean', 'group_1 Mean', 'group_2 Mean', 'group_0 Median', 'group_1 Median', 'group_2 Median']\n",
        "df_kmeans.T"
      ]
    },
    {
      "cell_type": "code",
      "execution_count": null,
      "metadata": {
        "colab": {
          "base_uri": "https://localhost:8080/",
          "height": 480
        },
        "id": "bTnGIXvWvvPQ",
        "outputId": "2ae5bc27-1444-497e-aa00-fdd66497ed4a"
      },
      "outputs": [
        {
          "output_type": "display_data",
          "data": {
            "text/plain": [
              "<Figure size 1440x504 with 5 Axes>"
            ],
            "image/png": "[encoded data removed]"
          },
          "metadata": {
            "needs_background": "light"
          }
        }
      ],
      "source": [
        "#Visualizing different features w.r.t K-means labels\n",
        "data_scaled_copy.boxplot(by = 'Labels', layout = (1,5),figsize=(20,7))\n",
        "plt.show()"
      ]
    },
    {
      "cell_type": "markdown",
      "metadata": {
        "id": "nadx5OyGvvPR"
      },
      "source": [
        "**Cluster Profiles:**\n",
        "- Cluster 0 - Low Credit Cutsomers: This cluster represents customers with low spending and prefers to interact with the bank via calls and therefore they have less number of bank and online visits.\n",
        "- Cluster 1 - Medium Credit Customers: This cluster represents customers who spends comparatively more than low credit customers and visits the bank more often and therefore they have less number of calls and online visits.\n",
        "- Cluster 2 - High Credit Customers: This cluster represents customers with high spending and prefers to contact the bank through online channel and therefore they have less number of total calls and bank visits."
      ]
    },
    {
      "cell_type": "markdown",
      "metadata": {
        "id": "ixzPPJG6vvPV"
      },
      "source": [
        "## K-Medoids"
      ]
    },
    {
      "cell_type": "code",
      "execution_count": null,
      "metadata": {
        "id": "OI2TbqNhvvPV"
      },
      "outputs": [],
      "source": [
        "kmedo = KMedoids(n_clusters = 3, random_state=1)\n",
        "kmedo.fit(data_scaled)\n",
        "\n",
        "data_scaled_copy['kmedoLabels'] = kmedo.predict(data_scaled)\n",
        "data['kmedoLabels'] = kmedo.predict(data_scaled)"
      ]
    },
    {
      "cell_type": "code",
      "execution_count": null,
      "metadata": {
        "colab": {
          "base_uri": "https://localhost:8080/"
        },
        "id": "as8coXbwyeqG",
        "outputId": "ce1ef0b8-44d0-428e-be3d-ecb87f15bc72"
      },
      "outputs": [
        {
          "data": {
            "text/plain": [
              "2    289\n",
              "0    222\n",
              "1    133\n",
              "Name: kmedoLabels, dtype: int64"
            ]
          },
          "execution_count": 22,
          "metadata": {},
          "output_type": "execute_result"
        }
      ],
      "source": [
        "#Number of observations in each cluster\n",
        "data.kmedoLabels.value_counts()"
      ]
    },
    {
      "cell_type": "code",
      "source": [
        "import plotly.express as px\n",
        "fig = px.scatter_3d(pca_df, x='PC1', y='PC2', z='PC3',color=data['Labels'])\n",
        "fig.show()"
      ],
      "metadata": {
        "colab": {
          "base_uri": "https://localhost:8080/",
          "height": 542
        },
        "id": "VP5nkCgPwvml",
        "outputId": "0e918ec5-29ab-46e6-98cc-cc7223320851"
      },
      "execution_count": null,
      "outputs": [
        {
          "output_type": "display_data",
          "data": {
            "text/html": [
              "<html>\n",
              "<head><meta charset=\"utf-8\" /></head>\n",
              "<body>\n",
              "    <div>            <script src=\"https://cdnjs.cloudflare.com/ajax/libs/mathjax/2.7.5/MathJax.js?config=TeX-AMS-MML_SVG\"></script><script type=\"text/javascript\">if (window.MathJax) {MathJax.Hub.Config({SVG: {font: \"STIX-Web\"}});}</script>                <script type=\"text/javascript\">window.PlotlyConfig = {MathJaxConfig: 'local'};</script>\n",
              "        <script src=\"https://cdn.plot.ly/plotly-2.8.3.min.js\"></script>                <div id=\"205888b2-2cf0-4aeb-a2fe-1fa844ccb601\" class=\"plotly-graph-div\" style=\"height:525px; width:100%;\"></div>            <script type=\"text/javascript\">                                    window.PLOTLYENV=window.PLOTLYENV || {};                                    if (document.getElementById(\"205888b2-2cf0-4aeb-a2fe-1fa844ccb601\")) {                    Plotly.newPlot(                        \"205888b2-2cf0-4aeb-a2fe-1fa844ccb601\",                        [{\"hovertemplate\":\"PC1=%{x}<br>PC2=%{y}<br>PC3=%{z}<br>color=%{marker.color}<extra></extra>\",\"legendgroup\":\"\",\"marker\":{\"color\":[1,0,1,1,2,0,2,0,0,0,0,0,0,0,0,0,0,0,0,0,0,0,0,0,0,0,0,0,0,0,0,0,0,0,0,0,0,0,0,0,0,0,0,0,0,0,0,0,0,0,0,0,0,0,0,0,0,0,0,0,0,0,0,0,0,0,0,0,0,0,0,0,0,0,0,0,0,0,0,0,0,0,0,0,0,0,0,0,0,0,0,0,0,0,0,0,0,0,0,0,0,0,0,0,0,0,0,0,0,0,0,0,0,0,0,0,0,0,0,0,0,0,0,0,0,0,0,0,0,0,0,0,0,0,0,0,0,0,0,0,0,0,0,0,0,0,0,0,0,0,0,0,0,0,0,0,0,0,0,0,0,0,0,0,0,0,0,0,0,0,0,0,0,0,0,0,0,0,0,0,0,0,0,0,0,0,0,0,0,0,0,0,0,0,0,0,0,0,0,0,0,0,0,0,0,0,0,0,0,0,0,0,0,0,0,0,0,0,0,0,0,0,0,0,0,1,1,1,1,1,1,1,1,1,1,1,1,1,1,1,1,1,1,1,1,1,1,1,1,1,1,1,1,1,1,1,1,1,1,1,1,1,1,1,1,1,1,1,1,1,1,1,1,1,1,1,1,1,1,1,1,1,1,1,1,1,1,1,1,1,1,1,1,1,1,1,1,1,1,1,1,1,1,1,1,1,1,1,1,0,1,1,1,1,1,1,1,1,1,1,1,1,1,1,1,1,1,1,1,1,1,1,1,1,1,1,1,1,1,1,1,1,1,1,1,1,1,1,1,1,1,1,1,1,1,1,1,1,1,1,1,1,1,1,1,1,1,1,1,1,1,1,1,1,1,1,1,1,1,1,1,1,1,1,1,1,1,1,1,1,1,1,1,1,1,1,1,1,1,1,1,1,1,1,1,1,1,1,1,1,1,1,1,1,1,1,1,1,1,1,1,1,1,1,1,1,1,1,1,1,1,1,1,1,1,1,1,1,1,1,1,1,1,1,1,1,1,1,1,1,1,1,1,1,1,1,1,1,1,1,1,1,1,1,1,1,1,1,1,1,1,1,1,1,1,1,1,1,1,1,1,1,1,1,1,1,1,1,1,1,1,1,1,1,1,1,1,1,1,1,1,1,1,1,1,1,1,1,1,1,1,1,1,1,1,1,1,1,1,1,1,1,1,1,1,1,1,1,1,1,1,1,1,1,1,1,1,1,1,1,1,1,1,1,1,1,1,1,1,1,1,1,1,1,1,1,1,1,1,1,1,1,1,1,1,1,1,1,1,1,1,1,1,1,1,1,1,1,1,1,1,1,1,1,1,1,1,1,1,1,1,1,1,1,1,1,1,2,2,2,2,2,2,2,2,2,2,2,2,2,2,2,2,2,2,2,2,2,2,2,2,2,2,2,2,2,2,2,2,2,2,2,2,2,2,2,2,2,2,2,2,2,2,2],\"coloraxis\":\"coloraxis\",\"symbol\":\"circle\"},\"mode\":\"markers\",\"name\":\"\",\"scene\":\"scene\",\"showlegend\":false,\"x\":[0.5200750399959375,-1.4202384039296148,0.5396987821192188,-0.35270890442995473,1.3037227126690574,-1.9780151065844456,1.1829144072302382,-0.6893183389996909,-1.250004303745236,-1.733876485823159,-1.0964502562188783,-1.8372906464308547,-2.342297029876063,-1.9578493143708098,-1.5923869215162705,-2.0594820564289473,-1.3354317346751385,-1.5579613918906186,-1.799005209961641,-1.388584585312674,-1.0977276996402894,-2.0330181934500082,-1.2125037634693738,-1.649847921366166,-2.7585955961240924,-2.6132377608336763,-2.066210584513511,-2.405938277823113,-1.94504423981725,-1.5493826275780282,-0.9288793810096996,-1.381856057228111,-2.9412241262315604,-2.0352707737947378,-1.999724171375061,-1.373378923926965,-2.221826971654631,-1.7867927202547516,-1.93378603822402,-2.120194229596493,-1.4123690110109735,-2.2567366843683763,-0.5633726832958988,-1.3601912972967567,-0.7833115129492619,-1.6875605650287635,-1.7659014286166614,-1.8802949403690972,-1.8483143024348563,-1.29111405659619,-2.655391468286418,-1.529083920786608,-1.9645778424553728,-2.158523970924968,-2.4069134147464313,-1.5591945304527681,-2.0921834936572243,-2.784970849384509,-2.360622006771244,-1.6216224318777224,-1.221396262180144,-2.368539368558695,-1.9118518487537477,-1.551546598204235,-2.668579094916626,-1.5180159599233451,-1.7999360420256985,-1.0822431878060899,-2.628085382961944,-1.915606997199545,-1.955214181949431,-1.5901343411715412,-1.5004117823222005,-1.3553921942491716,-2.266188954592841,-1.355436499108433,-1.7221320305251213,-1.0079608359316874,-2.705933699321782,-2.1907985512173354,-1.7947986917607257,-1.2410872922152587,-1.8301352614103814,-1.3949993789990576,-1.0844957681508196,-1.7906609912382796,-1.4455416100344223,-1.1112092686286235,-2.3975940590997515,-1.4166198340711502,-1.6698083809401987,-2.797731619078807,-2.050118395923006,-1.9948213666993173,-1.0207216056259854,-2.034384246589942,-1.198844975043994,-1.3866108554164345,-2.5251751974823953,-1.7753093939818645,-2.1012089069457787,-2.5120318757114486,-1.8943117680519181,-2.347390075281774,-2.470172110616833,-2.2635538221714624,-1.3444571479636929,-1.6846116982092052,-1.3702398163774394,-1.3110745161702229,-0.7700795814597923,-2.4332886680068477,-1.8678479050729788,-0.891314743834522,-1.263505664773624,-1.8122371414511107,-2.3209705171620962,-1.4306939879061542,-1.1882924808351643,-2.1980425459563313,-0.9900184111131553,-2.2992927359378204,-1.2316350219907939,-2.2789054194278773,-1.8386123947115272,-1.4235829077449422,-1.6084348052475141,-1.9376543092075482,-0.7595713921102241,-1.4477498855198905,-1.2895426708166533,-1.5030026098843174,-1.3821499995862365,-1.9756014984593746,-1.2741910735602382,-1.2384078549346187,-1.978059411443707,-2.160687941551175,-2.4592813691906157,-2.84882213010158,-2.0176222913343316,-1.6064610753512747,-1.5599794266461195,-1.2960017693622983,-1.3770569541805255,-1.177695681767073,-2.2898847705726175,-1.5660559731151156,-2.7071225330246707,-1.929177175906402,-1.9112347510878702,-1.4784530800327205,-1.2779264299659818,-1.3690509826745512,-1.8299893255396753,-1.6719723515664056,-1.392452856296202,-2.0696519985611284,-1.8058666526239888,-1.5328192771923517,-3.0070736496640786,-1.0581648197496647,-2.259729856047196,-1.6769637659606722,-2.6817224166875726,-1.4834444944269871,-0.9635988529934774,-2.577925704003228,-1.5753310239025347,-2.215009833851545,-1.825424768081319,-1.7077112653327637,-2.0700788554970386,-1.3399962921334951,-1.4119666668942707,-1.938585141271605,-2.230450040826483,-1.0734278072875567,-1.9999144121050285,-2.41784846103191,-1.824147324659908,-2.082839625191337,-0.96873620325845,-1.1117575486160318,-1.9066701936295136,-1.8870677733129217,-1.6327920237524298,-1.1635772230728076,-2.246497924557726,-1.7488898358621867,-1.3184201419206638,-1.9399068895522775,-1.4656923103384223,-2.12278505715861,-2.292431293275473,-2.23036143110796,-2.0590108946337757,-1.6101391056048353,-2.290267322649266,-2.5672846000758756,-2.646410359857125,-2.1253315798614656,-1.2142851820189318,-1.8285638756308444,-1.309056481414722,-0.484291228373911,-2.4859948696684193,-2.8266976999013402,-1.0806274971672916,-1.008005140790949,-1.0870422908536754,-3.0334045980652338,-1.6743729383985553,-0.9948175141607407,-1.2018183546827597,-1.4698743157201302,-2.0173283489762057,-2.9938860230338706,-1.5396807198546991,-1.8414726518125624,-2.181837234828096,-1.6744172432578168,-0.9661453756963331,-2.2278592132643658,-1.9925687863545876,0.8374499237869265,0.07651615942313279,0.22750229881374698,0.349543742814716,0.7986964529088607,0.9165313787089144,0.37689413299845104,1.2164824953483226,0.8187585434943383,0.10165827412139956,0.4855577096392443,0.3669576796858931,0.03041706279462614,-0.018811784100032442,-0.5386574255335422,0.8140037453060144,0.24620670039925713,0.0525414929948657,0.2891453040453499,0.7783534412581792,1.1245516610135138,1.1376949827844605,0.10331826961945938,0.3206219668514439,-0.26503725729528904,-0.06641657621592635,0.30140209861150075,0.25595291298184747,0.31218913840955964,0.4005899489782277,0.6442688994706287,-0.43481640798993626,0.627684163652064,-0.21100930735304516,0.5655699966252895,0.06577342448433536,0.09728602800972448,1.0492498673565311,1.4785307275951658,0.7745294751339126,1.1641588457633998,0.5286422491560433,0.40774533399870105,0.023809957761561328,-0.04008562781477132,1.0628643509226494,0.25599721784110885,0.10072744205734233,0.6672027386834273,-0.15953624425362328,0.48187967938568393,0.9046128313601508,0.5150277655899248,0.8902004303077594,0.5256245646580161,0.18271345893962682,0.5163052090113359,0.11518414796899519,0.4958522022092432,0.7626192919251154,-0.4467708960579948,0.7242811864566739,0.8773953557541998,0.6332452434666274,-0.49900593592439474,0.27459998841517413,0.5307619149229887,-0.02135830680288807,1.1373567355670733,0.7111821695449885,0.5571371681834052,1.1377835925029833,0.1806954241841261,-0.2026650886296837,0.2537889423556406,-0.26342156665649075,0.4559755879204391,0.8510644073530449,0.31670939100865453,-0.05833035913139569,0.6230753013344463,0.26277005078493343,0.7323757676811709,0.20668812536789383,-0.7215798979991362,0.6860400548467217,-0.23959283609892992,0.620573083490852,-0.04297876187498063,0.37430330543633406,-0.0442921460156867,0.9837385911414002,1.3334668346628753,0.3584805463847474,-0.3477289815619742,-0.09627754838322201,-0.20177856142488784,0.6562233875386874,0.29076099468414823,0.41594154623464286,0.5035444393170379,1.2563836224563345,0.38523835172181264,1.229581512260008,1.2695712490865427,0.2643857414237318,0.010622331131353099,0.5009979166141822,0.578375071178849,0.5388121912882243,0.3672959269032805,0.38740232234801947,-0.29022367685281736,0.25247555821493456,1.1151880005075723,0.6575451358193598,-0.08385502590631137,-0.04352704186238917,0.5188517317141916,-0.0860189965325182,0.6703059055136579,0.35377005305568493,0.07307474537551492,0.7766934457601194,0.062477946307423725,0.9969705226308697,0.004928336739005515,0.3536814433371621,-0.4003908783642842,0.5916070026683187,0.8144306022419247,0.04156214185012581,0.4401528288688524,0.999178798116338,0.8584100331034858,0.041900389067513207,-0.2659237845000849,0.47976001361873843,-0.030766272168091097,0.12059929191285235,1.010158149261078,0.27595767741514166,0.4032693862588676,0.2704622878927281,0.31934452343003294,-0.3675565265582227,0.20414160266503822,0.10293571754281068,-0.061807713898308574,0.17810459662200906,0.022028539212003217,0.3261173563738574,0.08533153994166585,0.4002517017608404,0.539194743364873,-0.045142732501187464,-0.7478665415410298,0.5617903353602843,0.29974210311344096,-0.04862008726810035,1.0229632238146376,1.811968241282401,1.0509213543808769,1.4862344562292464,1.1693405645138328,0.27306460698113105,0.23261519988571058,0.8859084934008395,0.8546304354646793,0.7738003753261089,1.0064228564815327,0.9612874052500592,0.7783649327844652,1.3075185019645679,0.37545932580624675,0.583568217829369,1.2343034971153564,1.5092011087750208,0.3275194138592852,1.0067939170318958,0.261065814053811,0.7350469044480431,1.13184002423797,1.3415974202328662,0.5320065450114243,0.8142169690885538,1.3785251677021124,0.43088926960771956,1.0096541741329308,0.2765060210287488,1.2548566051622578,1.5661581334967691,0.37856562002279687,0.800827610202092,1.7065558379592582,1.3879576458865233,0.9429869411740861,0.1270698819847833,0.7856777452019306,0.6898426991642986,0.9255927963429624,0.3798315719179219,1.334868892148303,0.40451401634730316,0.24579133498963274,0.14289264103637006,1.2956442594750657,1.9025773273365376,1.0077690539552147,1.0315206663205385,0.8459187565743047,0.514950647397688,0.02411539164597316,1.626914611523576,0.38736950901504397,0.6532860122454154,0.6159428993665449,-0.006466379815358678,0.9791412203500683,0.13357328538968985,1.048105402139103,1.3258877837190102,0.6115919750615592,0.2202254907417753,1.0161690690641234,0.1569224900121127,0.2193832683962409,0.9111277262913432,0.7733407050572232,0.5808887805487292,0.36583766366147424,1.1471473166351238,0.4185438653230457,0.9255041866244396,0.32750792233299914,0.5958578257284954,-0.18254720165865876,0.950601996463445,1.0890259710296952,1.192307217059607,0.9343966853352096,1.1871255619353729,1.0505831071634892,1.3104558772578399,0.08295393616208831,0.7370534476772579,0.7106781944168414,1.5257087264013485,0.41715336299010286,1.6146135120981637,0.9634513758762658,1.7596774050304542,0.7383423826249548,1.2211716668706956,1.508652828787612,0.15777307649761343,0.2398033982391593,1.0332577800108351,0.4703635397798215,0.6689513439000098,1.3589915650639899,0.26204095097712965,1.1411478883583643,0.4478565575029329,1.5236333654936642,1.4278670735083028,0.6656757213893505,0.7813268208969449,1.2334169699105604,0.903085814066074,0.5017630207674798,0.5579549413359305,0.6899198173565355,0.7073582670469206,0.11863705354289901,0.05006378797047941,0.4005571356452522,0.8864895867212235,0.19725883819600126,1.1327593647757415,1.4572683754067128,0.5104746996578544,0.666013968606738,1.6895327536784974,1.1234071957960858,0.9583385384305012,1.47126541104948,-0.23793284060087014,0.10285859935057373,0.3057415313902005,0.3538388707341542,0.5520113094447184,0.16488415665882536,0.37588618274215696,0.49469624546552926,0.9281836239050795,0.21856549524371552,0.8931409966135496,1.037508603071012,1.479888480221332,1.1832687824781305,0.718459041243159,0.9374586746924982,0.9867318264464182,0.9651113713743257,0.809954654502091,0.8677737572356261,0.03818954548097719,0.01531150265372607,1.2275749690307933,1.4913275016349576,1.0395151463002266,1.618022112812806,1.0446968014244606,0.6701844824621594,0.30203068780366454,0.40753170084533036,1.128117689125148,1.119954290222182,1.2539502222912098,1.2466489014000302,1.2101808241996697,1.4202963230782053,1.4448901577890636,1.5197979078431116,1.6563961590005425,1.2475797334640875,1.1037489790939465,1.7443701126333002,1.7592620396208296,0.5711540594924247,0.4062511300375998,1.5943262968330294,1.074436350540258,1.053052511674108,0.514310157308407,0.8421276037830134,0.13186898503236869,1.1485378189680668,0.9080772284603406,0.9616256524674465,0.5482889743318965,1.8762463789353825,1.1165212403145304,0.6775744130718617,0.7852837015989959,0.8970863857893147,0.19993827547664117,0.8157195371896215,0.3857538183762456,0.4039985496928701,0.3181557533533435,1.0930750618336185,1.1067338502589983,-0.06215426162946356,1.277734647989509,1.4031518157459462,1.6014258854679555,0.9919134815706523,1.261496523528298,2.1115368058451605,0.5435784810028341,1.3394662629396348,0.8902364346532532,0.8443358792684817,0.12918954775172875,0.6154717375713733,1.0883973818375314,0.8799533699833414,0.6310484595074449,1.259409671094328,1.1106349345755018,3.515654975379832,2.7597980441163097,3.043341708000398,3.0147023828689656,2.6739437562504977,2.948171664871255,2.0885097204096197,2.963490448794694,3.0140540016367487,3.361787193455295,3.887028186792609,3.6563070174716046,3.1482058313361323,2.0543140155940427,3.150873777090486,3.396628088490571,2.7859960779396804,2.5745865775896615,4.3417977730868635,3.8052787861162667,2.8870884311533462,2.161430719274507,2.753246735468793,3.338055373130025,3.8016205479027594,2.911465441698316,3.1681021940108507,2.6384659715092895,3.0976964136337433,2.608094232817979,2.137219436640297,3.4343537534460906,4.038393750873552,2.941631847750023,3.297686275239359,2.551104394763255,2.9599093287734246,4.0190373676724755,2.9134078880282153,3.184066168153989,2.8426148554440416,3.7906855016172813,3.061026604177129,2.5947293867507253,2.8850015787193763,4.221316223339146,3.205239974250117],\"y\":[0.5135765769987236,3.098903948492157,0.8153144718165123,0.1274334611253333,3.6406648767406455,0.676306697871367,3.323296236758509,0.06631204360224534,0.25185203513878734,0.4291671970839471,1.2441766591041727,0.7474120822257134,0.8095767157791907,0.9121238551742293,0.30571485612335203,1.3563767590086342,0.154650155458847,0.6677739363698639,-0.011576800881254689,1.2159226394783746,0.45334786752467304,0.9913638475982395,0.6938677100055264,0.3030821954137784,0.9201812466378742,1.3258882321051015,1.613253317460602,0.2058800821053491,1.020016020655877,1.1571127122105511,0.8529902693906539,0.9590460810264068,1.5609858318933263,1.3488742086218206,0.8083793001652524,1.0094799344377188,1.031104459889424,1.1473756545460032,0.8614458142861382,0.586851556055019,0.9330265686783428,0.3274193198710077,0.05346151181040211,1.020093237261896,0.30491582756974167,1.0174576212339022,-0.24722675368486818,-0.1039857738614857,0.7655279354367042,-0.04645024518513104,1.5557177887842473,0.81357059392529,1.169000413626197,1.5389601976913616,1.35421923470843,-0.3161746137390104,0.48830101649601126,0.8989546409895197,1.1291825847289936,1.070524135354788,0.9220151124223263,0.2089908345427128,0.39812655079351456,1.1283835561753832,1.5451044859600702,0.6023349821849248,0.9436425931924516,-0.08666894920410532,0.6217250003588952,0.2960547814363344,0.4573346314931773,-0.05179550490022906,0.28416708002068863,0.5940331696160122,1.4253246190627762,0.7871529281453866,0.4096133770873895,0.5961906939162164,1.3488739749933318,0.3804858339918937,0.6134234214184714,0.8370317068513786,0.20013690258690045,0.7553130196728551,0.27084141181947574,0.6182163281181811,0.5484692058819398,0.1537739102992177,0.8356732111047849,0.5011461049079912,0.7424652095709435,0.5979427169784974,0.6447109768756145,0.6186144815500203,0.2951787699051937,0.5867745730774887,0.22096263311348374,1.1919863901429162,0.9683008881039902,0.657558786977526,1.2958076945009347,1.172033949457542,1.2795252398174188,0.9466761290237964,0.6532437383771177,0.9705353953817246,0.9621568334637705,-0.15481778070463725,-0.11013006213019409,0.3929327689720341,0.12240937186454436,1.3329926290600755,0.9145123284070241,0.09543935306925266,0.9587249105720976,0.1709296548239426,0.7747829761427762,1.2526324376281457,0.6863651596187129,1.3140005306894555,0.3738636876238839,1.6609745718663897,-0.26087359234039015,0.9311929365223796,0.14970304917558822,0.8984770165187074,1.0811374381789651,0.3322864878583158,0.7809316568991481,0.7128598083761464,1.033339200795647,0.5458365451723658,0.6700854266251285,1.187116266837188,1.0726816596549922,0.1891227246409522,0.8694264564007417,1.5102310416561937,1.2144871607542507,1.2490394346038176,0.83758654792821,1.0572011888435067,0.8848299442346969,0.7658493395195021,0.5329860133805228,0.9586479275945673,0.7561890312039958,0.5200612203010809,0.17180566635508318,0.38272034126962806,0.1603933349772957,0.6341748906574562,-0.03583694236095385,1.0669382465080546,0.44592206648690114,0.7137360535357756,0.6867633130505522,0.7936953698459344,0.8246590331588366,-0.294948008090656,1.1216798007136914,0.48518777599720464,1.6928144803389213,1.2897403892097565,1.3413714246065185,1.210179226331437,0.20197053474286375,0.9258476768072815,0.8454874853753517,0.38798838437870714,0.16031635199976543,1.4041752300204409,1.0840939910327796,0.4402558699459827,-0.1706991266378935,1.287505881932022,0.7348854425781111,0.059605800079110524,0.755713894794626,0.9860955708606716,0.9511451435792652,0.7830820670217572,0.532189706516844,1.011714441715453,-0.12521237950984004,0.34601054311985663,0.8428548246657779,0.01404183634503816,1.510308024633724,0.4856656340965059,0.887542543240221,0.689796848881897,0.9351868146684785,0.8485210212066965,0.8247387378262985,0.3486459255193621,0.8728583792924144,0.5807072677863107,0.8534678938614664,1.0050106862537613,0.9413308693086984,0.9170707278289992,0.5678596913128877,1.2799263485676784,0.17587676110720132,0.31026108728483964,1.0974196592339924,0.8383855764818204,0.8000007382472981,0.7893104524455908,0.33939111844177866,0.9073334365359625,1.0280709240580792,0.799923755269768,0.5799109609226317,1.1235136664981435,1.1265472023294885,1.1322931035378687,0.5412878259494353,0.9357389340553784,0.7725457471751102,1.221190682587454,0.27052024136516667,0.47321597742643373,0.2611041205264392,-0.964798527347922,-0.44282081448109273,-1.857298213162831,-0.55598102307182,-1.3843159196647696,-0.7079989518734845,-1.6830935700265464,-1.657873086232093,-1.3847940113925596,-1.4055427589416127,-0.44505508813033845,-0.9268143306066821,-0.36772843252975346,-1.627070503051846,-0.6188618114632725,-1.15185370227605,-0.6121582896300694,-0.7783822906517507,-2.0429924042829226,-0.8476540428501338,-1.829445068658804,-1.6257120073052522,-0.7119928300195837,-0.5086579220978713,-1.7830823099996098,-0.34953559634123255,-1.0771597073850387,-1.42110293442056,-0.752211534038558,-1.0139579821677656,-0.789396468597699,-1.227505317791884,-1.8126874775659183,-0.9498003071234012,-1.1434749067296073,-0.960888746356948,-1.2698813124825739,-1.17084580064667,-1.9460372001412038,-1.5699331278073307,-1.990724918715647,-1.6301040388831907,-1.5612331618065787,-0.6783937843071759,-0.13518923216350362,-1.4506311190093382,-1.6142226929499344,-0.4503233648679063,-1.5877278105640122,-1.6981758874061923,-0.9215490091875346,-1.5779907528994643,-1.3503187205205225,-0.9223453160512133,-1.078035952544668,-1.1726794328026333,-0.5594899289410228,-1.2990885602455318,-2.1119402643370644,-0.789717639052008,-0.254170070507187,-1.4878162871969676,-1.0302374815328614,-0.7712806153867082,-0.97326142004949,-0.8079876918465478,-1.4082551243186483,-1.558520796429543,-1.721552903177156,-1.8846691070798938,-1.387028518670294,-2.0119515243640014,-0.9556234249378005,-0.32000717812396556,-1.4498320904557276,-0.8964126225482062,-1.4262939945521087,-1.2445838457105902,-0.8446974899963192,-1.852030170053752,-1.333962004549408,-2.0642190099312767,-1.340103571128185,-0.8371179566319754,-0.26701788060909853,-0.921947162619374,-0.8066363102775491,-1.4585320564564797,-1.8126877111944069,-1.421424104874869,-0.7601894544632298,-1.5143109359544011,-2.0627835312071525,-0.9772481840179943,-0.4367535091899145,-0.99720039107488,-1.0821068136682974,-1.762731715882396,-1.1563227168315189,-0.9746155233084206,-0.8605018529520454,-1.5301922818876577,-1.0533004410271105,-1.2610202663491665,-1.5195789790634804,-1.1775493224798732,-0.6890070871313531,-0.7919521463297424,-1.0355827412479595,-1.067422649720491,-0.8309734347347784,-1.0245712849919428,-0.6272406070097153,-0.3973338337245506,-1.117779286525784,-1.165022682832271,-0.7920293629357613,-0.9547471797781713,-0.6280396355633258,-0.8207585189709292,-0.8640107588212482,-0.9374276334308592,-1.2623787620957605,-1.5412039717721626,-1.5346615300716149,-1.6968173916595986,-1.1510546737224396,-0.5511881163721103,-0.8654462375453722,-1.2180891969531566,-1.4422523234628954,-0.9533861959701344,-0.9821180736952341,-1.8612079941538051,-1.7391936199787772,-0.8575453000982307,-1.020982674455278,-1.143397923752077,-0.6537352557671489,-0.5034668619663224,-1.6862040888354215,-2.0536057071070997,-1.661866964378192,-0.8127805985462575,-1.299486713677371,-0.5767297706208729,-0.7685682500096725,-0.6147139673621128,-0.8282610693577427,-0.6939539597861232,-0.8044018029998147,-1.7494830306587135,-0.2965460651978768,-1.1097988780396695,-1.1647015123779616,-1.841416867229575,-0.674484003316202,-2.0588737502161787,-1.7707096363070678,-0.8176477665335655,-1.5783119233537735,-0.5840033928795616,-0.48911323708337423,-0.7064161541149176,0.13077290806233316,-1.086267429056668,-0.35600770198486764,-0.17829391935089126,-0.009755706384013524,-0.5738656937217312,-0.14988593377003256,-1.211315339063041,-0.8594714082088669,0.27042799903898246,-0.06305340306597888,-1.5707390369100473,-1.312658182295035,-1.6860498892518723,-0.5433840473673048,-0.23534743106877007,0.08018757675740361,-0.9933830860385788,-0.3112427668044057,-1.113561106367712,-0.43612393956850726,-1.1228230276228903,-0.6269319742141285,-0.6685091739796967,-1.0213833159485601,-0.26670948144200035,-0.15826472931647517,-1.0185964556554374,-1.0013610064632505,-1.1742843704589605,-1.055149332531728,-0.7183904407471317,-0.07838239598384675,-0.24779436604891059,-1.1727787893064126,-0.030183049850269053,-0.7139959211077501,-0.1987148495250176,-0.8566845479157441,-0.689735779628051,-0.3335770338019573,-0.6919702869057853,-0.7926835605163719,-1.0101404435029757,-1.383686583671851,-0.9194881197011778,0.0802647933634225,-0.9758965688205067,-0.4012504952646309,-0.44219101123119675,-0.8432688918213015,-0.60227367930259,-0.8103215556280614,-1.0474773232127115,-1.0474028282966241,-0.1734242633021401,0.1038028892670415,-0.24229762844019512,-0.8441451369809307,-0.7424811232946277,-0.958830578560523,-1.2503368610965655,-0.17350124627967037,-1.515438015511427,-0.10216467936424455,-0.9228300546996209,-1.4836753236449145,-0.07878054941568614,-1.2481023538188312,-0.3277564040490011,-0.5315666820085716,-0.786208733182805,-0.5254223937398632,-1.0973585899801463,-1.1099752175209787,-0.8488608270746214,-0.555903806465801,-0.3255218967712667,-0.584954132955278,-0.8900300375408235,-0.005845925393039581,-1.1986217285446785,-1.2198483341930328,-0.2883367285836371,0.17881805461236192,-1.2149039495997058,-1.182586183027873,-1.098157618533757,-0.41961030232391183,-1.52820860900732,-0.8281093578356366,-0.16910944833022046,-1.084585274794322,-0.6003603424791647,-0.25042974844841603,-1.2804173987007321,-0.4779475812438086,-1.0681515758456772,-0.8179714250493176,0.257502972331052,-0.703305401677554,-1.585339103702729,-0.21580025799282987,-1.2066023706592819,-0.5505585467507029,-0.206063200328282,-0.986509871644684,-0.12449871273330756,-0.4046052015502848,0.03788856504424398,-0.49134797798959734,-0.08962526842943126,-0.8326555889971242,-1.2175368439377683,0.23715261184232694,-1.254644795519379,-0.4659732946115946,-1.0765303713921202,-0.11995936212092617,-1.776224354954369,-0.5547963787450924,-0.03903993712450166,-0.8430374756317334,-0.11308638135552002,-0.24029181566209706,-1.0315187606734362,-0.31722031783084276,-1.0686267122550468,-0.5232648694396591,-0.3534520242528242,-0.82547420906462,-0.9756653862594274,-1.4360310522166568,-1.0999912506897203,-0.1684798787088131,-0.5468184583204206,-0.8664985885578221,-0.3546494398667625,-1.301091651333698,-0.23486933934098017,-0.489036254105844,-1.5428861260345088,0.19397735496953808,-1.1527368279847856,-0.55934260990658,-1.055781623843067,-0.8435155673595234,-0.3737185212149128,-0.2140436088143968,-0.8970574515182675,-0.29646884859185796,-1.326710288559991,-1.2418038659665736,-0.5946169293322272,-1.3625369610010267,-1.0345550181947127,-0.7330650024559002,-1.6913951489669703,-0.7594826682358035,-0.8642640812800878,-1.413767121276018,-1.3592720089801142,-1.6882843965296068,-0.8210821774866813,-1.3306198359224766,-0.8195763627056447,-0.12570277526786355,-0.37060800240603775,-0.8831791966731776,0.3181492534447704,-0.279081687877565,-0.3660686517936565,-0.8233166847644158,-0.6738544336947946,-1.5057009578468792,-0.782067536002263,-1.1154744431911372,-1.3520008747828685,-1.2244868076807047,-0.5318876188343921,-0.9841983813894194,-1.0636825612902086,-0.9452540759619137,-0.4107563703680995,-0.6632408972421288,-1.729938579272705,-0.013097641382456619,0.16828173476571498,-0.71894279376252,-1.1918478706545628,0.07052750207038591,-0.7516589473946809,-0.9130157804290541,-1.225517252423883,-0.7582082696443349,-0.028901770709694095,-1.4365986645806992,-1.3121803241957335,-1.3235926555735211,-0.12083560728055552,-0.9877072872586223,-0.025945451484368196,-0.32680317591184155,-0.8604246363460264,-1.1106045535138973,-0.6187073782512348,-0.4320530784448778,-0.8439909373973816,4.212506342593302,2.789428100786102,2.688620680423111,3.036721801157071,2.982624842293007,4.034715576981795,4.021790550273865,4.255360429011782,4.292719214990789,3.9376678968854044,4.731527736234805,3.0290522798994974,4.017707151491514,1.699503210080448,3.3816155346398205,4.021145721303803,3.583133740551954,3.0457326543863643,4.739662577932958,5.110819777612061,3.3506518713269178,2.6710793201252687,2.2738256251205717,2.467022600255965,3.6278790238960994,2.582487652181339,4.777890728522488,4.143327066349592,3.6295609445299566,2.543318811113372,2.6785818705120823,4.1319147349718035,4.881796130035632,3.5072957359575314,3.805672277569049,2.057167770687578,2.3979975235958038,4.258301488888454,3.57681560086338,2.7597260647774573,4.154746278276485,3.2597553600483407,2.6303827580069936,3.305184542406693,2.947500563591734,4.529952199181458,4.310738433387932],\"z\":[1.8187260335885094,-0.8819047463465356,0.11400557140029809,0.5680033391541187,-0.06836100793399211,0.25955444004620987,0.386230323792377,1.9105932752991575,1.706060559053186,0.38681803895301037,0.4595969782400461,0.4021588771822665,-0.8843863934457972,0.20582925920657438,-0.1976526546910983,0.23285779657367836,0.8449811329251197,1.1350120791439404,-0.24060318370271291,-0.6360218997742872,-0.18084941463266374,0.42290294077348445,-0.05725452649081016,0.8726722005531462,-0.17874583874860517,-0.7423631097249948,-0.36510986162617043,-0.9449934286989372,0.5685949352592335,0.08862820391710759,0.4287089941858264,-0.03805424157443834,-0.3503625873694629,0.5831638841510666,-0.9019335406108216,1.02841116698269,-0.8796456983447573,0.5593322632101559,-0.9057929872979373,-0.9066742357118617,-1.254071091304432,0.2640764169942481,0.12102154172548006,1.027639277645267,-0.20854048226069016,-0.7693636648612662,0.3558206958222896,0.11587801857406059,0.05108090026745493,-0.1287773715443752,-0.1204544715077346,0.3222864073894507,-0.3921383989932745,-0.3597066362642086,-0.14428609244864546,0.5903601477085567,1.1205245070977754,-0.17720206007375894,0.451365897738934,-0.7732231115483819,-0.30337231843842444,-0.5954592304589722,1.3566077376588888,0.4404780701693422,-0.11968258217031148,0.7691588457415885,0.6558986139849051,-0.24608778591034278,-1.018500047870199,-0.22449045613603355,-0.31796924956109046,-0.3579135980686804,0.2562761467743487,0.15199090262536788,-0.0016816553125887932,0.056196441188041714,-0.08497357634966964,0.5291347916476916,-0.3734223189729504,0.2602169703071323,-0.6790817878624028,0.20034465699894446,0.732383431429359,0.05851210920031117,-0.08582684253276064,0.5384788405424372,-0.19445573826490478,0.3750489629694944,-0.16591140445378727,-0.9113869485820684,0.1796819702533943,-0.44417327468909207,0.3070269460058626,-0.4114480429861473,0.2621635770323582,-0.40913237497387783,-0.22997505834366347,0.933388594882787,-0.4050821923645932,0.18585708495277944,0.5870233308381824,-0.5016485431393426,-1.0996975781848592,0.5463884698388372,-0.5684306930918679,-0.5254801640802533,0.31147995666552675,-0.0006605064544838642,-0.1241460355198364,-0.8217676018441272,-0.11351791016078704,-0.14274231377379923,-0.909652433985053,0.6088165255183384,0.4143307812161621,-0.335625755802616,0.6406391526013172,0.08168119988029933,0.29305156108657815,-0.261596506814613,-0.44307993414695723,-0.5981055348375912,0.4661027293057809,-0.17285840849059553,-0.33408197712776977,0.31611129269006555,-0.773995000885805,-0.9266464099656566,0.31371424783212837,0.06159966655000363,-0.04345746693640037,0.8758691169793394,0.5170722466902967,-0.743216375908086,-0.39607922252605804,-0.22765939033139407,0.1637599786088838,-0.007856770011973936,-0.5047361004890353,-0.16417688985677237,0.16607564662115315,0.7954154937712693,-0.53019287695046,0.5552820806008716,-0.9137026165943377,0.9118726419541457,-0.4281419239680808,-0.2949908948032708,-0.8222797889710078,0.1398189985914721,-0.8323957272031766,0.7668431777293191,-0.12954926088179838,0.324711434478221,-1.2846713909172762,0.5315318365056289,-0.6568753224420063,-0.6537063882466458,-1.1259542262145406,0.5888163690337104,-0.15491421780769477,-0.1831650826449332,-0.6004212028498606,-0.15054258399369824,-0.023116231395562313,0.08476875722999201,-0.34882925138447723,-0.4019946350149006,-0.1775711213608023,-0.09008911727025615,-0.3348538664651929,0.4589064657482908,-0.3859632842938894,-0.10483639152696365,0.23001949874466757,-0.03014461227803833,0.07094371544474921,0.361045595819377,1.019326820298487,-0.3037751464888041,0.3055925264075169,-0.6529344989092227,0.986151150462831,0.90801319526703,0.11742179724890682,-0.5778841010631145,0.8927537338834418,0.01459895492910442,-0.5053986307499575,0.2801077677152593,0.7692682048180891,-0.7663854665880745,1.0338143923446521,-0.2870812655068705,0.2872455076742363,0.26253263831940166,0.06090915405824839,-1.1466982898057585,-0.06460435857799819,0.31262090728999314,0.31725224331453183,0.4283061661354465,-0.06894222562865825,0.8177033360373337,0.8434373542502734,0.02059574426361498,-0.04386029498678048,0.17696347419074496,-0.06497341986504158,0.4333403302103652,0.6295605891095566,-0.05757597769552203,-0.7701355541986893,0.4325684408729421,0.7531554772514101,-0.27954069749751376,-0.38905084164358195,-0.15568610714511788,-0.296534673478117,-0.9111962126598994,-1.1497044703097832,-0.8659300156360155,0.3665581802578399,-0.548649254760242,-0.5717089863637295,0.9977190478343171,-0.04009266783519326,-0.263010827735139,-0.1729502280261244,0.3687540465037476,0.897293250372452,-0.9752013429512628,0.2299276792091388,-1.051105006980462,-0.5862883779454232,1.036891507004484,1.2354274339159448,0.9219781374964539,-0.5910290730464629,-0.15743106443199364,-0.07966217052323638,-0.5186249795789739,1.2631185015439712,-0.0199805931372174,0.039301381594078234,-0.1282066608189817,-0.2247730115937311,-0.3093795504627958,0.5439809822910391,-0.7274583954831344,0.07335829984365862,0.8757493152129778,-0.8079933955368725,-0.4266899648287634,-0.5487410742957706,0.30307567978321814,-0.44051500661400617,0.11104550393749213,-0.09009955996011697,0.03996391185500053,1.3581410736438742,0.02161689312171986,-0.19851636356405017,-0.15821339645927768,0.11424242036368565,-0.03472786739392498,-0.48151892890039477,-0.2185165200486781,0.05878935095182557,-0.023979940268513893,-0.46703135685422953,-0.7121989340995462,0.3102134197421952,0.012935374487896386,-0.7336335101825195,-0.9052222765725442,-0.4577686848051519,-0.21300393561021522,0.9946314904846245,0.4058171452573526,0.8826963192497861,0.42744245726249475,-1.0463922941102552,0.21455885874904967,0.7554607025738186,0.10490881415880073,-0.6938519153662653,0.6318658144319651,-0.048002297131593395,0.03184219043038941,1.1450361978405805,-0.9291632565899556,0.12435835859585434,0.23455901523367761,-0.5014911031541899,-0.9307070352648018,-0.03318408871907875,-0.7825086368446146,0.6889824642850331,-0.4561435292846378,-0.5463440294378331,-1.0756271404131277,0.7292040545441376,0.42733309818599385,-0.4929189435968672,-0.9345664819519176,-0.018436814462371057,0.7361510585809459,-0.4205148501293783,0.226078675211884,0.04470460695604026,0.16749962352963774,-0.12338458887227408,-0.845540699186525,-0.3556083727462717,0.41449866389117596,-0.46240002082969084,-0.1497226137476232,0.16896202535881605,0.6974732469966877,-0.30948890953929664,-0.3033137948399115,-0.24234814098958873,0.16113377290808384,-0.9013628298854284,0.1604712426471615,-0.23172001563053934,-0.19611931870611285,0.037566866997063124,-0.23249190496796246,0.16267755158293018,0.05956124028924868,0.8758586742894787,0.40272958790766,0.40504525591992946,0.7760954070885359,-0.5479691849583475,-0.27705714681023064,0.8038958337930632,-0.20237581025116586,0.49389271332044743,0.4168143319034454,-0.3125764668889891,-0.28794497437982247,0.76866419815568,0.7608639279357806,1.236199323253368,-0.32868919445566847,-0.23760744588854907,-0.9475102753232364,-0.36737744872978767,-0.0687743429536444,1.0446104003787153,0.8921497272210326,0.49775216000756317,-0.34740527447599273,1.007834986066486,-0.55105674230804,-0.6234328535446961,-0.861831752118079,0.5485029592390771,0.2648378636418102,-0.45757794888298303,-0.045605252273656076,0.8116147271672947,-0.3681493380672108,-0.019208703799794172,-0.976745121626109,-0.07252443056425928,-0.09646541058167082,0.29186640100891437,0.29487258151293894,0.05415801492728671,1.1189702857330683,-0.16291566663962356,0.04710165181397762,0.5972967090555042,0.5670407138945267,-0.08940904746836179,0.041507690529846875,-0.49369083293429034,0.41921137676138265,0.210699412061934,0.5988404877303505,1.1181983963956452,-0.005383662014551374,0.10856392111764235,0.6309969765753353,0.34030350009559235,-0.5726572331985936,-0.13951288811249205,0.855099039024722,0.49910204164399613,0.01016032269416778,-0.35791163020124706,0.5996371981823622,0.20839615460695898,0.5919058942508364,0.28533463557978006,0.5500591484712176,-0.2838518398455638,-0.47706591824073047,-0.40664685641916126,0.23010284345776896,-0.3165048798644786,0.3101164712229885,-0.9868766315318166,1.1906578523454026,0.08105117885449059,0.16809318750218627,-0.8957135061190292,0.6025340196098858,0.11896754379118654,0.2606093556676511,0.14908363850798326,0.4800111158041251,-0.8482130179285435,-0.1456880028118772,0.4737142314709449,0.30632795869167995,-0.9793360635224596,-0.20768524821016568,0.7654796922867808,-0.5423198611919482,0.9791781320626232,0.2315652452869473,-0.05784612259592545,-0.5169164793453583,0.12051132246603283,0.30172263703054064,0.24090929418169293,-0.9739328381604976,-0.2695425931642733,-1.1172122161147708,-0.042352973365194134,0.7691608136090219,0.14801165417189055,0.05626737534384869,0.3871134757943226,-0.0911591337389154,-0.45844678673961287,-0.1595820108854937,0.4962897581783848,-0.9554074940623424,0.26253460618683505,0.1496772024805318,-0.9546231941676251,-0.5610913036945409,-0.32801425363745196,0.3102687822244637,-0.847953315718001,0.7600764669248189,-0.4081092582483395,0.36664152497094127,0.14415220748477486,-0.8694692686466424,0.7422416353184187,-0.9683512874336612,0.03997632241229485,-0.3225016691989892,0.15506801728519953,-0.08247761510509219,-0.6020138491352616,-1.0168833671721123,-1.3196075897133472,0.28609411435990906,-0.08042164930336529,1.0903290034027442,0.5014332813298041,0.3705823485037249,0.12572381190582604,0.12726759058067227,0.14639890920867038,0.6527036654261456,-0.6044108939931988,-0.14345371164527573,-0.6129016767048533,1.3187747174352942,0.17210494519077701,0.12631737587837455,0.060236181107465245,0.7285135420523825,-0.12645973566467247,-0.0749370470957354,0.48143312484517636,-0.3581993146426224,-0.49059086502730354,0.6164280276835024,-0.05253984575317008,0.6898376983355575,-0.145960115579714,0.724666505922561,-0.9438291540009952,0.515230340884214,0.25396244662951256,0.14878354350931366,0.4342925127800964,0.6181625422805175,0.2747065102207307,-0.20519125483302167,0.3224667006217588,-0.09193102307633863,-0.4906722418729715,0.4189361028773016,-0.2584484579989738,0.9614402489754296,-0.6102169474055406,0.2653344790951522,-0.17056362585804796,0.2199869052256002,-0.5603070037998235,0.32938769029516757,0.44440845101226517,0.41517360470939246,0.7246540953652668,-0.4198399093111617,0.9568778792392644,0.2946662739172315,0.28231604451846126,0.010147912136873584,-0.38802772491804366,-0.6049230811200794,0.46831100610898296,-0.46914387838703614,-0.6212017234943391,0.4513294406856739,0.2647688973534365,-0.5054474983605121,1.103354173619731,0.13345511583735165,-1.1056338760534237,-0.08640602808058159,-0.9368007731185192,0.001738506270886955,-1.0750335764405792,-1.090471363189042,0.6434565650506064,0.14099568384670846,-0.5957293753593754,1.0260850562805601,-0.7606496369923293,-0.7668247516917145,-0.8472503926689516,-0.6212141340516334,-1.0765773551154254,0.6102529129841172,-0.6357830829434664,0.34416294678270803,0.3309314689700138,0.2121742244484066,-0.31017745416361847,-0.286248884703501,0.2668938294435371,-0.16448545967786943,0.2074459399046612,0.9861251360994314,0.036404560166554537,-0.28546458480878373,0.05233896236835928,0.7359571615425327,-0.13255347351838964,0.38729180115919726,-0.11016868273311858,-0.878813317541388,0.9360368671288396,-0.25093587222044994,-1.0810303657750897,-0.1722043530521008,1.0864695567156284,-0.4691562889443302,-0.7313868084586238,0.1281488389945962,-0.00906794445303699,0.8456456310534753,-0.2722734997842166,0.1966655035441367,0.15593369402558488,0.00908833835807504,-0.16363219349477826,0.2832786697780532,-0.45852816358528087,0.1324924905777597,-0.6036390046557757,-0.13583176679025097,0.8863898511293214,-0.1952640846555883,-0.013793067880537989,-0.023909006112706802,-0.2045976908604731,0.13123639634428877,0.31783536459721995,0.012366631629936349,0.6195155850331949,0.4690828954464061,0.7606576203400731,0.8772241275994505,-0.5995888220464912,-0.5842037100846259,-0.0059329522544909795,0.21910572109108817,-0.17169406951324157,-0.599269274429801,0.2693351480340834,-0.06853933329886677,0.37352344366385754,-0.3829232727471166,-0.6302417964459331,-1.0534609392220347,0.5924995225027967,0.554305915814586,0.37279188283514986,-0.42630264417251035,-0.11792467922040889,-0.3906545766786421,0.3727073448732373,-0.022405491667163994,0.027573418226926934,0.045945193795384254,0.5477311341810658,-0.22072276470503469,0.1425271162436723,-0.06691220991091906,0.22682461446531954,-0.69612647076217,-0.7702110822324418,-0.15547198287006167,-0.40382090486803274,0.19742504660367743,-0.7803270204646106,-0.19624095978108425,0.6071498482402978,0.03370432347311484,0.4945553078607816,-0.08197777425609393,-0.7737964482842875,-0.6039975589735463,0.36171015822714464,-0.3728887113606158,-0.226401263951078,-0.03285213054509429,-0.7862268612799145,0.03677947026551337,-0.5797506994249616,-0.24827583547690177],\"type\":\"scatter3d\"}],                        {\"template\":{\"data\":{\"bar\":[{\"error_x\":{\"color\":\"#2a3f5f\"},\"error_y\":{\"color\":\"#2a3f5f\"},\"marker\":{\"line\":{\"color\":\"#E5ECF6\",\"width\":0.5},\"pattern\":{\"fillmode\":\"overlay\",\"size\":10,\"solidity\":0.2}},\"type\":\"bar\"}],\"barpolar\":[{\"marker\":{\"line\":{\"color\":\"#E5ECF6\",\"width\":0.5},\"pattern\":{\"fillmode\":\"overlay\",\"size\":10,\"solidity\":0.2}},\"type\":\"barpolar\"}],\"carpet\":[{\"aaxis\":{\"endlinecolor\":\"#2a3f5f\",\"gridcolor\":\"white\",\"linecolor\":\"white\",\"minorgridcolor\":\"white\",\"startlinecolor\":\"#2a3f5f\"},\"baxis\":{\"endlinecolor\":\"#2a3f5f\",\"gridcolor\":\"white\",\"linecolor\":\"white\",\"minorgridcolor\":\"white\",\"startlinecolor\":\"#2a3f5f\"},\"type\":\"carpet\"}],\"choropleth\":[{\"colorbar\":{\"outlinewidth\":0,\"ticks\":\"\"},\"type\":\"choropleth\"}],\"contour\":[{\"colorbar\":{\"outlinewidth\":0,\"ticks\":\"\"},\"colorscale\":[[0.0,\"#0d0887\"],[0.1111111111111111,\"#46039f\"],[0.2222222222222222,\"#7201a8\"],[0.3333333333333333,\"#9c179e\"],[0.4444444444444444,\"#bd3786\"],[0.5555555555555556,\"#d8576b\"],[0.6666666666666666,\"#ed7953\"],[0.7777777777777778,\"#fb9f3a\"],[0.8888888888888888,\"#fdca26\"],[1.0,\"#f0f921\"]],\"type\":\"contour\"}],\"contourcarpet\":[{\"colorbar\":{\"outlinewidth\":0,\"ticks\":\"\"},\"type\":\"contourcarpet\"}],\"heatmap\":[{\"colorbar\":{\"outlinewidth\":0,\"ticks\":\"\"},\"colorscale\":[[0.0,\"#0d0887\"],[0.1111111111111111,\"#46039f\"],[0.2222222222222222,\"#7201a8\"],[0.3333333333333333,\"#9c179e\"],[0.4444444444444444,\"#bd3786\"],[0.5555555555555556,\"#d8576b\"],[0.6666666666666666,\"#ed7953\"],[0.7777777777777778,\"#fb9f3a\"],[0.8888888888888888,\"#fdca26\"],[1.0,\"#f0f921\"]],\"type\":\"heatmap\"}],\"heatmapgl\":[{\"colorbar\":{\"outlinewidth\":0,\"ticks\":\"\"},\"colorscale\":[[0.0,\"#0d0887\"],[0.1111111111111111,\"#46039f\"],[0.2222222222222222,\"#7201a8\"],[0.3333333333333333,\"#9c179e\"],[0.4444444444444444,\"#bd3786\"],[0.5555555555555556,\"#d8576b\"],[0.6666666666666666,\"#ed7953\"],[0.7777777777777778,\"#fb9f3a\"],[0.8888888888888888,\"#fdca26\"],[1.0,\"#f0f921\"]],\"type\":\"heatmapgl\"}],\"histogram\":[{\"marker\":{\"pattern\":{\"fillmode\":\"overlay\",\"size\":10,\"solidity\":0.2}},\"type\":\"histogram\"}],\"histogram2d\":[{\"colorbar\":{\"outlinewidth\":0,\"ticks\":\"\"},\"colorscale\":[[0.0,\"#0d0887\"],[0.1111111111111111,\"#46039f\"],[0.2222222222222222,\"#7201a8\"],[0.3333333333333333,\"#9c179e\"],[0.4444444444444444,\"#bd3786\"],[0.5555555555555556,\"#d8576b\"],[0.6666666666666666,\"#ed7953\"],[0.7777777777777778,\"#fb9f3a\"],[0.8888888888888888,\"#fdca26\"],[1.0,\"#f0f921\"]],\"type\":\"histogram2d\"}],\"histogram2dcontour\":[{\"colorbar\":{\"outlinewidth\":0,\"ticks\":\"\"},\"colorscale\":[[0.0,\"#0d0887\"],[0.1111111111111111,\"#46039f\"],[0.2222222222222222,\"#7201a8\"],[0.3333333333333333,\"#9c179e\"],[0.4444444444444444,\"#bd3786\"],[0.5555555555555556,\"#d8576b\"],[0.6666666666666666,\"#ed7953\"],[0.7777777777777778,\"#fb9f3a\"],[0.8888888888888888,\"#fdca26\"],[1.0,\"#f0f921\"]],\"type\":\"histogram2dcontour\"}],\"mesh3d\":[{\"colorbar\":{\"outlinewidth\":0,\"ticks\":\"\"},\"type\":\"mesh3d\"}],\"parcoords\":[{\"line\":{\"colorbar\":{\"outlinewidth\":0,\"ticks\":\"\"}},\"type\":\"parcoords\"}],\"pie\":[{\"automargin\":true,\"type\":\"pie\"}],\"scatter\":[{\"marker\":{\"colorbar\":{\"outlinewidth\":0,\"ticks\":\"\"}},\"type\":\"scatter\"}],\"scatter3d\":[{\"line\":{\"colorbar\":{\"outlinewidth\":0,\"ticks\":\"\"}},\"marker\":{\"colorbar\":{\"outlinewidth\":0,\"ticks\":\"\"}},\"type\":\"scatter3d\"}],\"scattercarpet\":[{\"marker\":{\"colorbar\":{\"outlinewidth\":0,\"ticks\":\"\"}},\"type\":\"scattercarpet\"}],\"scattergeo\":[{\"marker\":{\"colorbar\":{\"outlinewidth\":0,\"ticks\":\"\"}},\"type\":\"scattergeo\"}],\"scattergl\":[{\"marker\":{\"colorbar\":{\"outlinewidth\":0,\"ticks\":\"\"}},\"type\":\"scattergl\"}],\"scattermapbox\":[{\"marker\":{\"colorbar\":{\"outlinewidth\":0,\"ticks\":\"\"}},\"type\":\"scattermapbox\"}],\"scatterpolar\":[{\"marker\":{\"colorbar\":{\"outlinewidth\":0,\"ticks\":\"\"}},\"type\":\"scatterpolar\"}],\"scatterpolargl\":[{\"marker\":{\"colorbar\":{\"outlinewidth\":0,\"ticks\":\"\"}},\"type\":\"scatterpolargl\"}],\"scatterternary\":[{\"marker\":{\"colorbar\":{\"outlinewidth\":0,\"ticks\":\"\"}},\"type\":\"scatterternary\"}],\"surface\":[{\"colorbar\":{\"outlinewidth\":0,\"ticks\":\"\"},\"colorscale\":[[0.0,\"#0d0887\"],[0.1111111111111111,\"#46039f\"],[0.2222222222222222,\"#7201a8\"],[0.3333333333333333,\"#9c179e\"],[0.4444444444444444,\"#bd3786\"],[0.5555555555555556,\"#d8576b\"],[0.6666666666666666,\"#ed7953\"],[0.7777777777777778,\"#fb9f3a\"],[0.8888888888888888,\"#fdca26\"],[1.0,\"#f0f921\"]],\"type\":\"surface\"}],\"table\":[{\"cells\":{\"fill\":{\"color\":\"#EBF0F8\"},\"line\":{\"color\":\"white\"}},\"header\":{\"fill\":{\"color\":\"#C8D4E3\"},\"line\":{\"color\":\"white\"}},\"type\":\"table\"}]},\"layout\":{\"annotationdefaults\":{\"arrowcolor\":\"#2a3f5f\",\"arrowhead\":0,\"arrowwidth\":1},\"autotypenumbers\":\"strict\",\"coloraxis\":{\"colorbar\":{\"outlinewidth\":0,\"ticks\":\"\"}},\"colorscale\":{\"diverging\":[[0,\"#8e0152\"],[0.1,\"#c51b7d\"],[0.2,\"#de77ae\"],[0.3,\"#f1b6da\"],[0.4,\"#fde0ef\"],[0.5,\"#f7f7f7\"],[0.6,\"#e6f5d0\"],[0.7,\"#b8e186\"],[0.8,\"#7fbc41\"],[0.9,\"#4d9221\"],[1,\"#276419\"]],\"sequential\":[[0.0,\"#0d0887\"],[0.1111111111111111,\"#46039f\"],[0.2222222222222222,\"#7201a8\"],[0.3333333333333333,\"#9c179e\"],[0.4444444444444444,\"#bd3786\"],[0.5555555555555556,\"#d8576b\"],[0.6666666666666666,\"#ed7953\"],[0.7777777777777778,\"#fb9f3a\"],[0.8888888888888888,\"#fdca26\"],[1.0,\"#f0f921\"]],\"sequentialminus\":[[0.0,\"#0d0887\"],[0.1111111111111111,\"#46039f\"],[0.2222222222222222,\"#7201a8\"],[0.3333333333333333,\"#9c179e\"],[0.4444444444444444,\"#bd3786\"],[0.5555555555555556,\"#d8576b\"],[0.6666666666666666,\"#ed7953\"],[0.7777777777777778,\"#fb9f3a\"],[0.8888888888888888,\"#fdca26\"],[1.0,\"#f0f921\"]]},\"colorway\":[\"#636efa\",\"#EF553B\",\"#00cc96\",\"#ab63fa\",\"#FFA15A\",\"#19d3f3\",\"#FF6692\",\"#B6E880\",\"#FF97FF\",\"#FECB52\"],\"font\":{\"color\":\"#2a3f5f\"},\"geo\":{\"bgcolor\":\"white\",\"lakecolor\":\"white\",\"landcolor\":\"#E5ECF6\",\"showlakes\":true,\"showland\":true,\"subunitcolor\":\"white\"},\"hoverlabel\":{\"align\":\"left\"},\"hovermode\":\"closest\",\"mapbox\":{\"style\":\"light\"},\"paper_bgcolor\":\"white\",\"plot_bgcolor\":\"#E5ECF6\",\"polar\":{\"angularaxis\":{\"gridcolor\":\"white\",\"linecolor\":\"white\",\"ticks\":\"\"},\"bgcolor\":\"#E5ECF6\",\"radialaxis\":{\"gridcolor\":\"white\",\"linecolor\":\"white\",\"ticks\":\"\"}},\"scene\":{\"xaxis\":{\"backgroundcolor\":\"#E5ECF6\",\"gridcolor\":\"white\",\"gridwidth\":2,\"linecolor\":\"white\",\"showbackground\":true,\"ticks\":\"\",\"zerolinecolor\":\"white\"},\"yaxis\":{\"backgroundcolor\":\"#E5ECF6\",\"gridcolor\":\"white\",\"gridwidth\":2,\"linecolor\":\"white\",\"showbackground\":true,\"ticks\":\"\",\"zerolinecolor\":\"white\"},\"zaxis\":{\"backgroundcolor\":\"#E5ECF6\",\"gridcolor\":\"white\",\"gridwidth\":2,\"linecolor\":\"white\",\"showbackground\":true,\"ticks\":\"\",\"zerolinecolor\":\"white\"}},\"shapedefaults\":{\"line\":{\"color\":\"#2a3f5f\"}},\"ternary\":{\"aaxis\":{\"gridcolor\":\"white\",\"linecolor\":\"white\",\"ticks\":\"\"},\"baxis\":{\"gridcolor\":\"white\",\"linecolor\":\"white\",\"ticks\":\"\"},\"bgcolor\":\"#E5ECF6\",\"caxis\":{\"gridcolor\":\"white\",\"linecolor\":\"white\",\"ticks\":\"\"}},\"title\":{\"x\":0.05},\"xaxis\":{\"automargin\":true,\"gridcolor\":\"white\",\"linecolor\":\"white\",\"ticks\":\"\",\"title\":{\"standoff\":15},\"zerolinecolor\":\"white\",\"zerolinewidth\":2},\"yaxis\":{\"automargin\":true,\"gridcolor\":\"white\",\"linecolor\":\"white\",\"ticks\":\"\",\"title\":{\"standoff\":15},\"zerolinecolor\":\"white\",\"zerolinewidth\":2}}},\"scene\":{\"domain\":{\"x\":[0.0,1.0],\"y\":[0.0,1.0]},\"xaxis\":{\"title\":{\"text\":\"PC1\"}},\"yaxis\":{\"title\":{\"text\":\"PC2\"}},\"zaxis\":{\"title\":{\"text\":\"PC3\"}}},\"coloraxis\":{\"colorbar\":{\"title\":{\"text\":\"color\"}},\"colorscale\":[[0.0,\"#0d0887\"],[0.1111111111111111,\"#46039f\"],[0.2222222222222222,\"#7201a8\"],[0.3333333333333333,\"#9c179e\"],[0.4444444444444444,\"#bd3786\"],[0.5555555555555556,\"#d8576b\"],[0.6666666666666666,\"#ed7953\"],[0.7777777777777778,\"#fb9f3a\"],[0.8888888888888888,\"#fdca26\"],[1.0,\"#f0f921\"]]},\"legend\":{\"tracegroupgap\":0},\"margin\":{\"t\":60}},                        {\"responsive\": true}                    ).then(function(){\n",
              "                            \n",
              "var gd = document.getElementById('205888b2-2cf0-4aeb-a2fe-1fa844ccb601');\n",
              "var x = new MutationObserver(function (mutations, observer) {{\n",
              "        var display = window.getComputedStyle(gd).display;\n",
              "        if (!display || display === 'none') {{\n",
              "            console.log([gd, 'removed!']);\n",
              "            Plotly.purge(gd);\n",
              "            observer.disconnect();\n",
              "        }}\n",
              "}});\n",
              "\n",
              "// Listen for the removal of the full notebook cells\n",
              "var notebookContainer = gd.closest('#notebook-container');\n",
              "if (notebookContainer) {{\n",
              "    x.observe(notebookContainer, {childList: true});\n",
              "}}\n",
              "\n",
              "// Listen for the clearing of the current output cell\n",
              "var outputEl = gd.closest('.output');\n",
              "if (outputEl) {{\n",
              "    x.observe(outputEl, {childList: true});\n",
              "}}\n",
              "\n",
              "                        })                };                            </script>        </div>\n",
              "</body>\n",
              "</html>"
            ]
          },
          "metadata": {}
        }
      ]
    },
    {
      "cell_type": "code",
      "source": [
        "import plotly.express as px\n",
        "fig = px.scatter_3d(pca_df, x='PC1', y='PC2', z='PC3',color=data['kmedoLabels'])\n",
        "fig.show()"
      ],
      "metadata": {
        "colab": {
          "base_uri": "https://localhost:8080/",
          "height": 542
        },
        "id": "BpyZ1cmvwvkQ",
        "outputId": "b904d05f-669e-46a4-d777-0670090ff4b6"
      },
      "execution_count": null,
      "outputs": [
        {
          "output_type": "display_data",
          "data": {
            "text/html": [
              "<html>\n",
              "<head><meta charset=\"utf-8\" /></head>\n",
              "<body>\n",
              "    <div>            <script src=\"https://cdnjs.cloudflare.com/ajax/libs/mathjax/2.7.5/MathJax.js?config=TeX-AMS-MML_SVG\"></script><script type=\"text/javascript\">if (window.MathJax) {MathJax.Hub.Config({SVG: {font: \"STIX-Web\"}});}</script>                <script type=\"text/javascript\">window.PlotlyConfig = {MathJaxConfig: 'local'};</script>\n",
              "        <script src=\"https://cdn.plot.ly/plotly-2.8.3.min.js\"></script>                <div id=\"082e8f19-4332-4f8e-9eaf-5a466e72a96a\" class=\"plotly-graph-div\" style=\"height:525px; width:100%;\"></div>            <script type=\"text/javascript\">                                    window.PLOTLYENV=window.PLOTLYENV || {};                                    if (document.getElementById(\"082e8f19-4332-4f8e-9eaf-5a466e72a96a\")) {                    Plotly.newPlot(                        \"082e8f19-4332-4f8e-9eaf-5a466e72a96a\",                        [{\"hovertemplate\":\"PC1=%{x}<br>PC2=%{y}<br>PC3=%{z}<br>color=%{marker.color}<extra></extra>\",\"legendgroup\":\"\",\"marker\":{\"color\":[1,0,1,1,1,0,1,0,0,0,0,0,0,0,0,0,0,0,0,0,0,0,0,0,0,0,0,0,0,0,0,0,0,0,0,0,0,0,0,0,0,0,0,0,0,0,0,0,0,0,0,0,0,0,0,0,0,0,0,0,0,0,0,0,0,0,0,0,0,0,0,0,0,0,0,0,0,0,0,0,0,0,0,0,0,0,0,0,0,0,0,0,0,0,0,0,0,0,0,0,0,0,0,0,0,0,0,0,0,0,0,0,0,0,0,0,0,0,0,0,0,0,0,0,0,0,0,0,0,0,0,0,0,0,0,0,0,0,0,0,0,0,0,0,0,0,0,0,0,0,0,0,0,0,0,0,0,0,0,0,0,0,0,0,0,0,0,0,0,0,0,0,0,0,0,0,0,0,0,0,0,0,0,0,0,0,0,0,0,0,0,0,0,0,0,0,0,0,0,0,0,0,0,0,0,0,0,0,0,0,0,0,0,0,0,0,0,0,0,0,0,0,0,0,0,2,1,2,2,2,2,2,2,2,2,2,2,2,2,2,2,2,2,2,2,2,2,2,2,2,1,2,2,2,2,2,2,2,2,2,2,2,2,2,2,2,2,2,1,1,2,2,2,2,2,2,2,2,2,2,2,1,2,2,1,0,2,2,2,2,2,2,2,2,2,2,2,2,2,2,2,2,2,2,2,2,2,2,2,0,2,2,2,2,2,2,2,2,2,2,2,2,2,2,2,2,2,2,2,2,2,1,2,2,2,2,2,2,2,2,2,2,2,2,2,2,2,2,2,2,2,2,2,2,2,2,2,2,2,2,2,2,2,2,2,2,2,2,2,2,2,2,1,2,2,2,2,2,2,2,2,2,2,2,2,2,2,2,1,1,2,1,2,1,1,1,2,2,1,1,2,2,2,2,1,1,2,1,2,2,2,2,2,2,1,1,2,2,2,2,2,1,2,2,1,1,1,1,2,1,2,2,2,2,2,1,2,2,1,2,2,2,2,2,1,1,1,2,2,2,2,1,2,1,2,2,1,2,1,2,2,2,2,2,2,2,1,1,2,1,2,2,1,1,2,2,2,1,2,2,1,2,1,2,2,2,2,2,1,1,2,1,2,2,1,2,1,1,1,2,1,2,2,1,2,1,2,2,2,1,1,2,2,1,2,2,2,2,2,2,2,2,2,1,1,2,1,2,1,1,2,1,2,2,2,2,1,1,2,2,2,2,1,2,2,2,2,1,2,2,2,2,2,2,2,1,1,1,1,2,1,2,2,2,2,2,2,2,1,2,2,2,2,2,2,1,1,2,2,1,2,2,2,2,1,2,2,2,1,2,1,1,2,2,2,1,2,1,1,1,1,1,1,1,1,1,1,1,1,1,1,1,1,1,1,1,1,1,1,1,1,1,1,1,1,1,1,1,1,1,1,1,1,1,1,1,1,1,1,1,1,1,1,1],\"coloraxis\":\"coloraxis\",\"symbol\":\"circle\"},\"mode\":\"markers\",\"name\":\"\",\"scene\":\"scene\",\"showlegend\":false,\"x\":[0.5200750399959375,-1.4202384039296148,0.5396987821192188,-0.35270890442995473,1.3037227126690574,-1.9780151065844456,1.1829144072302382,-0.6893183389996909,-1.250004303745236,-1.733876485823159,-1.0964502562188783,-1.8372906464308547,-2.342297029876063,-1.9578493143708098,-1.5923869215162705,-2.0594820564289473,-1.3354317346751385,-1.5579613918906186,-1.799005209961641,-1.388584585312674,-1.0977276996402894,-2.0330181934500082,-1.2125037634693738,-1.649847921366166,-2.7585955961240924,-2.6132377608336763,-2.066210584513511,-2.405938277823113,-1.94504423981725,-1.5493826275780282,-0.9288793810096996,-1.381856057228111,-2.9412241262315604,-2.0352707737947378,-1.999724171375061,-1.373378923926965,-2.221826971654631,-1.7867927202547516,-1.93378603822402,-2.120194229596493,-1.4123690110109735,-2.2567366843683763,-0.5633726832958988,-1.3601912972967567,-0.7833115129492619,-1.6875605650287635,-1.7659014286166614,-1.8802949403690972,-1.8483143024348563,-1.29111405659619,-2.655391468286418,-1.529083920786608,-1.9645778424553728,-2.158523970924968,-2.4069134147464313,-1.5591945304527681,-2.0921834936572243,-2.784970849384509,-2.360622006771244,-1.6216224318777224,-1.221396262180144,-2.368539368558695,-1.9118518487537477,-1.551546598204235,-2.668579094916626,-1.5180159599233451,-1.7999360420256985,-1.0822431878060899,-2.628085382961944,-1.915606997199545,-1.955214181949431,-1.5901343411715412,-1.5004117823222005,-1.3553921942491716,-2.266188954592841,-1.355436499108433,-1.7221320305251213,-1.0079608359316874,-2.705933699321782,-2.1907985512173354,-1.7947986917607257,-1.2410872922152587,-1.8301352614103814,-1.3949993789990576,-1.0844957681508196,-1.7906609912382796,-1.4455416100344223,-1.1112092686286235,-2.3975940590997515,-1.4166198340711502,-1.6698083809401987,-2.797731619078807,-2.050118395923006,-1.9948213666993173,-1.0207216056259854,-2.034384246589942,-1.198844975043994,-1.3866108554164345,-2.5251751974823953,-1.7753093939818645,-2.1012089069457787,-2.5120318757114486,-1.8943117680519181,-2.347390075281774,-2.470172110616833,-2.2635538221714624,-1.3444571479636929,-1.6846116982092052,-1.3702398163774394,-1.3110745161702229,-0.7700795814597923,-2.4332886680068477,-1.8678479050729788,-0.891314743834522,-1.263505664773624,-1.8122371414511107,-2.3209705171620962,-1.4306939879061542,-1.1882924808351643,-2.1980425459563313,-0.9900184111131553,-2.2992927359378204,-1.2316350219907939,-2.2789054194278773,-1.8386123947115272,-1.4235829077449422,-1.6084348052475141,-1.9376543092075482,-0.7595713921102241,-1.4477498855198905,-1.2895426708166533,-1.5030026098843174,-1.3821499995862365,-1.9756014984593746,-1.2741910735602382,-1.2384078549346187,-1.978059411443707,-2.160687941551175,-2.4592813691906157,-2.84882213010158,-2.0176222913343316,-1.6064610753512747,-1.5599794266461195,-1.2960017693622983,-1.3770569541805255,-1.177695681767073,-2.2898847705726175,-1.5660559731151156,-2.7071225330246707,-1.929177175906402,-1.9112347510878702,-1.4784530800327205,-1.2779264299659818,-1.3690509826745512,-1.8299893255396753,-1.6719723515664056,-1.392452856296202,-2.0696519985611284,-1.8058666526239888,-1.5328192771923517,-3.0070736496640786,-1.0581648197496647,-2.259729856047196,-1.6769637659606722,-2.6817224166875726,-1.4834444944269871,-0.9635988529934774,-2.577925704003228,-1.5753310239025347,-2.215009833851545,-1.825424768081319,-1.7077112653327637,-2.0700788554970386,-1.3399962921334951,-1.4119666668942707,-1.938585141271605,-2.230450040826483,-1.0734278072875567,-1.9999144121050285,-2.41784846103191,-1.824147324659908,-2.082839625191337,-0.96873620325845,-1.1117575486160318,-1.9066701936295136,-1.8870677733129217,-1.6327920237524298,-1.1635772230728076,-2.246497924557726,-1.7488898358621867,-1.3184201419206638,-1.9399068895522775,-1.4656923103384223,-2.12278505715861,-2.292431293275473,-2.23036143110796,-2.0590108946337757,-1.6101391056048353,-2.290267322649266,-2.5672846000758756,-2.646410359857125,-2.1253315798614656,-1.2142851820189318,-1.8285638756308444,-1.309056481414722,-0.484291228373911,-2.4859948696684193,-2.8266976999013402,-1.0806274971672916,-1.008005140790949,-1.0870422908536754,-3.0334045980652338,-1.6743729383985553,-0.9948175141607407,-1.2018183546827597,-1.4698743157201302,-2.0173283489762057,-2.9938860230338706,-1.5396807198546991,-1.8414726518125624,-2.181837234828096,-1.6744172432578168,-0.9661453756963331,-2.2278592132643658,-1.9925687863545876,0.8374499237869265,0.07651615942313279,0.22750229881374698,0.349543742814716,0.7986964529088607,0.9165313787089144,0.37689413299845104,1.2164824953483226,0.8187585434943383,0.10165827412139956,0.4855577096392443,0.3669576796858931,0.03041706279462614,-0.018811784100032442,-0.5386574255335422,0.8140037453060144,0.24620670039925713,0.0525414929948657,0.2891453040453499,0.7783534412581792,1.1245516610135138,1.1376949827844605,0.10331826961945938,0.3206219668514439,-0.26503725729528904,-0.06641657621592635,0.30140209861150075,0.25595291298184747,0.31218913840955964,0.4005899489782277,0.6442688994706287,-0.43481640798993626,0.627684163652064,-0.21100930735304516,0.5655699966252895,0.06577342448433536,0.09728602800972448,1.0492498673565311,1.4785307275951658,0.7745294751339126,1.1641588457633998,0.5286422491560433,0.40774533399870105,0.023809957761561328,-0.04008562781477132,1.0628643509226494,0.25599721784110885,0.10072744205734233,0.6672027386834273,-0.15953624425362328,0.48187967938568393,0.9046128313601508,0.5150277655899248,0.8902004303077594,0.5256245646580161,0.18271345893962682,0.5163052090113359,0.11518414796899519,0.4958522022092432,0.7626192919251154,-0.4467708960579948,0.7242811864566739,0.8773953557541998,0.6332452434666274,-0.49900593592439474,0.27459998841517413,0.5307619149229887,-0.02135830680288807,1.1373567355670733,0.7111821695449885,0.5571371681834052,1.1377835925029833,0.1806954241841261,-0.2026650886296837,0.2537889423556406,-0.26342156665649075,0.4559755879204391,0.8510644073530449,0.31670939100865453,-0.05833035913139569,0.6230753013344463,0.26277005078493343,0.7323757676811709,0.20668812536789383,-0.7215798979991362,0.6860400548467217,-0.23959283609892992,0.620573083490852,-0.04297876187498063,0.37430330543633406,-0.0442921460156867,0.9837385911414002,1.3334668346628753,0.3584805463847474,-0.3477289815619742,-0.09627754838322201,-0.20177856142488784,0.6562233875386874,0.29076099468414823,0.41594154623464286,0.5035444393170379,1.2563836224563345,0.38523835172181264,1.229581512260008,1.2695712490865427,0.2643857414237318,0.010622331131353099,0.5009979166141822,0.578375071178849,0.5388121912882243,0.3672959269032805,0.38740232234801947,-0.29022367685281736,0.25247555821493456,1.1151880005075723,0.6575451358193598,-0.08385502590631137,-0.04352704186238917,0.5188517317141916,-0.0860189965325182,0.6703059055136579,0.35377005305568493,0.07307474537551492,0.7766934457601194,0.062477946307423725,0.9969705226308697,0.004928336739005515,0.3536814433371621,-0.4003908783642842,0.5916070026683187,0.8144306022419247,0.04156214185012581,0.4401528288688524,0.999178798116338,0.8584100331034858,0.041900389067513207,-0.2659237845000849,0.47976001361873843,-0.030766272168091097,0.12059929191285235,1.010158149261078,0.27595767741514166,0.4032693862588676,0.2704622878927281,0.31934452343003294,-0.3675565265582227,0.20414160266503822,0.10293571754281068,-0.061807713898308574,0.17810459662200906,0.022028539212003217,0.3261173563738574,0.08533153994166585,0.4002517017608404,0.539194743364873,-0.045142732501187464,-0.7478665415410298,0.5617903353602843,0.29974210311344096,-0.04862008726810035,1.0229632238146376,1.811968241282401,1.0509213543808769,1.4862344562292464,1.1693405645138328,0.27306460698113105,0.23261519988571058,0.8859084934008395,0.8546304354646793,0.7738003753261089,1.0064228564815327,0.9612874052500592,0.7783649327844652,1.3075185019645679,0.37545932580624675,0.583568217829369,1.2343034971153564,1.5092011087750208,0.3275194138592852,1.0067939170318958,0.261065814053811,0.7350469044480431,1.13184002423797,1.3415974202328662,0.5320065450114243,0.8142169690885538,1.3785251677021124,0.43088926960771956,1.0096541741329308,0.2765060210287488,1.2548566051622578,1.5661581334967691,0.37856562002279687,0.800827610202092,1.7065558379592582,1.3879576458865233,0.9429869411740861,0.1270698819847833,0.7856777452019306,0.6898426991642986,0.9255927963429624,0.3798315719179219,1.334868892148303,0.40451401634730316,0.24579133498963274,0.14289264103637006,1.2956442594750657,1.9025773273365376,1.0077690539552147,1.0315206663205385,0.8459187565743047,0.514950647397688,0.02411539164597316,1.626914611523576,0.38736950901504397,0.6532860122454154,0.6159428993665449,-0.006466379815358678,0.9791412203500683,0.13357328538968985,1.048105402139103,1.3258877837190102,0.6115919750615592,0.2202254907417753,1.0161690690641234,0.1569224900121127,0.2193832683962409,0.9111277262913432,0.7733407050572232,0.5808887805487292,0.36583766366147424,1.1471473166351238,0.4185438653230457,0.9255041866244396,0.32750792233299914,0.5958578257284954,-0.18254720165865876,0.950601996463445,1.0890259710296952,1.192307217059607,0.9343966853352096,1.1871255619353729,1.0505831071634892,1.3104558772578399,0.08295393616208831,0.7370534476772579,0.7106781944168414,1.5257087264013485,0.41715336299010286,1.6146135120981637,0.9634513758762658,1.7596774050304542,0.7383423826249548,1.2211716668706956,1.508652828787612,0.15777307649761343,0.2398033982391593,1.0332577800108351,0.4703635397798215,0.6689513439000098,1.3589915650639899,0.26204095097712965,1.1411478883583643,0.4478565575029329,1.5236333654936642,1.4278670735083028,0.6656757213893505,0.7813268208969449,1.2334169699105604,0.903085814066074,0.5017630207674798,0.5579549413359305,0.6899198173565355,0.7073582670469206,0.11863705354289901,0.05006378797047941,0.4005571356452522,0.8864895867212235,0.19725883819600126,1.1327593647757415,1.4572683754067128,0.5104746996578544,0.666013968606738,1.6895327536784974,1.1234071957960858,0.9583385384305012,1.47126541104948,-0.23793284060087014,0.10285859935057373,0.3057415313902005,0.3538388707341542,0.5520113094447184,0.16488415665882536,0.37588618274215696,0.49469624546552926,0.9281836239050795,0.21856549524371552,0.8931409966135496,1.037508603071012,1.479888480221332,1.1832687824781305,0.718459041243159,0.9374586746924982,0.9867318264464182,0.9651113713743257,0.809954654502091,0.8677737572356261,0.03818954548097719,0.01531150265372607,1.2275749690307933,1.4913275016349576,1.0395151463002266,1.618022112812806,1.0446968014244606,0.6701844824621594,0.30203068780366454,0.40753170084533036,1.128117689125148,1.119954290222182,1.2539502222912098,1.2466489014000302,1.2101808241996697,1.4202963230782053,1.4448901577890636,1.5197979078431116,1.6563961590005425,1.2475797334640875,1.1037489790939465,1.7443701126333002,1.7592620396208296,0.5711540594924247,0.4062511300375998,1.5943262968330294,1.074436350540258,1.053052511674108,0.514310157308407,0.8421276037830134,0.13186898503236869,1.1485378189680668,0.9080772284603406,0.9616256524674465,0.5482889743318965,1.8762463789353825,1.1165212403145304,0.6775744130718617,0.7852837015989959,0.8970863857893147,0.19993827547664117,0.8157195371896215,0.3857538183762456,0.4039985496928701,0.3181557533533435,1.0930750618336185,1.1067338502589983,-0.06215426162946356,1.277734647989509,1.4031518157459462,1.6014258854679555,0.9919134815706523,1.261496523528298,2.1115368058451605,0.5435784810028341,1.3394662629396348,0.8902364346532532,0.8443358792684817,0.12918954775172875,0.6154717375713733,1.0883973818375314,0.8799533699833414,0.6310484595074449,1.259409671094328,1.1106349345755018,3.515654975379832,2.7597980441163097,3.043341708000398,3.0147023828689656,2.6739437562504977,2.948171664871255,2.0885097204096197,2.963490448794694,3.0140540016367487,3.361787193455295,3.887028186792609,3.6563070174716046,3.1482058313361323,2.0543140155940427,3.150873777090486,3.396628088490571,2.7859960779396804,2.5745865775896615,4.3417977730868635,3.8052787861162667,2.8870884311533462,2.161430719274507,2.753246735468793,3.338055373130025,3.8016205479027594,2.911465441698316,3.1681021940108507,2.6384659715092895,3.0976964136337433,2.608094232817979,2.137219436640297,3.4343537534460906,4.038393750873552,2.941631847750023,3.297686275239359,2.551104394763255,2.9599093287734246,4.0190373676724755,2.9134078880282153,3.184066168153989,2.8426148554440416,3.7906855016172813,3.061026604177129,2.5947293867507253,2.8850015787193763,4.221316223339146,3.205239974250117],\"y\":[0.5135765769987236,3.098903948492157,0.8153144718165123,0.1274334611253333,3.6406648767406455,0.676306697871367,3.323296236758509,0.06631204360224534,0.25185203513878734,0.4291671970839471,1.2441766591041727,0.7474120822257134,0.8095767157791907,0.9121238551742293,0.30571485612335203,1.3563767590086342,0.154650155458847,0.6677739363698639,-0.011576800881254689,1.2159226394783746,0.45334786752467304,0.9913638475982395,0.6938677100055264,0.3030821954137784,0.9201812466378742,1.3258882321051015,1.613253317460602,0.2058800821053491,1.020016020655877,1.1571127122105511,0.8529902693906539,0.9590460810264068,1.5609858318933263,1.3488742086218206,0.8083793001652524,1.0094799344377188,1.031104459889424,1.1473756545460032,0.8614458142861382,0.586851556055019,0.9330265686783428,0.3274193198710077,0.05346151181040211,1.020093237261896,0.30491582756974167,1.0174576212339022,-0.24722675368486818,-0.1039857738614857,0.7655279354367042,-0.04645024518513104,1.5557177887842473,0.81357059392529,1.169000413626197,1.5389601976913616,1.35421923470843,-0.3161746137390104,0.48830101649601126,0.8989546409895197,1.1291825847289936,1.070524135354788,0.9220151124223263,0.2089908345427128,0.39812655079351456,1.1283835561753832,1.5451044859600702,0.6023349821849248,0.9436425931924516,-0.08666894920410532,0.6217250003588952,0.2960547814363344,0.4573346314931773,-0.05179550490022906,0.28416708002068863,0.5940331696160122,1.4253246190627762,0.7871529281453866,0.4096133770873895,0.5961906939162164,1.3488739749933318,0.3804858339918937,0.6134234214184714,0.8370317068513786,0.20013690258690045,0.7553130196728551,0.27084141181947574,0.6182163281181811,0.5484692058819398,0.1537739102992177,0.8356732111047849,0.5011461049079912,0.7424652095709435,0.5979427169784974,0.6447109768756145,0.6186144815500203,0.2951787699051937,0.5867745730774887,0.22096263311348374,1.1919863901429162,0.9683008881039902,0.657558786977526,1.2958076945009347,1.172033949457542,1.2795252398174188,0.9466761290237964,0.6532437383771177,0.9705353953817246,0.9621568334637705,-0.15481778070463725,-0.11013006213019409,0.3929327689720341,0.12240937186454436,1.3329926290600755,0.9145123284070241,0.09543935306925266,0.9587249105720976,0.1709296548239426,0.7747829761427762,1.2526324376281457,0.6863651596187129,1.3140005306894555,0.3738636876238839,1.6609745718663897,-0.26087359234039015,0.9311929365223796,0.14970304917558822,0.8984770165187074,1.0811374381789651,0.3322864878583158,0.7809316568991481,0.7128598083761464,1.033339200795647,0.5458365451723658,0.6700854266251285,1.187116266837188,1.0726816596549922,0.1891227246409522,0.8694264564007417,1.5102310416561937,1.2144871607542507,1.2490394346038176,0.83758654792821,1.0572011888435067,0.8848299442346969,0.7658493395195021,0.5329860133805228,0.9586479275945673,0.7561890312039958,0.5200612203010809,0.17180566635508318,0.38272034126962806,0.1603933349772957,0.6341748906574562,-0.03583694236095385,1.0669382465080546,0.44592206648690114,0.7137360535357756,0.6867633130505522,0.7936953698459344,0.8246590331588366,-0.294948008090656,1.1216798007136914,0.48518777599720464,1.6928144803389213,1.2897403892097565,1.3413714246065185,1.210179226331437,0.20197053474286375,0.9258476768072815,0.8454874853753517,0.38798838437870714,0.16031635199976543,1.4041752300204409,1.0840939910327796,0.4402558699459827,-0.1706991266378935,1.287505881932022,0.7348854425781111,0.059605800079110524,0.755713894794626,0.9860955708606716,0.9511451435792652,0.7830820670217572,0.532189706516844,1.011714441715453,-0.12521237950984004,0.34601054311985663,0.8428548246657779,0.01404183634503816,1.510308024633724,0.4856656340965059,0.887542543240221,0.689796848881897,0.9351868146684785,0.8485210212066965,0.8247387378262985,0.3486459255193621,0.8728583792924144,0.5807072677863107,0.8534678938614664,1.0050106862537613,0.9413308693086984,0.9170707278289992,0.5678596913128877,1.2799263485676784,0.17587676110720132,0.31026108728483964,1.0974196592339924,0.8383855764818204,0.8000007382472981,0.7893104524455908,0.33939111844177866,0.9073334365359625,1.0280709240580792,0.799923755269768,0.5799109609226317,1.1235136664981435,1.1265472023294885,1.1322931035378687,0.5412878259494353,0.9357389340553784,0.7725457471751102,1.221190682587454,0.27052024136516667,0.47321597742643373,0.2611041205264392,-0.964798527347922,-0.44282081448109273,-1.857298213162831,-0.55598102307182,-1.3843159196647696,-0.7079989518734845,-1.6830935700265464,-1.657873086232093,-1.3847940113925596,-1.4055427589416127,-0.44505508813033845,-0.9268143306066821,-0.36772843252975346,-1.627070503051846,-0.6188618114632725,-1.15185370227605,-0.6121582896300694,-0.7783822906517507,-2.0429924042829226,-0.8476540428501338,-1.829445068658804,-1.6257120073052522,-0.7119928300195837,-0.5086579220978713,-1.7830823099996098,-0.34953559634123255,-1.0771597073850387,-1.42110293442056,-0.752211534038558,-1.0139579821677656,-0.789396468597699,-1.227505317791884,-1.8126874775659183,-0.9498003071234012,-1.1434749067296073,-0.960888746356948,-1.2698813124825739,-1.17084580064667,-1.9460372001412038,-1.5699331278073307,-1.990724918715647,-1.6301040388831907,-1.5612331618065787,-0.6783937843071759,-0.13518923216350362,-1.4506311190093382,-1.6142226929499344,-0.4503233648679063,-1.5877278105640122,-1.6981758874061923,-0.9215490091875346,-1.5779907528994643,-1.3503187205205225,-0.9223453160512133,-1.078035952544668,-1.1726794328026333,-0.5594899289410228,-1.2990885602455318,-2.1119402643370644,-0.789717639052008,-0.254170070507187,-1.4878162871969676,-1.0302374815328614,-0.7712806153867082,-0.97326142004949,-0.8079876918465478,-1.4082551243186483,-1.558520796429543,-1.721552903177156,-1.8846691070798938,-1.387028518670294,-2.0119515243640014,-0.9556234249378005,-0.32000717812396556,-1.4498320904557276,-0.8964126225482062,-1.4262939945521087,-1.2445838457105902,-0.8446974899963192,-1.852030170053752,-1.333962004549408,-2.0642190099312767,-1.340103571128185,-0.8371179566319754,-0.26701788060909853,-0.921947162619374,-0.8066363102775491,-1.4585320564564797,-1.8126877111944069,-1.421424104874869,-0.7601894544632298,-1.5143109359544011,-2.0627835312071525,-0.9772481840179943,-0.4367535091899145,-0.99720039107488,-1.0821068136682974,-1.762731715882396,-1.1563227168315189,-0.9746155233084206,-0.8605018529520454,-1.5301922818876577,-1.0533004410271105,-1.2610202663491665,-1.5195789790634804,-1.1775493224798732,-0.6890070871313531,-0.7919521463297424,-1.0355827412479595,-1.067422649720491,-0.8309734347347784,-1.0245712849919428,-0.6272406070097153,-0.3973338337245506,-1.117779286525784,-1.165022682832271,-0.7920293629357613,-0.9547471797781713,-0.6280396355633258,-0.8207585189709292,-0.8640107588212482,-0.9374276334308592,-1.2623787620957605,-1.5412039717721626,-1.5346615300716149,-1.6968173916595986,-1.1510546737224396,-0.5511881163721103,-0.8654462375453722,-1.2180891969531566,-1.4422523234628954,-0.9533861959701344,-0.9821180736952341,-1.8612079941538051,-1.7391936199787772,-0.8575453000982307,-1.020982674455278,-1.143397923752077,-0.6537352557671489,-0.5034668619663224,-1.6862040888354215,-2.0536057071070997,-1.661866964378192,-0.8127805985462575,-1.299486713677371,-0.5767297706208729,-0.7685682500096725,-0.6147139673621128,-0.8282610693577427,-0.6939539597861232,-0.8044018029998147,-1.7494830306587135,-0.2965460651978768,-1.1097988780396695,-1.1647015123779616,-1.841416867229575,-0.674484003316202,-2.0588737502161787,-1.7707096363070678,-0.8176477665335655,-1.5783119233537735,-0.5840033928795616,-0.48911323708337423,-0.7064161541149176,0.13077290806233316,-1.086267429056668,-0.35600770198486764,-0.17829391935089126,-0.009755706384013524,-0.5738656937217312,-0.14988593377003256,-1.211315339063041,-0.8594714082088669,0.27042799903898246,-0.06305340306597888,-1.5707390369100473,-1.312658182295035,-1.6860498892518723,-0.5433840473673048,-0.23534743106877007,0.08018757675740361,-0.9933830860385788,-0.3112427668044057,-1.113561106367712,-0.43612393956850726,-1.1228230276228903,-0.6269319742141285,-0.6685091739796967,-1.0213833159485601,-0.26670948144200035,-0.15826472931647517,-1.0185964556554374,-1.0013610064632505,-1.1742843704589605,-1.055149332531728,-0.7183904407471317,-0.07838239598384675,-0.24779436604891059,-1.1727787893064126,-0.030183049850269053,-0.7139959211077501,-0.1987148495250176,-0.8566845479157441,-0.689735779628051,-0.3335770338019573,-0.6919702869057853,-0.7926835605163719,-1.0101404435029757,-1.383686583671851,-0.9194881197011778,0.0802647933634225,-0.9758965688205067,-0.4012504952646309,-0.44219101123119675,-0.8432688918213015,-0.60227367930259,-0.8103215556280614,-1.0474773232127115,-1.0474028282966241,-0.1734242633021401,0.1038028892670415,-0.24229762844019512,-0.8441451369809307,-0.7424811232946277,-0.958830578560523,-1.2503368610965655,-0.17350124627967037,-1.515438015511427,-0.10216467936424455,-0.9228300546996209,-1.4836753236449145,-0.07878054941568614,-1.2481023538188312,-0.3277564040490011,-0.5315666820085716,-0.786208733182805,-0.5254223937398632,-1.0973585899801463,-1.1099752175209787,-0.8488608270746214,-0.555903806465801,-0.3255218967712667,-0.584954132955278,-0.8900300375408235,-0.005845925393039581,-1.1986217285446785,-1.2198483341930328,-0.2883367285836371,0.17881805461236192,-1.2149039495997058,-1.182586183027873,-1.098157618533757,-0.41961030232391183,-1.52820860900732,-0.8281093578356366,-0.16910944833022046,-1.084585274794322,-0.6003603424791647,-0.25042974844841603,-1.2804173987007321,-0.4779475812438086,-1.0681515758456772,-0.8179714250493176,0.257502972331052,-0.703305401677554,-1.585339103702729,-0.21580025799282987,-1.2066023706592819,-0.5505585467507029,-0.206063200328282,-0.986509871644684,-0.12449871273330756,-0.4046052015502848,0.03788856504424398,-0.49134797798959734,-0.08962526842943126,-0.8326555889971242,-1.2175368439377683,0.23715261184232694,-1.254644795519379,-0.4659732946115946,-1.0765303713921202,-0.11995936212092617,-1.776224354954369,-0.5547963787450924,-0.03903993712450166,-0.8430374756317334,-0.11308638135552002,-0.24029181566209706,-1.0315187606734362,-0.31722031783084276,-1.0686267122550468,-0.5232648694396591,-0.3534520242528242,-0.82547420906462,-0.9756653862594274,-1.4360310522166568,-1.0999912506897203,-0.1684798787088131,-0.5468184583204206,-0.8664985885578221,-0.3546494398667625,-1.301091651333698,-0.23486933934098017,-0.489036254105844,-1.5428861260345088,0.19397735496953808,-1.1527368279847856,-0.55934260990658,-1.055781623843067,-0.8435155673595234,-0.3737185212149128,-0.2140436088143968,-0.8970574515182675,-0.29646884859185796,-1.326710288559991,-1.2418038659665736,-0.5946169293322272,-1.3625369610010267,-1.0345550181947127,-0.7330650024559002,-1.6913951489669703,-0.7594826682358035,-0.8642640812800878,-1.413767121276018,-1.3592720089801142,-1.6882843965296068,-0.8210821774866813,-1.3306198359224766,-0.8195763627056447,-0.12570277526786355,-0.37060800240603775,-0.8831791966731776,0.3181492534447704,-0.279081687877565,-0.3660686517936565,-0.8233166847644158,-0.6738544336947946,-1.5057009578468792,-0.782067536002263,-1.1154744431911372,-1.3520008747828685,-1.2244868076807047,-0.5318876188343921,-0.9841983813894194,-1.0636825612902086,-0.9452540759619137,-0.4107563703680995,-0.6632408972421288,-1.729938579272705,-0.013097641382456619,0.16828173476571498,-0.71894279376252,-1.1918478706545628,0.07052750207038591,-0.7516589473946809,-0.9130157804290541,-1.225517252423883,-0.7582082696443349,-0.028901770709694095,-1.4365986645806992,-1.3121803241957335,-1.3235926555735211,-0.12083560728055552,-0.9877072872586223,-0.025945451484368196,-0.32680317591184155,-0.8604246363460264,-1.1106045535138973,-0.6187073782512348,-0.4320530784448778,-0.8439909373973816,4.212506342593302,2.789428100786102,2.688620680423111,3.036721801157071,2.982624842293007,4.034715576981795,4.021790550273865,4.255360429011782,4.292719214990789,3.9376678968854044,4.731527736234805,3.0290522798994974,4.017707151491514,1.699503210080448,3.3816155346398205,4.021145721303803,3.583133740551954,3.0457326543863643,4.739662577932958,5.110819777612061,3.3506518713269178,2.6710793201252687,2.2738256251205717,2.467022600255965,3.6278790238960994,2.582487652181339,4.777890728522488,4.143327066349592,3.6295609445299566,2.543318811113372,2.6785818705120823,4.1319147349718035,4.881796130035632,3.5072957359575314,3.805672277569049,2.057167770687578,2.3979975235958038,4.258301488888454,3.57681560086338,2.7597260647774573,4.154746278276485,3.2597553600483407,2.6303827580069936,3.305184542406693,2.947500563591734,4.529952199181458,4.310738433387932],\"z\":[1.8187260335885094,-0.8819047463465356,0.11400557140029809,0.5680033391541187,-0.06836100793399211,0.25955444004620987,0.386230323792377,1.9105932752991575,1.706060559053186,0.38681803895301037,0.4595969782400461,0.4021588771822665,-0.8843863934457972,0.20582925920657438,-0.1976526546910983,0.23285779657367836,0.8449811329251197,1.1350120791439404,-0.24060318370271291,-0.6360218997742872,-0.18084941463266374,0.42290294077348445,-0.05725452649081016,0.8726722005531462,-0.17874583874860517,-0.7423631097249948,-0.36510986162617043,-0.9449934286989372,0.5685949352592335,0.08862820391710759,0.4287089941858264,-0.03805424157443834,-0.3503625873694629,0.5831638841510666,-0.9019335406108216,1.02841116698269,-0.8796456983447573,0.5593322632101559,-0.9057929872979373,-0.9066742357118617,-1.254071091304432,0.2640764169942481,0.12102154172548006,1.027639277645267,-0.20854048226069016,-0.7693636648612662,0.3558206958222896,0.11587801857406059,0.05108090026745493,-0.1287773715443752,-0.1204544715077346,0.3222864073894507,-0.3921383989932745,-0.3597066362642086,-0.14428609244864546,0.5903601477085567,1.1205245070977754,-0.17720206007375894,0.451365897738934,-0.7732231115483819,-0.30337231843842444,-0.5954592304589722,1.3566077376588888,0.4404780701693422,-0.11968258217031148,0.7691588457415885,0.6558986139849051,-0.24608778591034278,-1.018500047870199,-0.22449045613603355,-0.31796924956109046,-0.3579135980686804,0.2562761467743487,0.15199090262536788,-0.0016816553125887932,0.056196441188041714,-0.08497357634966964,0.5291347916476916,-0.3734223189729504,0.2602169703071323,-0.6790817878624028,0.20034465699894446,0.732383431429359,0.05851210920031117,-0.08582684253276064,0.5384788405424372,-0.19445573826490478,0.3750489629694944,-0.16591140445378727,-0.9113869485820684,0.1796819702533943,-0.44417327468909207,0.3070269460058626,-0.4114480429861473,0.2621635770323582,-0.40913237497387783,-0.22997505834366347,0.933388594882787,-0.4050821923645932,0.18585708495277944,0.5870233308381824,-0.5016485431393426,-1.0996975781848592,0.5463884698388372,-0.5684306930918679,-0.5254801640802533,0.31147995666552675,-0.0006605064544838642,-0.1241460355198364,-0.8217676018441272,-0.11351791016078704,-0.14274231377379923,-0.909652433985053,0.6088165255183384,0.4143307812161621,-0.335625755802616,0.6406391526013172,0.08168119988029933,0.29305156108657815,-0.261596506814613,-0.44307993414695723,-0.5981055348375912,0.4661027293057809,-0.17285840849059553,-0.33408197712776977,0.31611129269006555,-0.773995000885805,-0.9266464099656566,0.31371424783212837,0.06159966655000363,-0.04345746693640037,0.8758691169793394,0.5170722466902967,-0.743216375908086,-0.39607922252605804,-0.22765939033139407,0.1637599786088838,-0.007856770011973936,-0.5047361004890353,-0.16417688985677237,0.16607564662115315,0.7954154937712693,-0.53019287695046,0.5552820806008716,-0.9137026165943377,0.9118726419541457,-0.4281419239680808,-0.2949908948032708,-0.8222797889710078,0.1398189985914721,-0.8323957272031766,0.7668431777293191,-0.12954926088179838,0.324711434478221,-1.2846713909172762,0.5315318365056289,-0.6568753224420063,-0.6537063882466458,-1.1259542262145406,0.5888163690337104,-0.15491421780769477,-0.1831650826449332,-0.6004212028498606,-0.15054258399369824,-0.023116231395562313,0.08476875722999201,-0.34882925138447723,-0.4019946350149006,-0.1775711213608023,-0.09008911727025615,-0.3348538664651929,0.4589064657482908,-0.3859632842938894,-0.10483639152696365,0.23001949874466757,-0.03014461227803833,0.07094371544474921,0.361045595819377,1.019326820298487,-0.3037751464888041,0.3055925264075169,-0.6529344989092227,0.986151150462831,0.90801319526703,0.11742179724890682,-0.5778841010631145,0.8927537338834418,0.01459895492910442,-0.5053986307499575,0.2801077677152593,0.7692682048180891,-0.7663854665880745,1.0338143923446521,-0.2870812655068705,0.2872455076742363,0.26253263831940166,0.06090915405824839,-1.1466982898057585,-0.06460435857799819,0.31262090728999314,0.31725224331453183,0.4283061661354465,-0.06894222562865825,0.8177033360373337,0.8434373542502734,0.02059574426361498,-0.04386029498678048,0.17696347419074496,-0.06497341986504158,0.4333403302103652,0.6295605891095566,-0.05757597769552203,-0.7701355541986893,0.4325684408729421,0.7531554772514101,-0.27954069749751376,-0.38905084164358195,-0.15568610714511788,-0.296534673478117,-0.9111962126598994,-1.1497044703097832,-0.8659300156360155,0.3665581802578399,-0.548649254760242,-0.5717089863637295,0.9977190478343171,-0.04009266783519326,-0.263010827735139,-0.1729502280261244,0.3687540465037476,0.897293250372452,-0.9752013429512628,0.2299276792091388,-1.051105006980462,-0.5862883779454232,1.036891507004484,1.2354274339159448,0.9219781374964539,-0.5910290730464629,-0.15743106443199364,-0.07966217052323638,-0.5186249795789739,1.2631185015439712,-0.0199805931372174,0.039301381594078234,-0.1282066608189817,-0.2247730115937311,-0.3093795504627958,0.5439809822910391,-0.7274583954831344,0.07335829984365862,0.8757493152129778,-0.8079933955368725,-0.4266899648287634,-0.5487410742957706,0.30307567978321814,-0.44051500661400617,0.11104550393749213,-0.09009955996011697,0.03996391185500053,1.3581410736438742,0.02161689312171986,-0.19851636356405017,-0.15821339645927768,0.11424242036368565,-0.03472786739392498,-0.48151892890039477,-0.2185165200486781,0.05878935095182557,-0.023979940268513893,-0.46703135685422953,-0.7121989340995462,0.3102134197421952,0.012935374487896386,-0.7336335101825195,-0.9052222765725442,-0.4577686848051519,-0.21300393561021522,0.9946314904846245,0.4058171452573526,0.8826963192497861,0.42744245726249475,-1.0463922941102552,0.21455885874904967,0.7554607025738186,0.10490881415880073,-0.6938519153662653,0.6318658144319651,-0.048002297131593395,0.03184219043038941,1.1450361978405805,-0.9291632565899556,0.12435835859585434,0.23455901523367761,-0.5014911031541899,-0.9307070352648018,-0.03318408871907875,-0.7825086368446146,0.6889824642850331,-0.4561435292846378,-0.5463440294378331,-1.0756271404131277,0.7292040545441376,0.42733309818599385,-0.4929189435968672,-0.9345664819519176,-0.018436814462371057,0.7361510585809459,-0.4205148501293783,0.226078675211884,0.04470460695604026,0.16749962352963774,-0.12338458887227408,-0.845540699186525,-0.3556083727462717,0.41449866389117596,-0.46240002082969084,-0.1497226137476232,0.16896202535881605,0.6974732469966877,-0.30948890953929664,-0.3033137948399115,-0.24234814098958873,0.16113377290808384,-0.9013628298854284,0.1604712426471615,-0.23172001563053934,-0.19611931870611285,0.037566866997063124,-0.23249190496796246,0.16267755158293018,0.05956124028924868,0.8758586742894787,0.40272958790766,0.40504525591992946,0.7760954070885359,-0.5479691849583475,-0.27705714681023064,0.8038958337930632,-0.20237581025116586,0.49389271332044743,0.4168143319034454,-0.3125764668889891,-0.28794497437982247,0.76866419815568,0.7608639279357806,1.236199323253368,-0.32868919445566847,-0.23760744588854907,-0.9475102753232364,-0.36737744872978767,-0.0687743429536444,1.0446104003787153,0.8921497272210326,0.49775216000756317,-0.34740527447599273,1.007834986066486,-0.55105674230804,-0.6234328535446961,-0.861831752118079,0.5485029592390771,0.2648378636418102,-0.45757794888298303,-0.045605252273656076,0.8116147271672947,-0.3681493380672108,-0.019208703799794172,-0.976745121626109,-0.07252443056425928,-0.09646541058167082,0.29186640100891437,0.29487258151293894,0.05415801492728671,1.1189702857330683,-0.16291566663962356,0.04710165181397762,0.5972967090555042,0.5670407138945267,-0.08940904746836179,0.041507690529846875,-0.49369083293429034,0.41921137676138265,0.210699412061934,0.5988404877303505,1.1181983963956452,-0.005383662014551374,0.10856392111764235,0.6309969765753353,0.34030350009559235,-0.5726572331985936,-0.13951288811249205,0.855099039024722,0.49910204164399613,0.01016032269416778,-0.35791163020124706,0.5996371981823622,0.20839615460695898,0.5919058942508364,0.28533463557978006,0.5500591484712176,-0.2838518398455638,-0.47706591824073047,-0.40664685641916126,0.23010284345776896,-0.3165048798644786,0.3101164712229885,-0.9868766315318166,1.1906578523454026,0.08105117885449059,0.16809318750218627,-0.8957135061190292,0.6025340196098858,0.11896754379118654,0.2606093556676511,0.14908363850798326,0.4800111158041251,-0.8482130179285435,-0.1456880028118772,0.4737142314709449,0.30632795869167995,-0.9793360635224596,-0.20768524821016568,0.7654796922867808,-0.5423198611919482,0.9791781320626232,0.2315652452869473,-0.05784612259592545,-0.5169164793453583,0.12051132246603283,0.30172263703054064,0.24090929418169293,-0.9739328381604976,-0.2695425931642733,-1.1172122161147708,-0.042352973365194134,0.7691608136090219,0.14801165417189055,0.05626737534384869,0.3871134757943226,-0.0911591337389154,-0.45844678673961287,-0.1595820108854937,0.4962897581783848,-0.9554074940623424,0.26253460618683505,0.1496772024805318,-0.9546231941676251,-0.5610913036945409,-0.32801425363745196,0.3102687822244637,-0.847953315718001,0.7600764669248189,-0.4081092582483395,0.36664152497094127,0.14415220748477486,-0.8694692686466424,0.7422416353184187,-0.9683512874336612,0.03997632241229485,-0.3225016691989892,0.15506801728519953,-0.08247761510509219,-0.6020138491352616,-1.0168833671721123,-1.3196075897133472,0.28609411435990906,-0.08042164930336529,1.0903290034027442,0.5014332813298041,0.3705823485037249,0.12572381190582604,0.12726759058067227,0.14639890920867038,0.6527036654261456,-0.6044108939931988,-0.14345371164527573,-0.6129016767048533,1.3187747174352942,0.17210494519077701,0.12631737587837455,0.060236181107465245,0.7285135420523825,-0.12645973566467247,-0.0749370470957354,0.48143312484517636,-0.3581993146426224,-0.49059086502730354,0.6164280276835024,-0.05253984575317008,0.6898376983355575,-0.145960115579714,0.724666505922561,-0.9438291540009952,0.515230340884214,0.25396244662951256,0.14878354350931366,0.4342925127800964,0.6181625422805175,0.2747065102207307,-0.20519125483302167,0.3224667006217588,-0.09193102307633863,-0.4906722418729715,0.4189361028773016,-0.2584484579989738,0.9614402489754296,-0.6102169474055406,0.2653344790951522,-0.17056362585804796,0.2199869052256002,-0.5603070037998235,0.32938769029516757,0.44440845101226517,0.41517360470939246,0.7246540953652668,-0.4198399093111617,0.9568778792392644,0.2946662739172315,0.28231604451846126,0.010147912136873584,-0.38802772491804366,-0.6049230811200794,0.46831100610898296,-0.46914387838703614,-0.6212017234943391,0.4513294406856739,0.2647688973534365,-0.5054474983605121,1.103354173619731,0.13345511583735165,-1.1056338760534237,-0.08640602808058159,-0.9368007731185192,0.001738506270886955,-1.0750335764405792,-1.090471363189042,0.6434565650506064,0.14099568384670846,-0.5957293753593754,1.0260850562805601,-0.7606496369923293,-0.7668247516917145,-0.8472503926689516,-0.6212141340516334,-1.0765773551154254,0.6102529129841172,-0.6357830829434664,0.34416294678270803,0.3309314689700138,0.2121742244484066,-0.31017745416361847,-0.286248884703501,0.2668938294435371,-0.16448545967786943,0.2074459399046612,0.9861251360994314,0.036404560166554537,-0.28546458480878373,0.05233896236835928,0.7359571615425327,-0.13255347351838964,0.38729180115919726,-0.11016868273311858,-0.878813317541388,0.9360368671288396,-0.25093587222044994,-1.0810303657750897,-0.1722043530521008,1.0864695567156284,-0.4691562889443302,-0.7313868084586238,0.1281488389945962,-0.00906794445303699,0.8456456310534753,-0.2722734997842166,0.1966655035441367,0.15593369402558488,0.00908833835807504,-0.16363219349477826,0.2832786697780532,-0.45852816358528087,0.1324924905777597,-0.6036390046557757,-0.13583176679025097,0.8863898511293214,-0.1952640846555883,-0.013793067880537989,-0.023909006112706802,-0.2045976908604731,0.13123639634428877,0.31783536459721995,0.012366631629936349,0.6195155850331949,0.4690828954464061,0.7606576203400731,0.8772241275994505,-0.5995888220464912,-0.5842037100846259,-0.0059329522544909795,0.21910572109108817,-0.17169406951324157,-0.599269274429801,0.2693351480340834,-0.06853933329886677,0.37352344366385754,-0.3829232727471166,-0.6302417964459331,-1.0534609392220347,0.5924995225027967,0.554305915814586,0.37279188283514986,-0.42630264417251035,-0.11792467922040889,-0.3906545766786421,0.3727073448732373,-0.022405491667163994,0.027573418226926934,0.045945193795384254,0.5477311341810658,-0.22072276470503469,0.1425271162436723,-0.06691220991091906,0.22682461446531954,-0.69612647076217,-0.7702110822324418,-0.15547198287006167,-0.40382090486803274,0.19742504660367743,-0.7803270204646106,-0.19624095978108425,0.6071498482402978,0.03370432347311484,0.4945553078607816,-0.08197777425609393,-0.7737964482842875,-0.6039975589735463,0.36171015822714464,-0.3728887113606158,-0.226401263951078,-0.03285213054509429,-0.7862268612799145,0.03677947026551337,-0.5797506994249616,-0.24827583547690177],\"type\":\"scatter3d\"}],                        {\"template\":{\"data\":{\"bar\":[{\"error_x\":{\"color\":\"#2a3f5f\"},\"error_y\":{\"color\":\"#2a3f5f\"},\"marker\":{\"line\":{\"color\":\"#E5ECF6\",\"width\":0.5},\"pattern\":{\"fillmode\":\"overlay\",\"size\":10,\"solidity\":0.2}},\"type\":\"bar\"}],\"barpolar\":[{\"marker\":{\"line\":{\"color\":\"#E5ECF6\",\"width\":0.5},\"pattern\":{\"fillmode\":\"overlay\",\"size\":10,\"solidity\":0.2}},\"type\":\"barpolar\"}],\"carpet\":[{\"aaxis\":{\"endlinecolor\":\"#2a3f5f\",\"gridcolor\":\"white\",\"linecolor\":\"white\",\"minorgridcolor\":\"white\",\"startlinecolor\":\"#2a3f5f\"},\"baxis\":{\"endlinecolor\":\"#2a3f5f\",\"gridcolor\":\"white\",\"linecolor\":\"white\",\"minorgridcolor\":\"white\",\"startlinecolor\":\"#2a3f5f\"},\"type\":\"carpet\"}],\"choropleth\":[{\"colorbar\":{\"outlinewidth\":0,\"ticks\":\"\"},\"type\":\"choropleth\"}],\"contour\":[{\"colorbar\":{\"outlinewidth\":0,\"ticks\":\"\"},\"colorscale\":[[0.0,\"#0d0887\"],[0.1111111111111111,\"#46039f\"],[0.2222222222222222,\"#7201a8\"],[0.3333333333333333,\"#9c179e\"],[0.4444444444444444,\"#bd3786\"],[0.5555555555555556,\"#d8576b\"],[0.6666666666666666,\"#ed7953\"],[0.7777777777777778,\"#fb9f3a\"],[0.8888888888888888,\"#fdca26\"],[1.0,\"#f0f921\"]],\"type\":\"contour\"}],\"contourcarpet\":[{\"colorbar\":{\"outlinewidth\":0,\"ticks\":\"\"},\"type\":\"contourcarpet\"}],\"heatmap\":[{\"colorbar\":{\"outlinewidth\":0,\"ticks\":\"\"},\"colorscale\":[[0.0,\"#0d0887\"],[0.1111111111111111,\"#46039f\"],[0.2222222222222222,\"#7201a8\"],[0.3333333333333333,\"#9c179e\"],[0.4444444444444444,\"#bd3786\"],[0.5555555555555556,\"#d8576b\"],[0.6666666666666666,\"#ed7953\"],[0.7777777777777778,\"#fb9f3a\"],[0.8888888888888888,\"#fdca26\"],[1.0,\"#f0f921\"]],\"type\":\"heatmap\"}],\"heatmapgl\":[{\"colorbar\":{\"outlinewidth\":0,\"ticks\":\"\"},\"colorscale\":[[0.0,\"#0d0887\"],[0.1111111111111111,\"#46039f\"],[0.2222222222222222,\"#7201a8\"],[0.3333333333333333,\"#9c179e\"],[0.4444444444444444,\"#bd3786\"],[0.5555555555555556,\"#d8576b\"],[0.6666666666666666,\"#ed7953\"],[0.7777777777777778,\"#fb9f3a\"],[0.8888888888888888,\"#fdca26\"],[1.0,\"#f0f921\"]],\"type\":\"heatmapgl\"}],\"histogram\":[{\"marker\":{\"pattern\":{\"fillmode\":\"overlay\",\"size\":10,\"solidity\":0.2}},\"type\":\"histogram\"}],\"histogram2d\":[{\"colorbar\":{\"outlinewidth\":0,\"ticks\":\"\"},\"colorscale\":[[0.0,\"#0d0887\"],[0.1111111111111111,\"#46039f\"],[0.2222222222222222,\"#7201a8\"],[0.3333333333333333,\"#9c179e\"],[0.4444444444444444,\"#bd3786\"],[0.5555555555555556,\"#d8576b\"],[0.6666666666666666,\"#ed7953\"],[0.7777777777777778,\"#fb9f3a\"],[0.8888888888888888,\"#fdca26\"],[1.0,\"#f0f921\"]],\"type\":\"histogram2d\"}],\"histogram2dcontour\":[{\"colorbar\":{\"outlinewidth\":0,\"ticks\":\"\"},\"colorscale\":[[0.0,\"#0d0887\"],[0.1111111111111111,\"#46039f\"],[0.2222222222222222,\"#7201a8\"],[0.3333333333333333,\"#9c179e\"],[0.4444444444444444,\"#bd3786\"],[0.5555555555555556,\"#d8576b\"],[0.6666666666666666,\"#ed7953\"],[0.7777777777777778,\"#fb9f3a\"],[0.8888888888888888,\"#fdca26\"],[1.0,\"#f0f921\"]],\"type\":\"histogram2dcontour\"}],\"mesh3d\":[{\"colorbar\":{\"outlinewidth\":0,\"ticks\":\"\"},\"type\":\"mesh3d\"}],\"parcoords\":[{\"line\":{\"colorbar\":{\"outlinewidth\":0,\"ticks\":\"\"}},\"type\":\"parcoords\"}],\"pie\":[{\"automargin\":true,\"type\":\"pie\"}],\"scatter\":[{\"marker\":{\"colorbar\":{\"outlinewidth\":0,\"ticks\":\"\"}},\"type\":\"scatter\"}],\"scatter3d\":[{\"line\":{\"colorbar\":{\"outlinewidth\":0,\"ticks\":\"\"}},\"marker\":{\"colorbar\":{\"outlinewidth\":0,\"ticks\":\"\"}},\"type\":\"scatter3d\"}],\"scattercarpet\":[{\"marker\":{\"colorbar\":{\"outlinewidth\":0,\"ticks\":\"\"}},\"type\":\"scattercarpet\"}],\"scattergeo\":[{\"marker\":{\"colorbar\":{\"outlinewidth\":0,\"ticks\":\"\"}},\"type\":\"scattergeo\"}],\"scattergl\":[{\"marker\":{\"colorbar\":{\"outlinewidth\":0,\"ticks\":\"\"}},\"type\":\"scattergl\"}],\"scattermapbox\":[{\"marker\":{\"colorbar\":{\"outlinewidth\":0,\"ticks\":\"\"}},\"type\":\"scattermapbox\"}],\"scatterpolar\":[{\"marker\":{\"colorbar\":{\"outlinewidth\":0,\"ticks\":\"\"}},\"type\":\"scatterpolar\"}],\"scatterpolargl\":[{\"marker\":{\"colorbar\":{\"outlinewidth\":0,\"ticks\":\"\"}},\"type\":\"scatterpolargl\"}],\"scatterternary\":[{\"marker\":{\"colorbar\":{\"outlinewidth\":0,\"ticks\":\"\"}},\"type\":\"scatterternary\"}],\"surface\":[{\"colorbar\":{\"outlinewidth\":0,\"ticks\":\"\"},\"colorscale\":[[0.0,\"#0d0887\"],[0.1111111111111111,\"#46039f\"],[0.2222222222222222,\"#7201a8\"],[0.3333333333333333,\"#9c179e\"],[0.4444444444444444,\"#bd3786\"],[0.5555555555555556,\"#d8576b\"],[0.6666666666666666,\"#ed7953\"],[0.7777777777777778,\"#fb9f3a\"],[0.8888888888888888,\"#fdca26\"],[1.0,\"#f0f921\"]],\"type\":\"surface\"}],\"table\":[{\"cells\":{\"fill\":{\"color\":\"#EBF0F8\"},\"line\":{\"color\":\"white\"}},\"header\":{\"fill\":{\"color\":\"#C8D4E3\"},\"line\":{\"color\":\"white\"}},\"type\":\"table\"}]},\"layout\":{\"annotationdefaults\":{\"arrowcolor\":\"#2a3f5f\",\"arrowhead\":0,\"arrowwidth\":1},\"autotypenumbers\":\"strict\",\"coloraxis\":{\"colorbar\":{\"outlinewidth\":0,\"ticks\":\"\"}},\"colorscale\":{\"diverging\":[[0,\"#8e0152\"],[0.1,\"#c51b7d\"],[0.2,\"#de77ae\"],[0.3,\"#f1b6da\"],[0.4,\"#fde0ef\"],[0.5,\"#f7f7f7\"],[0.6,\"#e6f5d0\"],[0.7,\"#b8e186\"],[0.8,\"#7fbc41\"],[0.9,\"#4d9221\"],[1,\"#276419\"]],\"sequential\":[[0.0,\"#0d0887\"],[0.1111111111111111,\"#46039f\"],[0.2222222222222222,\"#7201a8\"],[0.3333333333333333,\"#9c179e\"],[0.4444444444444444,\"#bd3786\"],[0.5555555555555556,\"#d8576b\"],[0.6666666666666666,\"#ed7953\"],[0.7777777777777778,\"#fb9f3a\"],[0.8888888888888888,\"#fdca26\"],[1.0,\"#f0f921\"]],\"sequentialminus\":[[0.0,\"#0d0887\"],[0.1111111111111111,\"#46039f\"],[0.2222222222222222,\"#7201a8\"],[0.3333333333333333,\"#9c179e\"],[0.4444444444444444,\"#bd3786\"],[0.5555555555555556,\"#d8576b\"],[0.6666666666666666,\"#ed7953\"],[0.7777777777777778,\"#fb9f3a\"],[0.8888888888888888,\"#fdca26\"],[1.0,\"#f0f921\"]]},\"colorway\":[\"#636efa\",\"#EF553B\",\"#00cc96\",\"#ab63fa\",\"#FFA15A\",\"#19d3f3\",\"#FF6692\",\"#B6E880\",\"#FF97FF\",\"#FECB52\"],\"font\":{\"color\":\"#2a3f5f\"},\"geo\":{\"bgcolor\":\"white\",\"lakecolor\":\"white\",\"landcolor\":\"#E5ECF6\",\"showlakes\":true,\"showland\":true,\"subunitcolor\":\"white\"},\"hoverlabel\":{\"align\":\"left\"},\"hovermode\":\"closest\",\"mapbox\":{\"style\":\"light\"},\"paper_bgcolor\":\"white\",\"plot_bgcolor\":\"#E5ECF6\",\"polar\":{\"angularaxis\":{\"gridcolor\":\"white\",\"linecolor\":\"white\",\"ticks\":\"\"},\"bgcolor\":\"#E5ECF6\",\"radialaxis\":{\"gridcolor\":\"white\",\"linecolor\":\"white\",\"ticks\":\"\"}},\"scene\":{\"xaxis\":{\"backgroundcolor\":\"#E5ECF6\",\"gridcolor\":\"white\",\"gridwidth\":2,\"linecolor\":\"white\",\"showbackground\":true,\"ticks\":\"\",\"zerolinecolor\":\"white\"},\"yaxis\":{\"backgroundcolor\":\"#E5ECF6\",\"gridcolor\":\"white\",\"gridwidth\":2,\"linecolor\":\"white\",\"showbackground\":true,\"ticks\":\"\",\"zerolinecolor\":\"white\"},\"zaxis\":{\"backgroundcolor\":\"#E5ECF6\",\"gridcolor\":\"white\",\"gridwidth\":2,\"linecolor\":\"white\",\"showbackground\":true,\"ticks\":\"\",\"zerolinecolor\":\"white\"}},\"shapedefaults\":{\"line\":{\"color\":\"#2a3f5f\"}},\"ternary\":{\"aaxis\":{\"gridcolor\":\"white\",\"linecolor\":\"white\",\"ticks\":\"\"},\"baxis\":{\"gridcolor\":\"white\",\"linecolor\":\"white\",\"ticks\":\"\"},\"bgcolor\":\"#E5ECF6\",\"caxis\":{\"gridcolor\":\"white\",\"linecolor\":\"white\",\"ticks\":\"\"}},\"title\":{\"x\":0.05},\"xaxis\":{\"automargin\":true,\"gridcolor\":\"white\",\"linecolor\":\"white\",\"ticks\":\"\",\"title\":{\"standoff\":15},\"zerolinecolor\":\"white\",\"zerolinewidth\":2},\"yaxis\":{\"automargin\":true,\"gridcolor\":\"white\",\"linecolor\":\"white\",\"ticks\":\"\",\"title\":{\"standoff\":15},\"zerolinecolor\":\"white\",\"zerolinewidth\":2}}},\"scene\":{\"domain\":{\"x\":[0.0,1.0],\"y\":[0.0,1.0]},\"xaxis\":{\"title\":{\"text\":\"PC1\"}},\"yaxis\":{\"title\":{\"text\":\"PC2\"}},\"zaxis\":{\"title\":{\"text\":\"PC3\"}}},\"coloraxis\":{\"colorbar\":{\"title\":{\"text\":\"color\"}},\"colorscale\":[[0.0,\"#0d0887\"],[0.1111111111111111,\"#46039f\"],[0.2222222222222222,\"#7201a8\"],[0.3333333333333333,\"#9c179e\"],[0.4444444444444444,\"#bd3786\"],[0.5555555555555556,\"#d8576b\"],[0.6666666666666666,\"#ed7953\"],[0.7777777777777778,\"#fb9f3a\"],[0.8888888888888888,\"#fdca26\"],[1.0,\"#f0f921\"]]},\"legend\":{\"tracegroupgap\":0},\"margin\":{\"t\":60}},                        {\"responsive\": true}                    ).then(function(){\n",
              "                            \n",
              "var gd = document.getElementById('082e8f19-4332-4f8e-9eaf-5a466e72a96a');\n",
              "var x = new MutationObserver(function (mutations, observer) {{\n",
              "        var display = window.getComputedStyle(gd).display;\n",
              "        if (!display || display === 'none') {{\n",
              "            console.log([gd, 'removed!']);\n",
              "            Plotly.purge(gd);\n",
              "            observer.disconnect();\n",
              "        }}\n",
              "}});\n",
              "\n",
              "// Listen for the removal of the full notebook cells\n",
              "var notebookContainer = gd.closest('#notebook-container');\n",
              "if (notebookContainer) {{\n",
              "    x.observe(notebookContainer, {childList: true});\n",
              "}}\n",
              "\n",
              "// Listen for the clearing of the current output cell\n",
              "var outputEl = gd.closest('.output');\n",
              "if (outputEl) {{\n",
              "    x.observe(outputEl, {childList: true});\n",
              "}}\n",
              "\n",
              "                        })                };                            </script>        </div>\n",
              "</body>\n",
              "</html>"
            ]
          },
          "metadata": {}
        }
      ]
    },
    {
      "cell_type": "markdown",
      "metadata": {
        "id": "w7QPL9MGtqSN"
      },
      "source": [
        "**Creating cluster profiles using the below summary statistics and box plots for each label and Comparing the clusters from both algorithms - K-Means and K-Medoids**"
      ]
    },
    {
      "cell_type": "code",
      "execution_count": null,
      "metadata": {
        "colab": {
          "base_uri": "https://localhost:8080/",
          "height": 206
        },
        "id": "FvKJ9rrzvvPW",
        "outputId": "9a3f3dde-e7f7-4ba6-b6ce-fe20a5eebb17"
      },
      "outputs": [
        {
          "output_type": "execute_result",
          "data": {
            "text/plain": [
              "                     group_0 Mean  group_1 Mean  group_2 Mean  group_0 Median  \\\n",
              "Avg_Credit_Limit     12216.216216  85052.631579  28449.826990         12000.0   \n",
              "Total_Credit_Cards       2.423423      7.030075      5.363322             2.0   \n",
              "Total_visits_bank        0.950450      1.691729      3.830450             1.0   \n",
              "Total_visits_online      3.554054      4.639098      0.982699             4.0   \n",
              "Total_calls_made         6.878378      1.969925      1.851211             7.0   \n",
              "\n",
              "                     group_1 Median  group_2 Median  \n",
              "Avg_Credit_Limit            68000.0         20000.0  \n",
              "Total_Credit_Cards              7.0             5.0  \n",
              "Total_visits_bank               2.0             4.0  \n",
              "Total_visits_online             2.0             1.0  \n",
              "Total_calls_made                2.0             2.0  "
            ],
            "text/html": [
              "\n",
              "  <div id=\"df-4038fa8a-85da-4864-83bb-5b6d82ddfa7f\">\n",
              "    <div class=\"colab-df-container\">\n",
              "      <div>\n",
              "<style scoped>\n",
              "    .dataframe tbody tr th:only-of-type {\n",
              "        vertical-align: middle;\n",
              "    }\n",
              "\n",
              "    .dataframe tbody tr th {\n",
              "        vertical-align: top;\n",
              "    }\n",
              "\n",
              "    .dataframe thead th {\n",
              "        text-align: right;\n",
              "    }\n",
              "</style>\n",
              "<table border=\"1\" class=\"dataframe\">\n",
              "  <thead>\n",
              "    <tr style=\"text-align: right;\">\n",
              "      <th></th>\n",
              "      <th>group_0 Mean</th>\n",
              "      <th>group_1 Mean</th>\n",
              "      <th>group_2 Mean</th>\n",
              "      <th>group_0 Median</th>\n",
              "      <th>group_1 Median</th>\n",
              "      <th>group_2 Median</th>\n",
              "    </tr>\n",
              "  </thead>\n",
              "  <tbody>\n",
              "    <tr>\n",
              "      <th>Avg_Credit_Limit</th>\n",
              "      <td>12216.216216</td>\n",
              "      <td>85052.631579</td>\n",
              "      <td>28449.826990</td>\n",
              "      <td>12000.0</td>\n",
              "      <td>68000.0</td>\n",
              "      <td>20000.0</td>\n",
              "    </tr>\n",
              "    <tr>\n",
              "      <th>Total_Credit_Cards</th>\n",
              "      <td>2.423423</td>\n",
              "      <td>7.030075</td>\n",
              "      <td>5.363322</td>\n",
              "      <td>2.0</td>\n",
              "      <td>7.0</td>\n",
              "      <td>5.0</td>\n",
              "    </tr>\n",
              "    <tr>\n",
              "      <th>Total_visits_bank</th>\n",
              "      <td>0.950450</td>\n",
              "      <td>1.691729</td>\n",
              "      <td>3.830450</td>\n",
              "      <td>1.0</td>\n",
              "      <td>2.0</td>\n",
              "      <td>4.0</td>\n",
              "    </tr>\n",
              "    <tr>\n",
              "      <th>Total_visits_online</th>\n",
              "      <td>3.554054</td>\n",
              "      <td>4.639098</td>\n",
              "      <td>0.982699</td>\n",
              "      <td>4.0</td>\n",
              "      <td>2.0</td>\n",
              "      <td>1.0</td>\n",
              "    </tr>\n",
              "    <tr>\n",
              "      <th>Total_calls_made</th>\n",
              "      <td>6.878378</td>\n",
              "      <td>1.969925</td>\n",
              "      <td>1.851211</td>\n",
              "      <td>7.0</td>\n",
              "      <td>2.0</td>\n",
              "      <td>2.0</td>\n",
              "    </tr>\n",
              "  </tbody>\n",
              "</table>\n",
              "</div>\n",
              "      <button class=\"colab-df-convert\" onclick=\"convertToInteractive('df-4038fa8a-85da-4864-83bb-5b6d82ddfa7f')\"\n",
              "              title=\"Convert this dataframe to an interactive table.\"\n",
              "              style=\"display:none;\">\n",
              "        \n",
              "  <svg xmlns=\"http://www.w3.org/2000/svg\" height=\"24px\"viewBox=\"0 0 24 24\"\n",
              "       width=\"24px\">\n",
              "    <path d=\"M0 0h24v24H0V0z\" fill=\"none\"/>\n",
              "    <path d=\"M18.56 5.44l.94 2.06.94-2.06 2.06-.94-2.06-.94-.94-2.06-.94 2.06-2.06.94zm-11 1L8.5 8.5l.94-2.06 2.06-.94-2.06-.94L8.5 2.5l-.94 2.06-2.06.94zm10 10l.94 2.06.94-2.06 2.06-.94-2.06-.94-.94-2.06-.94 2.06-2.06.94z\"/><path d=\"M17.41 7.96l-1.37-1.37c-.4-.4-.92-.59-1.43-.59-.52 0-1.04.2-1.43.59L10.3 9.45l-7.72 7.72c-.78.78-.78 2.05 0 2.83L4 21.41c.39.39.9.59 1.41.59.51 0 1.02-.2 1.41-.59l7.78-7.78 2.81-2.81c.8-.78.8-2.07 0-2.86zM5.41 20L4 18.59l7.72-7.72 1.47 1.35L5.41 20z\"/>\n",
              "  </svg>\n",
              "      </button>\n",
              "      \n",
              "  <style>\n",
              "    .colab-df-container {\n",
              "      display:flex;\n",
              "      flex-wrap:wrap;\n",
              "      gap: 12px;\n",
              "    }\n",
              "\n",
              "    .colab-df-convert {\n",
              "      background-color: #E8F0FE;\n",
              "      border: none;\n",
              "      border-radius: 50%;\n",
              "      cursor: pointer;\n",
              "      display: none;\n",
              "      fill: #1967D2;\n",
              "      height: 32px;\n",
              "      padding: 0 0 0 0;\n",
              "      width: 32px;\n",
              "    }\n",
              "\n",
              "    .colab-df-convert:hover {\n",
              "      background-color: #E2EBFA;\n",
              "      box-shadow: 0px 1px 2px rgba(60, 64, 67, 0.3), 0px 1px 3px 1px rgba(60, 64, 67, 0.15);\n",
              "      fill: #174EA6;\n",
              "    }\n",
              "\n",
              "    [theme=dark] .colab-df-convert {\n",
              "      background-color: #3B4455;\n",
              "      fill: #D2E3FC;\n",
              "    }\n",
              "\n",
              "    [theme=dark] .colab-df-convert:hover {\n",
              "      background-color: #434B5C;\n",
              "      box-shadow: 0px 1px 3px 1px rgba(0, 0, 0, 0.15);\n",
              "      filter: drop-shadow(0px 1px 2px rgba(0, 0, 0, 0.3));\n",
              "      fill: #FFFFFF;\n",
              "    }\n",
              "  </style>\n",
              "\n",
              "      <script>\n",
              "        const buttonEl =\n",
              "          document.querySelector('#df-4038fa8a-85da-4864-83bb-5b6d82ddfa7f button.colab-df-convert');\n",
              "        buttonEl.style.display =\n",
              "          google.colab.kernel.accessAllowed ? 'block' : 'none';\n",
              "\n",
              "        async function convertToInteractive(key) {\n",
              "          const element = document.querySelector('#df-4038fa8a-85da-4864-83bb-5b6d82ddfa7f');\n",
              "          const dataTable =\n",
              "            await google.colab.kernel.invokeFunction('convertToInteractive',\n",
              "                                                     [key], {});\n",
              "          if (!dataTable) return;\n",
              "\n",
              "          const docLinkHtml = 'Like what you see? Visit the ' +\n",
              "            '<a target=\"_blank\" href=https://colab.research.google.com/notebooks/data_table.ipynb>data table notebook</a>'\n",
              "            + ' to learn more about interactive tables.';\n",
              "          element.innerHTML = '';\n",
              "          dataTable['output_type'] = 'display_data';\n",
              "          await google.colab.output.renderOutput(dataTable, element);\n",
              "          const docLink = document.createElement('div');\n",
              "          docLink.innerHTML = docLinkHtml;\n",
              "          element.appendChild(docLink);\n",
              "        }\n",
              "      </script>\n",
              "    </div>\n",
              "  </div>\n",
              "  "
            ]
          },
          "metadata": {},
          "execution_count": 46
        }
      ],
      "source": [
        "#Calculating summary statistics of the original data for each label\n",
        "original_features = [\"Avg_Credit_Limit\",\"Total_Credit_Cards\",\"Total_visits_bank\",\"Total_visits_online\",\"Total_calls_made\"]\n",
        "\n",
        "mean = data.groupby('kmedoLabels').mean()\n",
        "median = data.groupby('kmedoLabels').median()\n",
        "df_kmedoids = pd.concat([mean, median], axis=0)\n",
        "df_kmedoids.index = ['group_0 Mean', 'group_1 Mean', 'group_2 Mean', 'group_0 Median', 'group_1 Median', 'group_2 Median']\n",
        "df_kmedoids[original_features].T"
      ]
    },
    {
      "cell_type": "code",
      "execution_count": null,
      "metadata": {
        "colab": {
          "base_uri": "https://localhost:8080/",
          "height": 480
        },
        "id": "eWdxV2rLvvPX",
        "outputId": "ad7b4b0f-d5eb-4d11-9f23-3328c9cf09a3"
      },
      "outputs": [
        {
          "output_type": "display_data",
          "data": {
            "text/plain": [
              "<Figure size 1440x504 with 5 Axes>"
            ],
            "image/png": "[encoded data removed]"
          },
          "metadata": {
            "needs_background": "light"
          }
        }
      ],
      "source": [
        "#plotting boxplots with the new K-Medoids based labels\n",
        "\n",
        "features_with_lables = [\"Avg_Credit_Limit\",\t\"Total_Credit_Cards\",\"Total_visits_bank\",\"Total_visits_online\",\"Total_calls_made\",\"kmedoLabels\"]\n",
        "\n",
        "data_scaled_copy[features_with_lables].boxplot(by = 'kmedoLabels', layout = (1,5),figsize=(20,7))\n",
        "plt.show()"
      ]
    },
    {
      "cell_type": "markdown",
      "metadata": {
        "id": "ZoGTRNLKyeqH"
      },
      "source": [
        "Let's compare the clusters from K-Means and K-Medoids"
      ]
    },
    {
      "cell_type": "code",
      "execution_count": null,
      "metadata": {
        "colab": {
          "base_uri": "https://localhost:8080/",
          "height": 405
        },
        "id": "YDTninxvyeqH",
        "outputId": "7f752b8b-d862-4ca8-8bac-4fe9e0b6d635"
      },
      "outputs": [
        {
          "data": {
            "text/html": [
              "\n",
              "  <div id=\"df-fad90056-3d3f-4fec-9d39-94f3cd6e18d6\">\n",
              "    <div class=\"colab-df-container\">\n",
              "      <div>\n",
              "<style scoped>\n",
              "    .dataframe tbody tr th:only-of-type {\n",
              "        vertical-align: middle;\n",
              "    }\n",
              "\n",
              "    .dataframe tbody tr th {\n",
              "        vertical-align: top;\n",
              "    }\n",
              "\n",
              "    .dataframe thead th {\n",
              "        text-align: right;\n",
              "    }\n",
              "</style>\n",
              "<table border=\"1\" class=\"dataframe\">\n",
              "  <thead>\n",
              "    <tr style=\"text-align: right;\">\n",
              "      <th></th>\n",
              "      <th>Avg_Credit_Limit</th>\n",
              "      <th>Avg_Credit_Limit</th>\n",
              "      <th>Total_Credit_Cards</th>\n",
              "      <th>Total_Credit_Cards</th>\n",
              "      <th>Total_visits_bank</th>\n",
              "      <th>Total_visits_bank</th>\n",
              "      <th>Total_visits_online</th>\n",
              "      <th>Total_visits_online</th>\n",
              "      <th>Total_calls_made</th>\n",
              "      <th>Total_calls_made</th>\n",
              "    </tr>\n",
              "  </thead>\n",
              "  <tbody>\n",
              "    <tr>\n",
              "      <th>group_0 Mean</th>\n",
              "      <td>12216.216216</td>\n",
              "      <td>12239.819005</td>\n",
              "      <td>2.423423</td>\n",
              "      <td>2.411765</td>\n",
              "      <td>0.950450</td>\n",
              "      <td>0.945701</td>\n",
              "      <td>3.554054</td>\n",
              "      <td>3.561086</td>\n",
              "      <td>6.878378</td>\n",
              "      <td>6.891403</td>\n",
              "    </tr>\n",
              "    <tr>\n",
              "      <th>group_1 Mean</th>\n",
              "      <td>85052.631579</td>\n",
              "      <td>33893.048128</td>\n",
              "      <td>7.030075</td>\n",
              "      <td>5.508021</td>\n",
              "      <td>1.691729</td>\n",
              "      <td>3.489305</td>\n",
              "      <td>4.639098</td>\n",
              "      <td>0.975936</td>\n",
              "      <td>1.969925</td>\n",
              "      <td>1.997326</td>\n",
              "    </tr>\n",
              "    <tr>\n",
              "      <th>group_2 Mean</th>\n",
              "      <td>28449.826990</td>\n",
              "      <td>140102.040816</td>\n",
              "      <td>5.363322</td>\n",
              "      <td>8.775510</td>\n",
              "      <td>3.830450</td>\n",
              "      <td>0.591837</td>\n",
              "      <td>0.982699</td>\n",
              "      <td>10.979592</td>\n",
              "      <td>1.851211</td>\n",
              "      <td>1.102041</td>\n",
              "    </tr>\n",
              "    <tr>\n",
              "      <th>group_0 Median</th>\n",
              "      <td>12000.000000</td>\n",
              "      <td>12000.000000</td>\n",
              "      <td>2.000000</td>\n",
              "      <td>2.000000</td>\n",
              "      <td>1.000000</td>\n",
              "      <td>1.000000</td>\n",
              "      <td>4.000000</td>\n",
              "      <td>4.000000</td>\n",
              "      <td>7.000000</td>\n",
              "      <td>7.000000</td>\n",
              "    </tr>\n",
              "    <tr>\n",
              "      <th>group_1 Median</th>\n",
              "      <td>68000.000000</td>\n",
              "      <td>31500.000000</td>\n",
              "      <td>7.000000</td>\n",
              "      <td>6.000000</td>\n",
              "      <td>2.000000</td>\n",
              "      <td>3.000000</td>\n",
              "      <td>2.000000</td>\n",
              "      <td>1.000000</td>\n",
              "      <td>2.000000</td>\n",
              "      <td>2.000000</td>\n",
              "    </tr>\n",
              "    <tr>\n",
              "      <th>group_2 Median</th>\n",
              "      <td>20000.000000</td>\n",
              "      <td>145000.000000</td>\n",
              "      <td>5.000000</td>\n",
              "      <td>9.000000</td>\n",
              "      <td>4.000000</td>\n",
              "      <td>1.000000</td>\n",
              "      <td>1.000000</td>\n",
              "      <td>11.000000</td>\n",
              "      <td>2.000000</td>\n",
              "      <td>1.000000</td>\n",
              "    </tr>\n",
              "  </tbody>\n",
              "</table>\n",
              "</div>\n",
              "      <button class=\"colab-df-convert\" onclick=\"convertToInteractive('df-fad90056-3d3f-4fec-9d39-94f3cd6e18d6')\"\n",
              "              title=\"Convert this dataframe to an interactive table.\"\n",
              "              style=\"display:none;\">\n",
              "        \n",
              "  <svg xmlns=\"http://www.w3.org/2000/svg\" height=\"24px\"viewBox=\"0 0 24 24\"\n",
              "       width=\"24px\">\n",
              "    <path d=\"M0 0h24v24H0V0z\" fill=\"none\"/>\n",
              "    <path d=\"M18.56 5.44l.94 2.06.94-2.06 2.06-.94-2.06-.94-.94-2.06-.94 2.06-2.06.94zm-11 1L8.5 8.5l.94-2.06 2.06-.94-2.06-.94L8.5 2.5l-.94 2.06-2.06.94zm10 10l.94 2.06.94-2.06 2.06-.94-2.06-.94-.94-2.06-.94 2.06-2.06.94z\"/><path d=\"M17.41 7.96l-1.37-1.37c-.4-.4-.92-.59-1.43-.59-.52 0-1.04.2-1.43.59L10.3 9.45l-7.72 7.72c-.78.78-.78 2.05 0 2.83L4 21.41c.39.39.9.59 1.41.59.51 0 1.02-.2 1.41-.59l7.78-7.78 2.81-2.81c.8-.78.8-2.07 0-2.86zM5.41 20L4 18.59l7.72-7.72 1.47 1.35L5.41 20z\"/>\n",
              "  </svg>\n",
              "      </button>\n",
              "      \n",
              "  <style>\n",
              "    .colab-df-container {\n",
              "      display:flex;\n",
              "      flex-wrap:wrap;\n",
              "      gap: 12px;\n",
              "    }\n",
              "\n",
              "    .colab-df-convert {\n",
              "      background-color: #E8F0FE;\n",
              "      border: none;\n",
              "      border-radius: 50%;\n",
              "      cursor: pointer;\n",
              "      display: none;\n",
              "      fill: #1967D2;\n",
              "      height: 32px;\n",
              "      padding: 0 0 0 0;\n",
              "      width: 32px;\n",
              "    }\n",
              "\n",
              "    .colab-df-convert:hover {\n",
              "      background-color: #E2EBFA;\n",
              "      box-shadow: 0px 1px 2px rgba(60, 64, 67, 0.3), 0px 1px 3px 1px rgba(60, 64, 67, 0.15);\n",
              "      fill: #174EA6;\n",
              "    }\n",
              "\n",
              "    [theme=dark] .colab-df-convert {\n",
              "      background-color: #3B4455;\n",
              "      fill: #D2E3FC;\n",
              "    }\n",
              "\n",
              "    [theme=dark] .colab-df-convert:hover {\n",
              "      background-color: #434B5C;\n",
              "      box-shadow: 0px 1px 3px 1px rgba(0, 0, 0, 0.15);\n",
              "      filter: drop-shadow(0px 1px 2px rgba(0, 0, 0, 0.3));\n",
              "      fill: #FFFFFF;\n",
              "    }\n",
              "  </style>\n",
              "\n",
              "      <script>\n",
              "        const buttonEl =\n",
              "          document.querySelector('#df-fad90056-3d3f-4fec-9d39-94f3cd6e18d6 button.colab-df-convert');\n",
              "        buttonEl.style.display =\n",
              "          google.colab.kernel.accessAllowed ? 'block' : 'none';\n",
              "\n",
              "        async function convertToInteractive(key) {\n",
              "          const element = document.querySelector('#df-fad90056-3d3f-4fec-9d39-94f3cd6e18d6');\n",
              "          const dataTable =\n",
              "            await google.colab.kernel.invokeFunction('convertToInteractive',\n",
              "                                                     [key], {});\n",
              "          if (!dataTable) return;\n",
              "\n",
              "          const docLinkHtml = 'Like what you see? Visit the ' +\n",
              "            '<a target=\"_blank\" href=https://colab.research.google.com/notebooks/data_table.ipynb>data table notebook</a>'\n",
              "            + ' to learn more about interactive tables.';\n",
              "          element.innerHTML = '';\n",
              "          dataTable['output_type'] = 'display_data';\n",
              "          await google.colab.output.renderOutput(dataTable, element);\n",
              "          const docLink = document.createElement('div');\n",
              "          docLink.innerHTML = docLinkHtml;\n",
              "          element.appendChild(docLink);\n",
              "        }\n",
              "      </script>\n",
              "    </div>\n",
              "  </div>\n",
              "  "
            ],
            "text/plain": [
              "                Avg_Credit_Limit  Avg_Credit_Limit  Total_Credit_Cards  \\\n",
              "group_0 Mean        12216.216216      12239.819005            2.423423   \n",
              "group_1 Mean        85052.631579      33893.048128            7.030075   \n",
              "group_2 Mean        28449.826990     140102.040816            5.363322   \n",
              "group_0 Median      12000.000000      12000.000000            2.000000   \n",
              "group_1 Median      68000.000000      31500.000000            7.000000   \n",
              "group_2 Median      20000.000000     145000.000000            5.000000   \n",
              "\n",
              "                Total_Credit_Cards  Total_visits_bank  Total_visits_bank  \\\n",
              "group_0 Mean              2.411765           0.950450           0.945701   \n",
              "group_1 Mean              5.508021           1.691729           3.489305   \n",
              "group_2 Mean              8.775510           3.830450           0.591837   \n",
              "group_0 Median            2.000000           1.000000           1.000000   \n",
              "group_1 Median            6.000000           2.000000           3.000000   \n",
              "group_2 Median            9.000000           4.000000           1.000000   \n",
              "\n",
              "                Total_visits_online  Total_visits_online  Total_calls_made  \\\n",
              "group_0 Mean               3.554054             3.561086          6.878378   \n",
              "group_1 Mean               4.639098             0.975936          1.969925   \n",
              "group_2 Mean               0.982699            10.979592          1.851211   \n",
              "group_0 Median             4.000000             4.000000          7.000000   \n",
              "group_1 Median             2.000000             1.000000          2.000000   \n",
              "group_2 Median             1.000000            11.000000          2.000000   \n",
              "\n",
              "                Total_calls_made  \n",
              "group_0 Mean            6.891403  \n",
              "group_1 Mean            1.997326  \n",
              "group_2 Mean            1.102041  \n",
              "group_0 Median          7.000000  \n",
              "group_1 Median          2.000000  \n",
              "group_2 Median          1.000000  "
            ]
          },
          "execution_count": 25,
          "metadata": {},
          "output_type": "execute_result"
        }
      ],
      "source": [
        "comparison = pd.concat([df_kmedoids, df_kmeans], axis=1)[original_features]\n",
        "comparison"
      ]
    },
    {
      "cell_type": "markdown",
      "metadata": {
        "id": "iuNbMOGKvvPY"
      },
      "source": [
        "**Cluster Profiles:**\n",
        "- Cluster 0 - Low Credit Cutsomers: This cluster represents customers with low spending and prefers to interact with the bank via calls and therefore they have less number of bank and online visits.\n",
        "- Cluster 1 - High Credit Customers: This cluster represents customers with high spending and prefers to contact the bank through online channel and therefore they have less number of total calls and bank visits.\n",
        "- Cluster 2 - Medium Credit Customers: This cluster represents customers who spends comparatively more than low credit customers and visits the bank more often and therefore they have less number of calls and online visits.\n",
        "\n",
        "**Comparing Clusters:**\n",
        "\n",
        "- The size of clusters (count of observations) from K-Medoids is different from K-means clusters. In K-Medoids, number of observations are evenly distributed among clusters.\n",
        "- K-Medoids clusters are more compact i.e. have small ranges for all variables. For example, the range of total number of credit cards is from 4 to 7 for medium credit customers from K-Medoids, whereas from K-Means, it is from 2 to 7.\n",
        "- K-Medoids is more robust to outliers which helps to identify outliers in the clusters. For example, the total number of bank visits has an outlier for high credit customers from K-Medoids, whereas from K-Means, we could not detect any outliers in this variable."
      ]
    },
    {
      "cell_type": "markdown",
      "metadata": {
        "id": "XWzXYTKUoINR"
      },
      "source": [
        "## **Additional Content (Optional)**"
      ]
    },
    {
      "cell_type": "markdown",
      "metadata": {
        "id": "B02j8pGUvvPS"
      },
      "source": [
        "## Gaussian Mixture"
      ]
    },
    {
      "cell_type": "markdown",
      "metadata": {
        "id": "qYBGfwaVvvPS"
      },
      "source": [
        "Let's create clusters using Gaussian Mixture Models"
      ]
    },
    {
      "cell_type": "markdown",
      "metadata": {
        "id": "EsrrcXWDtqSJ"
      },
      "source": [
        "**Finding Optimal K using Silhouette for GMM model**"
      ]
    },
    {
      "cell_type": "code",
      "execution_count": null,
      "metadata": {
        "colab": {
          "base_uri": "https://localhost:8080/",
          "height": 278
        },
        "id": "NwfkrVt8tqSJ",
        "outputId": "0f509a69-ba92-42a4-a47e-4851fe694033"
      },
      "outputs": [
        {
          "data": {
            "image/png": "[encoded data removed]",
            "text/plain": [
              "<Figure size 432x288 with 1 Axes>"
            ]
          },
          "metadata": {
            "needs_background": "light"
          },
          "output_type": "display_data"
        }
      ],
      "source": [
        "#Empty dictionary to store the Silhouette score for each value of k\n",
        "sc = {}\n",
        "\n",
        "# iterate for a range of Ks and fit the scaled data to the algorithm. Store the Silhouette score for that k\n",
        "for k in range(2, 10):\n",
        "    GMM = GaussianMixture(n_components = k).fit(data_scaled)\n",
        "    labels = GMM.predict(data_scaled)\n",
        "    sc[k] = silhouette_score(data_scaled, labels)\n",
        "\n",
        "#Elbow plot\n",
        "plt.figure()\n",
        "plt.plot(list(sc.keys()), list(sc.values()), 'bx-')\n",
        "plt.xlabel(\"Number of cluster\")\n",
        "plt.ylabel(\"Silhouette Score\")\n",
        "plt.show()"
      ]
    },
    {
      "cell_type": "markdown",
      "metadata": {
        "id": "lqPdTG6dtqSJ"
      },
      "source": [
        "**Fitting the GMM model**"
      ]
    },
    {
      "cell_type": "code",
      "execution_count": null,
      "metadata": {
        "id": "fBHzul_PvvPS"
      },
      "outputs": [],
      "source": [
        "gmm = GaussianMixture(n_components = 3)\n",
        "gmm.fit(data_scaled)\n",
        "\n",
        "data_scaled_copy['GmmLabels'] = gmm.predict(data_scaled)\n",
        "data['GmmLabels'] = gmm.predict(data_scaled)"
      ]
    },
    {
      "cell_type": "code",
      "execution_count": null,
      "metadata": {
        "colab": {
          "base_uri": "https://localhost:8080/"
        },
        "id": "2DfBc4IsyeqE",
        "outputId": "9e471792-8e48-4589-ef3b-d22936be7927"
      },
      "outputs": [
        {
          "data": {
            "text/plain": [
              "0    374\n",
              "1    221\n",
              "2     49\n",
              "Name: GmmLabels, dtype: int64"
            ]
          },
          "execution_count": 28,
          "metadata": {},
          "output_type": "execute_result"
        }
      ],
      "source": [
        "#Number of observations in each cluster\n",
        "data.GmmLabels.value_counts()"
      ]
    },
    {
      "cell_type": "code",
      "source": [
        "data.Labels.value_counts()"
      ],
      "metadata": {
        "colab": {
          "base_uri": "https://localhost:8080/"
        },
        "id": "LDime0x4ySYP",
        "outputId": "7d599e31-21a9-479f-e68b-4729d67088e2"
      },
      "execution_count": null,
      "outputs": [
        {
          "output_type": "execute_result",
          "data": {
            "text/plain": [
              "1    374\n",
              "0    221\n",
              "2     49\n",
              "Name: Labels, dtype: int64"
            ]
          },
          "metadata": {},
          "execution_count": 49
        }
      ]
    },
    {
      "cell_type": "markdown",
      "metadata": {
        "id": "SiRWapi6tqSM"
      },
      "source": [
        "**Creating cluster profiles using the below summary statistics and box plots for each label and Comparing the clusters from both algorithms - K-means and Gaussian Mixture**"
      ]
    },
    {
      "cell_type": "code",
      "execution_count": null,
      "metadata": {
        "colab": {
          "base_uri": "https://localhost:8080/",
          "height": 206
        },
        "id": "m21wTqIgvvPT",
        "outputId": "ede88d76-ad63-45ae-e8e3-335f06bea994"
      },
      "outputs": [
        {
          "data": {
            "text/html": [
              "\n",
              "  <div id=\"df-166cd2a5-aab0-456d-ae41-9b92ef8b37c6\">\n",
              "    <div class=\"colab-df-container\">\n",
              "      <div>\n",
              "<style scoped>\n",
              "    .dataframe tbody tr th:only-of-type {\n",
              "        vertical-align: middle;\n",
              "    }\n",
              "\n",
              "    .dataframe tbody tr th {\n",
              "        vertical-align: top;\n",
              "    }\n",
              "\n",
              "    .dataframe thead th {\n",
              "        text-align: right;\n",
              "    }\n",
              "</style>\n",
              "<table border=\"1\" class=\"dataframe\">\n",
              "  <thead>\n",
              "    <tr style=\"text-align: right;\">\n",
              "      <th></th>\n",
              "      <th>group_0 Mean</th>\n",
              "      <th>group_1 Mean</th>\n",
              "      <th>group_2 Mean</th>\n",
              "      <th>group_0 Median</th>\n",
              "      <th>group_1 Median</th>\n",
              "      <th>group_2 Median</th>\n",
              "    </tr>\n",
              "  </thead>\n",
              "  <tbody>\n",
              "    <tr>\n",
              "      <th>Avg_Credit_Limit</th>\n",
              "      <td>33893.048128</td>\n",
              "      <td>12239.819005</td>\n",
              "      <td>140102.040816</td>\n",
              "      <td>31500.0</td>\n",
              "      <td>12000.0</td>\n",
              "      <td>145000.0</td>\n",
              "    </tr>\n",
              "    <tr>\n",
              "      <th>Total_Credit_Cards</th>\n",
              "      <td>5.508021</td>\n",
              "      <td>2.411765</td>\n",
              "      <td>8.775510</td>\n",
              "      <td>6.0</td>\n",
              "      <td>2.0</td>\n",
              "      <td>9.0</td>\n",
              "    </tr>\n",
              "    <tr>\n",
              "      <th>Total_visits_bank</th>\n",
              "      <td>3.489305</td>\n",
              "      <td>0.945701</td>\n",
              "      <td>0.591837</td>\n",
              "      <td>3.0</td>\n",
              "      <td>1.0</td>\n",
              "      <td>1.0</td>\n",
              "    </tr>\n",
              "    <tr>\n",
              "      <th>Total_visits_online</th>\n",
              "      <td>0.975936</td>\n",
              "      <td>3.561086</td>\n",
              "      <td>10.979592</td>\n",
              "      <td>1.0</td>\n",
              "      <td>4.0</td>\n",
              "      <td>11.0</td>\n",
              "    </tr>\n",
              "    <tr>\n",
              "      <th>Total_calls_made</th>\n",
              "      <td>1.997326</td>\n",
              "      <td>6.891403</td>\n",
              "      <td>1.102041</td>\n",
              "      <td>2.0</td>\n",
              "      <td>7.0</td>\n",
              "      <td>1.0</td>\n",
              "    </tr>\n",
              "  </tbody>\n",
              "</table>\n",
              "</div>\n",
              "      <button class=\"colab-df-convert\" onclick=\"convertToInteractive('df-166cd2a5-aab0-456d-ae41-9b92ef8b37c6')\"\n",
              "              title=\"Convert this dataframe to an interactive table.\"\n",
              "              style=\"display:none;\">\n",
              "        \n",
              "  <svg xmlns=\"http://www.w3.org/2000/svg\" height=\"24px\"viewBox=\"0 0 24 24\"\n",
              "       width=\"24px\">\n",
              "    <path d=\"M0 0h24v24H0V0z\" fill=\"none\"/>\n",
              "    <path d=\"M18.56 5.44l.94 2.06.94-2.06 2.06-.94-2.06-.94-.94-2.06-.94 2.06-2.06.94zm-11 1L8.5 8.5l.94-2.06 2.06-.94-2.06-.94L8.5 2.5l-.94 2.06-2.06.94zm10 10l.94 2.06.94-2.06 2.06-.94-2.06-.94-.94-2.06-.94 2.06-2.06.94z\"/><path d=\"M17.41 7.96l-1.37-1.37c-.4-.4-.92-.59-1.43-.59-.52 0-1.04.2-1.43.59L10.3 9.45l-7.72 7.72c-.78.78-.78 2.05 0 2.83L4 21.41c.39.39.9.59 1.41.59.51 0 1.02-.2 1.41-.59l7.78-7.78 2.81-2.81c.8-.78.8-2.07 0-2.86zM5.41 20L4 18.59l7.72-7.72 1.47 1.35L5.41 20z\"/>\n",
              "  </svg>\n",
              "      </button>\n",
              "      \n",
              "  <style>\n",
              "    .colab-df-container {\n",
              "      display:flex;\n",
              "      flex-wrap:wrap;\n",
              "      gap: 12px;\n",
              "    }\n",
              "\n",
              "    .colab-df-convert {\n",
              "      background-color: #E8F0FE;\n",
              "      border: none;\n",
              "      border-radius: 50%;\n",
              "      cursor: pointer;\n",
              "      display: none;\n",
              "      fill: #1967D2;\n",
              "      height: 32px;\n",
              "      padding: 0 0 0 0;\n",
              "      width: 32px;\n",
              "    }\n",
              "\n",
              "    .colab-df-convert:hover {\n",
              "      background-color: #E2EBFA;\n",
              "      box-shadow: 0px 1px 2px rgba(60, 64, 67, 0.3), 0px 1px 3px 1px rgba(60, 64, 67, 0.15);\n",
              "      fill: #174EA6;\n",
              "    }\n",
              "\n",
              "    [theme=dark] .colab-df-convert {\n",
              "      background-color: #3B4455;\n",
              "      fill: #D2E3FC;\n",
              "    }\n",
              "\n",
              "    [theme=dark] .colab-df-convert:hover {\n",
              "      background-color: #434B5C;\n",
              "      box-shadow: 0px 1px 3px 1px rgba(0, 0, 0, 0.15);\n",
              "      filter: drop-shadow(0px 1px 2px rgba(0, 0, 0, 0.3));\n",
              "      fill: #FFFFFF;\n",
              "    }\n",
              "  </style>\n",
              "\n",
              "      <script>\n",
              "        const buttonEl =\n",
              "          document.querySelector('#df-166cd2a5-aab0-456d-ae41-9b92ef8b37c6 button.colab-df-convert');\n",
              "        buttonEl.style.display =\n",
              "          google.colab.kernel.accessAllowed ? 'block' : 'none';\n",
              "\n",
              "        async function convertToInteractive(key) {\n",
              "          const element = document.querySelector('#df-166cd2a5-aab0-456d-ae41-9b92ef8b37c6');\n",
              "          const dataTable =\n",
              "            await google.colab.kernel.invokeFunction('convertToInteractive',\n",
              "                                                     [key], {});\n",
              "          if (!dataTable) return;\n",
              "\n",
              "          const docLinkHtml = 'Like what you see? Visit the ' +\n",
              "            '<a target=\"_blank\" href=https://colab.research.google.com/notebooks/data_table.ipynb>data table notebook</a>'\n",
              "            + ' to learn more about interactive tables.';\n",
              "          element.innerHTML = '';\n",
              "          dataTable['output_type'] = 'display_data';\n",
              "          await google.colab.output.renderOutput(dataTable, element);\n",
              "          const docLink = document.createElement('div');\n",
              "          docLink.innerHTML = docLinkHtml;\n",
              "          element.appendChild(docLink);\n",
              "        }\n",
              "      </script>\n",
              "    </div>\n",
              "  </div>\n",
              "  "
            ],
            "text/plain": [
              "                     group_0 Mean  group_1 Mean   group_2 Mean  \\\n",
              "Avg_Credit_Limit     33893.048128  12239.819005  140102.040816   \n",
              "Total_Credit_Cards       5.508021      2.411765       8.775510   \n",
              "Total_visits_bank        3.489305      0.945701       0.591837   \n",
              "Total_visits_online      0.975936      3.561086      10.979592   \n",
              "Total_calls_made         1.997326      6.891403       1.102041   \n",
              "\n",
              "                     group_0 Median  group_1 Median  group_2 Median  \n",
              "Avg_Credit_Limit            31500.0         12000.0        145000.0  \n",
              "Total_Credit_Cards              6.0             2.0             9.0  \n",
              "Total_visits_bank               3.0             1.0             1.0  \n",
              "Total_visits_online             1.0             4.0            11.0  \n",
              "Total_calls_made                2.0             7.0             1.0  "
            ]
          },
          "execution_count": 29,
          "metadata": {},
          "output_type": "execute_result"
        }
      ],
      "source": [
        "#Calculating summary statistics of the original data for each label\n",
        "original_features = [\"Avg_Credit_Limit\",\"Total_Credit_Cards\",\"Total_visits_bank\",\"Total_visits_online\",\"Total_calls_made\"]\n",
        "\n",
        "mean = data.groupby('GmmLabels').mean()\n",
        "median = data.groupby('GmmLabels').median()\n",
        "df_gmm = pd.concat([mean, median], axis=0)\n",
        "df_gmm.index = ['group_0 Mean', 'group_1 Mean', 'group_2 Mean', 'group_0 Median', 'group_1 Median', 'group_2 Median']\n",
        "df_gmm[original_features].T"
      ]
    },
    {
      "cell_type": "code",
      "execution_count": null,
      "metadata": {
        "colab": {
          "base_uri": "https://localhost:8080/",
          "height": 480
        },
        "id": "CuJf3MeOvvPT",
        "outputId": "d0e8f6be-66bf-49ae-cec0-109bc02e4078"
      },
      "outputs": [
        {
          "data": {
            "image/png": "[encoded data removed]",
            "text/plain": [
              "<Figure size 1440x504 with 5 Axes>"
            ]
          },
          "metadata": {
            "needs_background": "light"
          },
          "output_type": "display_data"
        }
      ],
      "source": [
        "# plotting boxplots with the new GMM based labels\n",
        "\n",
        "features_with_lables = [\"Avg_Credit_Limit\",\"Total_Credit_Cards\",\"Total_visits_bank\",\"Total_visits_online\",\"Total_calls_made\",\"GmmLabels\"]\n",
        "\n",
        "data_scaled_copy[features_with_lables].boxplot(by = 'GmmLabels', layout = (1,5),figsize=(20,7))\n",
        "plt.show()"
      ]
    },
    {
      "cell_type": "markdown",
      "metadata": {
        "id": "EHA5nl2yvvPU"
      },
      "source": [
        "**Cluster Profiles:**\n",
        "\n",
        "- Cluster 0 - Low Credit Cutsomers: This cluster represents customers with low spending and prefers to interact with the bank via calls and therefore they have less number of bank and online visits.\n",
        "- Cluster 1 - Medium Credit Customers: This cluster represents customers who spends comparatively more than low credit customers and visits the bank more often and therefore they have less number of calls and online visits.\n",
        "- Cluster 2 - High Credit Customers: This cluster represents customers with high spending and prefers to contact the bank through online channel and therefore they have less number of total calls and bank visits.\n",
        "\n",
        "**Comparing Clusters:**\n",
        "\n",
        "- The cluster profiles are the same as the K-means clusters."
      ]
    },
    {
      "cell_type": "code",
      "source": [],
      "metadata": {
        "id": "bEhyHae6yYO7"
      },
      "execution_count": null,
      "outputs": []
    },
    {
      "cell_type": "code",
      "source": [
        "data_scaled"
      ],
      "metadata": {
        "colab": {
          "base_uri": "https://localhost:8080/",
          "height": 424
        },
        "id": "gidlyEE4yYME",
        "outputId": "23a34642-8747-445d-a96c-6330cc1bb1f1"
      },
      "execution_count": null,
      "outputs": [
        {
          "output_type": "execute_result",
          "data": {
            "text/plain": [
              "     Avg_Credit_Limit  Total_Credit_Cards  Total_visits_bank  \\\n",
              "0            1.750192           -1.239437          -0.858684   \n",
              "1            0.413280           -0.779381          -1.473803   \n",
              "2            0.413280            1.060843          -0.858684   \n",
              "3           -0.121485            0.140731          -0.858684   \n",
              "4            1.750192            0.600787          -1.473803   \n",
              "..                ...                 ...                ...   \n",
              "639          1.723453            2.441011          -0.858684   \n",
              "640          1.322380            2.441011          -0.858684   \n",
              "641          2.953412            1.520899          -0.858684   \n",
              "642          3.675344            2.441011          -0.858684   \n",
              "643          3.541653            1.980955          -1.473803   \n",
              "\n",
              "     Total_visits_online  Total_calls_made  \n",
              "0              -0.549573         -1.253982  \n",
              "1               2.495669          1.873420  \n",
              "2               0.127148          0.135974  \n",
              "3              -0.549573          0.135974  \n",
              "4               3.172390         -0.211515  \n",
              "..                   ...               ...  \n",
              "639             2.495669         -1.253982  \n",
              "640             3.510750         -0.559004  \n",
              "641             2.157309         -0.906493  \n",
              "642             4.187470         -1.253982  \n",
              "643             3.172390         -0.559004  \n",
              "\n",
              "[644 rows x 5 columns]"
            ],
            "text/html": [
              "\n",
              "  <div id=\"df-1f554a58-dd55-4a6f-9681-20feec4d1793\">\n",
              "    <div class=\"colab-df-container\">\n",
              "      <div>\n",
              "<style scoped>\n",
              "    .dataframe tbody tr th:only-of-type {\n",
              "        vertical-align: middle;\n",
              "    }\n",
              "\n",
              "    .dataframe tbody tr th {\n",
              "        vertical-align: top;\n",
              "    }\n",
              "\n",
              "    .dataframe thead th {\n",
              "        text-align: right;\n",
              "    }\n",
              "</style>\n",
              "<table border=\"1\" class=\"dataframe\">\n",
              "  <thead>\n",
              "    <tr style=\"text-align: right;\">\n",
              "      <th></th>\n",
              "      <th>Avg_Credit_Limit</th>\n",
              "      <th>Total_Credit_Cards</th>\n",
              "      <th>Total_visits_bank</th>\n",
              "      <th>Total_visits_online</th>\n",
              "      <th>Total_calls_made</th>\n",
              "    </tr>\n",
              "  </thead>\n",
              "  <tbody>\n",
              "    <tr>\n",
              "      <th>0</th>\n",
              "      <td>1.750192</td>\n",
              "      <td>-1.239437</td>\n",
              "      <td>-0.858684</td>\n",
              "      <td>-0.549573</td>\n",
              "      <td>-1.253982</td>\n",
              "    </tr>\n",
              "    <tr>\n",
              "      <th>1</th>\n",
              "      <td>0.413280</td>\n",
              "      <td>-0.779381</td>\n",
              "      <td>-1.473803</td>\n",
              "      <td>2.495669</td>\n",
              "      <td>1.873420</td>\n",
              "    </tr>\n",
              "    <tr>\n",
              "      <th>2</th>\n",
              "      <td>0.413280</td>\n",
              "      <td>1.060843</td>\n",
              "      <td>-0.858684</td>\n",
              "      <td>0.127148</td>\n",
              "      <td>0.135974</td>\n",
              "    </tr>\n",
              "    <tr>\n",
              "      <th>3</th>\n",
              "      <td>-0.121485</td>\n",
              "      <td>0.140731</td>\n",
              "      <td>-0.858684</td>\n",
              "      <td>-0.549573</td>\n",
              "      <td>0.135974</td>\n",
              "    </tr>\n",
              "    <tr>\n",
              "      <th>4</th>\n",
              "      <td>1.750192</td>\n",
              "      <td>0.600787</td>\n",
              "      <td>-1.473803</td>\n",
              "      <td>3.172390</td>\n",
              "      <td>-0.211515</td>\n",
              "    </tr>\n",
              "    <tr>\n",
              "      <th>...</th>\n",
              "      <td>...</td>\n",
              "      <td>...</td>\n",
              "      <td>...</td>\n",
              "      <td>...</td>\n",
              "      <td>...</td>\n",
              "    </tr>\n",
              "    <tr>\n",
              "      <th>639</th>\n",
              "      <td>1.723453</td>\n",
              "      <td>2.441011</td>\n",
              "      <td>-0.858684</td>\n",
              "      <td>2.495669</td>\n",
              "      <td>-1.253982</td>\n",
              "    </tr>\n",
              "    <tr>\n",
              "      <th>640</th>\n",
              "      <td>1.322380</td>\n",
              "      <td>2.441011</td>\n",
              "      <td>-0.858684</td>\n",
              "      <td>3.510750</td>\n",
              "      <td>-0.559004</td>\n",
              "    </tr>\n",
              "    <tr>\n",
              "      <th>641</th>\n",
              "      <td>2.953412</td>\n",
              "      <td>1.520899</td>\n",
              "      <td>-0.858684</td>\n",
              "      <td>2.157309</td>\n",
              "      <td>-0.906493</td>\n",
              "    </tr>\n",
              "    <tr>\n",
              "      <th>642</th>\n",
              "      <td>3.675344</td>\n",
              "      <td>2.441011</td>\n",
              "      <td>-0.858684</td>\n",
              "      <td>4.187470</td>\n",
              "      <td>-1.253982</td>\n",
              "    </tr>\n",
              "    <tr>\n",
              "      <th>643</th>\n",
              "      <td>3.541653</td>\n",
              "      <td>1.980955</td>\n",
              "      <td>-1.473803</td>\n",
              "      <td>3.172390</td>\n",
              "      <td>-0.559004</td>\n",
              "    </tr>\n",
              "  </tbody>\n",
              "</table>\n",
              "<p>644 rows × 5 columns</p>\n",
              "</div>\n",
              "      <button class=\"colab-df-convert\" onclick=\"convertToInteractive('df-1f554a58-dd55-4a6f-9681-20feec4d1793')\"\n",
              "              title=\"Convert this dataframe to an interactive table.\"\n",
              "              style=\"display:none;\">\n",
              "        \n",
              "  <svg xmlns=\"http://www.w3.org/2000/svg\" height=\"24px\"viewBox=\"0 0 24 24\"\n",
              "       width=\"24px\">\n",
              "    <path d=\"M0 0h24v24H0V0z\" fill=\"none\"/>\n",
              "    <path d=\"M18.56 5.44l.94 2.06.94-2.06 2.06-.94-2.06-.94-.94-2.06-.94 2.06-2.06.94zm-11 1L8.5 8.5l.94-2.06 2.06-.94-2.06-.94L8.5 2.5l-.94 2.06-2.06.94zm10 10l.94 2.06.94-2.06 2.06-.94-2.06-.94-.94-2.06-.94 2.06-2.06.94z\"/><path d=\"M17.41 7.96l-1.37-1.37c-.4-.4-.92-.59-1.43-.59-.52 0-1.04.2-1.43.59L10.3 9.45l-7.72 7.72c-.78.78-.78 2.05 0 2.83L4 21.41c.39.39.9.59 1.41.59.51 0 1.02-.2 1.41-.59l7.78-7.78 2.81-2.81c.8-.78.8-2.07 0-2.86zM5.41 20L4 18.59l7.72-7.72 1.47 1.35L5.41 20z\"/>\n",
              "  </svg>\n",
              "      </button>\n",
              "      \n",
              "  <style>\n",
              "    .colab-df-container {\n",
              "      display:flex;\n",
              "      flex-wrap:wrap;\n",
              "      gap: 12px;\n",
              "    }\n",
              "\n",
              "    .colab-df-convert {\n",
              "      background-color: #E8F0FE;\n",
              "      border: none;\n",
              "      border-radius: 50%;\n",
              "      cursor: pointer;\n",
              "      display: none;\n",
              "      fill: #1967D2;\n",
              "      height: 32px;\n",
              "      padding: 0 0 0 0;\n",
              "      width: 32px;\n",
              "    }\n",
              "\n",
              "    .colab-df-convert:hover {\n",
              "      background-color: #E2EBFA;\n",
              "      box-shadow: 0px 1px 2px rgba(60, 64, 67, 0.3), 0px 1px 3px 1px rgba(60, 64, 67, 0.15);\n",
              "      fill: #174EA6;\n",
              "    }\n",
              "\n",
              "    [theme=dark] .colab-df-convert {\n",
              "      background-color: #3B4455;\n",
              "      fill: #D2E3FC;\n",
              "    }\n",
              "\n",
              "    [theme=dark] .colab-df-convert:hover {\n",
              "      background-color: #434B5C;\n",
              "      box-shadow: 0px 1px 3px 1px rgba(0, 0, 0, 0.15);\n",
              "      filter: drop-shadow(0px 1px 2px rgba(0, 0, 0, 0.3));\n",
              "      fill: #FFFFFF;\n",
              "    }\n",
              "  </style>\n",
              "\n",
              "      <script>\n",
              "        const buttonEl =\n",
              "          document.querySelector('#df-1f554a58-dd55-4a6f-9681-20feec4d1793 button.colab-df-convert');\n",
              "        buttonEl.style.display =\n",
              "          google.colab.kernel.accessAllowed ? 'block' : 'none';\n",
              "\n",
              "        async function convertToInteractive(key) {\n",
              "          const element = document.querySelector('#df-1f554a58-dd55-4a6f-9681-20feec4d1793');\n",
              "          const dataTable =\n",
              "            await google.colab.kernel.invokeFunction('convertToInteractive',\n",
              "                                                     [key], {});\n",
              "          if (!dataTable) return;\n",
              "\n",
              "          const docLinkHtml = 'Like what you see? Visit the ' +\n",
              "            '<a target=\"_blank\" href=https://colab.research.google.com/notebooks/data_table.ipynb>data table notebook</a>'\n",
              "            + ' to learn more about interactive tables.';\n",
              "          element.innerHTML = '';\n",
              "          dataTable['output_type'] = 'display_data';\n",
              "          await google.colab.output.renderOutput(dataTable, element);\n",
              "          const docLink = document.createElement('div');\n",
              "          docLink.innerHTML = docLinkHtml;\n",
              "          element.appendChild(docLink);\n",
              "        }\n",
              "      </script>\n",
              "    </div>\n",
              "  </div>\n",
              "  "
            ]
          },
          "metadata": {},
          "execution_count": 51
        }
      ]
    },
    {
      "cell_type": "code",
      "source": [
        "from sklearn.cluster import DBSCAN\n",
        "\n",
        "clustering = DBSCAN(eps=0.75, min_samples=40).fit(data_scaled)\n",
        "clustering.labels_\n",
        "\n",
        "\n"
      ],
      "metadata": {
        "colab": {
          "base_uri": "https://localhost:8080/"
        },
        "id": "-7LLnMVwyYJd",
        "outputId": "e24cd5d9-1ee2-4992-c951-fc6c246ec436"
      },
      "execution_count": null,
      "outputs": [
        {
          "output_type": "execute_result",
          "data": {
            "text/plain": [
              "array([-1, -1, -1, -1, -1, -1, -1, -1, -1, -1, -1, -1, -1, -1, -1, -1, -1,\n",
              "       -1, -1, -1, -1, -1, -1, -1, -1, -1, -1, -1, -1, -1, -1, -1, -1, -1,\n",
              "       -1, -1, -1, -1, -1, -1, -1, -1, -1, -1, -1, -1, -1, -1, -1, -1, -1,\n",
              "       -1, -1, -1, -1, -1, -1, -1, -1, -1, -1, -1, -1, -1, -1, -1, -1, -1,\n",
              "       -1, -1, -1, -1, -1, -1, -1, -1, -1, -1, -1, -1, -1, -1, -1, -1, -1,\n",
              "       -1, -1, -1, -1, -1, -1, -1, -1, -1, -1, -1, -1, -1, -1, -1, -1, -1,\n",
              "       -1, -1, -1, -1, -1, -1, -1, -1, -1, -1, -1, -1, -1, -1, -1, -1, -1,\n",
              "       -1, -1, -1, -1, -1, -1, -1, -1, -1, -1, -1, -1, -1, -1, -1, -1, -1,\n",
              "       -1, -1, -1, -1, -1, -1, -1, -1, -1, -1, -1, -1, -1, -1, -1, -1, -1,\n",
              "       -1, -1, -1, -1, -1, -1, -1, -1, -1, -1, -1, -1, -1, -1, -1, -1, -1,\n",
              "       -1, -1, -1, -1, -1, -1, -1, -1, -1, -1, -1, -1, -1, -1, -1, -1, -1,\n",
              "       -1, -1, -1, -1, -1, -1, -1, -1, -1, -1, -1, -1, -1, -1, -1, -1, -1,\n",
              "       -1, -1, -1, -1, -1, -1, -1, -1, -1, -1, -1, -1, -1, -1, -1, -1, -1,\n",
              "       -1, -1, -1, -1, -1, -1, -1, -1, -1, -1, -1, -1, -1, -1, -1, -1, -1,\n",
              "       -1, -1, -1, -1, -1, -1, -1, -1, -1, -1, -1, -1, -1, -1, -1, -1, -1,\n",
              "       -1, -1, -1, -1, -1, -1, -1, -1, -1, -1, -1, -1, -1, -1, -1, -1, -1,\n",
              "       -1, -1, -1, -1, -1, -1, -1, -1, -1, -1, -1, -1, -1, -1, -1, -1, -1,\n",
              "       -1, -1, -1, -1, -1, -1, -1, -1, -1, -1, -1, -1, -1, -1, -1, -1, -1,\n",
              "       -1, -1, -1, -1, -1, -1, -1, -1, -1, -1, -1, -1, -1, -1, -1, -1, -1,\n",
              "       -1, -1, -1, -1, -1, -1, -1, -1, -1, -1, -1, -1, -1, -1, -1, -1, -1,\n",
              "       -1, -1, -1, -1, -1, -1, -1, -1, -1, -1, -1, -1, -1, -1, -1, -1, -1,\n",
              "       -1, -1, -1, -1, -1, -1, -1, -1, -1, -1, -1, -1, -1, -1, -1, -1, -1,\n",
              "       -1, -1, -1, -1, -1, -1, -1, -1, -1, -1, -1, -1, -1, -1, -1, -1, -1,\n",
              "       -1, -1, -1, -1, -1, -1, -1, -1, -1, -1, -1, -1, -1, -1, -1, -1, -1,\n",
              "       -1, -1, -1, -1, -1, -1, -1, -1, -1, -1, -1, -1, -1, -1, -1, -1, -1,\n",
              "       -1, -1, -1, -1, -1, -1, -1, -1, -1, -1, -1, -1, -1, -1, -1, -1, -1,\n",
              "       -1, -1, -1, -1, -1, -1, -1, -1, -1, -1, -1, -1, -1, -1, -1, -1, -1,\n",
              "       -1, -1, -1, -1, -1, -1, -1, -1, -1, -1, -1, -1, -1, -1, -1, -1, -1,\n",
              "       -1, -1, -1, -1, -1, -1, -1, -1, -1, -1, -1, -1, -1, -1, -1, -1, -1,\n",
              "       -1, -1, -1, -1, -1, -1, -1, -1, -1, -1, -1, -1, -1, -1, -1, -1, -1,\n",
              "       -1, -1, -1, -1, -1, -1, -1, -1, -1, -1, -1, -1, -1, -1, -1, -1, -1,\n",
              "       -1, -1, -1, -1, -1, -1, -1, -1, -1, -1, -1, -1, -1, -1, -1, -1, -1,\n",
              "       -1, -1, -1, -1, -1, -1, -1, -1, -1, -1, -1, -1, -1, -1, -1, -1, -1,\n",
              "       -1, -1, -1, -1, -1, -1, -1, -1, -1, -1, -1, -1, -1, -1, -1, -1, -1,\n",
              "       -1, -1, -1, -1, -1, -1, -1, -1, -1, -1, -1, -1, -1, -1, -1, -1, -1,\n",
              "       -1, -1, -1, -1, -1, -1, -1, -1, -1, -1, -1, -1, -1, -1, -1, -1, -1,\n",
              "       -1, -1, -1, -1, -1, -1, -1, -1, -1, -1, -1, -1, -1, -1, -1, -1, -1,\n",
              "       -1, -1, -1, -1, -1, -1, -1, -1, -1, -1, -1, -1, -1, -1, -1])"
            ]
          },
          "metadata": {},
          "execution_count": 59
        }
      ]
    },
    {
      "cell_type": "code",
      "source": [],
      "metadata": {
        "id": "XNFgwTXFy7fz"
      },
      "execution_count": null,
      "outputs": []
    },
    {
      "cell_type": "markdown",
      "source": [
        "https://hdbscan.readthedocs.io/en/latest/how_hdbscan_works.html\n",
        "\n",
        "\n",
        "https://scikit-learn.org/stable/modules/generated/sklearn.cluster.DBSCAN.html\n",
        "\n",
        "https://plotly.com/python/3d-scatter-plots/\n",
        "\n",
        "https://github.com/wwwjk366/gower\n",
        "\n",
        "https://scikit-learn.org/stable/auto_examples/preprocessing/plot_all_scaling.html\n",
        "\n",
        "https://colab.research.google.com/drive/1N2umjpfqAzi2gNhtEOiIBx7Fp_inUqt5#scrollTo=nGbHvc6cOPVI\n",
        "\n",
        "https://colab.research.google.com/drive/15mQELYzBwnDPb4nY2PtR3qaYJa8lb6V0#scrollTo=-dl5cckF9K8Q\n",
        "\n",
        "https://www.kaggle.com/code/yugagrawal95/rfm-analysis"
      ],
      "metadata": {
        "id": "HIs76mjDzif2"
      }
    },
    {
      "cell_type": "code",
      "source": [],
      "metadata": {
        "id": "LpallCygzmZW"
      },
      "execution_count": null,
      "outputs": []
    }
  ],
  "metadata": {
    "colab": {
      "provenance": [],
      "collapsed_sections": [
        "LmykagZ0vvPI",
        "xUxHbmglvvPJ",
        "XFimA8PUvvPL",
        "tuLEkmr1vvPQ"
      ],
      "include_colab_link": true
    },
    "kernelspec": {
      "display_name": "Python 3 (ipykernel)",
      "language": "python",
      "name": "python3"
    },
    "language_info": {
      "codemirror_mode": {
        "name": "ipython",
        "version": 3
      },
      "file_extension": ".py",
      "mimetype": "text/x-python",
      "name": "python",
      "nbconvert_exporter": "python",
      "pygments_lexer": "ipython3",
      "version": "3.8.12"
    }
  },
  "nbformat": 4,
  "nbformat_minor": 0
}